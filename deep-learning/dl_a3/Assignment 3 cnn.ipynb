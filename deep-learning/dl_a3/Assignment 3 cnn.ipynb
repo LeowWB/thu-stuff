{
 "cells": [
  {
   "cell_type": "markdown",
   "metadata": {},
   "source": [
    "# Assignment 3 CNN\n",
    "\n",
    "*(Deep Learning (80240743), Spring 2023)*  \n",
    "Due at **23:55, March 31, 2023**  \n"
   ]
  },
  {
   "cell_type": "markdown",
   "metadata": {},
   "source": [
    "## Instructions"
   ]
  },
  {
   "cell_type": "markdown",
   "metadata": {},
   "source": [
    "60000 (trainset) + 10000 (testset) Each image is a 28x28 bitmap. \n",
    "\n",
    "typical batch of input image data to the neural network  \n",
    "is a 4D matrix of shape $N \\times C \\times H \\times W$, where $N$ denotes batch size,  \n",
    "$H$ and $W$ denote height and width of image, and $C$ denotes the number of image  \n",
    "channels (1)\n",
    "\n",
    "---\n",
    "\n",
    "This file is divided into 4 sections:\n",
    "\n",
    "1.  **Load Dataset**: Code to read dataset file and optionally download them if  \n",
    "    needed. There's nothing to be done on your part in this section. You may read  \n",
    "    through this section if you're interested, or you can head straight towards  \n",
    "    the next section.\n",
    "\n",
    "2.  **Network Definitions**: This section holds most of your work. You'll complete  \n",
    "    implentation of several neural network layers in this part. Most classes have  \n",
    "    three methods: `__init__` used for parameter initialization, `forward` and  \n",
    "    `backward` for forward and backward propagation respectively. Specifically, you  \n",
    "    are asked to complete all the `TODO` parts.\n",
    "\n",
    "    Some of the implementations are identical to those from Assignment 2. You can either  \n",
    "    reuse your previous code, or wait for mine (will be available at **23:55, March 27**).\n",
    "\n",
    "3.  **Train**: The actual training part stays in this section. You can freely modify  \n",
    "    the provided starting code. You'll need to play around with different hyperparameter  \n",
    "    settings and observe their outcomes. Specifically,\n",
    "\n",
    "    -   Record training and validation accuracy and plot their graphs.\n",
    "\n",
    "    -   Compare how **CNN** and **MLP** from Assignment 2 perform differently through  \n",
    "        various aspects such as training time, convergence, accuracy, etc. The provided  \n",
    "        hyperparameters might not perform too well. Modify them and observe how they  \n",
    "        affect classification performance. \n",
    "\n",
    "    -   Compare how our network performs differently with and without **Dropout** layer  \n",
    "        through various aspects. Play with different dropout rates / layer locations  \n",
    "        and observe the effects.\n",
    "\n",
    "4.  **Report**: Report your findings from previous section here. Supply your report with  \n",
    "    data and graphs if necessary.\n",
    "\n",
    "---\n",
    "\n",
    "A few things to note:\n",
    "\n",
    "-   Strive for efficient implementation. Avoid explicit for-loops where matrix multiplication  \n",
    "    could be used. This is important as the training process may take up to several hours.  \n",
    "    If you find your training too slow, you may downscale your network, e.g. decrease network  \n",
    "    hyperparameters, etc.\n",
    "\n",
    "-   Any neural network framework such as TensorFlow, PyTorch, etc. are **prohibited** in  \n",
    "    finishing this assignment except for data preprocessing.\n",
    "\n",
    "-   Cheating/Plagiarism will not be tolerated. Should any submission be found cheating or  \n",
    "    containing plagiarism, a grade of zero will be given at minimum, and further consequences  \n",
    "    may arise depending on the circumstances.\n",
    "\n",
    "-   Late submissions will be deducted by 10% for each day (24h) late in the final grade. \n",
    "\n",
    "-   Broken/Incomplete submissions will be graded as-is. Please double check your uploads.\n"
   ]
  },
  {
   "cell_type": "markdown",
   "metadata": {},
   "source": [
    "## 1. Load Dataset\n"
   ]
  },
  {
   "cell_type": "code",
   "execution_count": 1,
   "metadata": {},
   "outputs": [],
   "source": [
    "import os\n",
    "import pathlib\n",
    "import requests\n",
    "import tqdm\n",
    "import numpy as np\n",
    "import gzip\n",
    "import matplotlib.pyplot as plt\n",
    "%matplotlib inline\n",
    "\n",
    "from pdb import set_trace as st\n"
   ]
  },
  {
   "cell_type": "code",
   "execution_count": 2,
   "metadata": {},
   "outputs": [],
   "source": [
    "# Download dataset from Yann's website\n",
    "\n",
    "train_images_filename = 'train-images-idx3-ubyte.gz'\n",
    "train_labels_filename = 'train-labels-idx1-ubyte.gz'\n",
    "test_images_filename = 't10k-images-idx3-ubyte.gz'\n",
    "test_labels_filename = 't10k-labels-idx1-ubyte.gz'\n",
    "gzfilenames = [\n",
    "    train_images_filename, train_labels_filename,\n",
    "    test_images_filename, test_labels_filename]\n",
    "\n",
    "for filename in gzfilenames:\n",
    "    if not os.path.exists(filename):\n",
    "        fileurl = f'http://yann.lecun.com/exdb/mnist/{filename}'\n",
    "        print(f'Downloading from {fileurl} ...')\n",
    "        r = requests.get(fileurl)\n",
    "        with open(filename, 'wb') as f:\n",
    "            _ = f.write(r.content)\n"
   ]
  },
  {
   "cell_type": "code",
   "execution_count": 3,
   "metadata": {},
   "outputs": [
    {
     "name": "stdout",
     "output_type": "stream",
     "text": [
      "\n",
      "Loading train set ...\n",
      "train_data: <np.array of shape: (55000, 28, 28) dtype: float32>\n",
      "train_labels: <np.array of shape: (55000,) dtype: uint8>\n",
      "val_data: <np.array of shape: (5000, 28, 28) dtype: float32>\n",
      "val_labels: <np.array of shape: (5000,) dtype: uint8>\n",
      "\n",
      "Loading test set ...\n",
      "test_data: <np.array of shape: (10000, 28, 28) dtype: float32>\n",
      "test_labels: <np.array of shape: (10000,) dtype: uint8>\n"
     ]
    }
   ],
   "source": [
    "# Read from dataset file\n",
    "\n",
    "validation_size = 5000\n",
    "\n",
    "def read_mnist_image_set(images_filename):\n",
    "    with gzip.GzipFile(images_filename, 'rb') as gz:\n",
    "        magic = int.from_bytes(gz.read(4), 'big')\n",
    "        assert magic == 2051, f'Not an MNIST image set'\n",
    "\n",
    "        num_images = int.from_bytes(gz.read(4), 'big')\n",
    "        rows = int.from_bytes(gz.read(4), 'big')\n",
    "        cols = int.from_bytes(gz.read(4), 'big')\n",
    "\n",
    "        data = np.frombuffer(gz.read(num_images * rows * cols), dtype=np.uint8)\n",
    "        data = np.reshape(data, (num_images, rows, cols))\n",
    "        return data\n",
    "\n",
    "def read_mnist_label_set(labels_filename):\n",
    "    with gzip.GzipFile(labels_filename, 'rb') as gz:\n",
    "        magic = int.from_bytes(gz.read(4), 'big')\n",
    "        assert magic == 2049, f'Not an MNIST label set'\n",
    "\n",
    "        num_labels = int.from_bytes(gz.read(4), 'big')\n",
    "        labels = np.frombuffer(gz.read(num_labels), dtype=np.uint8)\n",
    "        return labels\n",
    "\n",
    "print('\\nLoading train set ...')\n",
    "train_data = read_mnist_image_set(train_images_filename) / np.float32(255)\n",
    "train_labels = read_mnist_label_set(train_labels_filename)\n",
    "train_data, val_data = train_data[:-validation_size], train_data[-validation_size:]\n",
    "train_labels, val_labels = train_labels[:-validation_size], train_labels[-validation_size:]\n",
    "print(f'train_data: <np.array of shape: {train_data.shape} dtype: {train_data.dtype}>')\n",
    "print(f'train_labels: <np.array of shape: {train_labels.shape} dtype: {train_labels.dtype}>')\n",
    "print(f'val_data: <np.array of shape: {val_data.shape} dtype: {val_data.dtype}>')\n",
    "print(f'val_labels: <np.array of shape: {val_labels.shape} dtype: {val_labels.dtype}>')\n",
    "\n",
    "print('\\nLoading test set ...')\n",
    "test_data = read_mnist_image_set(test_images_filename) / np.float32(255)\n",
    "test_labels = read_mnist_label_set(test_labels_filename)\n",
    "print(f'test_data: <np.array of shape: {test_data.shape} dtype: {test_data.dtype}>')\n",
    "print(f'test_labels: <np.array of shape: {test_labels.shape} dtype: {test_labels.dtype}>')\n"
   ]
  },
  {
   "cell_type": "code",
   "execution_count": 4,
   "metadata": {},
   "outputs": [
    {
     "data": {
      "image/png": "[encoded data removed]",
      "text/plain": [
       "<Figure size 432x432 with 1 Axes>"
      ]
     },
     "metadata": {
      "needs_background": "light"
     },
     "output_type": "display_data"
    }
   ],
   "source": [
    "# Preview dataset\n",
    "\n",
    "_ = plt.figure(figsize=(6, 6))\n",
    "_ = plt.title('MNIST Preview')\n",
    "for label in range(10):\n",
    "    for img_index, img_data in enumerate(test_data[test_labels == label][:10]):\n",
    "        _ = plt.imshow(\n",
    "            img_data, 'gray',\n",
    "            interpolation='nearest', extent=[img_index, img_index + 1, label, label + 1])\n",
    "_ = plt.xticks([])\n",
    "_ = plt.yticks(np.arange(10) + 0.5, range(10))\n",
    "_ = plt.xlim(0, 10)\n",
    "_ = plt.ylim(0, 10)"
   ]
  },
  {
   "cell_type": "markdown",
   "metadata": {},
   "source": [
    "## 2. Network Definitions"
   ]
  },
  {
   "cell_type": "code",
   "execution_count": 5,
   "metadata": {},
   "outputs": [],
   "source": [
    "class Network():\n",
    "    ''' A simple neural network model with sequential layers '''\n",
    "    def __init__(self):\n",
    "        self.layerList = []\n",
    "        self.numLayer = 0\n",
    "        self._is_training = True\n",
    "\n",
    "    @property\n",
    "    def is_training(self):\n",
    "        return self._is_training\n",
    "\n",
    "    @is_training.setter\n",
    "    def is_training(self, val):\n",
    "        for layer in self.layerList:\n",
    "            layer.is_training = val\n",
    "        self._is_training = val\n",
    "\n",
    "    def add(self, layer):\n",
    "        self.numLayer += 1\n",
    "        self.layerList.append(layer)\n",
    "\n",
    "    def forward(self, x):\n",
    "        # forward layer by layer\n",
    "        for i in range(self.numLayer):\n",
    "            x = self.layerList[i].forward(x)\n",
    "        return x\n",
    "\n",
    "    def backward(self, delta):\n",
    "        # backward layer by layer\n",
    "        for i in reversed(range(self.numLayer)): # reversed\n",
    "            delta = self.layerList[i].backward(delta)\n"
   ]
  },
  {
   "cell_type": "code",
   "execution_count": 6,
   "metadata": {},
   "outputs": [],
   "source": [
    "class ReshapeLayer():\n",
    "    def __init__(self, input_shape, output_shape):\n",
    "        '''\n",
    "        Apply the reshape operation to the incoming data\n",
    "        Args:\n",
    "            num_input: size of each input sample\n",
    "            num_output: size of each output sample\n",
    "        '''\n",
    "        self.input_shape = input_shape\n",
    "        self.output_shape = output_shape\n",
    "        self.trainable = False\n",
    "\n",
    "    def forward(self, Input):\n",
    "        return Input.reshape(self.output_shape)\n",
    "\n",
    "    def backward(self, delta):\n",
    "        return delta.reshape(self.input_shape)\n"
   ]
  },
  {
   "cell_type": "markdown",
   "metadata": {},
   "source": [
    "### 2.1 `SGD`, `FCLayer`, `ReLULayer` and `SoftmaxCrossEntropyLossLayer` from Assignment 2"
   ]
  },
  {
   "cell_type": "code",
   "execution_count": 7,
   "metadata": {},
   "outputs": [],
   "source": [
    "class SGD():\n",
    "    def __init__(self, learningRate, weightDecay):\n",
    "        self.learningRate = learningRate\n",
    "        self.weightDecay = weightDecay\n",
    "\n",
    "    # One backpropagation step, update weights layer by layer\n",
    "    def step(self, model):\n",
    "        layers = model.layerList\n",
    "        for layer in layers:\n",
    "            if layer.trainable:\n",
    "\n",
    "                ############################################################################\n",
    "                # TODO: Put your code here\n",
    "                # Calculate diff_W and diff_b using layer.grad_W and layer.grad_b.\n",
    "                # Do not forget the weightDecay term.\n",
    "                layer.diff_W = -self.learningRate * (layer.grad_W + self.weightDecay * layer.W)\n",
    "                layer.diff_b = -self.learningRate * layer.grad_b\n",
    "                ############################################################################\n",
    "\n",
    "                # Weight update\n",
    "                layer.W += layer.diff_W\n",
    "                layer.b += layer.diff_b\n"
   ]
  },
  {
   "cell_type": "code",
   "execution_count": 8,
   "metadata": {},
   "outputs": [],
   "source": [
    "class FCLayer():\n",
    "    def __init__(self, num_input, num_output, actFunction='relu', trainable=True):\n",
    "        '''\n",
    "        Apply a linear transformation to the incoming data: y = Wx + b\n",
    "        Args:\n",
    "            num_input: size of each input sample\n",
    "            num_output: size of each output sample\n",
    "            actFunction: the name of the activation function such as 'relu', 'sigmoid'\n",
    "            trainable: whether if this layer is trainable\n",
    "        '''\n",
    "        self.num_input = num_input\n",
    "        self.num_output = num_output\n",
    "        self.trainable = trainable\n",
    "        self.actFunction = actFunction\n",
    "        assert actFunction in ['relu', 'sigmoid']\n",
    "\n",
    "        self.XavierInit()\n",
    "\n",
    "        self.grad_W = np.zeros((num_input, num_output))\n",
    "        self.grad_b = np.zeros((1, num_output))\n",
    "\n",
    "\n",
    "    def forward(self, Input):\n",
    "\n",
    "        ############################################################################\n",
    "        # TODO: Put your code here\n",
    "        # Apply linear transformation(Wx+b) to Input, and return results.\n",
    "\n",
    "        self.input = Input\n",
    "        output = np.dot(self.input, self.W) + self.b\n",
    "        return output\n",
    "        ############################################################################\n",
    "\n",
    "\n",
    "    def backward(self, delta):\n",
    "        # The delta of this layer has been calculated in the later layer.\n",
    "        ############################################################################\n",
    "        # TODO: Put your code here\n",
    "        # Calculate the gradient using the later layer's gradient: delta\n",
    "\n",
    "        # self.grad_W and self.grad_b will be used in optimizer.py\n",
    "\n",
    "        N = delta.shape[0]\n",
    "        self.grad_W = np.dot(self.input.T, delta) / N\n",
    "        self.grad_b = np.sum(delta, axis=0, keepdims=True) / N\n",
    "\n",
    "        return np.dot(delta, self.W.T)\n",
    "        ############################################################################\n",
    "\n",
    "\n",
    "    def XavierInit(self):\n",
    "        # Initialize the weigths according to the type of activation function.\n",
    "        raw_std = (2 / (self.num_input + self.num_output))**0.5\n",
    "        if 'relu' == self.actFunction:\n",
    "            init_std = raw_std * (2**0.5)\n",
    "        elif 'sigmoid' == self.actFunction:\n",
    "            init_std = raw_std\n",
    "        else:\n",
    "            init_std = raw_std # * 4\n",
    "\n",
    "        self.W = np.random.normal(0, init_std, (self.num_input, self.num_output))\n",
    "        self.b = np.random.normal(0, init_std, (1, self.num_output))\n"
   ]
  },
  {
   "cell_type": "code",
   "execution_count": 9,
   "metadata": {},
   "outputs": [],
   "source": [
    "class ReLULayer():\n",
    "    def __init__(self):\n",
    "        '''\n",
    "        Applies the rectified linear unit function element-wise: relu(x) = max(x, 0)\n",
    "        '''\n",
    "        self.trainable = False # no parameters\n",
    "\n",
    "    def forward(self, Input):\n",
    "\n",
    "        ############################################################################\n",
    "        # TODO: Put your code here\n",
    "        # Apply ReLU activation function to Input, and return results.\n",
    "\n",
    "        self.input = Input     # Record the Input for backward calculation\n",
    "        return np.maximum(Input, 0)\n",
    "        ############################################################################\n",
    "\n",
    "\n",
    "    def backward(self, delta):\n",
    "\n",
    "        ############################################################################\n",
    "        # TODO: Put your code here\n",
    "        # Calculate the gradient using the later layer's local sensitivity: delta\n",
    "        delta[self.input < 0] = 0\n",
    "        return delta\n",
    "        ############################################################################"
   ]
  },
  {
   "cell_type": "code",
   "execution_count": 10,
   "metadata": {},
   "outputs": [],
   "source": [
    "# a small number to prevent dividing by zero, maybe useful for you\n",
    "EPS = 1e-11\n",
    "\n",
    "class SoftmaxCrossEntropyLossLayer():\n",
    "    def __init__(self):\n",
    "        self.acc = 0.\n",
    "        self.loss = np.zeros(1, dtype='f')\n",
    "\n",
    "    def forward(self, logit, gt):\n",
    "        '''\n",
    "          Inputs: (minibatch)\n",
    "          - logit: forward results from the last FCLayer, shape(batch_size, 10)\n",
    "          - gt: the ground truth label, shape(batch_size, 1)\n",
    "        '''\n",
    "        ############################################################################\n",
    "        # TODO: Put your code here\n",
    "        # Calculate the average accuracy and loss over the minibatch, and\n",
    "        # store in self.accu and self.loss respectively.\n",
    "        # Only return the self.loss, self.accu will be used in solver.py.\n",
    "\n",
    "        self.gt = gt\n",
    "        self.prob = np.exp(logit) / (EPS + np.exp(logit).sum(axis=1, keepdims=True))\n",
    "\n",
    "        # calculate the accuracy\n",
    "        predict_y = np.argmax(self.prob, axis=1)\n",
    "        gt_y = np.argmax(gt, axis=1)\n",
    "        self.acc = np.mean(predict_y == gt_y)\n",
    "\n",
    "        # calculate the loss\n",
    "        loss = np.sum(-gt * np.log(self.prob + EPS), axis=1)\n",
    "        self.loss = np.mean(loss)\n",
    "        ############################################################################\n",
    "\n",
    "        return self.loss\n",
    "\n",
    "    def backward(self):\n",
    "        ############################################################################\n",
    "        # TODO: Put your code here\n",
    "        # Calculate and return the gradient (have the same shape as logit)\n",
    "\n",
    "        return self.prob - self.gt\n",
    "        ############################################################################\n"
   ]
  },
  {
   "cell_type": "markdown",
   "metadata": {},
   "source": [
    "### 2.2 `ConvLayer` - 2D convolutional layer\n",
    "\n",
    "This layer contains two trainable parameters $W$ and $b$:\n",
    "\n",
    "-   $W$ is a tensor of shape $n_{\\text{out}} \\times n_{\\text{in}} \\times k \\times k$, where\n",
    "    -   $k$ denotes the convolutional filter (kernel) size;\n",
    "    -   $n_{\\text{in}}$ denotes the number of input channels;\n",
    "    -   $n_{\\text{out}}$ denotes the number of filters.\n",
    "-   $b$, the filter bias, is a tensor of shape $n_{\\text{out}}$.\n",
    "\n",
    "For simplicity, you only need to implement the standard convolution with stride equal  \n",
    "to 1. There is another important parameter `pad` that specifies the number of zeros to  \n",
    "be added to both sides of the input. Therefore the height of output feature maps should  \n",
    "be $H + 2 \\times \\text{pad} - \\text{kernel\\_size} + 1$. Width works similarly.\n",
    "\n",
    "Hint: You are allowed to use convolution API's from the `scipy.signal` package, though  \n",
    "this is not a requirement."
   ]
  },
  {
   "cell_type": "code",
   "execution_count": 11,
   "metadata": {},
   "outputs": [],
   "source": [
    "from scipy.signal import fftconvolve as convolve\n",
    "\n",
    "class ConvLayer():\n",
    "    '''\n",
    "    2D convolutional layer.\n",
    "    This layer creates a convolution kernel that is convolved with the layer\n",
    "    input to produce a tensor of outputs.\n",
    "    Arguments:\n",
    "        inputs: Integer, the channels number of input.\n",
    "        filters: Integer, the number of filters in the convolution.\n",
    "        kernel_size: Integer, specifying the height and width of the 2D convolution window (height==width in this case).\n",
    "        pad: Integer, the size of padding area.\n",
    "        trainable: Boolean, whether this layer is trainable.\n",
    "    '''\n",
    "    def __init__(self, inputs, filters, kernel_size, pad, trainable=True):\n",
    "        self.inputs = inputs\n",
    "        self.filters = filters\n",
    "        self.kernel_size = kernel_size\n",
    "        self.pad = pad\n",
    "        assert pad < kernel_size, 'pad should be less than kernel_size'\n",
    "        self.trainable = trainable\n",
    "\n",
    "        self.XavierInit()\n",
    "\n",
    "        self.grad_W = np.zeros_like(self.W)\n",
    "        self.grad_b = np.zeros_like(self.b)\n",
    "\n",
    "    def XavierInit(self):\n",
    "        raw_std = (2 / (self.inputs + self.filters)) ** 0.5\n",
    "        init_std = raw_std * (2 ** 0.5)\n",
    "\n",
    "        self.W = np.random.normal(0, init_std, (self.filters, self.inputs, self.kernel_size, self.kernel_size))\n",
    "        self.b = np.random.normal(0, init_std, (self.filters,))\n",
    "\n",
    "    def forward(self, Input):\n",
    "        '''\n",
    "        forward method: perform convolution operation on the input.\n",
    "        Agrs:\n",
    "            Input: A batch of images, shape-(batch_size, channels, height, width)\n",
    "        '''\n",
    "        ############################################################################\n",
    "        # TODO: Put your code here\n",
    "        # Apply convolution operation to Input, and return results.\n",
    "        # Tips: you can use np.pad() to deal with padding.\n",
    "        self.Input = Input\n",
    "        input_after_pad = np.pad(Input, ((0,), (0,), (self.pad,), (self.pad,)), mode='constant', constant_values=0)\n",
    "        \n",
    "        # input shape   (batch_size, channels, height, width)\n",
    "        # W shape       (filters, channels, self.kernel_size, self.kernel_size)\n",
    "        # output shape  [batch_size, filters, output_height, output_width]\n",
    "        \n",
    "        expected_output_shape = (\n",
    "             Input.shape[0],\n",
    "             self.filters,\n",
    "             Input.shape[2] + 2*self.pad + 1 - self.kernel_size,\n",
    "             Input.shape[3] + 2*self.pad + 1 - self.kernel_size)\n",
    "\n",
    "        conv_result = np.zeros(expected_output_shape)\n",
    "        \n",
    "        for i in range(Input.shape[0]):\n",
    "            for j in range(self.filters):\n",
    "                for k in range(self.inputs):\n",
    "                    conv_result[i][j] += convolve(input_after_pad[i,k], np.rot90(self.W[j,k], 2), mode='valid', axes=(0,1))\n",
    "        \n",
    "        conv_result += self.b[np.newaxis, :, np.newaxis, np.newaxis]\n",
    "        \n",
    "        return conv_result\n",
    "\n",
    "        ############################################################################\n",
    "\n",
    "\n",
    "    def backward(self, delta):\n",
    "        '''\n",
    "        backward method: perform back-propagation operation on weights and biases.\n",
    "        Args:\n",
    "            delta: Local sensitivity, shape-(batch_size, filters, output_height, output_width)\n",
    "        Return:\n",
    "            delta of previous layer\n",
    "        '''\n",
    "        ############################################################################\n",
    "        # TODO: Put your code here\n",
    "        # Calculate self.grad_W, self.grad_b, and return the new delta.\n",
    "        \n",
    "        # delta shape (batch_size, filters, output_height, output_width)\n",
    "        # W shape     (filters, channels, kernel_size, kernel_size)\n",
    "        # self.Input  (batch_size, channels, inp_height, inp_width)\n",
    "        # output shape is the same\n",
    "        # b shape     (filters,)\n",
    "        # prev delta shape shld be same as self.Input\n",
    "        \n",
    "        batch_size = delta.shape[0]\n",
    "        \n",
    "        self.grad_b = np.sum(delta, axis=(0,2,3)) / batch_size\n",
    "    \n",
    "        self.grad_W = np.zeros(self.W.shape)\n",
    "        for i in range(self.W.shape[0]):\n",
    "            for j in range(self.W.shape[1]):\n",
    "                for k in range(batch_size):\n",
    "                    self.grad_W[i][j] += convolve(self.Input[k,j], np.rot90(delta[k,i], 2), mode='valid', axes=(0,1))\n",
    "\n",
    "        prev_delta = np.zeros(self.Input.shape)\n",
    "        for i in range(prev_delta.shape[0]):\n",
    "            for j in range(prev_delta.shape[1]):\n",
    "                for k in range(self.inputs):\n",
    "                    prev_delta[i][j] += convolve(delta[i,k], self.W[k,j], mode='same', axes=(0,1))\n",
    "        \n",
    "        return prev_delta\n",
    "\n",
    "        ############################################################################\n"
   ]
  },
  {
   "cell_type": "markdown",
   "metadata": {},
   "source": [
    "### 2.3 `MaxPoolingLayer`\n",
    "\n",
    "You only need to implement a non-overlapping (meaning stride equals to  \n",
    "kernel size) max-pooling layer here. The output should have height  \n",
    "$(H + 2 \\times \\text{pad}) / \\text{kernel\\_size}$. Width works similarly."
   ]
  },
  {
   "cell_type": "code",
   "execution_count": 12,
   "metadata": {},
   "outputs": [],
   "source": [
    "class MaxPoolingLayer():\n",
    "    def __init__(self, kernel_size, pad):\n",
    "        '''\n",
    "        This class performs max pooling operation on the input.\n",
    "        Args:\n",
    "            kernel_size: The height/width of the pooling kernel.\n",
    "            pad: The width of the pad zone.\n",
    "        '''\n",
    "\n",
    "        self.kernel_size = kernel_size\n",
    "        self.pad = pad\n",
    "        self.trainable = False\n",
    "\n",
    "    def forward(self, Input):\n",
    "        '''\n",
    "        This method performs max pooling operation on the input.\n",
    "        Args:\n",
    "            Input: The input need to be pooled.\n",
    "        Return:\n",
    "            The tensor after being pooled.\n",
    "        '''\n",
    "        ############################################################################\n",
    "        # TODO: Put your code here\n",
    "        # Apply convolution operation to Input, and return results.\n",
    "        # Tips: you can use np.pad() to deal with padding.\n",
    "        self.Input = Input\n",
    "        input_after_pad = np.pad(Input, ((0,), (0,), (self.pad,), (self.pad,)), mode='constant', constant_values=0)\n",
    "        kernel_mult_1 = (int)(input_after_pad.shape[2] / self.kernel_size)\n",
    "        kernel_mult_2 = (int)(input_after_pad.shape[3] / self.kernel_size)\n",
    "\n",
    "        output = np.zeros((input_after_pad.shape[0], input_after_pad.shape[1], kernel_mult_1, kernel_mult_2))\n",
    "        bigger_output = np.zeros(input_after_pad.shape)\n",
    "        for i in range(kernel_mult_1):\n",
    "            for j in range(kernel_mult_2):\n",
    "                this_max = np.max(input_after_pad[:,:,i*self.kernel_size:(i+1)*self.kernel_size,j*self.kernel_size:(j+1)*self.kernel_size], axis=(2,3))\n",
    "                output[:,:,i,j] = this_max\n",
    "                stacked_tm = np.stack([this_max, this_max], 2)\n",
    "                bigger_output[:,:,i*self.kernel_size:(i+1)*self.kernel_size,j*self.kernel_size:(j+1)*self.kernel_size] = np.stack([stacked_tm, stacked_tm], 3)\n",
    "            \n",
    "        self.mask = (bigger_output == input_after_pad)\n",
    "        return output\n",
    "\n",
    "        ############################################################################\n",
    "\n",
    "    def backward(self, delta):\n",
    "        '''\n",
    "        Args:\n",
    "            delta: Local sensitivity, shape-(batch_size, filters, output_height, output_width)\n",
    "        Return:\n",
    "            delta of previous layer\n",
    "        '''\n",
    "        ############################################################################\n",
    "        # TODO: Put your code here\n",
    "        # Calculate and return the new delta.\n",
    "\n",
    "        big_delta = np.zeros(self.mask.shape)\n",
    "        \n",
    "        for i in range(self.kernel_size):\n",
    "            for j in range(self.kernel_size):\n",
    "                big_delta[:,:,i::self.kernel_size,j::self.kernel_size] = delta[:,:,:,:]\n",
    "        \n",
    "        return big_delta * self.mask\n",
    "\n",
    "        ############################################################################\n"
   ]
  },
  {
   "cell_type": "markdown",
   "metadata": {},
   "source": [
    "### 2.4 `DropoutLayer`\n",
    "\n",
    "Note that dropout should be applied during training only."
   ]
  },
  {
   "cell_type": "code",
   "execution_count": 13,
   "metadata": {},
   "outputs": [],
   "source": [
    "class DropoutLayer():\n",
    "    def __init__(self, dropout_rate=0):\n",
    "        self.dropout_rate = dropout_rate\n",
    "        self.trainable = False\n",
    "        self.is_training = True\n",
    "\n",
    "    def forward(self, Input):\n",
    "\n",
    "        ############################################################################\n",
    "        # TODO: Put your code here\n",
    "        if self.is_training:\n",
    "            rand_mat = np.random.rand(*Input.shape)\n",
    "            self.dropout_mask = rand_mat >= self.dropout_rate\n",
    "            return np.multiply(Input, self.dropout_mask)\n",
    "            \n",
    "        else: #not training -- use mean network\n",
    "            return Input * (1 - self.dropout_rate)\n",
    "\n",
    "        ############################################################################\n",
    "\n",
    "    def backward(self, delta):\n",
    "\n",
    "        ############################################################################\n",
    "        # TODO: Put your code here\n",
    "\n",
    "        return np.multiply(delta, self.dropout_mask)\n",
    "\n",
    "        ############################################################################\n"
   ]
  },
  {
   "cell_type": "markdown",
   "metadata": {},
   "source": [
    "## 3. Train\n",
    "\n",
    "You may freely modify any given template code as you see fit.\n"
   ]
  },
  {
   "cell_type": "code",
   "execution_count": 14,
   "metadata": {},
   "outputs": [],
   "source": [
    "# Hyperparameters\n",
    "\n",
    "batch_size = 20\n",
    "max_epoch = 5\n",
    "init_std = 0.01\n",
    "\n",
    "learning_rate = 0.001\n",
    "weight_decay = 0.005\n"
   ]
  },
  {
   "cell_type": "code",
   "execution_count": 15,
   "metadata": {},
   "outputs": [],
   "source": [
    "def train(model, criterion, optimizer):\n",
    "    all_train_losses, all_train_accs = [], []\n",
    "    avg_train_losses, avg_train_accs = [], []\n",
    "    avg_val_losses, avg_val_accs = [], []\n",
    "\n",
    "    # Training process\n",
    "    for epoch in range(max_epoch):\n",
    "        # Train one epoch\n",
    "        batch_train_losses, batch_train_accs = [], []\n",
    "\n",
    "        steps_per_epoch = np.ceil(len(train_data) / batch_size).astype(int)\n",
    "        batch_split_indices = np.arange(batch_size, len(train_data), batch_size)\n",
    "        train_data_batches = np.split(train_data, batch_split_indices)\n",
    "        train_labels_batches = np.split(train_labels, batch_split_indices)\n",
    "\n",
    "        model.is_training = True\n",
    "        progress_bar = tqdm.tqdm(range(steps_per_epoch), desc=f'Ep[{epoch}]', position=0, leave=True)\n",
    "        for step_index in progress_bar:\n",
    "            # Get train data and label\n",
    "            x = train_data_batches[step_index][:, None]             # x.shape: [batch_size, 1, 28, 28]\n",
    "            y_true = np.eye(10)[train_labels_batches[step_index]]   # y_true.shape (one-hot): [batch_size, 10]\n",
    "\n",
    "            # Forward pass\n",
    "            y_pred = model.forward(x)\n",
    "            criterion.forward(y_pred, y_true)\n",
    "\n",
    "            # Backward pass\n",
    "            delta = criterion.backward()\n",
    "            model.backward(delta)\n",
    "\n",
    "            # Update weights, see optimize.py\n",
    "            optimizer.step(model)\n",
    "\n",
    "            # Record loss and accuracy\n",
    "            batch_train_losses.append(criterion.loss)\n",
    "            batch_train_accs.append(criterion.acc)\n",
    "            progress_bar.set_description(f'Ep[{epoch}] loss:{criterion.loss:.3f} acc:{criterion.acc:.3f}')\n",
    "\n",
    "        model.is_training = False\n",
    "\n",
    "        # Validate\n",
    "        # Get validating data and label\n",
    "        x = val_data[:, None]               # x.shape: [batch_size, 1, 28, 28]\n",
    "        y_true = np.eye(10)[val_labels]     # y_true.shape (one-hot): [batch_size, 10]\n",
    "\n",
    "        # Only forward pass\n",
    "        y_pred = model.forward(x)\n",
    "        criterion.forward(y_pred, y_true)\n",
    "\n",
    "        # Record loss and accuracy\n",
    "        val_loss = criterion.loss\n",
    "        val_acc = criterion.acc\n",
    "\n",
    "        all_train_losses.extend(batch_train_losses)\n",
    "        all_train_accs.extend(batch_train_accs)\n",
    "        avg_train_losses.append(np.mean(batch_train_losses))\n",
    "        avg_train_accs.append(np.mean(batch_train_accs))\n",
    "        avg_val_losses.append(np.mean(val_loss))\n",
    "        avg_val_accs.append(np.mean(val_acc))\n",
    "        print(f'  - Val loss:{avg_val_losses[-1]:.4f} acc:{avg_val_accs[-1]:.4f}')\n",
    "\n",
    "    # Test\n",
    "    x = test_data[:, None]              # x.shape: [batch_size, 1, 28, 28]\n",
    "    y_true = np.eye(10)[test_labels]    # y_true.shape (one-hot): [batch_size, 10]\n",
    "\n",
    "    # Only forward pass\n",
    "    y_pred = model.forward(x)\n",
    "    criterion.forward(y_pred, y_true)\n",
    "\n",
    "    test_acc = criterion.acc\n",
    "    print(f'\\nTest acc is {test_acc:.4f}\\n')\n",
    "\n",
    "    # plot loss & accuracy curve\n",
    "    x_by_epoch = (np.arange(max_epoch) + 1) * steps_per_epoch\n",
    "    fig, (a0, a1) = plt.subplots(1, 2, figsize=(12, 4))\n",
    "    _ = a0.set_title('Losses')\n",
    "    _ = a0.plot(all_train_losses, alpha=0.5, label='train (all)')\n",
    "    _ = a0.plot(x_by_epoch, avg_train_losses, marker='.', label='train')\n",
    "    _ = a0.plot(x_by_epoch, avg_val_losses, marker='.', label='val')\n",
    "    _ = a0.set_yscale('log')\n",
    "    _ = a0.legend()\n",
    "    _ = a1.set_title('Accuracies')\n",
    "    _ = a1.plot(all_train_accs, alpha=0.5, label='train (all)')\n",
    "    _ = a1.plot(x_by_epoch, avg_train_accs, marker='.', label='train')\n",
    "    _ = a1.plot(x_by_epoch, avg_val_accs, marker='.', label='val')\n",
    "    _ = a1.legend()\n",
    "\n",
    "    return model, avg_val_losses, avg_val_accs\n"
   ]
  },
  {
   "cell_type": "code",
   "execution_count": 17,
   "metadata": {},
   "outputs": [
    {
     "name": "stderr",
     "output_type": "stream",
     "text": [
      "Ep[0] loss:0.827 acc:0.750: 100%|███████████████████████████████████████████████████████████████████████████████████████| 2750/2750 [54:54<00:00,  1.20s/it]\n",
      "Ep[1]:   0%|                                                                                                                       | 0/2750 [00:00<?, ?it/s]"
     ]
    },
    {
     "name": "stdout",
     "output_type": "stream",
     "text": [
      "  - Val loss:0.3428 acc:0.8908\n"
     ]
    },
    {
     "name": "stderr",
     "output_type": "stream",
     "text": [
      "Ep[1] loss:0.596 acc:0.850: 100%|███████████████████████████████████████████████████████████████████████████████████████| 2750/2750 [52:33<00:00,  1.15s/it]\n",
      "Ep[2]:   0%|                                                                                                                       | 0/2750 [00:00<?, ?it/s]"
     ]
    },
    {
     "name": "stdout",
     "output_type": "stream",
     "text": [
      "  - Val loss:0.2449 acc:0.9260\n"
     ]
    },
    {
     "name": "stderr",
     "output_type": "stream",
     "text": [
      "Ep[2] loss:0.519 acc:0.800: 100%|███████████████████████████████████████████████████████████████████████████████████████| 2750/2750 [51:07<00:00,  1.12s/it]\n",
      "Ep[3]:   0%|                                                                                                                       | 0/2750 [00:00<?, ?it/s]"
     ]
    },
    {
     "name": "stdout",
     "output_type": "stream",
     "text": [
      "  - Val loss:0.2070 acc:0.9382\n"
     ]
    },
    {
     "name": "stderr",
     "output_type": "stream",
     "text": [
      "Ep[3] loss:0.424 acc:0.800: 100%|█████████████████████████████████████████████████████████████████████████████████████| 2750/2750 [1:22:58<00:00,  1.81s/it]\n",
      "Ep[4]:   0%|                                                                                                                       | 0/2750 [00:00<?, ?it/s]"
     ]
    },
    {
     "name": "stdout",
     "output_type": "stream",
     "text": [
      "  - Val loss:0.1841 acc:0.9446\n"
     ]
    },
    {
     "name": "stderr",
     "output_type": "stream",
     "text": [
      "Ep[4] loss:0.328 acc:0.800: 100%|█████████████████████████████████████████████████████████████████████████████████████| 2750/2750 [1:42:48<00:00,  2.24s/it]\n"
     ]
    },
    {
     "name": "stdout",
     "output_type": "stream",
     "text": [
      "  - Val loss:0.1708 acc:0.9484\n",
      "\n",
      "Test acc is 0.9349\n",
      "\n"
     ]
    },
    {
     "data": {
      "image/png": "[encoded data removed]",
      "text/plain": [
       "<Figure size 864x288 with 2 Axes>"
      ]
     },
     "metadata": {
      "needs_background": "light"
     },
     "output_type": "display_data"
    }
   ],
   "source": [
    "convNet = Network()\n",
    "convNet.add(ConvLayer(1, 4, 3, 1))\n",
    "convNet.add(ReLULayer())\n",
    "convNet.add(MaxPoolingLayer(2, 0))\n",
    "convNet.add(ConvLayer(4, 8, 3, 1))\n",
    "convNet.add(ReLULayer())\n",
    "convNet.add(MaxPoolingLayer(2, 0))\n",
    "convNet.add(ReshapeLayer((-1, 8, 7, 7), (-1, 392)))\n",
    "convNet.add(FCLayer(392, 64))\n",
    "convNet.add(ReLULayer())\n",
    "convNet.add(FCLayer(64, 10))\n",
    "\n",
    "criterion = SoftmaxCrossEntropyLossLayer()\n",
    "sgd = SGD(learning_rate, weight_decay)\n",
    "\n",
    "convNet, avg_val_losses, avg_val_accs = train(convNet, criterion, sgd)\n"
   ]
  },
  {
   "cell_type": "code",
   "execution_count": 24,
   "metadata": {},
   "outputs": [
    {
     "name": "stderr",
     "output_type": "stream",
     "text": [
      "Ep[0] loss:1.187 acc:0.650: 100%|███████████████████████████████████████████████████████████████████████████████████████| 2750/2750 [45:26<00:00,  1.01it/s]\n",
      "Ep[1]:   0%|                                                                                                                       | 0/2750 [00:00<?, ?it/s]"
     ]
    },
    {
     "name": "stdout",
     "output_type": "stream",
     "text": [
      "  - Val loss:0.7662 acc:0.7692\n"
     ]
    },
    {
     "name": "stderr",
     "output_type": "stream",
     "text": [
      "Ep[1] loss:0.923 acc:0.650: 100%|███████████████████████████████████████████████████████████████████████████████████████| 2750/2750 [46:30<00:00,  1.01s/it]\n",
      "Ep[2]:   0%|                                                                                                                       | 0/2750 [00:00<?, ?it/s]"
     ]
    },
    {
     "name": "stdout",
     "output_type": "stream",
     "text": [
      "  - Val loss:0.4742 acc:0.8636\n"
     ]
    },
    {
     "name": "stderr",
     "output_type": "stream",
     "text": [
      "Ep[2] loss:0.811 acc:0.700: 100%|█████████████████████████████████████████████████████████████████████████████████████| 2750/2750 [1:01:59<00:00,  1.35s/it]\n",
      "Ep[3]:   0%|                                                                                                                       | 0/2750 [00:00<?, ?it/s]"
     ]
    },
    {
     "name": "stdout",
     "output_type": "stream",
     "text": [
      "  - Val loss:0.3810 acc:0.8964\n"
     ]
    },
    {
     "name": "stderr",
     "output_type": "stream",
     "text": [
      "Ep[3] loss:0.775 acc:0.800: 100%|███████████████████████████████████████████████████████████████████████████████████████| 2750/2750 [53:30<00:00,  1.17s/it]\n",
      "Ep[4]:   0%|                                                                                                                       | 0/2750 [00:00<?, ?it/s]"
     ]
    },
    {
     "name": "stdout",
     "output_type": "stream",
     "text": [
      "  - Val loss:0.3262 acc:0.9106\n"
     ]
    },
    {
     "name": "stderr",
     "output_type": "stream",
     "text": [
      "Ep[4] loss:0.723 acc:0.800: 100%|███████████████████████████████████████████████████████████████████████████████████████| 2750/2750 [49:54<00:00,  1.09s/it]\n"
     ]
    },
    {
     "name": "stdout",
     "output_type": "stream",
     "text": [
      "  - Val loss:0.2939 acc:0.9180\n",
      "\n",
      "Test acc is 0.8954\n",
      "\n"
     ]
    },
    {
     "data": {
      "image/png": "[encoded data removed]",
      "text/plain": [
       "<Figure size 864x288 with 2 Axes>"
      ]
     },
     "metadata": {
      "needs_background": "light"
     },
     "output_type": "display_data"
    }
   ],
   "source": [
    "# the one above shld be done running. see the results and run this one too.\n",
    "\n",
    "\n",
    "# TODO: Build your own network with dropout layer\n",
    "\n",
    "convNet = Network()\n",
    "convNet.add(ConvLayer(1, 4, 3, 1))\n",
    "convNet.add(ReLULayer())\n",
    "convNet.add(MaxPoolingLayer(2, 0))\n",
    "convNet.add(DropoutLayer(dropout_rate=0.1))\n",
    "convNet.add(ConvLayer(4, 8, 3, 1))\n",
    "convNet.add(ReLULayer())\n",
    "convNet.add(MaxPoolingLayer(2, 0))\n",
    "convNet.add(DropoutLayer(dropout_rate=0.1))\n",
    "convNet.add(ReshapeLayer((-1, 8, 7, 7), (-1, 392)))\n",
    "convNet.add(FCLayer(392, 64))\n",
    "convNet.add(ReLULayer())\n",
    "convNet.add(FCLayer(64, 10))\n",
    "\n",
    "criterion = SoftmaxCrossEntropyLossLayer()\n",
    "sgd = SGD(learning_rate, weight_decay)\n",
    "\n",
    "convNet, avg_val_losses, avg_val_accs = train(convNet, criterion, sgd)\n"
   ]
  },
  {
   "cell_type": "code",
   "execution_count": 25,
   "metadata": {},
   "outputs": [
    {
     "name": "stderr",
     "output_type": "stream",
     "text": [
      "Ep[0] loss:1.044 acc:0.700: 100%|█████████████████████████████████████████████████████████████████████████████████████| 2750/2750 [2:01:29<00:00,  2.65s/it]\n",
      "Ep[1]:   0%|                                                                                                                       | 0/2750 [00:00<?, ?it/s]"
     ]
    },
    {
     "name": "stdout",
     "output_type": "stream",
     "text": [
      "  - Val loss:0.3545 acc:0.8934\n"
     ]
    },
    {
     "name": "stderr",
     "output_type": "stream",
     "text": [
      "Ep[1] loss:0.726 acc:0.800: 100%|█████████████████████████████████████████████████████████████████████████████████████| 2750/2750 [2:01:35<00:00,  2.65s/it]\n",
      "Ep[2]:   0%|                                                                                                                       | 0/2750 [00:00<?, ?it/s]"
     ]
    },
    {
     "name": "stdout",
     "output_type": "stream",
     "text": [
      "  - Val loss:0.2562 acc:0.9210\n"
     ]
    },
    {
     "name": "stderr",
     "output_type": "stream",
     "text": [
      "Ep[2] loss:0.814 acc:0.750: 100%|█████████████████████████████████████████████████████████████████████████████████████| 2750/2750 [8:43:57<00:00, 11.43s/it]\n",
      "Ep[3]:   0%|                                                                                                                       | 0/2750 [00:00<?, ?it/s]"
     ]
    },
    {
     "name": "stdout",
     "output_type": "stream",
     "text": [
      "  - Val loss:0.2077 acc:0.9354\n"
     ]
    },
    {
     "name": "stderr",
     "output_type": "stream",
     "text": [
      "Ep[3] loss:0.639 acc:0.800: 100%|█████████████████████████████████████████████████████████████████████████████████████| 2750/2750 [1:02:02<00:00,  1.35s/it]\n",
      "Ep[4]:   0%|                                                                                                                       | 0/2750 [00:00<?, ?it/s]"
     ]
    },
    {
     "name": "stdout",
     "output_type": "stream",
     "text": [
      "  - Val loss:0.2032 acc:0.9372\n"
     ]
    },
    {
     "name": "stderr",
     "output_type": "stream",
     "text": [
      "Ep[4] loss:0.343 acc:0.950: 100%|█████████████████████████████████████████████████████████████████████████████████████| 2750/2750 [1:05:51<00:00,  1.44s/it]\n"
     ]
    },
    {
     "name": "stdout",
     "output_type": "stream",
     "text": [
      "  - Val loss:0.1732 acc:0.9484\n",
      "\n",
      "Test acc is 0.9365\n",
      "\n"
     ]
    },
    {
     "data": {
      "image/png": "[encoded data removed]",
      "text/plain": [
       "<Figure size 864x288 with 2 Axes>"
      ]
     },
     "metadata": {
      "needs_background": "light"
     },
     "output_type": "display_data"
    }
   ],
   "source": [
    "# TODO: Build your own network with dropout layer\n",
    "\n",
    "convNet = Network()\n",
    "convNet.add(ConvLayer(1, 4, 3, 1))\n",
    "convNet.add(ReLULayer())\n",
    "convNet.add(MaxPoolingLayer(2, 0))\n",
    "convNet.add(DropoutLayer(dropout_rate=0.05))\n",
    "convNet.add(ConvLayer(4, 8, 3, 1))\n",
    "convNet.add(ReLULayer())\n",
    "convNet.add(MaxPoolingLayer(2, 0))\n",
    "convNet.add(DropoutLayer(dropout_rate=0.05))\n",
    "convNet.add(ReshapeLayer((-1, 8, 7, 7), (-1, 392)))\n",
    "convNet.add(FCLayer(392, 64))\n",
    "convNet.add(ReLULayer())\n",
    "convNet.add(FCLayer(64, 10))\n",
    "\n",
    "criterion = SoftmaxCrossEntropyLossLayer()\n",
    "sgd = SGD(learning_rate, weight_decay)\n",
    "\n",
    "convNet, avg_val_losses, avg_val_accs = train(convNet, criterion, sgd)\n"
   ]
  },
  {
   "cell_type": "code",
   "execution_count": 16,
   "metadata": {},
   "outputs": [
    {
     "name": "stderr",
     "output_type": "stream",
     "text": [
      "Ep[0] loss:1.008 acc:0.700: 100%|███████████████████████████████████████████████████████████████████████████████████████| 2750/2750 [52:20<00:00,  1.14s/it]\n",
      "Ep[1]:   0%|                                                                                                                       | 0/2750 [00:00<?, ?it/s]"
     ]
    },
    {
     "name": "stdout",
     "output_type": "stream",
     "text": [
      "  - Val loss:0.3484 acc:0.8980\n"
     ]
    },
    {
     "name": "stderr",
     "output_type": "stream",
     "text": [
      "Ep[1] loss:0.382 acc:0.850: 100%|█████████████████████████████████████████████████████████████████████████████████████| 2750/2750 [1:22:40<00:00,  1.80s/it]\n",
      "Ep[2]:   0%|                                                                                                                       | 0/2750 [00:00<?, ?it/s]"
     ]
    },
    {
     "name": "stdout",
     "output_type": "stream",
     "text": [
      "  - Val loss:0.2645 acc:0.9208\n"
     ]
    },
    {
     "name": "stderr",
     "output_type": "stream",
     "text": [
      "Ep[2] loss:0.360 acc:0.800: 100%|█████████████████████████████████████████████████████████████████████████████████████| 2750/2750 [1:50:59<00:00,  2.42s/it]\n",
      "Ep[3]:   0%|                                                                                                                       | 0/2750 [00:00<?, ?it/s]"
     ]
    },
    {
     "name": "stdout",
     "output_type": "stream",
     "text": [
      "  - Val loss:0.2433 acc:0.9298\n"
     ]
    },
    {
     "name": "stderr",
     "output_type": "stream",
     "text": [
      "Ep[3] loss:0.371 acc:0.850: 100%|█████████████████████████████████████████████████████████████████████████████████████| 2750/2750 [1:46:22<00:00,  2.32s/it]\n",
      "Ep[4]:   0%|                                                                                                                       | 0/2750 [00:00<?, ?it/s]"
     ]
    },
    {
     "name": "stdout",
     "output_type": "stream",
     "text": [
      "  - Val loss:0.2311 acc:0.9298\n"
     ]
    },
    {
     "name": "stderr",
     "output_type": "stream",
     "text": [
      "Ep[4] loss:0.210 acc:0.900: 100%|█████████████████████████████████████████████████████████████████████████████████████| 2750/2750 [1:40:24<00:00,  2.19s/it]\n",
      "Ep[5]:   0%|                                                                                                                       | 0/2750 [00:00<?, ?it/s]"
     ]
    },
    {
     "name": "stdout",
     "output_type": "stream",
     "text": [
      "  - Val loss:0.2183 acc:0.9338\n"
     ]
    },
    {
     "name": "stderr",
     "output_type": "stream",
     "text": [
      "Ep[5] loss:0.131 acc:0.950: 100%|███████████████████████████████████████████████████████████████████████████████████████| 2750/2750 [52:53<00:00,  1.15s/it]\n",
      "Ep[6]:   0%|                                                                                                                       | 0/2750 [00:00<?, ?it/s]"
     ]
    },
    {
     "name": "stdout",
     "output_type": "stream",
     "text": [
      "  - Val loss:0.2186 acc:0.9328\n"
     ]
    },
    {
     "name": "stderr",
     "output_type": "stream",
     "text": [
      "Ep[6] loss:0.182 acc:0.900: 100%|███████████████████████████████████████████████████████████████████████████████████████| 2750/2750 [58:59<00:00,  1.29s/it]\n"
     ]
    },
    {
     "name": "stdout",
     "output_type": "stream",
     "text": [
      "  - Val loss:0.2078 acc:0.9398\n",
      "\n",
      "Test acc is 0.9229\n",
      "\n"
     ]
    },
    {
     "data": {
      "image/png": "[encoded data removed]",
      "text/plain": [
       "<Figure size 864x288 with 2 Axes>"
      ]
     },
     "metadata": {
      "needs_background": "light"
     },
     "output_type": "display_data"
    }
   ],
   "source": [
    "# Hyperparameters\n",
    "\n",
    "batch_size = 20\n",
    "max_epoch = 7\n",
    "init_std = 0.01\n",
    "learning_rate = 0.001\n",
    "weight_decay = 0.005\n",
    "\n",
    "\n",
    "# using the best model from earlier\n",
    "\n",
    "convNet = Network()\n",
    "convNet.add(ConvLayer(1, 4, 3, 1))\n",
    "convNet.add(ReLULayer())\n",
    "convNet.add(MaxPoolingLayer(2, 0))\n",
    "convNet.add(DropoutLayer(dropout_rate=0.03))\n",
    "convNet.add(ConvLayer(4, 8, 3, 1))\n",
    "convNet.add(ReLULayer())\n",
    "convNet.add(MaxPoolingLayer(2, 0))\n",
    "convNet.add(DropoutLayer(dropout_rate=0.03))\n",
    "convNet.add(ReshapeLayer((-1, 8, 7, 7), (-1, 392)))\n",
    "convNet.add(FCLayer(392, 64))\n",
    "convNet.add(ReLULayer())\n",
    "convNet.add(FCLayer(64, 10))\n",
    "\n",
    "criterion = SoftmaxCrossEntropyLossLayer()\n",
    "sgd = SGD(learning_rate, weight_decay)\n",
    "\n",
    "convNet, avg_val_losses, avg_val_accs = train(convNet, criterion, sgd)"
   ]
  },
  {
   "cell_type": "markdown",
   "metadata": {},
   "source": [
    "## 4. Report"
   ]
  },
  {
   "cell_type": "markdown",
   "metadata": {},
   "source": [
    "First of all, we note that the CNN implementation is able to learn from the data. Moreover, it is able to perform quite well (around 0.90-0.95 accuracy), which is to be expected since CNNs are specially catered to computer vision tasks like MNIST. This implies our CNN implementation works and is effective.\n",
    "\n",
    "The first CNN implementation provided achieved a test accuracy of 0.9349 using the default hyperparameters. This is actually quite good; for reference, the default implementation of an MLP with default hyperparameters in assignment 2 gave a test accuracy of 0.8932, which is slightly worse. This is unsurprising as the CNN is specialized to deal with computer vision tasks unlike the MLP. \n",
    "\n",
    "After the first implementation of the CNN, we tried adding two dropout layers after the max pooling layers. The dropout rate was 0.1. This gave a test accuracy of 0.8954, which was a slight decrease from the first attempt. It suggests the dropout level is too high.\n",
    "\n",
    "We tried again with a dropout rate of 0.05 instead. This time the model performed slightly better than the first attempt, giving a test accuracy of 0.9365.\n",
    "\n",
    "For that model, we noticed the validation accuracy was still increasing when the epochs ended. This suggested that the model may not have converged fully and that there was still a bit of room for improvement. Hence we increased epochs to 7. The test accuracy was 0.9229. This might suggest some overfitting. So the best model was still the previous one.\n",
    "\n",
    "Overall the best accuracy for the CNN was 0.9365.\n",
    "\n",
    "\n"
   ]
  }
 ],
 "metadata": {
  "kernelspec": {
   "display_name": "Python 3",
   "language": "python",
   "name": "python3"
  },
  "language_info": {
   "codemirror_mode": {
    "name": "ipython",
    "version": 3
   },
   "file_extension": ".py",
   "mimetype": "text/x-python",
   "name": "python",
   "nbconvert_exporter": "python",
   "pygments_lexer": "ipython3",
   "version": "3.6.9"
  }
 },
 "nbformat": 4,
 "nbformat_minor": 4
}
