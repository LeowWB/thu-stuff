{
 "cells": [
  {
   "cell_type": "markdown",
   "metadata": {},
   "source": [
    "# Assignment 2 MLP\n",
    "\n",
    "*(Deep Learning (80240743), Spring 2023)*  \n",
    "Due at **23:55, March 24, 2023**  \n"
   ]
  },
  {
   "cell_type": "markdown",
   "metadata": {},
   "source": [
    "## Instructions"
   ]
  },
  {
   "cell_type": "markdown",
   "metadata": {},
   "source": [
    "MNIST digits dataset is widely used for image classification in machine learning,  \n",
    "consisting of 60000 (trainset) + 10000 (testset) grayscale images of handwritten  \n",
    "digits from 0 to 9. Each image is a 28x28 bitmap, transformed into a flat vector  \n",
    "of size 784 for our purpose.\n",
    "\n",
    "In this assignment, you'll implement a Multi-Layer Perceptron (MLP) to perform  \n",
    "MNIST classification. The same environment settings as in assignment 1 will be  \n",
    "used to complete this assignment.\n",
    "\n",
    "---\n",
    "\n",
    "This file is divided into 4 sections:\n",
    "\n",
    "1.  **Load Dataset**: ignore\n",
    "\n",
    "2.  **Network Definitions**: This section holds most of your work. You'll complete  \n",
    "    implentation of several neural network layers in this part. Most classes have  \n",
    "    three methods: `__init__` used for parameter initialization, `forward` and  \n",
    "    `backward` for forward and backward propagation respectively. Specifically, you  \n",
    "    are asked to complete all the `TODO` parts.\n",
    "\n",
    "3.  **Train**: The actual training part stays in this section. You can freely modify  \n",
    "    the provided starting code. You'll need to play around with different hyperparameter  \n",
    "    settings and observe their outcomes. Specifically,\n",
    "\n",
    "    -   Record training and validation accuracy and plot their graphs.\n",
    "\n",
    "    -   Compare how **Sigmoid** and **ReLU** perform differently as activation functions  \n",
    "        through various aspects such as training time, convergence, accuray, etc.\n",
    "\n",
    "    -   Compare how **Euclidean Loss** and **Softmax Cross Entropy Loss** perform  \n",
    "        differently as loss functions through various aspects.\n",
    "\n",
    "    -   Set up your own MLP model with two hidden layers (with number of hidden units  \n",
    "        of your own choice), using any activation and loss function. Also, compare the  \n",
    "        difference of results between one-layer structure and two-layer structure.\n",
    "\n",
    "    -   The provided hyperparameters might not perform too well. Modify them and  \n",
    "        observe how they affect classification performance.\n",
    "\n",
    "4.  **Report**: Report your findings from previous section here. Supply your report with  \n",
    "    data and graphs if necessary.\n",
    "\n",
    "---\n",
    "\n",
    "A few things to note:\n",
    "\n",
    "-   Strive for efficient implementation. Avoid explicit for-loops where matrix multiplication  \n",
    "    could be used.\n",
    "\n",
    "-   Any neural network framework such as TensorFlow, PyTorch, etc. are **prohibited** in  \n",
    "    finishing this assignment except for data preprocessing.\n",
    "\n",
    "-   Cheating/Plagiarism will not be tolerated. Should any submission be found cheating or  \n",
    "    containing plagiarism, a grade of zero will be given at minimum, and further consequences  \n",
    "    may arise depending on the circumstances.\n",
    "\n",
    "-   Late submissions will be deducted by 10% for each day (24h) late in the final grade. \n",
    "\n",
    "-   Broken/Incomplete submissions will be graded as-is. Please double check your uploads.\n"
   ]
  },
  {
   "cell_type": "markdown",
   "metadata": {},
   "source": [
    "## 1. Load Dataset\n"
   ]
  },
  {
   "cell_type": "code",
   "execution_count": 1,
   "metadata": {},
   "outputs": [],
   "source": [
    "import os\n",
    "import pathlib\n",
    "import requests\n",
    "import tqdm\n",
    "import numpy as np\n",
    "import gzip\n",
    "import matplotlib.pyplot as plt\n",
    "from copy import deepcopy\n",
    "from pdb import set_trace as st\n",
    "%matplotlib inline\n",
    "\n",
    "# for debugging\n",
    "def dbprint(s):\n",
    "    #print(s)\n",
    "    pass\n"
   ]
  },
  {
   "cell_type": "code",
   "execution_count": 2,
   "metadata": {},
   "outputs": [],
   "source": [
    "# Download dataset from Yann's website\n",
    "\n",
    "train_images_filename = 'train-images-idx3-ubyte.gz'\n",
    "train_labels_filename = 'train-labels-idx1-ubyte.gz'\n",
    "test_images_filename = 't10k-images-idx3-ubyte.gz'\n",
    "test_labels_filename = 't10k-labels-idx1-ubyte.gz'\n",
    "gzfilenames = [\n",
    "    train_images_filename, train_labels_filename,\n",
    "    test_images_filename, test_labels_filename]\n",
    "\n",
    "for filename in gzfilenames:\n",
    "    if not os.path.exists(filename):\n",
    "        fileurl = f'http://yann.lecun.com/exdb/mnist/{filename}'\n",
    "        print(f'Downloading from {fileurl} ...')\n",
    "        r = requests.get(fileurl)\n",
    "        with open(filename, 'wb') as f:\n",
    "            _ = f.write(r.content)\n"
   ]
  },
  {
   "cell_type": "code",
   "execution_count": 3,
   "metadata": {},
   "outputs": [
    {
     "name": "stdout",
     "output_type": "stream",
     "text": [
      "\n",
      "Loading train set ...\n",
      "train_data: <np.array of shape: (55000, 28, 28) dtype: float32>\n",
      "train_labels: <np.array of shape: (55000,) dtype: uint8>\n",
      "val_data: <np.array of shape: (5000, 28, 28) dtype: float32>\n",
      "val_labels: <np.array of shape: (5000,) dtype: uint8>\n",
      "\n",
      "Loading test set ...\n",
      "test_data: <np.array of shape: (10000, 28, 28) dtype: float32>\n",
      "test_labels: <np.array of shape: (10000,) dtype: uint8>\n"
     ]
    }
   ],
   "source": [
    "# Read from dataset file\n",
    "\n",
    "validation_size = 5000\n",
    "\n",
    "def read_mnist_image_set(images_filename):\n",
    "    with gzip.GzipFile(images_filename, 'rb') as gz:\n",
    "        magic = int.from_bytes(gz.read(4), 'big')\n",
    "        assert magic == 2051, f'Not an MNIST image set'\n",
    "\n",
    "        num_images = int.from_bytes(gz.read(4), 'big')\n",
    "        rows = int.from_bytes(gz.read(4), 'big')\n",
    "        cols = int.from_bytes(gz.read(4), 'big')\n",
    "\n",
    "        data = np.frombuffer(gz.read(num_images * rows * cols), dtype=np.uint8)\n",
    "        data = np.reshape(data, (num_images, rows, cols))\n",
    "        return data\n",
    "\n",
    "def read_mnist_label_set(labels_filename):\n",
    "    with gzip.GzipFile(labels_filename, 'rb') as gz:\n",
    "        magic = int.from_bytes(gz.read(4), 'big')\n",
    "        assert magic == 2049, f'Not an MNIST label set'\n",
    "\n",
    "        num_labels = int.from_bytes(gz.read(4), 'big')\n",
    "        labels = np.frombuffer(gz.read(num_labels), dtype=np.uint8)\n",
    "        return labels\n",
    "\n",
    "print('\\nLoading train set ...')\n",
    "train_data = read_mnist_image_set(train_images_filename) / np.float32(255)\n",
    "train_labels = read_mnist_label_set(train_labels_filename)\n",
    "train_data, val_data = train_data[:-validation_size], train_data[-validation_size:]\n",
    "train_labels, val_labels = train_labels[:-validation_size], train_labels[-validation_size:]\n",
    "print(f'train_data: <np.array of shape: {train_data.shape} dtype: {train_data.dtype}>')\n",
    "print(f'train_labels: <np.array of shape: {train_labels.shape} dtype: {train_labels.dtype}>')\n",
    "print(f'val_data: <np.array of shape: {val_data.shape} dtype: {val_data.dtype}>')\n",
    "print(f'val_labels: <np.array of shape: {val_labels.shape} dtype: {val_labels.dtype}>')\n",
    "\n",
    "print('\\nLoading test set ...')\n",
    "test_data = read_mnist_image_set(test_images_filename) / np.float32(255)\n",
    "test_labels = read_mnist_label_set(test_labels_filename)\n",
    "print(f'test_data: <np.array of shape: {test_data.shape} dtype: {test_data.dtype}>')\n",
    "print(f'test_labels: <np.array of shape: {test_labels.shape} dtype: {test_labels.dtype}>')\n"
   ]
  },
  {
   "cell_type": "code",
   "execution_count": 4,
   "metadata": {},
   "outputs": [
    {
     "data": {
      "image/png": "[encoded data removed]",
      "text/plain": [
       "<Figure size 432x432 with 1 Axes>"
      ]
     },
     "metadata": {
      "needs_background": "light"
     },
     "output_type": "display_data"
    }
   ],
   "source": [
    "# Preview dataset\n",
    "\n",
    "_ = plt.figure(figsize=(6, 6))\n",
    "_ = plt.title('MNIST Preview')\n",
    "for label in range(10):\n",
    "    for img_index, img_data in enumerate(test_data[test_labels == label][:10]):\n",
    "        _ = plt.imshow(\n",
    "            img_data, 'gray',\n",
    "            interpolation='nearest', extent=[img_index, img_index + 1, label, label + 1])\n",
    "_ = plt.xticks([])\n",
    "_ = plt.yticks(np.arange(10) + 0.5, range(10))\n",
    "_ = plt.xlim(0, 10)\n",
    "_ = plt.ylim(0, 10)"
   ]
  },
  {
   "cell_type": "markdown",
   "metadata": {},
   "source": [
    "## 2. Network Definitions"
   ]
  },
  {
   "cell_type": "code",
   "execution_count": 5,
   "metadata": {},
   "outputs": [],
   "source": [
    "class Network():\n",
    "    ''' A simple neural network model with sequential layers '''\n",
    "    def __init__(self):\n",
    "        self.layerList = []\n",
    "        self.numLayer = 0\n",
    "\n",
    "    def add(self, layer):\n",
    "        self.numLayer += 1\n",
    "        self.layerList.append(layer)\n",
    "\n",
    "    def forward(self, x):\n",
    "        # forward layer by layer\n",
    "        for i in range(self.numLayer):\n",
    "            x = self.layerList[i].forward(x)\n",
    "        return x\n",
    "\n",
    "    def backward(self, delta):\n",
    "        # backward layer by layer\n",
    "        for i in reversed(range(self.numLayer)): # reversed\n",
    "            delta = self.layerList[i].backward(delta)\n"
   ]
  },
  {
   "cell_type": "markdown",
   "metadata": {},
   "source": [
    "### 2.1 `SGD` Stochastic gradient descent\n"
   ]
  },
  {
   "cell_type": "code",
   "execution_count": 6,
   "metadata": {},
   "outputs": [],
   "source": [
    "class SGD():\n",
    "    def __init__(self, learningRate, weightDecay):\n",
    "        self.learningRate = learningRate\n",
    "        self.weightDecay = weightDecay\n",
    "\n",
    "    # One backpropagation step, update weights layer by layer\n",
    "    def step(self, model):\n",
    "        layers = model.layerList\n",
    "        for layer in layers:\n",
    "            if layer.trainable:\n",
    "                \n",
    "#                 if (layer.num_input, layer.num_output) == (784,128):\n",
    "#                     continue\n",
    "                \n",
    "                ############################################################################\n",
    "                # TODO: Put your code here\n",
    "                # Calculate diff_W and diff_b using layer.grad_W and layer.grad_b.\n",
    "                # Do not forget the weightDecay term.\n",
    "                layer.diff_W = -1 * self.learningRate * (\n",
    "                    layer.grad_W + \n",
    "                    self.weightDecay * (layer.W)\n",
    "                )\n",
    "                layer.diff_b = -1 * self.learningRate * (\n",
    "                    layer.grad_b\n",
    "                )\n",
    "                \n",
    "                ############################################################################\n",
    "\n",
    "                layer.W += layer.diff_W\n",
    "                layer.b += layer.diff_b\n"
   ]
  },
  {
   "cell_type": "markdown",
   "metadata": {},
   "source": [
    "### 2.2 `FCLayer`\n",
    "\n",
    "`FCLayer` treats each input as a simple column vector (reshape if necessary) and  \n",
    "produces an output vector by doing matrix multiplication with weights and then adding  \n",
    "biases:\n",
    "\n",
    "$$\n",
    "\\mathbf{u} = \\mathbf{W} \\mathbf{x} + \\mathbf{b}\n",
    "$$"
   ]
  },
  {
   "cell_type": "code",
   "execution_count": 7,
   "metadata": {},
   "outputs": [],
   "source": [
    "class FCLayer():\n",
    "    ''' Fully Connected Layer '''\n",
    "    def __init__(self, num_input, num_output, actFunction='relu', trainable=True):\n",
    "        '''\n",
    "        Apply a linear transformation to the incoming data: y = Wx + b\n",
    "        Args:\n",
    "            num_input: size of each input sample\n",
    "            num_output: size of each output sample\n",
    "            actFunction: the name of the activation function such as 'relu', 'sigmoid'\n",
    "            trainable: whether if this layer is trainable\n",
    "        '''\n",
    "        self.num_input = num_input\n",
    "        self.num_output = num_output\n",
    "        self.trainable = trainable\n",
    "        self.actFunction = actFunction\n",
    "        assert actFunction in ['relu', 'sigmoid']\n",
    "\n",
    "        self.XavierInit()\n",
    "\n",
    "        self.grad_W = np.zeros((num_input, num_output))\n",
    "        self.grad_b = np.zeros((1, num_output))\n",
    "\n",
    "\n",
    "    def forward(self, x):\n",
    "\n",
    "        ############################################################################\n",
    "        # TODO: Put your code here\n",
    "        # Apply linear transformation(Wx+b) to Input, and return results.\n",
    "\n",
    "        dbprint(f'forward on fc layer {self.num_input}-{self.num_output}, x is {np.sum(x)}')\n",
    "        self.u = x\n",
    "        return np.matmul(x, self.W) + self.b\n",
    "        ############################################################################\n",
    "\n",
    "\n",
    "    def backward(self, delta):\n",
    "        # The delta of this layer has been calculated in the later layer.\n",
    "        ############################################################################\n",
    "        # TODO: Put your code here\n",
    "        # Calculate the gradient using the later layer's gradient: delta\n",
    "\n",
    "        # self.grad_W and self.grad_b will be used in optimizer.py\n",
    "        \n",
    "        self.grad_b = np.mean(delta,0).reshape(self.b.shape)\n",
    "        self.grad_W = np.matmul(delta.transpose(),self.u).transpose()\n",
    "        \n",
    "        dbprint(f'backward called on fc layer {self.num_input}-{self.num_output}, delta is {np.sum(delta)}, grad_W is {np.sum(self.grad_W)}')\n",
    "        \n",
    "        if (self.num_input, self.num_output) == (784,128):\n",
    "            #st()\n",
    "            pass\n",
    "        \n",
    "        new_delta = np.matmul(self.W,delta.transpose()).transpose()\n",
    "        return new_delta\n",
    "        ############################################################################\n",
    "\n",
    "\n",
    "    def XavierInit(self):\n",
    "        # Initialize the weigths according to the type of activation function.\n",
    "        raw_std = (2 / (self.num_input + self.num_output))**0.5\n",
    "        if 'relu' == self.actFunction:\n",
    "            init_std = raw_std * (2**0.5)\n",
    "        elif 'sigmoid' == self.actFunction:\n",
    "            init_std = raw_std\n",
    "        else:\n",
    "            init_std = raw_std # * 4\n",
    "\n",
    "        self.W = np.random.normal(0, init_std, (self.num_input, self.num_output))\n",
    "        self.b = np.random.normal(0, init_std, (1, self.num_output))\n"
   ]
  },
  {
   "cell_type": "markdown",
   "metadata": {},
   "source": [
    "### 2.3 `SigmoidLayer`\n",
    "\n",
    "`SigmoidLayer` is a sigmoid activation unit, computing the output as\n",
    "\n",
    "$$\n",
    "f(\\mathbf{u}) = \\frac{1}{1 + \\exp(-\\mathbf{u})}\n",
    "$$"
   ]
  },
  {
   "cell_type": "code",
   "execution_count": 8,
   "metadata": {},
   "outputs": [],
   "source": [
    "class SigmoidLayer():\n",
    "    ''' Sigmoid Layer '''\n",
    "    def __init__(self):\n",
    "        '''\n",
    "        Applies the element-wise function: f(x) = 1/(1+exp(-x))\n",
    "        '''\n",
    "        self.trainable = False\n",
    "\n",
    "    def forward(self, x):\n",
    "\n",
    "        ############################################################################\n",
    "        # TODO: Put your code here\n",
    "        # Apply Sigmoid activation function to Input, and return results.\n",
    "        \n",
    "        self.first_x = x\n",
    "        self.y = 1 / (1 + np.exp(-x))\n",
    "\n",
    "        return self.y\n",
    "        ############################################################################\n",
    "\n",
    "    def backward(self, delta):\n",
    "\n",
    "        ############################################################################\n",
    "        # TODO: Put your code here\n",
    "        # Calculate the gradient using the later layer's local sensitivity: delta\n",
    "        dbprint(f'backward called on sigmoid, delta is {np.sum(delta)}')\n",
    "\n",
    "        return np.multiply(delta, np.multiply(self.y, 1-self.y))\n",
    "        #return np.matmul(np.matmul(1-self.y, self.y.transpose()), delta)\n",
    "        ############################################################################\n"
   ]
  },
  {
   "cell_type": "markdown",
   "metadata": {},
   "source": [
    "### 2.4 `ReLULayer`\n",
    "\n",
    "`ReLULayer` is a linear rectified unit, computing the output as\n",
    "\n",
    "$$\n",
    "f(\\mathbf{u}) = \\max(\\mathbf{0}, \\mathbf{u})\n",
    "$$"
   ]
  },
  {
   "cell_type": "code",
   "execution_count": 9,
   "metadata": {},
   "outputs": [],
   "source": [
    "class ReLULayer():\n",
    "    ''' ReLU Layer '''\n",
    "    def __init__(self):\n",
    "        '''\n",
    "        Applies the rectified linear unit function element-wise: relu(x) = max(x, 0)\n",
    "        '''\n",
    "        self.trainable = False # no parameters\n",
    "\n",
    "    def forward(self, x):\n",
    "\n",
    "        ############################################################################\n",
    "        # TODO: Put your code here\n",
    "        # Apply ReLU activation function to Input, and return results.\n",
    "\n",
    "        self.y = np.maximum(0, x)\n",
    "        return self.y\n",
    "        ############################################################################\n",
    "\n",
    "\n",
    "    def backward(self, delta):\n",
    "\n",
    "        ############################################################################\n",
    "        # TODO: Put your code here\n",
    "        # Calculate the gradient using the later layer's local sensitivity: delta\n",
    "        \n",
    "        return np.multiply(delta, 1 * (self.y > 0))\n",
    "        ############################################################################\n"
   ]
  },
  {
   "cell_type": "markdown",
   "metadata": {},
   "source": [
    "### 2.5 `EuclideanLossLayer`\n",
    "\n",
    "`EuclideanLossLayer` computes the sum of squares of differences between  \n",
    "inputs and labels:\n",
    "\n",
    "$$\n",
    "\\frac{1}{2} \\sum_{n} \\lVert \\operatorname{logits}(n) - \\operatorname{label}(n) \\rVert _2^2\n",
    "$$"
   ]
  },
  {
   "cell_type": "code",
   "execution_count": 10,
   "metadata": {},
   "outputs": [],
   "source": [
    "class EuclideanLossLayer():\n",
    "    ''' Euclidean Loss Layer '''\n",
    "    def __init__(self):\n",
    "        self.accu = 0.\n",
    "        self.loss = 0.\n",
    "\n",
    "    def forward(self, logit, gt):\n",
    "        '''\n",
    "          Inputs: (minibatch)\n",
    "          - logit: forward results from the last FCLayer, shape(batch_size, 10)\n",
    "          - gt: the ground truth label, shape(batch_size, 10)\n",
    "        '''\n",
    "\n",
    "        ############################################################################\n",
    "        # TODO: Put your code here\n",
    "        # Calculate the average accuracy and loss over the minibatch, and\n",
    "        # store in self.accu and self.loss respectively.\n",
    "        # Only return the self.loss, self.accu will be used in solver.py.\n",
    "        \n",
    "        self.y, self.t = logit, gt\n",
    "        \n",
    "        self.accu = np.mean(\n",
    "            np.argmax(logit,1) == np.argmax(gt,1)\n",
    "        )\n",
    "        self.loss = (0.5 * np.sum(np.square(logit.flatten() - gt.flatten()))) / batch_size\n",
    "        ############################################################################\n",
    "\n",
    "        return self.loss\n",
    "\n",
    "    def backward(self):\n",
    "\n",
    "        ############################################################################\n",
    "        # TODO: Put your code here\n",
    "        # Calculate and return the gradient (have the same shape as logit)\n",
    "        return self.y - self.t\n",
    "        ############################################################################\n"
   ]
  },
  {
   "cell_type": "markdown",
   "metadata": {},
   "source": [
    "### 2.6 `SoftmaxCrossEntropyLossLayer`\n",
    "\n",
    "`SoftmaxCrossEntropyLossLayer` can be viewed as a mapping from input to a probability  \n",
    "distribution in the following form:\n",
    "\n",
    "$$\n",
    "P(t_k=1\\vert\\mathbf{x}) = \\frac{\\exp(x_k)}{\\sum_{j=1}^{K}\\exp(x_j)}\n",
    "$$\n",
    "\n",
    "where $x_k$ is the $k$-th component in the input vector $\\mathbf{x}$ and $P(t_k = 1|\\mathbf{x})$ indicates the  \n",
    "probability of being classified to class $k$ given the input. Since the output of softmax layer  \n",
    "can be interpreted as a probability distribution, we can compute the delta likelihood and its  \n",
    "logarithm form is also called cross entropy error function:\n",
    "\n",
    "$$\n",
    "E = -\\ln p(t^{(1)}, \\dots, t^{(N)}) = \\sum_{n=1}^N E^{(n)}\n",
    "$$\n",
    "\n",
    "where\n",
    "\n",
    "$$\n",
    "E^{(n)} = -\\sum_{k=1}^K t_k^{(n)} \\ln h_k^{(n)}\n",
    "$$\n",
    "\n",
    "$$\n",
    "h_k^{(n)} = P(t_k^{(n)}=1\\vert \\mathbf{x}^{(n)}) = \\frac{\\exp x_k^{(n)}}{\\sum_{j=1}^K \\exp x_j^{(n)}}\n",
    "$$\n",
    "\n",
    "The definition of the softmax loss layer is a little different from Assignment 1, since we don't  \n",
    "include trainable parameters $\\theta$ in this layer. However these parameters can be explicitly  \n",
    "extracted out to form an individual `FCLayer`."
   ]
  },
  {
   "cell_type": "code",
   "execution_count": 11,
   "metadata": {},
   "outputs": [],
   "source": [
    "# a small number to prevent dividing by zero, maybe useful for you\n",
    "EPS = 1e-11\n",
    "\n",
    "class SoftmaxCrossEntropyLossLayer():\n",
    "    ''' Softmax Cross-Entropy Loss Layer '''\n",
    "    def __init__(self):\n",
    "        self.accu = 0.\n",
    "        self.loss = np.zeros(1, dtype='f')\n",
    "\n",
    "    def forward(self, logit, gt):\n",
    "        '''\n",
    "          Inputs: (minibatch)\n",
    "          - logit: forward results from the last FCLayer, shape(batch_size, 10)\n",
    "          - gt: the ground truth label, shape(batch_size, 10)\n",
    "        '''\n",
    "\n",
    "        ############################################################################\n",
    "        # TODO: Put your code here\n",
    "        # Calculate the average accuracy and loss over the minibatch, and\n",
    "        # store in self.accu and self.loss respectively.\n",
    "        # Only return the self.loss, self.accu will be used in solver.py.\n",
    "        \n",
    "        logit = deepcopy(logit)\n",
    "        \n",
    "        for i in range(batch_size):\n",
    "            logit[i,:] = np.exp(logit[i,:]) / np.sum(np.exp(logit[i,:]))\n",
    "        \n",
    "        self.y = logit\n",
    "        self.t = gt\n",
    "        \n",
    "        self.accu = np.mean(\n",
    "            np.argmax(logit,1) == np.argmax(gt,1)\n",
    "        )\n",
    "        \n",
    "        total = 0\n",
    "        lnhn = np.log(logit)\n",
    "        for i in range(batch_size):\n",
    "            total -= np.matmul(gt[i,:].transpose(), lnhn[i,:])\n",
    "        self.loss = total / batch_size\n",
    "        \n",
    "        ############################################################################\n",
    "\n",
    "        return self.loss\n",
    "\n",
    "\n",
    "    def backward(self):\n",
    "\n",
    "        ############################################################################\n",
    "        # TODO: Put your code here\n",
    "        # Calculate and return the gradient (have the same shape as logit)\n",
    "\n",
    "        # get the delta value\n",
    "        \n",
    "        return self.y - self.t\n",
    "        ############################################################################\n"
   ]
  },
  {
   "cell_type": "markdown",
   "metadata": {},
   "source": [
    "## 3. Train\n",
    "\n",
    "You may freely modify any given template code as you see fit.\n"
   ]
  },
  {
   "cell_type": "code",
   "execution_count": 12,
   "metadata": {},
   "outputs": [],
   "source": [
    "# Hyperparameters\n",
    "\n",
    "batch_size = 100\n",
    "max_epoch = 8\n",
    "init_std = 0.01\n",
    "\n",
    "learning_rate_SGD = 0.0005#0.1\n",
    "weight_decay = 0.001\n"
   ]
  },
  {
   "cell_type": "code",
   "execution_count": 13,
   "metadata": {},
   "outputs": [],
   "source": [
    "def train(model, criterion, optimizer):\n",
    "    all_train_losses, all_train_accs = [], []\n",
    "    avg_train_losses, avg_train_accs = [], []\n",
    "    avg_val_losses, avg_val_accs = [], []\n",
    "\n",
    "    # Training process\n",
    "    for epoch in range(max_epoch):\n",
    "        # Train one epoch\n",
    "        batch_train_losses, batch_train_accs = [], []\n",
    "\n",
    "        steps_per_epoch = np.ceil(len(train_data) / batch_size).astype(int)\n",
    "        batch_split_indices = np.arange(batch_size, len(train_data), batch_size)\n",
    "        train_data_batches = np.split(train_data, batch_split_indices)\n",
    "        train_labels_batches = np.split(train_labels, batch_split_indices)\n",
    "\n",
    "        progress_bar = tqdm.tqdm(range(steps_per_epoch), desc=f'Ep[{epoch}]', position=0, leave=True)\n",
    "        for step_index in progress_bar:\n",
    "            # Get train data and label\n",
    "            x = np.reshape(train_data_batches[step_index], (-1, 784))   # x.shape: [batch_size, 784]\n",
    "            y_true = np.eye(10)[train_labels_batches[step_index]]       # y_true.shape (one-hot): [batch_size, 10]\n",
    "\n",
    "            # Forward pass\n",
    "            y_pred = model.forward(x)\n",
    "            criterion.forward(y_pred, y_true)\n",
    "\n",
    "            # Backward pass\n",
    "            delta = criterion.backward()\n",
    "            dbprint('calling backward')\n",
    "            model.backward(delta)\n",
    "            #dbprint('backward called on whole model and looks like '+str(np.sum(model.layerList[-3].grad_W)))\n",
    "            \n",
    "            # Update weights, see optimize.py\n",
    "            optimizer.step(model)\n",
    "\n",
    "            # Record loss and accuracy\n",
    "            batch_train_losses.append(criterion.loss)\n",
    "            batch_train_accs.append(criterion.accu)\n",
    "            progress_bar.set_description(f'Ep[{epoch}] loss:{criterion.loss:.3f} acc:{criterion.accu:.3f}')\n",
    "\n",
    "        # Validate\n",
    "        # Get validating data and label\n",
    "        x = np.reshape(val_data, (-1, 784)) # x.shape: [batch_size, 784]\n",
    "        y_true = np.eye(10)[val_labels]     # y_true.shape (one-hot): [batch_size, 10]\n",
    "\n",
    "        # Only forward pass\n",
    "        y_pred = model.forward(x)\n",
    "        criterion.forward(y_pred, y_true)\n",
    "\n",
    "        # Record loss and accuracy\n",
    "        val_loss = criterion.loss\n",
    "        val_acc = criterion.accu\n",
    "\n",
    "        all_train_losses.extend(batch_train_losses)\n",
    "        all_train_accs.extend(batch_train_accs)\n",
    "        avg_train_losses.append(np.mean(batch_train_losses))\n",
    "        avg_train_accs.append(np.mean(batch_train_accs))\n",
    "        avg_val_losses.append(np.mean(val_loss))\n",
    "        avg_val_accs.append(np.mean(val_acc))\n",
    "        print(f'Epoch {epoch} Val loss:{avg_val_losses[-1]:.4f} acc:{avg_val_accs[-1]:.4f}')\n",
    "        #print(np.sum(np.square(model.layerList[-3].W)))\n",
    "\n",
    "    # Test\n",
    "    x = np.reshape(test_data, (-1, 784)) # x.shape: [batch_size, 784]\n",
    "    y_true = np.eye(10)[test_labels]     # y_true.shape (one-hot): [batch_size, 10]\n",
    "\n",
    "    # Only forward pass\n",
    "    y_pred = model.forward(x)\n",
    "    criterion.forward(y_pred, y_true)\n",
    "\n",
    "    test_acc = criterion.accu\n",
    "    print(f'\\nTest acc is {test_acc:.4f}\\n')\n",
    "\n",
    "    # plot loss & accuracy curve\n",
    "    x_by_epoch = (np.arange(max_epoch) + 1) * steps_per_epoch\n",
    "    fig, (a0, a1) = plt.subplots(1, 2, figsize=(12, 4))\n",
    "    _ = a0.set_title('Losses')\n",
    "    # _ = a0.plot(all_train_losses, alpha=0.5, label='train (all)')\n",
    "    _ = a0.plot(x_by_epoch, avg_train_losses, marker='.', label='train')\n",
    "    _ = a0.plot(x_by_epoch, avg_val_losses, marker='.', label='val')\n",
    "    _ = a0.legend()\n",
    "    _ = a1.set_title('Accuracies')\n",
    "    # _ = a1.plot(all_train_accs, alpha=0.5, label='train (all)')\n",
    "    _ = a1.plot(x_by_epoch, avg_train_accs, marker='.', label='train')\n",
    "    _ = a1.plot(x_by_epoch, avg_val_accs, marker='.', label='val')\n",
    "    _ = a1.legend()\n",
    "\n",
    "    return model, avg_val_losses, avg_val_accs\n"
   ]
  },
  {
   "cell_type": "code",
   "execution_count": 14,
   "metadata": {},
   "outputs": [
    {
     "name": "stderr",
     "output_type": "stream",
     "text": [
      "Ep[0] loss:0.286 acc:0.710: 100%|████████████████████████████████████████████████████████████████████████████████████████| 550/550 [00:02<00:00, 236.36it/s]\n",
      "Ep[1] loss:0.209 acc:0.830:   4%|███▋                                                                                     | 23/550 [00:00<00:02, 225.49it/s]"
     ]
    },
    {
     "name": "stdout",
     "output_type": "stream",
     "text": [
      "Epoch 0 Val loss:10.6409 acc:0.8784\n"
     ]
    },
    {
     "name": "stderr",
     "output_type": "stream",
     "text": [
      "Ep[1] loss:0.272 acc:0.760: 100%|████████████████████████████████████████████████████████████████████████████████████████| 550/550 [00:02<00:00, 229.07it/s]\n",
      "Ep[2] loss:0.191 acc:0.850:   4%|███▌                                                                                     | 22/550 [00:00<00:02, 217.82it/s]"
     ]
    },
    {
     "name": "stdout",
     "output_type": "stream",
     "text": [
      "Epoch 1 Val loss:9.8904 acc:0.8880\n"
     ]
    },
    {
     "name": "stderr",
     "output_type": "stream",
     "text": [
      "Ep[2] loss:0.263 acc:0.770: 100%|████████████████████████████████████████████████████████████████████████████████████████| 550/550 [00:02<00:00, 231.58it/s]\n",
      "Ep[3] loss:0.200 acc:0.880:   5%|████                                                                                     | 25/550 [00:00<00:02, 238.12it/s]"
     ]
    },
    {
     "name": "stdout",
     "output_type": "stream",
     "text": [
      "Epoch 2 Val loss:9.4161 acc:0.8924\n"
     ]
    },
    {
     "name": "stderr",
     "output_type": "stream",
     "text": [
      "Ep[3] loss:0.255 acc:0.770: 100%|████████████████████████████████████████████████████████████████████████████████████████| 550/550 [00:02<00:00, 248.31it/s]\n",
      "Ep[4] loss:0.190 acc:0.870:   5%|████                                                                                     | 25/550 [00:00<00:02, 245.10it/s]"
     ]
    },
    {
     "name": "stdout",
     "output_type": "stream",
     "text": [
      "Epoch 3 Val loss:8.9906 acc:0.8956\n"
     ]
    },
    {
     "name": "stderr",
     "output_type": "stream",
     "text": [
      "Ep[4] loss:0.247 acc:0.770: 100%|████████████████████████████████████████████████████████████████████████████████████████| 550/550 [00:02<00:00, 248.98it/s]\n",
      "Ep[5] loss:0.195 acc:0.850:   4%|███▋                                                                                     | 23/550 [00:00<00:02, 223.30it/s]"
     ]
    },
    {
     "name": "stdout",
     "output_type": "stream",
     "text": [
      "Epoch 4 Val loss:8.5797 acc:0.8968\n"
     ]
    },
    {
     "name": "stderr",
     "output_type": "stream",
     "text": [
      "Ep[5] loss:0.238 acc:0.790: 100%|████████████████████████████████████████████████████████████████████████████████████████| 550/550 [00:02<00:00, 232.07it/s]\n",
      "Ep[6] loss:0.174 acc:0.870:   4%|███▌                                                                                     | 22/550 [00:00<00:02, 219.99it/s]"
     ]
    },
    {
     "name": "stdout",
     "output_type": "stream",
     "text": [
      "Epoch 5 Val loss:8.1745 acc:0.8994\n"
     ]
    },
    {
     "name": "stderr",
     "output_type": "stream",
     "text": [
      "Ep[6] loss:0.230 acc:0.810: 100%|████████████████████████████████████████████████████████████████████████████████████████| 550/550 [00:02<00:00, 231.68it/s]\n",
      "Ep[7] loss:0.154 acc:0.920:   4%|███▌                                                                                     | 22/550 [00:00<00:02, 213.59it/s]"
     ]
    },
    {
     "name": "stdout",
     "output_type": "stream",
     "text": [
      "Epoch 6 Val loss:7.7718 acc:0.9026\n"
     ]
    },
    {
     "name": "stderr",
     "output_type": "stream",
     "text": [
      "Ep[7] loss:0.221 acc:0.800: 100%|████████████████████████████████████████████████████████████████████████████████████████| 550/550 [00:02<00:00, 233.64it/s]\n"
     ]
    },
    {
     "name": "stdout",
     "output_type": "stream",
     "text": [
      "Epoch 7 Val loss:7.3739 acc:0.9064\n",
      "\n",
      "Test acc is 0.8932\n",
      "\n"
     ]
    },
    {
     "data": {
      "image/png": "[encoded data removed]",
      "text/plain": [
       "<Figure size 864x288 with 2 Axes>"
      ]
     },
     "metadata": {
      "needs_background": "light"
     },
     "output_type": "display_data"
    }
   ],
   "source": [
    "# Build MLP with FCLayer and SigmoidLayer\n",
    "# 128 is the number of hidden units, you can change by your own\n",
    "mlp_sigmoid_euclidean = Network()\n",
    "mlp_sigmoid_euclidean.add(FCLayer(784, 128, actFunction='sigmoid'))\n",
    "mlp_sigmoid_euclidean.add(SigmoidLayer())\n",
    "mlp_sigmoid_euclidean.add(FCLayer(128, 10, actFunction='sigmoid'))\n",
    "\n",
    "criterion_euclidean = EuclideanLossLayer()\n",
    "sgd = SGD(learning_rate_SGD, weight_decay)\n",
    "\n",
    "mlp_sigmoid_euclidean, avg_val_losses, avg_val_accs = train(mlp_sigmoid_euclidean, criterion_euclidean, sgd)\n"
   ]
  },
  {
   "cell_type": "code",
   "execution_count": 15,
   "metadata": {},
   "outputs": [
    {
     "name": "stderr",
     "output_type": "stream",
     "text": [
      "Ep[0] loss:0.202 acc:0.780: 100%|████████████████████████████████████████████████████████████████████████████████████████| 550/550 [00:02<00:00, 255.46it/s]\n",
      "Ep[1] loss:0.142 acc:0.890:   4%|███▋                                                                                     | 23/550 [00:00<00:02, 225.49it/s]"
     ]
    },
    {
     "name": "stdout",
     "output_type": "stream",
     "text": [
      "Epoch 0 Val loss:6.2027 acc:0.9258\n"
     ]
    },
    {
     "name": "stderr",
     "output_type": "stream",
     "text": [
      "Ep[1] loss:0.160 acc:0.830: 100%|████████████████████████████████████████████████████████████████████████████████████████| 550/550 [00:02<00:00, 227.93it/s]\n",
      "Ep[2] loss:0.120 acc:0.900:   4%|███▋                                                                                     | 23/550 [00:00<00:02, 223.30it/s]"
     ]
    },
    {
     "name": "stdout",
     "output_type": "stream",
     "text": [
      "Epoch 1 Val loss:4.9089 acc:0.9430\n"
     ]
    },
    {
     "name": "stderr",
     "output_type": "stream",
     "text": [
      "Ep[2] loss:0.139 acc:0.860: 100%|████████████████████████████████████████████████████████████████████████████████████████| 550/550 [00:02<00:00, 213.43it/s]\n",
      "Ep[3] loss:0.085 acc:0.950:   4%|███▌                                                                                     | 22/550 [00:00<00:02, 220.00it/s]"
     ]
    },
    {
     "name": "stdout",
     "output_type": "stream",
     "text": [
      "Epoch 2 Val loss:4.3426 acc:0.9482\n"
     ]
    },
    {
     "name": "stderr",
     "output_type": "stream",
     "text": [
      "Ep[3] loss:0.126 acc:0.880: 100%|████████████████████████████████████████████████████████████████████████████████████████| 550/550 [00:02<00:00, 223.85it/s]\n",
      "Ep[4] loss:0.073 acc:0.980:   4%|███▋                                                                                     | 23/550 [00:00<00:02, 227.72it/s]"
     ]
    },
    {
     "name": "stdout",
     "output_type": "stream",
     "text": [
      "Epoch 3 Val loss:4.0047 acc:0.9540\n"
     ]
    },
    {
     "name": "stderr",
     "output_type": "stream",
     "text": [
      "Ep[4] loss:0.116 acc:0.900: 100%|████████████████████████████████████████████████████████████████████████████████████████| 550/550 [00:02<00:00, 212.19it/s]\n",
      "Ep[5] loss:0.078 acc:0.950:   3%|███                                                                                      | 19/550 [00:00<00:02, 190.00it/s]"
     ]
    },
    {
     "name": "stdout",
     "output_type": "stream",
     "text": [
      "Epoch 4 Val loss:3.7688 acc:0.9562\n"
     ]
    },
    {
     "name": "stderr",
     "output_type": "stream",
     "text": [
      "Ep[5] loss:0.109 acc:0.910: 100%|████████████████████████████████████████████████████████████████████████████████████████| 550/550 [00:02<00:00, 206.38it/s]\n",
      "Ep[6] loss:0.064 acc:0.990:   4%|███▏                                                                                     | 20/550 [00:00<00:02, 194.17it/s]"
     ]
    },
    {
     "name": "stdout",
     "output_type": "stream",
     "text": [
      "Epoch 5 Val loss:3.5947 acc:0.9600\n"
     ]
    },
    {
     "name": "stderr",
     "output_type": "stream",
     "text": [
      "Ep[6] loss:0.103 acc:0.930: 100%|████████████████████████████████████████████████████████████████████████████████████████| 550/550 [00:02<00:00, 205.38it/s]\n",
      "Ep[7] loss:0.067 acc:0.960:   4%|███▍                                                                                     | 21/550 [00:00<00:02, 205.88it/s]"
     ]
    },
    {
     "name": "stdout",
     "output_type": "stream",
     "text": [
      "Epoch 6 Val loss:3.4554 acc:0.9610\n"
     ]
    },
    {
     "name": "stderr",
     "output_type": "stream",
     "text": [
      "Ep[7] loss:0.098 acc:0.930: 100%|████████████████████████████████████████████████████████████████████████████████████████| 550/550 [00:02<00:00, 210.41it/s]\n"
     ]
    },
    {
     "name": "stdout",
     "output_type": "stream",
     "text": [
      "Epoch 7 Val loss:3.3416 acc:0.9620\n",
      "\n",
      "Test acc is 0.9494\n",
      "\n",
      "[6.202688610395479, 4.908916729787934, 4.342600388747445, 4.004710575451494, 3.768819470011997, 3.594678074760275, 3.455426864517749, 3.3416445192616906] [0.9258, 0.943, 0.9482, 0.954, 0.9562, 0.96, 0.961, 0.962]\n"
     ]
    },
    {
     "data": {
      "image/png": "[encoded data removed]",
      "text/plain": [
       "<Figure size 864x288 with 2 Axes>"
      ]
     },
     "metadata": {
      "needs_background": "light"
     },
     "output_type": "display_data"
    }
   ],
   "source": [
    "# Build mlp_relu_euclidean with FCLayer and ReLULayer\n",
    "# 128 is the number of hidden units, you can change by your own\n",
    "mlp_relu_euclidean = Network()\n",
    "mlp_relu_euclidean.add(FCLayer(784, 128, actFunction='sigmoid'))\n",
    "mlp_relu_euclidean.add(ReLULayer())\n",
    "mlp_relu_euclidean.add(FCLayer(128, 10, actFunction='sigmoid'))\n",
    "\n",
    "criterion_euclidean = EuclideanLossLayer()\n",
    "sgd = SGD(learning_rate_SGD, weight_decay)\n",
    "\n",
    "mlp_relu_euclidean, avg_val_losses, avg_val_accs = train(mlp_relu_euclidean, criterion_euclidean, sgd)\n",
    "print(avg_val_losses, avg_val_accs)"
   ]
  },
  {
   "cell_type": "code",
   "execution_count": 16,
   "metadata": {},
   "outputs": [
    {
     "name": "stderr",
     "output_type": "stream",
     "text": [
      "Ep[0] loss:0.900 acc:0.740: 100%|████████████████████████████████████████████████████████████████████████████████████████| 550/550 [00:02<00:00, 187.52it/s]\n",
      "C:\\Users\\thisi\\Anaconda3\\lib\\site-packages\\ipykernel_launcher.py:36: RuntimeWarning: invalid value encountered in log\n",
      "Ep[1] loss:0.605 acc:0.870:   3%|██▉                                                                                      | 18/550 [00:00<00:02, 180.00it/s]"
     ]
    },
    {
     "name": "stdout",
     "output_type": "stream",
     "text": [
      "Epoch 0 Val loss:0.5210 acc:0.8932\n"
     ]
    },
    {
     "name": "stderr",
     "output_type": "stream",
     "text": [
      "Ep[1] loss:0.721 acc:0.750: 100%|████████████████████████████████████████████████████████████████████████████████████████| 550/550 [00:03<00:00, 183.27it/s]\n",
      "Ep[2] loss:0.418 acc:0.870:   3%|██▉                                                                                      | 18/550 [00:00<00:03, 176.47it/s]"
     ]
    },
    {
     "name": "stdout",
     "output_type": "stream",
     "text": [
      "Epoch 1 Val loss:0.3873 acc:0.9124\n"
     ]
    },
    {
     "name": "stderr",
     "output_type": "stream",
     "text": [
      "Ep[2] loss:0.640 acc:0.780: 100%|████████████████████████████████████████████████████████████████████████████████████████| 550/550 [00:03<00:00, 181.88it/s]\n",
      "Ep[3] loss:0.373 acc:0.910:   3%|███                                                                                      | 19/550 [00:00<00:02, 186.27it/s]"
     ]
    },
    {
     "name": "stdout",
     "output_type": "stream",
     "text": [
      "Epoch 2 Val loss:0.3436 acc:0.9188\n"
     ]
    },
    {
     "name": "stderr",
     "output_type": "stream",
     "text": [
      "Ep[3] loss:0.589 acc:0.810: 100%|████████████████████████████████████████████████████████████████████████████████████████| 550/550 [00:03<00:00, 180.80it/s]\n",
      "Ep[4] loss:0.334 acc:0.920:   3%|██▉                                                                                      | 18/550 [00:00<00:02, 178.22it/s]"
     ]
    },
    {
     "name": "stdout",
     "output_type": "stream",
     "text": [
      "Epoch 3 Val loss:0.3207 acc:0.9242\n"
     ]
    },
    {
     "name": "stderr",
     "output_type": "stream",
     "text": [
      "Ep[4] loss:0.553 acc:0.820: 100%|████████████████████████████████████████████████████████████████████████████████████████| 550/550 [00:02<00:00, 184.94it/s]\n",
      "Ep[5] loss:0.400 acc:0.870:   3%|██▉                                                                                      | 18/550 [00:00<00:03, 173.08it/s]"
     ]
    },
    {
     "name": "stdout",
     "output_type": "stream",
     "text": [
      "Epoch 4 Val loss:0.3052 acc:0.9264\n"
     ]
    },
    {
     "name": "stderr",
     "output_type": "stream",
     "text": [
      "Ep[5] loss:0.525 acc:0.830: 100%|████████████████████████████████████████████████████████████████████████████████████████| 550/550 [00:03<00:00, 181.28it/s]\n",
      "Ep[6] loss:0.193 acc:0.950:   3%|███                                                                                      | 19/550 [00:00<00:02, 184.47it/s]"
     ]
    },
    {
     "name": "stdout",
     "output_type": "stream",
     "text": [
      "Epoch 5 Val loss:0.2930 acc:0.9292\n"
     ]
    },
    {
     "name": "stderr",
     "output_type": "stream",
     "text": [
      "Ep[6] loss:0.502 acc:0.860: 100%|████████████████████████████████████████████████████████████████████████████████████████| 550/550 [00:02<00:00, 184.01it/s]\n",
      "Ep[7] loss:0.282 acc:0.920:   3%|██▌                                                                                      | 16/550 [00:00<00:03, 158.41it/s]"
     ]
    },
    {
     "name": "stdout",
     "output_type": "stream",
     "text": [
      "Epoch 6 Val loss:0.2824 acc:0.9312\n"
     ]
    },
    {
     "name": "stderr",
     "output_type": "stream",
     "text": [
      "Ep[7] loss:0.483 acc:0.860: 100%|████████████████████████████████████████████████████████████████████████████████████████| 550/550 [00:03<00:00, 181.04it/s]\n"
     ]
    },
    {
     "name": "stdout",
     "output_type": "stream",
     "text": [
      "Epoch 7 Val loss:0.2729 acc:0.9330\n",
      "\n",
      "Test acc is 0.9190\n",
      "\n",
      "[0.5209973121703244, 0.3872956726265173, 0.34355996226253166, 0.3207262379476298, 0.3052234125469458, 0.29295976611567237, 0.2824037277685237, 0.27289382942400214] [0.8932, 0.9124, 0.9188, 0.9242, 0.9264, 0.9292, 0.9312, 0.933]\n"
     ]
    },
    {
     "data": {
      "image/png": "[encoded data removed]",
      "text/plain": [
       "<Figure size 864x288 with 2 Axes>"
      ]
     },
     "metadata": {
      "needs_background": "light"
     },
     "output_type": "display_data"
    }
   ],
   "source": [
    "# Build MLP with FCLayer and SigmoidLayer\n",
    "# 128 is the number of hidden units, you can change by your own\n",
    "mlp_sigmoid_ce = Network()\n",
    "mlp_sigmoid_ce.add(FCLayer(784, 128))\n",
    "mlp_sigmoid_ce.add(SigmoidLayer())\n",
    "mlp_sigmoid_ce.add(FCLayer(128, 10))\n",
    "\n",
    "criterion_ce = SoftmaxCrossEntropyLossLayer()\n",
    "sgd = SGD(learning_rate_SGD, weight_decay)\n",
    "\n",
    "mlp_sigmoid_ce, avg_val_losses, avg_val_accs = train(mlp_sigmoid_ce, criterion_ce, sgd)\n",
    "print(avg_val_losses, avg_val_accs)"
   ]
  },
  {
   "cell_type": "code",
   "execution_count": 17,
   "metadata": {},
   "outputs": [
    {
     "name": "stderr",
     "output_type": "stream",
     "text": [
      "Ep[0] loss:0.550 acc:0.830: 100%|████████████████████████████████████████████████████████████████████████████████████████| 550/550 [00:03<00:00, 178.75it/s]\n",
      "C:\\Users\\thisi\\Anaconda3\\lib\\site-packages\\ipykernel_launcher.py:36: RuntimeWarning: invalid value encountered in log\n",
      "Ep[1] loss:0.296 acc:0.920:   3%|██▉                                                                                      | 18/550 [00:00<00:02, 180.00it/s]"
     ]
    },
    {
     "name": "stdout",
     "output_type": "stream",
     "text": [
      "Epoch 0 Val loss:0.2882 acc:0.9344\n"
     ]
    },
    {
     "name": "stderr",
     "output_type": "stream",
     "text": [
      "Ep[1] loss:0.411 acc:0.870: 100%|████████████████████████████████████████████████████████████████████████████████████████| 550/550 [00:03<00:00, 183.09it/s]\n",
      "Ep[2] loss:0.238 acc:0.950:   3%|███                                                                                      | 19/550 [00:00<00:02, 188.12it/s]"
     ]
    },
    {
     "name": "stdout",
     "output_type": "stream",
     "text": [
      "Epoch 1 Val loss:0.2311 acc:0.9488\n"
     ]
    },
    {
     "name": "stderr",
     "output_type": "stream",
     "text": [
      "Ep[2] loss:0.331 acc:0.900: 100%|████████████████████████████████████████████████████████████████████████████████████████| 550/550 [00:03<00:00, 174.94it/s]\n",
      "Ep[3] loss:0.185 acc:0.960:   2%|██                                                                                       | 13/550 [00:00<00:04, 130.00it/s]"
     ]
    },
    {
     "name": "stdout",
     "output_type": "stream",
     "text": [
      "Epoch 2 Val loss:0.1983 acc:0.9550\n"
     ]
    },
    {
     "name": "stderr",
     "output_type": "stream",
     "text": [
      "Ep[3] loss:0.279 acc:0.930: 100%|████████████████████████████████████████████████████████████████████████████████████████| 550/550 [00:03<00:00, 178.86it/s]\n",
      "Ep[4] loss:0.158 acc:0.970:   3%|██▉                                                                                      | 18/550 [00:00<00:02, 178.22it/s]"
     ]
    },
    {
     "name": "stdout",
     "output_type": "stream",
     "text": [
      "Epoch 3 Val loss:0.1744 acc:0.9582\n"
     ]
    },
    {
     "name": "stderr",
     "output_type": "stream",
     "text": [
      "Ep[4] loss:0.240 acc:0.940: 100%|████████████████████████████████████████████████████████████████████████████████████████| 550/550 [00:03<00:00, 178.57it/s]\n",
      "Ep[5] loss:0.112 acc:0.970:   3%|██▌                                                                                      | 16/550 [00:00<00:03, 158.41it/s]"
     ]
    },
    {
     "name": "stdout",
     "output_type": "stream",
     "text": [
      "Epoch 4 Val loss:0.1553 acc:0.9614\n"
     ]
    },
    {
     "name": "stderr",
     "output_type": "stream",
     "text": [
      "Ep[5] loss:0.209 acc:0.950: 100%|████████████████████████████████████████████████████████████████████████████████████████| 550/550 [00:03<00:00, 155.06it/s]\n",
      "Ep[6] loss:0.123 acc:0.980:   3%|██▊                                                                                      | 17/550 [00:00<00:03, 161.90it/s]"
     ]
    },
    {
     "name": "stdout",
     "output_type": "stream",
     "text": [
      "Epoch 5 Val loss:0.1373 acc:0.9630\n"
     ]
    },
    {
     "name": "stderr",
     "output_type": "stream",
     "text": [
      "Ep[6] loss:0.185 acc:0.950: 100%|████████████████████████████████████████████████████████████████████████████████████████| 550/550 [00:03<00:00, 158.73it/s]\n",
      "Ep[7] loss:0.200 acc:0.950:   3%|██▌                                                                                      | 16/550 [00:00<00:03, 152.38it/s]"
     ]
    },
    {
     "name": "stdout",
     "output_type": "stream",
     "text": [
      "Epoch 6 Val loss:0.1224 acc:0.9644\n"
     ]
    },
    {
     "name": "stderr",
     "output_type": "stream",
     "text": [
      "Ep[7] loss:0.163 acc:0.950: 100%|████████████████████████████████████████████████████████████████████████████████████████| 550/550 [00:03<00:00, 160.35it/s]\n"
     ]
    },
    {
     "name": "stdout",
     "output_type": "stream",
     "text": [
      "Epoch 7 Val loss:0.1102 acc:0.9660\n",
      "\n",
      "Test acc is 0.9592\n",
      "\n",
      "[0.28815778687052357, 0.2311297999638789, 0.19828313092008276, 0.1744296138294837, 0.15528901871508366, 0.13726855524600742, 0.12239824245843606, 0.11018336550668792] [0.9344, 0.9488, 0.955, 0.9582, 0.9614, 0.963, 0.9644, 0.966]\n"
     ]
    },
    {
     "data": {
      "image/png": "[encoded data removed]",
      "text/plain": [
       "<Figure size 864x288 with 2 Axes>"
      ]
     },
     "metadata": {
      "needs_background": "light"
     },
     "output_type": "display_data"
    }
   ],
   "source": [
    "# Build mlp_relu_ce with FCLayer and ReLULayer\n",
    "# 128 is the number of hidden units, you can change by your own\n",
    "mlp_relu_ce = Network()\n",
    "mlp_relu_ce.add(FCLayer(784, 128))\n",
    "mlp_relu_ce.add(ReLULayer())\n",
    "mlp_relu_ce.add(FCLayer(128, 10))\n",
    "\n",
    "criterion_ce = SoftmaxCrossEntropyLossLayer()\n",
    "sgd = SGD(learning_rate_SGD, weight_decay)\n",
    "\n",
    "mlp_relu_ce, avg_val_losses, avg_val_accs = train(mlp_relu_ce, criterion_ce, sgd)\n",
    "print(avg_val_losses, avg_val_accs)"
   ]
  },
  {
   "cell_type": "code",
   "execution_count": 18,
   "metadata": {},
   "outputs": [
    {
     "name": "stderr",
     "output_type": "stream",
     "text": [
      "Ep[0] loss:0.473 acc:0.850: 100%|████████████████████████████████████████████████████████████████████████████████████████| 550/550 [00:02<00:00, 203.40it/s]\n",
      "C:\\Users\\thisi\\Anaconda3\\lib\\site-packages\\ipykernel_launcher.py:36: RuntimeWarning: invalid value encountered in log\n",
      "Ep[1] loss:0.116 acc:0.980:   4%|███▏                                                                                     | 20/550 [00:00<00:02, 188.68it/s]"
     ]
    },
    {
     "name": "stdout",
     "output_type": "stream",
     "text": [
      "Epoch 0 Val loss:0.2173 acc:0.9330\n"
     ]
    },
    {
     "name": "stderr",
     "output_type": "stream",
     "text": [
      "Ep[1] loss:0.348 acc:0.880: 100%|████████████████████████████████████████████████████████████████████████████████████████| 550/550 [00:02<00:00, 201.02it/s]\n",
      "Ep[2] loss:0.073 acc:0.990:   4%|███▏                                                                                     | 20/550 [00:00<00:02, 194.17it/s]"
     ]
    },
    {
     "name": "stdout",
     "output_type": "stream",
     "text": [
      "Epoch 1 Val loss:0.1672 acc:0.9496\n"
     ]
    },
    {
     "name": "stderr",
     "output_type": "stream",
     "text": [
      "Ep[2] loss:0.284 acc:0.880: 100%|████████████████████████████████████████████████████████████████████████████████████████| 550/550 [00:02<00:00, 192.31it/s]\n",
      "Ep[3] loss:0.129 acc:0.970:   4%|███▏                                                                                     | 20/550 [00:00<00:02, 194.17it/s]"
     ]
    },
    {
     "name": "stdout",
     "output_type": "stream",
     "text": [
      "Epoch 2 Val loss:0.1376 acc:0.9588\n"
     ]
    },
    {
     "name": "stderr",
     "output_type": "stream",
     "text": [
      "Ep[3] loss:0.240 acc:0.900: 100%|████████████████████████████████████████████████████████████████████████████████████████| 550/550 [00:02<00:00, 187.65it/s]\n",
      "Ep[4] loss:0.121 acc:0.980:   3%|███                                                                                      | 19/550 [00:00<00:02, 184.46it/s]"
     ]
    },
    {
     "name": "stdout",
     "output_type": "stream",
     "text": [
      "Epoch 3 Val loss:0.1201 acc:0.9610\n"
     ]
    },
    {
     "name": "stderr",
     "output_type": "stream",
     "text": [
      "Ep[4] loss:0.208 acc:0.920: 100%|████████████████████████████████████████████████████████████████████████████████████████| 550/550 [00:02<00:00, 198.13it/s]\n",
      "Ep[5] loss:0.042 acc:0.990:   4%|███▍                                                                                     | 21/550 [00:00<00:02, 198.12it/s]"
     ]
    },
    {
     "name": "stdout",
     "output_type": "stream",
     "text": [
      "Epoch 4 Val loss:0.1071 acc:0.9646\n"
     ]
    },
    {
     "name": "stderr",
     "output_type": "stream",
     "text": [
      "Ep[5] loss:0.186 acc:0.940: 100%|████████████████████████████████████████████████████████████████████████████████████████| 550/550 [00:02<00:00, 198.92it/s]\n",
      "Ep[6] loss:0.084 acc:0.990:   4%|███▏                                                                                     | 20/550 [00:00<00:02, 198.02it/s]"
     ]
    },
    {
     "name": "stdout",
     "output_type": "stream",
     "text": [
      "Epoch 5 Val loss:0.0952 acc:0.9656\n"
     ]
    },
    {
     "name": "stderr",
     "output_type": "stream",
     "text": [
      "Ep[6] loss:0.165 acc:0.950: 100%|████████████████████████████████████████████████████████████████████████████████████████| 550/550 [00:02<00:00, 199.13it/s]\n",
      "Ep[7] loss:0.109 acc:0.950:   4%|███▏                                                                                     | 20/550 [00:00<00:02, 192.31it/s]"
     ]
    },
    {
     "name": "stdout",
     "output_type": "stream",
     "text": [
      "Epoch 6 Val loss:0.0847 acc:0.9666\n"
     ]
    },
    {
     "name": "stderr",
     "output_type": "stream",
     "text": [
      "Ep[7] loss:0.150 acc:0.960: 100%|████████████████████████████████████████████████████████████████████████████████████████| 550/550 [00:02<00:00, 197.70it/s]\n"
     ]
    },
    {
     "name": "stdout",
     "output_type": "stream",
     "text": [
      "Epoch 7 Val loss:0.0775 acc:0.9676\n",
      "\n",
      "Test acc is 0.9623\n",
      "\n",
      "[0.21734871070728928, 0.16719277045948522, 0.13756351183236876, 0.1201116824586237, 0.10714845698984267, 0.09518686523799352, 0.08472546613101317, 0.07752931704057373] [0.933, 0.9496, 0.9588, 0.961, 0.9646, 0.9656, 0.9666, 0.9676]\n"
     ]
    },
    {
     "data": {
      "image/png": "[encoded data removed]",
      "text/plain": [
       "<Figure size 864x288 with 2 Axes>"
      ]
     },
     "metadata": {
      "needs_background": "light"
     },
     "output_type": "display_data"
    }
   ],
   "source": [
    "# Construct a custom two-hidden-layer MLP, using any activation function and loss function\n",
    "mlp_custom = Network()\n",
    "mlp_custom.add(FCLayer(784, 64))\n",
    "mlp_custom.add(ReLULayer())\n",
    "mlp_custom.add(FCLayer(64, 32))\n",
    "mlp_custom.add(ReLULayer())\n",
    "mlp_custom.add(FCLayer(32, 10))\n",
    "\n",
    "criterion_custom = SoftmaxCrossEntropyLossLayer()\n",
    "sgd = SGD(learning_rate_SGD, weight_decay)\n",
    "\n",
    "mlp_custom, avg_val_losses, avg_val_accs = train(mlp_custom, criterion_custom, sgd)\n",
    "print(avg_val_losses, avg_val_accs)"
   ]
  },
  {
   "cell_type": "markdown",
   "metadata": {},
   "source": [
    "### Further tweaking from best architecture above"
   ]
  },
  {
   "cell_type": "code",
   "execution_count": 23,
   "metadata": {},
   "outputs": [],
   "source": [
    "def run_exp():\n",
    "    # Construct a custom two-hidden-layer MLP, using any activation function and loss function\n",
    "    mlp_custom = Network()\n",
    "    mlp_custom.add(FCLayer(784, 64))\n",
    "    mlp_custom.add(ReLULayer())\n",
    "    mlp_custom.add(FCLayer(64, 32))\n",
    "    mlp_custom.add(ReLULayer())\n",
    "    mlp_custom.add(FCLayer(32, 10))\n",
    "\n",
    "    criterion_custom = SoftmaxCrossEntropyLossLayer()\n",
    "    sgd = SGD(learning_rate_SGD, weight_decay)\n",
    "\n",
    "    mlp_custom, avg_val_losses, avg_val_accs = train(mlp_custom, criterion_custom, sgd)\n",
    "    print(avg_val_losses, avg_val_accs)"
   ]
  },
  {
   "cell_type": "code",
   "execution_count": 34,
   "metadata": {},
   "outputs": [],
   "source": [
    "max_epoch = 128"
   ]
  },
  {
   "cell_type": "code",
   "execution_count": 35,
   "metadata": {},
   "outputs": [
    {
     "name": "stderr",
     "output_type": "stream",
     "text": [
      "Ep[0] loss:0.544 acc:0.800: 100%|████████████████████████████████████████████████████████████████████████████████████████| 550/550 [00:02<00:00, 223.40it/s]\n",
      "C:\\Users\\thisi\\Anaconda3\\lib\\site-packages\\ipykernel_launcher.py:36: RuntimeWarning: invalid value encountered in log\n",
      "Ep[1] loss:0.327 acc:0.920:   4%|███▌                                                                                     | 22/550 [00:00<00:02, 213.59it/s]"
     ]
    },
    {
     "name": "stdout",
     "output_type": "stream",
     "text": [
      "Epoch 0 Val loss:0.2479 acc:0.9364\n"
     ]
    },
    {
     "name": "stderr",
     "output_type": "stream",
     "text": [
      "Ep[1] loss:0.388 acc:0.840: 100%|████████████████████████████████████████████████████████████████████████████████████████| 550/550 [00:02<00:00, 222.76it/s]\n",
      "Ep[2] loss:0.221 acc:0.950:   4%|███▋                                                                                     | 23/550 [00:00<00:02, 223.30it/s]"
     ]
    },
    {
     "name": "stdout",
     "output_type": "stream",
     "text": [
      "Epoch 1 Val loss:0.1934 acc:0.9510\n"
     ]
    },
    {
     "name": "stderr",
     "output_type": "stream",
     "text": [
      "Ep[2] loss:0.301 acc:0.880: 100%|████████████████████████████████████████████████████████████████████████████████████████| 550/550 [00:02<00:00, 214.93it/s]\n",
      "Ep[3] loss:0.080 acc:0.980:   4%|███▏                                                                                     | 20/550 [00:00<00:02, 192.31it/s]"
     ]
    },
    {
     "name": "stdout",
     "output_type": "stream",
     "text": [
      "Epoch 2 Val loss:0.1575 acc:0.9588\n"
     ]
    },
    {
     "name": "stderr",
     "output_type": "stream",
     "text": [
      "Ep[3] loss:0.247 acc:0.920: 100%|████████████████████████████████████████████████████████████████████████████████████████| 550/550 [00:02<00:00, 213.92it/s]\n",
      "Ep[4] loss:0.071 acc:0.980:   4%|███▋                                                                                     | 23/550 [00:00<00:02, 223.30it/s]"
     ]
    },
    {
     "name": "stdout",
     "output_type": "stream",
     "text": [
      "Epoch 3 Val loss:0.1368 acc:0.9624\n"
     ]
    },
    {
     "name": "stderr",
     "output_type": "stream",
     "text": [
      "Ep[4] loss:0.203 acc:0.940: 100%|████████████████████████████████████████████████████████████████████████████████████████| 550/550 [00:02<00:00, 215.43it/s]\n",
      "Ep[5] loss:0.059 acc:0.980:   4%|███▌                                                                                     | 22/550 [00:00<00:02, 220.00it/s]"
     ]
    },
    {
     "name": "stdout",
     "output_type": "stream",
     "text": [
      "Epoch 4 Val loss:0.1233 acc:0.9648\n"
     ]
    },
    {
     "name": "stderr",
     "output_type": "stream",
     "text": [
      "Ep[5] loss:0.178 acc:0.980: 100%|████████████████████████████████████████████████████████████████████████████████████████| 550/550 [00:02<00:00, 210.97it/s]\n",
      "Ep[6] loss:0.081 acc:0.990:   4%|███▍                                                                                     | 21/550 [00:00<00:02, 207.92it/s]"
     ]
    },
    {
     "name": "stdout",
     "output_type": "stream",
     "text": [
      "Epoch 5 Val loss:0.1137 acc:0.9656\n"
     ]
    },
    {
     "name": "stderr",
     "output_type": "stream",
     "text": [
      "Ep[6] loss:0.158 acc:0.960: 100%|████████████████████████████████████████████████████████████████████████████████████████| 550/550 [00:02<00:00, 217.48it/s]\n",
      "Ep[7] loss:0.095 acc:0.970:   4%|███▋                                                                                     | 23/550 [00:00<00:02, 230.00it/s]"
     ]
    },
    {
     "name": "stdout",
     "output_type": "stream",
     "text": [
      "Epoch 6 Val loss:0.1074 acc:0.9666\n"
     ]
    },
    {
     "name": "stderr",
     "output_type": "stream",
     "text": [
      "Ep[7] loss:0.136 acc:0.970: 100%|████████████████████████████████████████████████████████████████████████████████████████| 550/550 [00:02<00:00, 223.44it/s]\n",
      "Ep[8] loss:0.047 acc:0.980:   4%|███▋                                                                                     | 23/550 [00:00<00:02, 223.29it/s]"
     ]
    },
    {
     "name": "stdout",
     "output_type": "stream",
     "text": [
      "Epoch 7 Val loss:0.1002 acc:0.9672\n"
     ]
    },
    {
     "name": "stderr",
     "output_type": "stream",
     "text": [
      "Ep[8] loss:0.119 acc:0.970: 100%|████████████████████████████████████████████████████████████████████████████████████████| 550/550 [00:02<00:00, 223.12it/s]\n",
      "Ep[9] loss:0.057 acc:0.980:   4%|███▌                                                                                     | 22/550 [00:00<00:02, 215.68it/s]"
     ]
    },
    {
     "name": "stdout",
     "output_type": "stream",
     "text": [
      "Epoch 8 Val loss:0.0937 acc:0.9680\n"
     ]
    },
    {
     "name": "stderr",
     "output_type": "stream",
     "text": [
      "Ep[9] loss:0.105 acc:0.970: 100%|████████████████████████████████████████████████████████████████████████████████████████| 550/550 [00:02<00:00, 202.58it/s]\n",
      "Ep[10] loss:0.133 acc:0.930:   4%|███▎                                                                                    | 21/550 [00:00<00:02, 203.87it/s]"
     ]
    },
    {
     "name": "stdout",
     "output_type": "stream",
     "text": [
      "Epoch 9 Val loss:0.0864 acc:0.9698\n"
     ]
    },
    {
     "name": "stderr",
     "output_type": "stream",
     "text": [
      "Ep[10] loss:0.095 acc:0.970: 100%|███████████████████████████████████████████████████████████████████████████████████████| 550/550 [00:02<00:00, 197.27it/s]\n",
      "Ep[11] loss:0.066 acc:0.970:   4%|███▏                                                                                    | 20/550 [00:00<00:02, 198.02it/s]"
     ]
    },
    {
     "name": "stdout",
     "output_type": "stream",
     "text": [
      "Epoch 10 Val loss:0.0812 acc:0.9704\n"
     ]
    },
    {
     "name": "stderr",
     "output_type": "stream",
     "text": [
      "Ep[11] loss:0.085 acc:0.970: 100%|███████████████████████████████████████████████████████████████████████████████████████| 550/550 [00:03<00:00, 166.67it/s]\n",
      "Ep[12] loss:0.080 acc:0.980:   3%|██▉                                                                                     | 18/550 [00:00<00:03, 174.76it/s]"
     ]
    },
    {
     "name": "stdout",
     "output_type": "stream",
     "text": [
      "Epoch 11 Val loss:0.0748 acc:0.9716\n"
     ]
    },
    {
     "name": "stderr",
     "output_type": "stream",
     "text": [
      "Ep[12] loss:0.075 acc:0.980: 100%|███████████████████████████████████████████████████████████████████████████████████████| 550/550 [00:03<00:00, 175.77it/s]\n",
      "Ep[13] loss:0.040 acc:0.990:   3%|██▋                                                                                     | 17/550 [00:00<00:03, 168.32it/s]"
     ]
    },
    {
     "name": "stdout",
     "output_type": "stream",
     "text": [
      "Epoch 12 Val loss:0.0690 acc:0.9726\n"
     ]
    },
    {
     "name": "stderr",
     "output_type": "stream",
     "text": [
      "Ep[13] loss:0.070 acc:0.980: 100%|███████████████████████████████████████████████████████████████████████████████████████| 550/550 [00:02<00:00, 193.25it/s]\n",
      "Ep[14] loss:0.020 acc:1.000:   4%|███▏                                                                                    | 20/550 [00:00<00:02, 199.99it/s]"
     ]
    },
    {
     "name": "stdout",
     "output_type": "stream",
     "text": [
      "Epoch 13 Val loss:0.0641 acc:0.9728\n"
     ]
    },
    {
     "name": "stderr",
     "output_type": "stream",
     "text": [
      "Ep[14] loss:0.063 acc:0.980: 100%|███████████████████████████████████████████████████████████████████████████████████████| 550/550 [00:02<00:00, 205.30it/s]\n",
      "Ep[15] loss:0.083 acc:0.970:   4%|███▏                                                                                    | 20/550 [00:00<00:02, 198.02it/s]"
     ]
    },
    {
     "name": "stdout",
     "output_type": "stream",
     "text": [
      "Epoch 14 Val loss:0.0585 acc:0.9732\n"
     ]
    },
    {
     "name": "stderr",
     "output_type": "stream",
     "text": [
      "Ep[15] loss:0.058 acc:1.000: 100%|███████████████████████████████████████████████████████████████████████████████████████| 550/550 [00:02<00:00, 204.92it/s]\n",
      "Ep[16] loss:0.033 acc:0.980:   4%|███▏                                                                                    | 20/550 [00:00<00:02, 196.08it/s]"
     ]
    },
    {
     "name": "stdout",
     "output_type": "stream",
     "text": [
      "Epoch 15 Val loss:0.0550 acc:0.9730\n"
     ]
    },
    {
     "name": "stderr",
     "output_type": "stream",
     "text": [
      "Ep[16] loss:0.052 acc:1.000: 100%|███████████████████████████████████████████████████████████████████████████████████████| 550/550 [00:02<00:00, 202.35it/s]\n",
      "Ep[17] loss:0.031 acc:0.980:   4%|███▎                                                                                    | 21/550 [00:00<00:02, 205.88it/s]"
     ]
    },
    {
     "name": "stdout",
     "output_type": "stream",
     "text": [
      "Epoch 16 Val loss:0.0508 acc:0.9726\n"
     ]
    },
    {
     "name": "stderr",
     "output_type": "stream",
     "text": [
      "Ep[17] loss:0.047 acc:1.000: 100%|███████████████████████████████████████████████████████████████████████████████████████| 550/550 [00:02<00:00, 206.77it/s]\n",
      "Ep[18] loss:0.029 acc:0.980:   4%|███▎                                                                                    | 21/550 [00:00<00:02, 201.93it/s]"
     ]
    },
    {
     "name": "stdout",
     "output_type": "stream",
     "text": [
      "Epoch 17 Val loss:0.0477 acc:0.9736\n"
     ]
    },
    {
     "name": "stderr",
     "output_type": "stream",
     "text": [
      "Ep[18] loss:0.043 acc:1.000: 100%|███████████████████████████████████████████████████████████████████████████████████████| 550/550 [00:02<00:00, 207.16it/s]\n",
      "Ep[19] loss:0.065 acc:0.980:   4%|███▏                                                                                    | 20/550 [00:00<00:02, 200.00it/s]"
     ]
    },
    {
     "name": "stdout",
     "output_type": "stream",
     "text": [
      "Epoch 18 Val loss:0.0439 acc:0.9738\n"
     ]
    },
    {
     "name": "stderr",
     "output_type": "stream",
     "text": [
      "Ep[19] loss:0.040 acc:1.000: 100%|███████████████████████████████████████████████████████████████████████████████████████| 550/550 [00:02<00:00, 198.70it/s]\n",
      "Ep[20] loss:0.025 acc:0.990:   4%|███▏                                                                                    | 20/550 [00:00<00:02, 192.30it/s]"
     ]
    },
    {
     "name": "stdout",
     "output_type": "stream",
     "text": [
      "Epoch 19 Val loss:0.0409 acc:0.9736\n"
     ]
    },
    {
     "name": "stderr",
     "output_type": "stream",
     "text": [
      "Ep[20] loss:0.037 acc:1.000: 100%|███████████████████████████████████████████████████████████████████████████████████████| 550/550 [00:02<00:00, 206.77it/s]\n",
      "Ep[21] loss:0.024 acc:0.990:   4%|███▏                                                                                    | 20/550 [00:00<00:02, 196.08it/s]"
     ]
    },
    {
     "name": "stdout",
     "output_type": "stream",
     "text": [
      "Epoch 20 Val loss:0.0387 acc:0.9732\n"
     ]
    },
    {
     "name": "stderr",
     "output_type": "stream",
     "text": [
      "Ep[21] loss:0.034 acc:1.000: 100%|███████████████████████████████████████████████████████████████████████████████████████| 550/550 [00:02<00:00, 203.63it/s]\n",
      "Ep[22] loss:0.064 acc:0.990:   3%|███                                                                                     | 19/550 [00:00<00:03, 154.47it/s]"
     ]
    },
    {
     "name": "stdout",
     "output_type": "stream",
     "text": [
      "Epoch 21 Val loss:0.0374 acc:0.9736\n"
     ]
    },
    {
     "name": "stderr",
     "output_type": "stream",
     "text": [
      "Ep[22] loss:0.032 acc:1.000: 100%|███████████████████████████████████████████████████████████████████████████████████████| 550/550 [00:02<00:00, 203.78it/s]\n",
      "Ep[23] loss:0.016 acc:1.000:   4%|███▎                                                                                    | 21/550 [00:00<00:02, 203.87it/s]"
     ]
    },
    {
     "name": "stdout",
     "output_type": "stream",
     "text": [
      "Epoch 22 Val loss:0.0359 acc:0.9736\n"
     ]
    },
    {
     "name": "stderr",
     "output_type": "stream",
     "text": [
      "Ep[23] loss:0.029 acc:1.000: 100%|███████████████████████████████████████████████████████████████████████████████████████| 550/550 [00:02<00:00, 203.10it/s]\n",
      "Ep[24] loss:0.010 acc:1.000:   4%|███▏                                                                                    | 20/550 [00:00<00:02, 194.17it/s]"
     ]
    },
    {
     "name": "stdout",
     "output_type": "stream",
     "text": [
      "Epoch 23 Val loss:0.0343 acc:0.9736\n"
     ]
    },
    {
     "name": "stderr",
     "output_type": "stream",
     "text": [
      "Ep[24] loss:0.028 acc:1.000: 100%|███████████████████████████████████████████████████████████████████████████████████████| 550/550 [00:02<00:00, 201.54it/s]\n",
      "Ep[25] loss:0.021 acc:1.000:   4%|███▏                                                                                    | 20/550 [00:00<00:02, 198.01it/s]"
     ]
    },
    {
     "name": "stdout",
     "output_type": "stream",
     "text": [
      "Epoch 24 Val loss:0.0332 acc:0.9736\n"
     ]
    },
    {
     "name": "stderr",
     "output_type": "stream",
     "text": [
      "Ep[25] loss:0.026 acc:1.000: 100%|███████████████████████████████████████████████████████████████████████████████████████| 550/550 [00:02<00:00, 201.24it/s]\n",
      "Ep[26] loss:0.025 acc:0.990:   4%|███▌                                                                                    | 22/550 [00:00<00:02, 213.60it/s]"
     ]
    },
    {
     "name": "stdout",
     "output_type": "stream",
     "text": [
      "Epoch 25 Val loss:0.0323 acc:0.9738\n"
     ]
    },
    {
     "name": "stderr",
     "output_type": "stream",
     "text": [
      "Ep[26] loss:0.025 acc:1.000: 100%|███████████████████████████████████████████████████████████████████████████████████████| 550/550 [00:02<00:00, 204.92it/s]\n",
      "Ep[27] loss:0.009 acc:1.000:   3%|███                                                                                     | 19/550 [00:00<00:02, 184.46it/s]"
     ]
    },
    {
     "name": "stdout",
     "output_type": "stream",
     "text": [
      "Epoch 26 Val loss:0.0310 acc:0.9738\n"
     ]
    },
    {
     "name": "stderr",
     "output_type": "stream",
     "text": [
      "Ep[27] loss:0.024 acc:1.000: 100%|███████████████████████████████████████████████████████████████████████████████████████| 550/550 [00:02<00:00, 200.36it/s]\n",
      "Ep[28] loss:0.037 acc:0.990:   4%|███▎                                                                                    | 21/550 [00:00<00:02, 210.00it/s]"
     ]
    },
    {
     "name": "stdout",
     "output_type": "stream",
     "text": [
      "Epoch 27 Val loss:0.0299 acc:0.9738\n"
     ]
    },
    {
     "name": "stderr",
     "output_type": "stream",
     "text": [
      "Ep[28] loss:0.022 acc:1.000: 100%|███████████████████████████████████████████████████████████████████████████████████████| 550/550 [00:02<00:00, 204.99it/s]\n",
      "Ep[29] loss:0.014 acc:1.000:   4%|███▎                                                                                    | 21/550 [00:00<00:02, 205.88it/s]"
     ]
    },
    {
     "name": "stdout",
     "output_type": "stream",
     "text": [
      "Epoch 28 Val loss:0.0285 acc:0.9742\n"
     ]
    },
    {
     "name": "stderr",
     "output_type": "stream",
     "text": [
      "Ep[29] loss:0.020 acc:1.000: 100%|███████████████████████████████████████████████████████████████████████████████████████| 550/550 [00:02<00:00, 202.80it/s]\n",
      "Ep[30] loss:0.014 acc:1.000:   3%|███                                                                                     | 19/550 [00:00<00:02, 188.12it/s]"
     ]
    },
    {
     "name": "stdout",
     "output_type": "stream",
     "text": [
      "Epoch 29 Val loss:0.0269 acc:0.9744\n"
     ]
    },
    {
     "name": "stderr",
     "output_type": "stream",
     "text": [
      "Ep[30] loss:0.019 acc:1.000: 100%|███████████████████████████████████████████████████████████████████████████████████████| 550/550 [00:02<00:00, 200.29it/s]\n",
      "Ep[31] loss:0.031 acc:0.990:   4%|███▎                                                                                    | 21/550 [00:00<00:02, 205.88it/s]"
     ]
    },
    {
     "name": "stdout",
     "output_type": "stream",
     "text": [
      "Epoch 30 Val loss:0.0246 acc:0.9744\n"
     ]
    },
    {
     "name": "stderr",
     "output_type": "stream",
     "text": [
      "Ep[31] loss:0.018 acc:1.000: 100%|███████████████████████████████████████████████████████████████████████████████████████| 550/550 [00:02<00:00, 201.32it/s]\n",
      "Ep[32] loss:0.014 acc:1.000:   4%|███▎                                                                                    | 21/550 [00:00<00:02, 201.92it/s]"
     ]
    },
    {
     "name": "stdout",
     "output_type": "stream",
     "text": [
      "Epoch 31 Val loss:0.0232 acc:0.9748\n"
     ]
    },
    {
     "name": "stderr",
     "output_type": "stream",
     "text": [
      "Ep[32] loss:0.016 acc:1.000: 100%|███████████████████████████████████████████████████████████████████████████████████████| 550/550 [00:02<00:00, 200.66it/s]\n",
      "Ep[33] loss:0.013 acc:1.000:   4%|███▎                                                                                    | 21/550 [00:00<00:02, 200.00it/s]"
     ]
    },
    {
     "name": "stdout",
     "output_type": "stream",
     "text": [
      "Epoch 32 Val loss:0.0223 acc:0.9744\n"
     ]
    },
    {
     "name": "stderr",
     "output_type": "stream",
     "text": [
      "Ep[33] loss:0.015 acc:1.000: 100%|███████████████████████████████████████████████████████████████████████████████████████| 550/550 [00:02<00:00, 200.15it/s]\n",
      "Ep[34] loss:0.027 acc:0.990:   3%|██▏                                                                                     | 14/550 [00:00<00:03, 137.25it/s]"
     ]
    },
    {
     "name": "stdout",
     "output_type": "stream",
     "text": [
      "Epoch 33 Val loss:0.0211 acc:0.9748\n"
     ]
    },
    {
     "name": "stderr",
     "output_type": "stream",
     "text": [
      "Ep[34] loss:0.015 acc:1.000: 100%|███████████████████████████████████████████████████████████████████████████████████████| 550/550 [00:02<00:00, 196.36it/s]\n",
      "Ep[35] loss:0.014 acc:1.000:   4%|███▎                                                                                    | 21/550 [00:00<00:02, 200.00it/s]"
     ]
    },
    {
     "name": "stdout",
     "output_type": "stream",
     "text": [
      "Epoch 34 Val loss:0.0210 acc:0.9744\n"
     ]
    },
    {
     "name": "stderr",
     "output_type": "stream",
     "text": [
      "Ep[35] loss:0.014 acc:1.000: 100%|███████████████████████████████████████████████████████████████████████████████████████| 550/550 [00:02<00:00, 198.20it/s]\n",
      "Ep[36] loss:0.007 acc:1.000:   3%|███                                                                                     | 19/550 [00:00<00:02, 182.69it/s]"
     ]
    },
    {
     "name": "stdout",
     "output_type": "stream",
     "text": [
      "Epoch 35 Val loss:0.0204 acc:0.9748\n"
     ]
    },
    {
     "name": "stderr",
     "output_type": "stream",
     "text": [
      "Ep[36] loss:0.013 acc:1.000: 100%|███████████████████████████████████████████████████████████████████████████████████████| 550/550 [00:02<00:00, 198.48it/s]\n",
      "Ep[37] loss:0.013 acc:0.990:   4%|███▏                                                                                    | 20/550 [00:00<00:02, 194.18it/s]"
     ]
    },
    {
     "name": "stdout",
     "output_type": "stream",
     "text": [
      "Epoch 36 Val loss:0.0200 acc:0.9748\n"
     ]
    },
    {
     "name": "stderr",
     "output_type": "stream",
     "text": [
      "Ep[37] loss:0.013 acc:1.000: 100%|███████████████████████████████████████████████████████████████████████████████████████| 550/550 [00:02<00:00, 199.56it/s]\n",
      "Ep[38] loss:0.010 acc:1.000:   4%|███▎                                                                                    | 21/550 [00:00<00:02, 209.97it/s]"
     ]
    },
    {
     "name": "stdout",
     "output_type": "stream",
     "text": [
      "Epoch 37 Val loss:0.0197 acc:0.9750\n"
     ]
    },
    {
     "name": "stderr",
     "output_type": "stream",
     "text": [
      "Ep[38] loss:0.012 acc:1.000: 100%|███████████████████████████████████████████████████████████████████████████████████████| 550/550 [00:02<00:00, 204.08it/s]\n",
      "Ep[39] loss:0.012 acc:1.000:   4%|███▏                                                                                    | 20/550 [00:00<00:02, 194.17it/s]"
     ]
    },
    {
     "name": "stdout",
     "output_type": "stream",
     "text": [
      "Epoch 38 Val loss:0.0198 acc:0.9750\n"
     ]
    },
    {
     "name": "stderr",
     "output_type": "stream",
     "text": [
      "Ep[39] loss:0.012 acc:1.000: 100%|███████████████████████████████████████████████████████████████████████████████████████| 550/550 [00:02<00:00, 196.78it/s]\n",
      "Ep[40] loss:0.011 acc:1.000:   4%|███▏                                                                                    | 20/550 [00:00<00:02, 198.01it/s]"
     ]
    },
    {
     "name": "stdout",
     "output_type": "stream",
     "text": [
      "Epoch 39 Val loss:0.0202 acc:0.9748\n"
     ]
    },
    {
     "name": "stderr",
     "output_type": "stream",
     "text": [
      "Ep[40] loss:0.012 acc:1.000: 100%|███████████████████████████████████████████████████████████████████████████████████████| 550/550 [00:02<00:00, 201.47it/s]\n",
      "Ep[41] loss:0.018 acc:1.000:   4%|███▎                                                                                    | 21/550 [00:00<00:02, 205.87it/s]"
     ]
    },
    {
     "name": "stdout",
     "output_type": "stream",
     "text": [
      "Epoch 40 Val loss:0.0197 acc:0.9750\n"
     ]
    },
    {
     "name": "stderr",
     "output_type": "stream",
     "text": [
      "Ep[41] loss:0.011 acc:1.000: 100%|███████████████████████████████████████████████████████████████████████████████████████| 550/550 [00:02<00:00, 198.63it/s]\n",
      "Ep[42] loss:0.006 acc:1.000:   3%|███                                                                                     | 19/550 [00:00<00:02, 190.00it/s]"
     ]
    },
    {
     "name": "stdout",
     "output_type": "stream",
     "text": [
      "Epoch 41 Val loss:0.0202 acc:0.9754\n"
     ]
    },
    {
     "name": "stderr",
     "output_type": "stream",
     "text": [
      "Ep[42] loss:0.011 acc:1.000: 100%|███████████████████████████████████████████████████████████████████████████████████████| 550/550 [00:02<00:00, 196.36it/s]\n",
      "Ep[43] loss:0.016 acc:1.000:   4%|███▌                                                                                    | 22/550 [00:00<00:02, 207.54it/s]"
     ]
    },
    {
     "name": "stdout",
     "output_type": "stream",
     "text": [
      "Epoch 42 Val loss:0.0206 acc:0.9756\n"
     ]
    },
    {
     "name": "stderr",
     "output_type": "stream",
     "text": [
      "Ep[43] loss:0.010 acc:1.000: 100%|███████████████████████████████████████████████████████████████████████████████████████| 550/550 [00:03<00:00, 173.56it/s]\n",
      "Ep[44] loss:0.006 acc:1.000:   4%|███▋                                                                                    | 23/550 [00:00<00:02, 227.72it/s]"
     ]
    },
    {
     "name": "stdout",
     "output_type": "stream",
     "text": [
      "Epoch 43 Val loss:0.0209 acc:0.9756\n"
     ]
    },
    {
     "name": "stderr",
     "output_type": "stream",
     "text": [
      "Ep[44] loss:0.010 acc:1.000: 100%|███████████████████████████████████████████████████████████████████████████████████████| 550/550 [00:02<00:00, 195.87it/s]\n",
      "Ep[45] loss:0.015 acc:1.000:   4%|███▏                                                                                    | 20/550 [00:00<00:02, 196.08it/s]"
     ]
    },
    {
     "name": "stdout",
     "output_type": "stream",
     "text": [
      "Epoch 44 Val loss:0.0213 acc:0.9756\n"
     ]
    },
    {
     "name": "stderr",
     "output_type": "stream",
     "text": [
      "Ep[45] loss:0.009 acc:1.000: 100%|███████████████████████████████████████████████████████████████████████████████████████| 550/550 [00:02<00:00, 200.29it/s]\n",
      "Ep[46] loss:0.005 acc:1.000:   4%|███▏                                                                                    | 20/550 [00:00<00:02, 190.48it/s]"
     ]
    },
    {
     "name": "stdout",
     "output_type": "stream",
     "text": [
      "Epoch 45 Val loss:0.0216 acc:0.9756\n"
     ]
    },
    {
     "name": "stderr",
     "output_type": "stream",
     "text": [
      "Ep[46] loss:0.009 acc:1.000: 100%|███████████████████████████████████████████████████████████████████████████████████████| 550/550 [00:02<00:00, 197.91it/s]\n",
      "Ep[47] loss:0.007 acc:1.000:   4%|███▏                                                                                    | 20/550 [00:00<00:02, 196.08it/s]"
     ]
    },
    {
     "name": "stdout",
     "output_type": "stream",
     "text": [
      "Epoch 46 Val loss:0.0222 acc:0.9754\n"
     ]
    },
    {
     "name": "stderr",
     "output_type": "stream",
     "text": [
      "Ep[47] loss:0.009 acc:1.000: 100%|███████████████████████████████████████████████████████████████████████████████████████| 550/550 [00:02<00:00, 201.61it/s]\n",
      "Ep[48] loss:0.013 acc:1.000:   4%|███▎                                                                                    | 21/550 [00:00<00:02, 205.88it/s]"
     ]
    },
    {
     "name": "stdout",
     "output_type": "stream",
     "text": [
      "Epoch 47 Val loss:0.0230 acc:0.9754\n"
     ]
    },
    {
     "name": "stderr",
     "output_type": "stream",
     "text": [
      "Ep[48] loss:0.008 acc:1.000: 100%|███████████████████████████████████████████████████████████████████████████████████████| 550/550 [00:02<00:00, 193.39it/s]\n",
      "Ep[49] loss:0.008 acc:1.000:   4%|███▏                                                                                    | 20/550 [00:00<00:02, 190.48it/s]"
     ]
    },
    {
     "name": "stdout",
     "output_type": "stream",
     "text": [
      "Epoch 48 Val loss:0.0238 acc:0.9758\n"
     ]
    },
    {
     "name": "stderr",
     "output_type": "stream",
     "text": [
      "Ep[49] loss:0.008 acc:1.000: 100%|███████████████████████████████████████████████████████████████████████████████████████| 550/550 [00:02<00:00, 196.85it/s]\n",
      "Ep[50] loss:0.005 acc:1.000:   4%|███▏                                                                                    | 20/550 [00:00<00:02, 196.08it/s]"
     ]
    },
    {
     "name": "stdout",
     "output_type": "stream",
     "text": [
      "Epoch 49 Val loss:0.0245 acc:0.9756\n"
     ]
    },
    {
     "name": "stderr",
     "output_type": "stream",
     "text": [
      "Ep[50] loss:0.008 acc:1.000: 100%|███████████████████████████████████████████████████████████████████████████████████████| 550/550 [00:02<00:00, 196.64it/s]\n",
      "Ep[51] loss:0.005 acc:1.000:   4%|███▏                                                                                    | 20/550 [00:00<00:02, 190.47it/s]"
     ]
    },
    {
     "name": "stdout",
     "output_type": "stream",
     "text": [
      "Epoch 50 Val loss:0.0245 acc:0.9760\n"
     ]
    },
    {
     "name": "stderr",
     "output_type": "stream",
     "text": [
      "Ep[51] loss:0.008 acc:1.000: 100%|███████████████████████████████████████████████████████████████████████████████████████| 550/550 [00:02<00:00, 192.04it/s]\n",
      "Ep[52] loss:0.005 acc:1.000:   4%|███▏                                                                                    | 20/550 [00:00<00:02, 196.08it/s]"
     ]
    },
    {
     "name": "stdout",
     "output_type": "stream",
     "text": [
      "Epoch 51 Val loss:0.0269 acc:0.9760\n"
     ]
    },
    {
     "name": "stderr",
     "output_type": "stream",
     "text": [
      "Ep[52] loss:0.007 acc:1.000: 100%|███████████████████████████████████████████████████████████████████████████████████████| 550/550 [00:02<00:00, 197.34it/s]\n",
      "Ep[53] loss:0.006 acc:1.000:   4%|███▏                                                                                    | 20/550 [00:00<00:02, 199.99it/s]"
     ]
    },
    {
     "name": "stdout",
     "output_type": "stream",
     "text": [
      "Epoch 52 Val loss:0.0266 acc:0.9762\n"
     ]
    },
    {
     "name": "stderr",
     "output_type": "stream",
     "text": [
      "Ep[53] loss:0.007 acc:1.000: 100%|███████████████████████████████████████████████████████████████████████████████████████| 550/550 [00:02<00:00, 196.08it/s]\n",
      "Ep[54] loss:0.004 acc:1.000:   4%|███▏                                                                                    | 20/550 [00:00<00:02, 192.30it/s]"
     ]
    },
    {
     "name": "stdout",
     "output_type": "stream",
     "text": [
      "Epoch 53 Val loss:0.0274 acc:0.9762\n"
     ]
    },
    {
     "name": "stderr",
     "output_type": "stream",
     "text": [
      "Ep[54] loss:0.007 acc:1.000: 100%|███████████████████████████████████████████████████████████████████████████████████████| 550/550 [00:02<00:00, 196.43it/s]\n",
      "Ep[55] loss:0.005 acc:1.000:   4%|███▎                                                                                    | 21/550 [00:00<00:02, 201.92it/s]"
     ]
    },
    {
     "name": "stdout",
     "output_type": "stream",
     "text": [
      "Epoch 54 Val loss:0.0287 acc:0.9764\n"
     ]
    },
    {
     "name": "stderr",
     "output_type": "stream",
     "text": [
      "Ep[55] loss:0.007 acc:1.000: 100%|███████████████████████████████████████████████████████████████████████████████████████| 550/550 [00:02<00:00, 191.90it/s]\n",
      "Ep[56] loss:0.006 acc:1.000:   3%|███                                                                                     | 19/550 [00:00<00:02, 188.11it/s]"
     ]
    },
    {
     "name": "stdout",
     "output_type": "stream",
     "text": [
      "Epoch 55 Val loss:0.0286 acc:0.9762\n"
     ]
    },
    {
     "name": "stderr",
     "output_type": "stream",
     "text": [
      "Ep[56] loss:0.006 acc:1.000: 100%|███████████████████████████████████████████████████████████████████████████████████████| 550/550 [00:02<00:00, 192.17it/s]\n",
      "Ep[57] loss:0.005 acc:1.000:   4%|███▏                                                                                    | 20/550 [00:00<00:02, 198.02it/s]"
     ]
    },
    {
     "name": "stdout",
     "output_type": "stream",
     "text": [
      "Epoch 56 Val loss:0.0297 acc:0.9766\n"
     ]
    },
    {
     "name": "stderr",
     "output_type": "stream",
     "text": [
      "Ep[57] loss:0.006 acc:1.000: 100%|███████████████████████████████████████████████████████████████████████████████████████| 550/550 [00:02<00:00, 185.06it/s]\n",
      "Ep[58] loss:0.004 acc:1.000:   4%|███▏                                                                                    | 20/550 [00:00<00:02, 196.08it/s]"
     ]
    },
    {
     "name": "stdout",
     "output_type": "stream",
     "text": [
      "Epoch 57 Val loss:0.0303 acc:0.9762\n"
     ]
    },
    {
     "name": "stderr",
     "output_type": "stream",
     "text": [
      "Ep[58] loss:0.006 acc:1.000: 100%|███████████████████████████████████████████████████████████████████████████████████████| 550/550 [00:02<00:00, 191.50it/s]\n",
      "Ep[59] loss:0.004 acc:1.000:   4%|███▏                                                                                    | 20/550 [00:00<00:02, 200.00it/s]"
     ]
    },
    {
     "name": "stdout",
     "output_type": "stream",
     "text": [
      "Epoch 58 Val loss:0.0310 acc:0.9764\n"
     ]
    },
    {
     "name": "stderr",
     "output_type": "stream",
     "text": [
      "Ep[59] loss:0.006 acc:1.000: 100%|███████████████████████████████████████████████████████████████████████████████████████| 550/550 [00:02<00:00, 193.19it/s]\n",
      "Ep[60] loss:0.002 acc:1.000:   3%|███                                                                                     | 19/550 [00:00<00:02, 180.96it/s]"
     ]
    },
    {
     "name": "stdout",
     "output_type": "stream",
     "text": [
      "Epoch 59 Val loss:0.0324 acc:0.9762\n"
     ]
    },
    {
     "name": "stderr",
     "output_type": "stream",
     "text": [
      "Ep[60] loss:0.006 acc:1.000: 100%|███████████████████████████████████████████████████████████████████████████████████████| 550/550 [00:02<00:00, 187.52it/s]\n",
      "Ep[61] loss:0.005 acc:1.000:   4%|███▏                                                                                    | 20/550 [00:00<00:02, 192.31it/s]"
     ]
    },
    {
     "name": "stdout",
     "output_type": "stream",
     "text": [
      "Epoch 60 Val loss:0.0323 acc:0.9762\n"
     ]
    },
    {
     "name": "stderr",
     "output_type": "stream",
     "text": [
      "Ep[61] loss:0.005 acc:1.000: 100%|███████████████████████████████████████████████████████████████████████████████████████| 550/550 [00:02<00:00, 191.44it/s]\n",
      "Ep[62] loss:0.002 acc:1.000:   3%|███                                                                                     | 19/550 [00:00<00:02, 184.46it/s]"
     ]
    },
    {
     "name": "stdout",
     "output_type": "stream",
     "text": [
      "Epoch 61 Val loss:0.0327 acc:0.9762\n"
     ]
    },
    {
     "name": "stderr",
     "output_type": "stream",
     "text": [
      "Ep[62] loss:0.005 acc:1.000: 100%|███████████████████████████████████████████████████████████████████████████████████████| 550/550 [00:02<00:00, 188.29it/s]\n",
      "Ep[63] loss:0.004 acc:1.000:   3%|███                                                                                     | 19/550 [00:00<00:02, 188.11it/s]"
     ]
    },
    {
     "name": "stdout",
     "output_type": "stream",
     "text": [
      "Epoch 62 Val loss:0.0347 acc:0.9762\n"
     ]
    },
    {
     "name": "stderr",
     "output_type": "stream",
     "text": [
      "Ep[63] loss:0.005 acc:1.000: 100%|███████████████████████████████████████████████████████████████████████████████████████| 550/550 [00:02<00:00, 193.19it/s]\n",
      "Ep[64] loss:0.002 acc:1.000:   3%|███                                                                                     | 19/550 [00:00<00:02, 186.27it/s]"
     ]
    },
    {
     "name": "stdout",
     "output_type": "stream",
     "text": [
      "Epoch 63 Val loss:0.0337 acc:0.9762\n"
     ]
    },
    {
     "name": "stderr",
     "output_type": "stream",
     "text": [
      "Ep[64] loss:0.005 acc:1.000: 100%|███████████████████████████████████████████████████████████████████████████████████████| 550/550 [00:02<00:00, 189.46it/s]\n",
      "Ep[65] loss:0.004 acc:1.000:   4%|███▏                                                                                    | 20/550 [00:00<00:02, 196.08it/s]"
     ]
    },
    {
     "name": "stdout",
     "output_type": "stream",
     "text": [
      "Epoch 64 Val loss:0.0349 acc:0.9760\n"
     ]
    },
    {
     "name": "stderr",
     "output_type": "stream",
     "text": [
      "Ep[65] loss:0.005 acc:1.000: 100%|███████████████████████████████████████████████████████████████████████████████████████| 550/550 [00:02<00:00, 190.25it/s]\n",
      "Ep[66] loss:0.004 acc:1.000:   4%|███▏                                                                                    | 20/550 [00:00<00:02, 192.30it/s]"
     ]
    },
    {
     "name": "stdout",
     "output_type": "stream",
     "text": [
      "Epoch 65 Val loss:0.0353 acc:0.9760\n"
     ]
    },
    {
     "name": "stderr",
     "output_type": "stream",
     "text": [
      "Ep[66] loss:0.005 acc:1.000: 100%|███████████████████████████████████████████████████████████████████████████████████████| 550/550 [00:02<00:00, 190.91it/s]\n",
      "Ep[67] loss:0.004 acc:1.000:   4%|███▏                                                                                    | 20/550 [00:00<00:02, 192.30it/s]"
     ]
    },
    {
     "name": "stdout",
     "output_type": "stream",
     "text": [
      "Epoch 66 Val loss:0.0358 acc:0.9760\n"
     ]
    },
    {
     "name": "stderr",
     "output_type": "stream",
     "text": [
      "Ep[67] loss:0.005 acc:1.000: 100%|███████████████████████████████████████████████████████████████████████████████████████| 550/550 [00:02<00:00, 185.56it/s]\n",
      "Ep[68] loss:0.003 acc:1.000:   3%|███                                                                                     | 19/550 [00:00<00:02, 188.12it/s]"
     ]
    },
    {
     "name": "stdout",
     "output_type": "stream",
     "text": [
      "Epoch 67 Val loss:0.0366 acc:0.9760\n"
     ]
    },
    {
     "name": "stderr",
     "output_type": "stream",
     "text": [
      "Ep[68] loss:0.005 acc:1.000: 100%|███████████████████████████████████████████████████████████████████████████████████████| 550/550 [00:02<00:00, 187.33it/s]\n",
      "Ep[69] loss:0.004 acc:1.000:   3%|███                                                                                     | 19/550 [00:00<00:02, 182.69it/s]"
     ]
    },
    {
     "name": "stdout",
     "output_type": "stream",
     "text": [
      "Epoch 68 Val loss:0.0374 acc:0.9760\n"
     ]
    },
    {
     "name": "stderr",
     "output_type": "stream",
     "text": [
      "Ep[69] loss:0.005 acc:1.000: 100%|███████████████████████████████████████████████████████████████████████████████████████| 550/550 [00:02<00:00, 189.39it/s]\n",
      "Ep[70] loss:0.002 acc:1.000:   4%|███▏                                                                                    | 20/550 [00:00<00:02, 198.02it/s]"
     ]
    },
    {
     "name": "stdout",
     "output_type": "stream",
     "text": [
      "Epoch 69 Val loss:0.0379 acc:0.9760\n"
     ]
    },
    {
     "name": "stderr",
     "output_type": "stream",
     "text": [
      "Ep[70] loss:0.004 acc:1.000: 100%|███████████████████████████████████████████████████████████████████████████████████████| 550/550 [00:02<00:00, 189.00it/s]\n",
      "Ep[71] loss:0.001 acc:1.000:   3%|███                                                                                     | 19/550 [00:00<00:02, 182.69it/s]"
     ]
    },
    {
     "name": "stdout",
     "output_type": "stream",
     "text": [
      "Epoch 70 Val loss:0.0377 acc:0.9760\n"
     ]
    },
    {
     "name": "stderr",
     "output_type": "stream",
     "text": [
      "Ep[71] loss:0.004 acc:1.000: 100%|███████████████████████████████████████████████████████████████████████████████████████| 550/550 [00:02<00:00, 190.18it/s]\n",
      "Ep[72] loss:0.002 acc:1.000:   4%|███▏                                                                                    | 20/550 [00:00<00:02, 194.17it/s]"
     ]
    },
    {
     "name": "stdout",
     "output_type": "stream",
     "text": [
      "Epoch 71 Val loss:0.0377 acc:0.9760\n"
     ]
    },
    {
     "name": "stderr",
     "output_type": "stream",
     "text": [
      "Ep[72] loss:0.004 acc:1.000: 100%|███████████████████████████████████████████████████████████████████████████████████████| 550/550 [00:03<00:00, 181.04it/s]\n",
      "Ep[73] loss:0.004 acc:1.000:   3%|██▉                                                                                     | 18/550 [00:00<00:03, 176.47it/s]"
     ]
    },
    {
     "name": "stdout",
     "output_type": "stream",
     "text": [
      "Epoch 72 Val loss:0.0388 acc:0.9758\n"
     ]
    },
    {
     "name": "stderr",
     "output_type": "stream",
     "text": [
      "Ep[73] loss:0.004 acc:1.000: 100%|███████████████████████████████████████████████████████████████████████████████████████| 550/550 [00:02<00:00, 191.50it/s]\n",
      "Ep[74] loss:0.002 acc:1.000:   4%|███▏                                                                                    | 20/550 [00:00<00:02, 194.17it/s]"
     ]
    },
    {
     "name": "stdout",
     "output_type": "stream",
     "text": [
      "Epoch 73 Val loss:0.0385 acc:0.9760\n"
     ]
    },
    {
     "name": "stderr",
     "output_type": "stream",
     "text": [
      "Ep[74] loss:0.004 acc:1.000: 100%|███████████████████████████████████████████████████████████████████████████████████████| 550/550 [00:02<00:00, 187.20it/s]\n",
      "Ep[75] loss:0.002 acc:1.000:   4%|███▏                                                                                    | 20/550 [00:00<00:02, 190.48it/s]"
     ]
    },
    {
     "name": "stdout",
     "output_type": "stream",
     "text": [
      "Epoch 74 Val loss:0.0386 acc:0.9758\n"
     ]
    },
    {
     "name": "stderr",
     "output_type": "stream",
     "text": [
      "Ep[75] loss:0.004 acc:1.000: 100%|███████████████████████████████████████████████████████████████████████████████████████| 550/550 [00:02<00:00, 185.25it/s]\n",
      "Ep[76] loss:0.002 acc:1.000:   3%|███                                                                                     | 19/550 [00:00<00:02, 189.99it/s]"
     ]
    },
    {
     "name": "stdout",
     "output_type": "stream",
     "text": [
      "Epoch 75 Val loss:0.0383 acc:0.9758\n"
     ]
    },
    {
     "name": "stderr",
     "output_type": "stream",
     "text": [
      "Ep[76] loss:0.004 acc:1.000: 100%|███████████████████████████████████████████████████████████████████████████████████████| 550/550 [00:02<00:00, 188.87it/s]\n",
      "Ep[77] loss:0.003 acc:1.000:   3%|███                                                                                     | 19/550 [00:00<00:02, 182.69it/s]"
     ]
    },
    {
     "name": "stdout",
     "output_type": "stream",
     "text": [
      "Epoch 76 Val loss:0.0390 acc:0.9758\n"
     ]
    },
    {
     "name": "stderr",
     "output_type": "stream",
     "text": [
      "Ep[77] loss:0.004 acc:1.000: 100%|███████████████████████████████████████████████████████████████████████████████████████| 550/550 [00:02<00:00, 185.50it/s]\n",
      "Ep[78] loss:0.003 acc:1.000:   4%|███▏                                                                                    | 20/550 [00:00<00:02, 196.08it/s]"
     ]
    },
    {
     "name": "stdout",
     "output_type": "stream",
     "text": [
      "Epoch 77 Val loss:0.0389 acc:0.9760\n"
     ]
    },
    {
     "name": "stderr",
     "output_type": "stream",
     "text": [
      "Ep[78] loss:0.004 acc:1.000: 100%|███████████████████████████████████████████████████████████████████████████████████████| 550/550 [00:02<00:00, 185.06it/s]\n",
      "Ep[79] loss:0.003 acc:1.000:   3%|███                                                                                     | 19/550 [00:00<00:02, 186.27it/s]"
     ]
    },
    {
     "name": "stdout",
     "output_type": "stream",
     "text": [
      "Epoch 78 Val loss:0.0389 acc:0.9760\n"
     ]
    },
    {
     "name": "stderr",
     "output_type": "stream",
     "text": [
      "Ep[79] loss:0.003 acc:1.000: 100%|███████████████████████████████████████████████████████████████████████████████████████| 550/550 [00:02<00:00, 184.38it/s]\n",
      "Ep[80] loss:0.003 acc:1.000:   3%|███                                                                                     | 19/550 [00:00<00:02, 186.27it/s]"
     ]
    },
    {
     "name": "stdout",
     "output_type": "stream",
     "text": [
      "Epoch 79 Val loss:0.0397 acc:0.9760\n"
     ]
    },
    {
     "name": "stderr",
     "output_type": "stream",
     "text": [
      "Ep[80] loss:0.003 acc:1.000: 100%|███████████████████████████████████████████████████████████████████████████████████████| 550/550 [00:02<00:00, 187.20it/s]\n",
      "Ep[81] loss:0.003 acc:1.000:   3%|███                                                                                     | 19/550 [00:00<00:02, 184.46it/s]"
     ]
    },
    {
     "name": "stdout",
     "output_type": "stream",
     "text": [
      "Epoch 80 Val loss:0.0395 acc:0.9758\n"
     ]
    },
    {
     "name": "stderr",
     "output_type": "stream",
     "text": [
      "Ep[81] loss:0.003 acc:1.000: 100%|███████████████████████████████████████████████████████████████████████████████████████| 550/550 [00:02<00:00, 185.75it/s]\n",
      "Ep[82] loss:0.002 acc:1.000:   4%|███▏                                                                                    | 20/550 [00:00<00:02, 192.31it/s]"
     ]
    },
    {
     "name": "stdout",
     "output_type": "stream",
     "text": [
      "Epoch 81 Val loss:0.0400 acc:0.9758\n"
     ]
    },
    {
     "name": "stderr",
     "output_type": "stream",
     "text": [
      "Ep[82] loss:0.003 acc:1.000: 100%|███████████████████████████████████████████████████████████████████████████████████████| 550/550 [00:03<00:00, 182.30it/s]\n",
      "Ep[83] loss:0.002 acc:1.000:   3%|███                                                                                     | 19/550 [00:00<00:02, 184.47it/s]"
     ]
    },
    {
     "name": "stdout",
     "output_type": "stream",
     "text": [
      "Epoch 82 Val loss:0.0397 acc:0.9758\n"
     ]
    },
    {
     "name": "stderr",
     "output_type": "stream",
     "text": [
      "Ep[83] loss:0.003 acc:1.000: 100%|███████████████████████████████████████████████████████████████████████████████████████| 550/550 [00:02<00:00, 184.87it/s]\n",
      "Ep[84] loss:0.002 acc:1.000:   4%|███▏                                                                                    | 20/550 [00:00<00:02, 198.01it/s]"
     ]
    },
    {
     "name": "stdout",
     "output_type": "stream",
     "text": [
      "Epoch 83 Val loss:0.0401 acc:0.9758\n"
     ]
    },
    {
     "name": "stderr",
     "output_type": "stream",
     "text": [
      "Ep[84] loss:0.003 acc:1.000: 100%|███████████████████████████████████████████████████████████████████████████████████████| 550/550 [00:03<00:00, 182.85it/s]\n",
      "Ep[85] loss:0.003 acc:1.000:   4%|███▌                                                                                    | 22/550 [00:00<00:02, 215.69it/s]"
     ]
    },
    {
     "name": "stdout",
     "output_type": "stream",
     "text": [
      "Epoch 84 Val loss:0.0403 acc:0.9756\n"
     ]
    },
    {
     "name": "stderr",
     "output_type": "stream",
     "text": [
      "Ep[85] loss:0.003 acc:1.000: 100%|███████████████████████████████████████████████████████████████████████████████████████| 550/550 [00:03<00:00, 180.68it/s]\n",
      "Ep[86] loss:0.002 acc:1.000:   3%|███                                                                                     | 19/550 [00:00<00:02, 188.12it/s]"
     ]
    },
    {
     "name": "stdout",
     "output_type": "stream",
     "text": [
      "Epoch 85 Val loss:0.0405 acc:0.9758\n"
     ]
    },
    {
     "name": "stderr",
     "output_type": "stream",
     "text": [
      "Ep[86] loss:0.003 acc:1.000: 100%|███████████████████████████████████████████████████████████████████████████████████████| 550/550 [00:03<00:00, 182.24it/s]\n",
      "Ep[87] loss:0.002 acc:1.000:   3%|██▉                                                                                     | 18/550 [00:00<00:03, 174.76it/s]"
     ]
    },
    {
     "name": "stdout",
     "output_type": "stream",
     "text": [
      "Epoch 86 Val loss:0.0410 acc:0.9754\n"
     ]
    },
    {
     "name": "stderr",
     "output_type": "stream",
     "text": [
      "Ep[87] loss:0.003 acc:1.000: 100%|███████████████████████████████████████████████████████████████████████████████████████| 550/550 [00:02<00:00, 186.57it/s]\n",
      "Ep[88] loss:0.002 acc:1.000:   4%|███▏                                                                                    | 20/550 [00:00<00:02, 200.00it/s]"
     ]
    },
    {
     "name": "stdout",
     "output_type": "stream",
     "text": [
      "Epoch 87 Val loss:0.0409 acc:0.9754\n"
     ]
    },
    {
     "name": "stderr",
     "output_type": "stream",
     "text": [
      "Ep[88] loss:0.003 acc:1.000: 100%|███████████████████████████████████████████████████████████████████████████████████████| 550/550 [00:03<00:00, 182.12it/s]\n",
      "Ep[89] loss:0.003 acc:1.000:   3%|███                                                                                     | 19/550 [00:00<00:02, 180.95it/s]"
     ]
    },
    {
     "name": "stdout",
     "output_type": "stream",
     "text": [
      "Epoch 88 Val loss:0.0412 acc:0.9754\n"
     ]
    },
    {
     "name": "stderr",
     "output_type": "stream",
     "text": [
      "Ep[89] loss:0.003 acc:1.000: 100%|███████████████████████████████████████████████████████████████████████████████████████| 550/550 [00:02<00:00, 184.63it/s]\n",
      "Ep[90] loss:0.001 acc:1.000:   3%|███                                                                                     | 19/550 [00:00<00:02, 186.27it/s]"
     ]
    },
    {
     "name": "stdout",
     "output_type": "stream",
     "text": [
      "Epoch 89 Val loss:0.0413 acc:0.9750\n"
     ]
    },
    {
     "name": "stderr",
     "output_type": "stream",
     "text": [
      "Ep[90] loss:0.003 acc:1.000: 100%|███████████████████████████████████████████████████████████████████████████████████████| 550/550 [00:02<00:00, 184.01it/s]\n",
      "Ep[91] loss:0.002 acc:1.000:   3%|██▉                                                                                     | 18/550 [00:00<00:02, 178.21it/s]"
     ]
    },
    {
     "name": "stdout",
     "output_type": "stream",
     "text": [
      "Epoch 90 Val loss:0.0415 acc:0.9748\n"
     ]
    },
    {
     "name": "stderr",
     "output_type": "stream",
     "text": [
      "Ep[91] loss:0.003 acc:1.000: 100%|███████████████████████████████████████████████████████████████████████████████████████| 550/550 [00:03<00:00, 179.15it/s]\n",
      "Ep[92] loss:0.001 acc:1.000:   3%|███                                                                                     | 19/550 [00:00<00:02, 188.11it/s]"
     ]
    },
    {
     "name": "stdout",
     "output_type": "stream",
     "text": [
      "Epoch 91 Val loss:0.0420 acc:0.9746\n"
     ]
    },
    {
     "name": "stderr",
     "output_type": "stream",
     "text": [
      "Ep[92] loss:0.003 acc:1.000: 100%|███████████████████████████████████████████████████████████████████████████████████████| 550/550 [00:02<00:00, 184.69it/s]\n",
      "Ep[93] loss:0.001 acc:1.000:   3%|███                                                                                     | 19/550 [00:00<00:02, 180.95it/s]"
     ]
    },
    {
     "name": "stdout",
     "output_type": "stream",
     "text": [
      "Epoch 92 Val loss:0.0421 acc:0.9746\n"
     ]
    },
    {
     "name": "stderr",
     "output_type": "stream",
     "text": [
      "Ep[93] loss:0.003 acc:1.000: 100%|███████████████████████████████████████████████████████████████████████████████████████| 550/550 [00:02<00:00, 183.76it/s]\n",
      "Ep[94] loss:0.001 acc:1.000:   3%|██▉                                                                                     | 18/550 [00:00<00:02, 180.00it/s]"
     ]
    },
    {
     "name": "stdout",
     "output_type": "stream",
     "text": [
      "Epoch 93 Val loss:0.0420 acc:0.9746\n"
     ]
    },
    {
     "name": "stderr",
     "output_type": "stream",
     "text": [
      "Ep[94] loss:0.003 acc:1.000: 100%|███████████████████████████████████████████████████████████████████████████████████████| 550/550 [00:03<00:00, 163.89it/s]\n",
      "Ep[95] loss:0.001 acc:1.000:   3%|███                                                                                     | 19/550 [00:00<00:02, 186.27it/s]"
     ]
    },
    {
     "name": "stdout",
     "output_type": "stream",
     "text": [
      "Epoch 94 Val loss:0.0429 acc:0.9746\n"
     ]
    },
    {
     "name": "stderr",
     "output_type": "stream",
     "text": [
      "Ep[95] loss:0.003 acc:1.000: 100%|███████████████████████████████████████████████████████████████████████████████████████| 550/550 [00:02<00:00, 185.50it/s]\n",
      "Ep[96] loss:0.003 acc:1.000:   3%|███                                                                                     | 19/550 [00:00<00:02, 182.69it/s]"
     ]
    },
    {
     "name": "stdout",
     "output_type": "stream",
     "text": [
      "Epoch 95 Val loss:0.0425 acc:0.9748\n"
     ]
    },
    {
     "name": "stderr",
     "output_type": "stream",
     "text": [
      "Ep[96] loss:0.003 acc:1.000: 100%|███████████████████████████████████████████████████████████████████████████████████████| 550/550 [00:03<00:00, 180.27it/s]\n",
      "Ep[97] loss:0.002 acc:1.000:   3%|███                                                                                     | 19/550 [00:00<00:02, 182.69it/s]"
     ]
    },
    {
     "name": "stdout",
     "output_type": "stream",
     "text": [
      "Epoch 96 Val loss:0.0429 acc:0.9748\n"
     ]
    },
    {
     "name": "stderr",
     "output_type": "stream",
     "text": [
      "Ep[97] loss:0.002 acc:1.000: 100%|███████████████████████████████████████████████████████████████████████████████████████| 550/550 [00:03<00:00, 182.85it/s]\n",
      "Ep[98] loss:0.002 acc:1.000:   3%|███                                                                                     | 19/550 [00:00<00:02, 184.46it/s]"
     ]
    },
    {
     "name": "stdout",
     "output_type": "stream",
     "text": [
      "Epoch 97 Val loss:0.0435 acc:0.9748\n"
     ]
    },
    {
     "name": "stderr",
     "output_type": "stream",
     "text": [
      "Ep[98] loss:0.002 acc:1.000: 100%|███████████████████████████████████████████████████████████████████████████████████████| 550/550 [00:03<00:00, 181.16it/s]\n",
      "Ep[99] loss:0.001 acc:1.000:   4%|███▏                                                                                    | 20/550 [00:00<00:02, 190.48it/s]"
     ]
    },
    {
     "name": "stdout",
     "output_type": "stream",
     "text": [
      "Epoch 98 Val loss:0.0433 acc:0.9748\n"
     ]
    },
    {
     "name": "stderr",
     "output_type": "stream",
     "text": [
      "Ep[99] loss:0.002 acc:1.000: 100%|███████████████████████████████████████████████████████████████████████████████████████| 550/550 [00:03<00:00, 182.54it/s]\n",
      "Ep[100] loss:0.002 acc:1.000:   3%|███                                                                                    | 19/550 [00:00<00:02, 184.46it/s]"
     ]
    },
    {
     "name": "stdout",
     "output_type": "stream",
     "text": [
      "Epoch 99 Val loss:0.0434 acc:0.9750\n"
     ]
    },
    {
     "name": "stderr",
     "output_type": "stream",
     "text": [
      "Ep[100] loss:0.002 acc:1.000: 100%|██████████████████████████████████████████████████████████████████████████████████████| 550/550 [00:02<00:00, 186.13it/s]\n",
      "Ep[101] loss:0.001 acc:1.000:   3%|███                                                                                    | 19/550 [00:00<00:02, 188.11it/s]"
     ]
    },
    {
     "name": "stdout",
     "output_type": "stream",
     "text": [
      "Epoch 100 Val loss:0.0438 acc:0.9748\n"
     ]
    },
    {
     "name": "stderr",
     "output_type": "stream",
     "text": [
      "Ep[101] loss:0.002 acc:1.000: 100%|██████████████████████████████████████████████████████████████████████████████████████| 550/550 [00:03<00:00, 177.65it/s]\n",
      "Ep[102] loss:0.002 acc:1.000:   3%|██▋                                                                                    | 17/550 [00:00<00:03, 170.00it/s]"
     ]
    },
    {
     "name": "stdout",
     "output_type": "stream",
     "text": [
      "Epoch 101 Val loss:0.0440 acc:0.9750\n"
     ]
    },
    {
     "name": "stderr",
     "output_type": "stream",
     "text": [
      "Ep[102] loss:0.002 acc:1.000: 100%|██████████████████████████████████████████████████████████████████████████████████████| 550/550 [00:03<00:00, 182.78it/s]\n",
      "Ep[103] loss:0.002 acc:1.000:   3%|███                                                                                    | 19/550 [00:00<00:02, 179.25it/s]"
     ]
    },
    {
     "name": "stdout",
     "output_type": "stream",
     "text": [
      "Epoch 102 Val loss:0.0440 acc:0.9748\n"
     ]
    },
    {
     "name": "stderr",
     "output_type": "stream",
     "text": [
      "Ep[103] loss:0.002 acc:1.000: 100%|██████████████████████████████████████████████████████████████████████████████████████| 550/550 [00:03<00:00, 178.92it/s]\n",
      "Ep[104] loss:0.002 acc:1.000:   3%|██▋                                                                                    | 17/550 [00:00<00:03, 163.46it/s]"
     ]
    },
    {
     "name": "stdout",
     "output_type": "stream",
     "text": [
      "Epoch 103 Val loss:0.0439 acc:0.9750\n"
     ]
    },
    {
     "name": "stderr",
     "output_type": "stream",
     "text": [
      "Ep[104] loss:0.002 acc:1.000: 100%|██████████████████████████████████████████████████████████████████████████████████████| 550/550 [00:03<00:00, 162.63it/s]\n",
      "Ep[105] loss:0.001 acc:1.000:   3%|██▊                                                                                    | 18/550 [00:00<00:03, 176.46it/s]"
     ]
    },
    {
     "name": "stdout",
     "output_type": "stream",
     "text": [
      "Epoch 104 Val loss:0.0446 acc:0.9748\n"
     ]
    },
    {
     "name": "stderr",
     "output_type": "stream",
     "text": [
      "Ep[105] loss:0.002 acc:1.000: 100%|██████████████████████████████████████████████████████████████████████████████████████| 550/550 [00:03<00:00, 179.91it/s]\n",
      "Ep[106] loss:0.001 acc:1.000:   3%|██▊                                                                                    | 18/550 [00:00<00:02, 179.99it/s]"
     ]
    },
    {
     "name": "stdout",
     "output_type": "stream",
     "text": [
      "Epoch 105 Val loss:0.0448 acc:0.9750\n"
     ]
    },
    {
     "name": "stderr",
     "output_type": "stream",
     "text": [
      "Ep[106] loss:0.002 acc:1.000: 100%|██████████████████████████████████████████████████████████████████████████████████████| 550/550 [00:03<00:00, 177.65it/s]\n",
      "Ep[107] loss:0.002 acc:1.000:   3%|███                                                                                    | 19/550 [00:00<00:02, 180.96it/s]"
     ]
    },
    {
     "name": "stdout",
     "output_type": "stream",
     "text": [
      "Epoch 106 Val loss:0.0446 acc:0.9750\n"
     ]
    },
    {
     "name": "stderr",
     "output_type": "stream",
     "text": [
      "Ep[107] loss:0.002 acc:1.000: 100%|██████████████████████████████████████████████████████████████████████████████████████| 550/550 [00:03<00:00, 168.25it/s]\n",
      "Ep[108] loss:0.002 acc:1.000:   3%|██▊                                                                                    | 18/550 [00:00<00:03, 176.46it/s]"
     ]
    },
    {
     "name": "stdout",
     "output_type": "stream",
     "text": [
      "Epoch 107 Val loss:0.0446 acc:0.9748\n"
     ]
    },
    {
     "name": "stderr",
     "output_type": "stream",
     "text": [
      "Ep[108] loss:0.002 acc:1.000: 100%|██████████████████████████████████████████████████████████████████████████████████████| 550/550 [00:03<00:00, 174.05it/s]\n",
      "Ep[109] loss:0.002 acc:1.000:   3%|██▊                                                                                    | 18/550 [00:00<00:02, 178.21it/s]"
     ]
    },
    {
     "name": "stdout",
     "output_type": "stream",
     "text": [
      "Epoch 108 Val loss:0.0452 acc:0.9748\n"
     ]
    },
    {
     "name": "stderr",
     "output_type": "stream",
     "text": [
      "Ep[109] loss:0.002 acc:1.000: 100%|██████████████████████████████████████████████████████████████████████████████████████| 550/550 [00:03<00:00, 177.59it/s]\n",
      "Ep[110] loss:0.002 acc:1.000:   3%|██▊                                                                                    | 18/550 [00:00<00:02, 178.22it/s]"
     ]
    },
    {
     "name": "stdout",
     "output_type": "stream",
     "text": [
      "Epoch 109 Val loss:0.0451 acc:0.9748\n"
     ]
    },
    {
     "name": "stderr",
     "output_type": "stream",
     "text": [
      "Ep[110] loss:0.002 acc:1.000: 100%|██████████████████████████████████████████████████████████████████████████████████████| 550/550 [00:03<00:00, 173.34it/s]\n",
      "Ep[111] loss:0.001 acc:1.000:   3%|███                                                                                    | 19/550 [00:00<00:02, 182.69it/s]"
     ]
    },
    {
     "name": "stdout",
     "output_type": "stream",
     "text": [
      "Epoch 110 Val loss:0.0453 acc:0.9750\n"
     ]
    },
    {
     "name": "stderr",
     "output_type": "stream",
     "text": [
      "Ep[111] loss:0.002 acc:1.000: 100%|██████████████████████████████████████████████████████████████████████████████████████| 550/550 [00:03<00:00, 172.74it/s]\n",
      "Ep[112] loss:0.002 acc:1.000:   3%|██▊                                                                                    | 18/550 [00:00<00:03, 169.82it/s]"
     ]
    },
    {
     "name": "stdout",
     "output_type": "stream",
     "text": [
      "Epoch 111 Val loss:0.0457 acc:0.9748\n"
     ]
    },
    {
     "name": "stderr",
     "output_type": "stream",
     "text": [
      "Ep[112] loss:0.002 acc:1.000: 100%|██████████████████████████████████████████████████████████████████████████████████████| 550/550 [00:03<00:00, 175.49it/s]\n",
      "Ep[113] loss:0.001 acc:1.000:   3%|██▊                                                                                    | 18/550 [00:00<00:02, 178.22it/s]"
     ]
    },
    {
     "name": "stdout",
     "output_type": "stream",
     "text": [
      "Epoch 112 Val loss:0.0451 acc:0.9746\n"
     ]
    },
    {
     "name": "stderr",
     "output_type": "stream",
     "text": [
      "Ep[113] loss:0.002 acc:1.000: 100%|██████████████████████████████████████████████████████████████████████████████████████| 550/550 [00:03<00:00, 171.55it/s]\n",
      "Ep[114] loss:0.001 acc:1.000:   3%|██▊                                                                                    | 18/550 [00:00<00:03, 173.07it/s]"
     ]
    },
    {
     "name": "stdout",
     "output_type": "stream",
     "text": [
      "Epoch 113 Val loss:0.0456 acc:0.9748\n"
     ]
    },
    {
     "name": "stderr",
     "output_type": "stream",
     "text": [
      "Ep[114] loss:0.002 acc:1.000: 100%|██████████████████████████████████████████████████████████████████████████████████████| 550/550 [00:03<00:00, 176.85it/s]\n",
      "Ep[115] loss:0.002 acc:1.000:   3%|██▊                                                                                    | 18/550 [00:00<00:03, 173.08it/s]"
     ]
    },
    {
     "name": "stdout",
     "output_type": "stream",
     "text": [
      "Epoch 114 Val loss:0.0460 acc:0.9748\n"
     ]
    },
    {
     "name": "stderr",
     "output_type": "stream",
     "text": [
      "Ep[115] loss:0.002 acc:1.000: 100%|██████████████████████████████████████████████████████████████████████████████████████| 550/550 [00:03<00:00, 175.38it/s]\n",
      "Ep[116] loss:0.001 acc:1.000:   3%|██▊                                                                                    | 18/550 [00:00<00:03, 176.47it/s]"
     ]
    },
    {
     "name": "stdout",
     "output_type": "stream",
     "text": [
      "Epoch 115 Val loss:0.0458 acc:0.9746\n"
     ]
    },
    {
     "name": "stderr",
     "output_type": "stream",
     "text": [
      "Ep[116] loss:0.002 acc:1.000: 100%|██████████████████████████████████████████████████████████████████████████████████████| 550/550 [00:03<00:00, 175.94it/s]\n",
      "Ep[117] loss:0.000 acc:1.000:   3%|██▋                                                                                    | 17/550 [00:00<00:03, 168.31it/s]"
     ]
    },
    {
     "name": "stdout",
     "output_type": "stream",
     "text": [
      "Epoch 116 Val loss:0.0461 acc:0.9748\n"
     ]
    },
    {
     "name": "stderr",
     "output_type": "stream",
     "text": [
      "Ep[117] loss:0.002 acc:1.000: 100%|██████████████████████████████████████████████████████████████████████████████████████| 550/550 [00:03<00:00, 172.85it/s]\n",
      "Ep[118] loss:0.002 acc:1.000:   3%|██▋                                                                                    | 17/550 [00:00<00:03, 170.00it/s]"
     ]
    },
    {
     "name": "stdout",
     "output_type": "stream",
     "text": [
      "Epoch 117 Val loss:0.0462 acc:0.9748\n"
     ]
    },
    {
     "name": "stderr",
     "output_type": "stream",
     "text": [
      "Ep[118] loss:0.002 acc:1.000: 100%|██████████████████████████████████████████████████████████████████████████████████████| 550/550 [00:03<00:00, 174.05it/s]\n",
      "Ep[119] loss:0.001 acc:1.000:   3%|██▊                                                                                    | 18/550 [00:00<00:03, 173.08it/s]"
     ]
    },
    {
     "name": "stdout",
     "output_type": "stream",
     "text": [
      "Epoch 118 Val loss:0.0463 acc:0.9746\n"
     ]
    },
    {
     "name": "stderr",
     "output_type": "stream",
     "text": [
      "Ep[119] loss:0.002 acc:1.000: 100%|██████████████████████████████████████████████████████████████████████████████████████| 550/550 [00:03<00:00, 173.94it/s]\n",
      "Ep[120] loss:0.001 acc:1.000:   3%|██▊                                                                                    | 18/550 [00:00<00:03, 174.76it/s]"
     ]
    },
    {
     "name": "stdout",
     "output_type": "stream",
     "text": [
      "Epoch 119 Val loss:0.0465 acc:0.9746\n"
     ]
    },
    {
     "name": "stderr",
     "output_type": "stream",
     "text": [
      "Ep[120] loss:0.002 acc:1.000: 100%|██████████████████████████████████████████████████████████████████████████████████████| 550/550 [00:03<00:00, 170.33it/s]\n",
      "Ep[121] loss:0.001 acc:1.000:   3%|██▊                                                                                    | 18/550 [00:00<00:02, 178.22it/s]"
     ]
    },
    {
     "name": "stdout",
     "output_type": "stream",
     "text": [
      "Epoch 120 Val loss:0.0466 acc:0.9746\n"
     ]
    },
    {
     "name": "stderr",
     "output_type": "stream",
     "text": [
      "Ep[121] loss:0.002 acc:1.000: 100%|██████████████████████████████████████████████████████████████████████████████████████| 550/550 [00:03<00:00, 172.79it/s]\n",
      "Ep[122] loss:0.001 acc:1.000:   3%|██▋                                                                                    | 17/550 [00:00<00:03, 168.32it/s]"
     ]
    },
    {
     "name": "stdout",
     "output_type": "stream",
     "text": [
      "Epoch 121 Val loss:0.0468 acc:0.9746\n"
     ]
    },
    {
     "name": "stderr",
     "output_type": "stream",
     "text": [
      "Ep[122] loss:0.002 acc:1.000: 100%|██████████████████████████████████████████████████████████████████████████████████████| 550/550 [00:03<00:00, 172.68it/s]\n",
      "Ep[123] loss:0.001 acc:1.000:   3%|██▊                                                                                    | 18/550 [00:00<00:03, 169.81it/s]"
     ]
    },
    {
     "name": "stdout",
     "output_type": "stream",
     "text": [
      "Epoch 122 Val loss:0.0467 acc:0.9746\n"
     ]
    },
    {
     "name": "stderr",
     "output_type": "stream",
     "text": [
      "Ep[123] loss:0.002 acc:1.000: 100%|██████████████████████████████████████████████████████████████████████████████████████| 550/550 [00:03<00:00, 168.56it/s]\n",
      "Ep[124] loss:0.001 acc:1.000:   3%|███                                                                                    | 19/550 [00:00<00:02, 182.69it/s]"
     ]
    },
    {
     "name": "stdout",
     "output_type": "stream",
     "text": [
      "Epoch 123 Val loss:0.0468 acc:0.9746\n"
     ]
    },
    {
     "name": "stderr",
     "output_type": "stream",
     "text": [
      "Ep[124] loss:0.002 acc:1.000: 100%|██████████████████████████████████████████████████████████████████████████████████████| 550/550 [00:03<00:00, 172.25it/s]\n",
      "Ep[125] loss:0.002 acc:1.000:   3%|███                                                                                    | 19/550 [00:00<00:02, 184.47it/s]"
     ]
    },
    {
     "name": "stdout",
     "output_type": "stream",
     "text": [
      "Epoch 124 Val loss:0.0468 acc:0.9746\n"
     ]
    },
    {
     "name": "stderr",
     "output_type": "stream",
     "text": [
      "Ep[125] loss:0.002 acc:1.000: 100%|██████████████████████████████████████████████████████████████████████████████████████| 550/550 [00:03<00:00, 172.36it/s]\n",
      "Ep[126] loss:0.001 acc:1.000:   3%|██▊                                                                                    | 18/550 [00:00<00:02, 180.00it/s]"
     ]
    },
    {
     "name": "stdout",
     "output_type": "stream",
     "text": [
      "Epoch 125 Val loss:0.0469 acc:0.9746\n"
     ]
    },
    {
     "name": "stderr",
     "output_type": "stream",
     "text": [
      "Ep[126] loss:0.002 acc:1.000: 100%|██████████████████████████████████████████████████████████████████████████████████████| 550/550 [00:03<00:00, 166.82it/s]\n",
      "Ep[127] loss:0.002 acc:1.000:   3%|███                                                                                    | 19/550 [00:00<00:02, 184.47it/s]"
     ]
    },
    {
     "name": "stdout",
     "output_type": "stream",
     "text": [
      "Epoch 126 Val loss:0.0471 acc:0.9746\n"
     ]
    },
    {
     "name": "stderr",
     "output_type": "stream",
     "text": [
      "Ep[127] loss:0.002 acc:1.000: 100%|██████████████████████████████████████████████████████████████████████████████████████| 550/550 [00:03<00:00, 171.88it/s]\n"
     ]
    },
    {
     "name": "stdout",
     "output_type": "stream",
     "text": [
      "Epoch 127 Val loss:0.0470 acc:0.9746\n",
      "\n",
      "Test acc is 0.9765\n",
      "\n",
      "[0.24789480437784334, 0.19341739344221626, 0.15747126990216306, 0.1368083481878584, 0.12332701532667699, 0.1137080695577015, 0.10740443063326505, 0.10024641212661439, 0.09374810337488582, 0.08642985688042987, 0.08118296746985473, 0.07483678200382399, 0.06902395242111549, 0.064084217581506, 0.05849638304731499, 0.05498684512759508, 0.05077399415655304, 0.0477395177757033, 0.043903652433728395, 0.04091156244743784, 0.03866728694607379, 0.03739216008946095, 0.03589018400887602, 0.03428595572793015, 0.03319469851339126, 0.032292164860152364, 0.031040348322778705, 0.029892223407423448, 0.028525524085126635, 0.02690001899595285, 0.024568734836511653, 0.023200568334181066, 0.022281337829043978, 0.021096865431132275, 0.020961722858525864, 0.020404723364173528, 0.019970780689273035, 0.01968446387090695, 0.019804864417653233, 0.0201714826550506, 0.01971588474327546, 0.020209020494921476, 0.020559374445112914, 0.02093802490645674, 0.02127142852135533, 0.021606213577412166, 0.022209065755648502, 0.023005666996771545, 0.023847571562657714, 0.02453182471701668, 0.024461099883010325, 0.026879610018160655, 0.026639828501417023, 0.027404460764101583, 0.028653842923763294, 0.028624136880206607, 0.02966193152580941, 0.030268425281302854, 0.030968916285583802, 0.0324061638658379, 0.03225336619111432, 0.032706205014566773, 0.0346538188537249, 0.03374610676023491, 0.034924749582472006, 0.03525358764865166, 0.03583976409521699, 0.03660063077348747, 0.03739921820484831, 0.037945308127409656, 0.037704601901714235, 0.03774513572565586, 0.0388103453601618, 0.03846743806229283, 0.038608319894485266, 0.038304858258411685, 0.039025418179651605, 0.03886637765849073, 0.03891288300383613, 0.03966988856652632, 0.03947591518389955, 0.03996926386834022, 0.03972913945979691, 0.040074413041076756, 0.0402673560821343, 0.04050981212417096, 0.040984153560898094, 0.0409113130211113, 0.04121405632430109, 0.04126258946794747, 0.04154259732353217, 0.04195582951962856, 0.04210124397583481, 0.041959763012276205, 0.04291150707925458, 0.04252418388091814, 0.04285832022455104, 0.04345108158709121, 0.04331034612374294, 0.04340298999377124, 0.043762990397726916, 0.043951884620052804, 0.04402436995979868, 0.04389207516302544, 0.04456211354829781, 0.0447977660583794, 0.044624884969758014, 0.044567168971197946, 0.045172643759877014, 0.045061849111346676, 0.045252633050042526, 0.04565823371787935, 0.045105305404324975, 0.0456477334676624, 0.04597209278997005, 0.045830699174231285, 0.04613904948012948, 0.04621788419947571, 0.04633968533305035, 0.04649305879747649, 0.04664463926742062, 0.04675242100899224, 0.04670804296193261, 0.04676703966461254, 0.04678509237579592, 0.04689803378571801, 0.04714040938985062, 0.04696515056504262] [0.9364, 0.951, 0.9588, 0.9624, 0.9648, 0.9656, 0.9666, 0.9672, 0.968, 0.9698, 0.9704, 0.9716, 0.9726, 0.9728, 0.9732, 0.973, 0.9726, 0.9736, 0.9738, 0.9736, 0.9732, 0.9736, 0.9736, 0.9736, 0.9736, 0.9738, 0.9738, 0.9738, 0.9742, 0.9744, 0.9744, 0.9748, 0.9744, 0.9748, 0.9744, 0.9748, 0.9748, 0.975, 0.975, 0.9748, 0.975, 0.9754, 0.9756, 0.9756, 0.9756, 0.9756, 0.9754, 0.9754, 0.9758, 0.9756, 0.976, 0.976, 0.9762, 0.9762, 0.9764, 0.9762, 0.9766, 0.9762, 0.9764, 0.9762, 0.9762, 0.9762, 0.9762, 0.9762, 0.976, 0.976, 0.976, 0.976, 0.976, 0.976, 0.976, 0.976, 0.9758, 0.976, 0.9758, 0.9758, 0.9758, 0.976, 0.976, 0.976, 0.9758, 0.9758, 0.9758, 0.9758, 0.9756, 0.9758, 0.9754, 0.9754, 0.9754, 0.975, 0.9748, 0.9746, 0.9746, 0.9746, 0.9746, 0.9748, 0.9748, 0.9748, 0.9748, 0.975, 0.9748, 0.975, 0.9748, 0.975, 0.9748, 0.975, 0.975, 0.9748, 0.9748, 0.9748, 0.975, 0.9748, 0.9746, 0.9748, 0.9748, 0.9746, 0.9748, 0.9748, 0.9746, 0.9746, 0.9746, 0.9746, 0.9746, 0.9746, 0.9746, 0.9746, 0.9746, 0.9746]\n"
     ]
    },
    {
     "data": {
      "image/png": "[encoded data removed]",
      "text/plain": [
       "<Figure size 864x288 with 2 Axes>"
      ]
     },
     "metadata": {
      "needs_background": "light"
     },
     "output_type": "display_data"
    }
   ],
   "source": [
    "run_exp()"
   ]
  },
  {
   "cell_type": "code",
   "execution_count": 36,
   "metadata": {},
   "outputs": [
    {
     "name": "stderr",
     "output_type": "stream",
     "text": [
      "Ep[0] loss:0.534 acc:0.840: 100%|████████████████████████████████████████████████████████████████████████████████████████| 550/550 [00:02<00:00, 196.22it/s]\n",
      "C:\\Users\\thisi\\Anaconda3\\lib\\site-packages\\ipykernel_launcher.py:36: RuntimeWarning: invalid value encountered in log\n",
      "Ep[1] loss:0.175 acc:0.960:   4%|███▌                                                                                     | 22/550 [00:00<00:02, 213.58it/s]"
     ]
    },
    {
     "name": "stdout",
     "output_type": "stream",
     "text": [
      "Epoch 0 Val loss:0.2321 acc:0.9370\n"
     ]
    },
    {
     "name": "stderr",
     "output_type": "stream",
     "text": [
      "Ep[1] loss:0.395 acc:0.880: 100%|████████████████████████████████████████████████████████████████████████████████████████| 550/550 [00:03<00:00, 172.31it/s]\n",
      "Ep[2] loss:0.228 acc:0.940:   3%|███                                                                                      | 19/550 [00:00<00:02, 188.11it/s]"
     ]
    },
    {
     "name": "stdout",
     "output_type": "stream",
     "text": [
      "Epoch 1 Val loss:0.1538 acc:0.9504\n"
     ]
    },
    {
     "name": "stderr",
     "output_type": "stream",
     "text": [
      "Ep[2] loss:0.327 acc:0.890: 100%|████████████████████████████████████████████████████████████████████████████████████████| 550/550 [00:02<00:00, 188.23it/s]\n",
      "Ep[3] loss:0.138 acc:0.940:   3%|██▊                                                                                      | 17/550 [00:00<00:03, 161.89it/s]"
     ]
    },
    {
     "name": "stdout",
     "output_type": "stream",
     "text": [
      "Epoch 2 Val loss:0.1132 acc:0.9554\n"
     ]
    },
    {
     "name": "stderr",
     "output_type": "stream",
     "text": [
      "Ep[3] loss:0.273 acc:0.910: 100%|████████████████████████████████████████████████████████████████████████████████████████| 550/550 [00:02<00:00, 193.46it/s]\n",
      "Ep[4] loss:0.086 acc:0.970:   4%|███▋                                                                                     | 23/550 [00:00<00:02, 225.49it/s]"
     ]
    },
    {
     "name": "stdout",
     "output_type": "stream",
     "text": [
      "Epoch 3 Val loss:0.0950 acc:0.9614\n"
     ]
    },
    {
     "name": "stderr",
     "output_type": "stream",
     "text": [
      "Ep[4] loss:0.235 acc:0.920: 100%|████████████████████████████████████████████████████████████████████████████████████████| 550/550 [00:02<00:00, 216.71it/s]\n",
      "Ep[5] loss:0.060 acc:0.970:   4%|███▉                                                                                     | 24/550 [00:00<00:02, 235.29it/s]"
     ]
    },
    {
     "name": "stdout",
     "output_type": "stream",
     "text": [
      "Epoch 4 Val loss:0.0850 acc:0.9636\n"
     ]
    },
    {
     "name": "stderr",
     "output_type": "stream",
     "text": [
      "Ep[5] loss:0.205 acc:0.920: 100%|████████████████████████████████████████████████████████████████████████████████████████| 550/550 [00:02<00:00, 224.58it/s]\n",
      "Ep[6] loss:0.058 acc:0.970:   4%|███▋                                                                                     | 23/550 [00:00<00:02, 223.30it/s]"
     ]
    },
    {
     "name": "stdout",
     "output_type": "stream",
     "text": [
      "Epoch 5 Val loss:0.0802 acc:0.9636\n"
     ]
    },
    {
     "name": "stderr",
     "output_type": "stream",
     "text": [
      "Ep[6] loss:0.178 acc:0.930: 100%|████████████████████████████████████████████████████████████████████████████████████████| 550/550 [00:02<00:00, 221.77it/s]\n",
      "Ep[7] loss:0.061 acc:0.980:   4%|███▌                                                                                     | 22/550 [00:00<00:02, 219.99it/s]"
     ]
    },
    {
     "name": "stdout",
     "output_type": "stream",
     "text": [
      "Epoch 6 Val loss:0.0766 acc:0.9644\n"
     ]
    },
    {
     "name": "stderr",
     "output_type": "stream",
     "text": [
      "Ep[7] loss:0.157 acc:0.940: 100%|████████████████████████████████████████████████████████████████████████████████████████| 550/550 [00:02<00:00, 220.97it/s]\n",
      "Ep[8] loss:0.058 acc:0.970:   4%|███▋                                                                                     | 23/550 [00:00<00:02, 223.27it/s]"
     ]
    },
    {
     "name": "stdout",
     "output_type": "stream",
     "text": [
      "Epoch 7 Val loss:0.0751 acc:0.9654\n"
     ]
    },
    {
     "name": "stderr",
     "output_type": "stream",
     "text": [
      "Ep[8] loss:0.142 acc:0.970: 100%|████████████████████████████████████████████████████████████████████████████████████████| 550/550 [00:02<00:00, 213.34it/s]\n",
      "Ep[9] loss:0.116 acc:0.960:   4%|███▋                                                                                     | 23/550 [00:00<00:02, 227.71it/s]"
     ]
    },
    {
     "name": "stdout",
     "output_type": "stream",
     "text": [
      "Epoch 8 Val loss:0.0750 acc:0.9666\n"
     ]
    },
    {
     "name": "stderr",
     "output_type": "stream",
     "text": [
      "Ep[9] loss:0.129 acc:0.970: 100%|████████████████████████████████████████████████████████████████████████████████████████| 550/550 [00:02<00:00, 210.16it/s]\n",
      "Ep[10] loss:0.063 acc:0.990:   3%|██▉                                                                                     | 18/550 [00:00<00:03, 169.81it/s]"
     ]
    },
    {
     "name": "stdout",
     "output_type": "stream",
     "text": [
      "Epoch 9 Val loss:0.0756 acc:0.9676\n"
     ]
    },
    {
     "name": "stderr",
     "output_type": "stream",
     "text": [
      "Ep[10] loss:0.117 acc:0.970: 100%|███████████████████████████████████████████████████████████████████████████████████████| 550/550 [00:02<00:00, 211.13it/s]\n",
      "Ep[11] loss:0.051 acc:0.980:   4%|███▌                                                                                    | 22/550 [00:00<00:02, 217.83it/s]"
     ]
    },
    {
     "name": "stdout",
     "output_type": "stream",
     "text": [
      "Epoch 10 Val loss:0.0744 acc:0.9686\n"
     ]
    },
    {
     "name": "stderr",
     "output_type": "stream",
     "text": [
      "Ep[11] loss:0.107 acc:0.980: 100%|███████████████████████████████████████████████████████████████████████████████████████| 550/550 [00:02<00:00, 211.38it/s]\n",
      "Ep[12] loss:0.086 acc:0.980:   4%|███▎                                                                                    | 21/550 [00:00<00:02, 203.89it/s]"
     ]
    },
    {
     "name": "stdout",
     "output_type": "stream",
     "text": [
      "Epoch 11 Val loss:0.0744 acc:0.9682\n"
     ]
    },
    {
     "name": "stderr",
     "output_type": "stream",
     "text": [
      "Ep[12] loss:0.100 acc:0.980: 100%|███████████████████████████████████████████████████████████████████████████████████████| 550/550 [00:02<00:00, 202.58it/s]\n",
      "Ep[13] loss:0.033 acc:0.990:   3%|███                                                                                     | 19/550 [00:00<00:02, 184.46it/s]"
     ]
    },
    {
     "name": "stdout",
     "output_type": "stream",
     "text": [
      "Epoch 12 Val loss:0.0746 acc:0.9700\n"
     ]
    },
    {
     "name": "stderr",
     "output_type": "stream",
     "text": [
      "Ep[13] loss:0.092 acc:0.980: 100%|███████████████████████████████████████████████████████████████████████████████████████| 550/550 [00:02<00:00, 219.39it/s]\n",
      "Ep[14] loss:0.079 acc:0.960:   4%|███▋                                                                                    | 23/550 [00:00<00:02, 223.30it/s]"
     ]
    },
    {
     "name": "stdout",
     "output_type": "stream",
     "text": [
      "Epoch 13 Val loss:0.0768 acc:0.9702\n"
     ]
    },
    {
     "name": "stderr",
     "output_type": "stream",
     "text": [
      "Ep[14] loss:0.085 acc:0.980: 100%|███████████████████████████████████████████████████████████████████████████████████████| 550/550 [00:02<00:00, 211.46it/s]\n",
      "Ep[15] loss:0.047 acc:0.980:   4%|███▎                                                                                    | 21/550 [00:00<00:02, 205.89it/s]"
     ]
    },
    {
     "name": "stdout",
     "output_type": "stream",
     "text": [
      "Epoch 14 Val loss:0.0767 acc:0.9710\n"
     ]
    },
    {
     "name": "stderr",
     "output_type": "stream",
     "text": [
      "Ep[15] loss:0.078 acc:0.990: 100%|███████████████████████████████████████████████████████████████████████████████████████| 550/550 [00:02<00:00, 196.50it/s]\n",
      "Ep[16] loss:0.048 acc:0.990:   3%|███                                                                                     | 19/550 [00:00<00:02, 190.00it/s]"
     ]
    },
    {
     "name": "stdout",
     "output_type": "stream",
     "text": [
      "Epoch 15 Val loss:0.0778 acc:0.9708\n"
     ]
    },
    {
     "name": "stderr",
     "output_type": "stream",
     "text": [
      "Ep[16] loss:0.074 acc:0.990: 100%|███████████████████████████████████████████████████████████████████████████████████████| 550/550 [00:02<00:00, 197.84it/s]\n",
      "Ep[17] loss:0.043 acc:0.980:   4%|███▎                                                                                    | 21/550 [00:00<00:02, 205.88it/s]"
     ]
    },
    {
     "name": "stdout",
     "output_type": "stream",
     "text": [
      "Epoch 16 Val loss:0.0775 acc:0.9712\n"
     ]
    },
    {
     "name": "stderr",
     "output_type": "stream",
     "text": [
      "Ep[17] loss:0.069 acc:0.990: 100%|███████████████████████████████████████████████████████████████████████████████████████| 550/550 [00:02<00:00, 186.13it/s]\n",
      "Ep[18] loss:0.059 acc:0.980:   4%|███▏                                                                                    | 20/550 [00:00<00:02, 192.30it/s]"
     ]
    },
    {
     "name": "stdout",
     "output_type": "stream",
     "text": [
      "Epoch 17 Val loss:0.0785 acc:0.9716\n"
     ]
    },
    {
     "name": "stderr",
     "output_type": "stream",
     "text": [
      "Ep[18] loss:0.065 acc:0.990: 100%|███████████████████████████████████████████████████████████████████████████████████████| 550/550 [00:02<00:00, 203.18it/s]\n",
      "Ep[19] loss:0.055 acc:0.980:   4%|███▌                                                                                    | 22/550 [00:00<00:02, 211.53it/s]"
     ]
    },
    {
     "name": "stdout",
     "output_type": "stream",
     "text": [
      "Epoch 18 Val loss:0.0780 acc:0.9716\n"
     ]
    },
    {
     "name": "stderr",
     "output_type": "stream",
     "text": [
      "Ep[19] loss:0.061 acc:0.990: 100%|███████████████████████████████████████████████████████████████████████████████████████| 550/550 [00:02<00:00, 205.22it/s]\n",
      "Ep[20] loss:0.054 acc:0.980:   4%|███▎                                                                                    | 21/550 [00:00<00:02, 201.92it/s]"
     ]
    },
    {
     "name": "stdout",
     "output_type": "stream",
     "text": [
      "Epoch 19 Val loss:0.0781 acc:0.9714\n"
     ]
    },
    {
     "name": "stderr",
     "output_type": "stream",
     "text": [
      "Ep[20] loss:0.056 acc:0.990: 100%|███████████████████████████████████████████████████████████████████████████████████████| 550/550 [00:02<00:00, 200.36it/s]\n",
      "Ep[21] loss:0.040 acc:0.980:   4%|███▌                                                                                    | 22/550 [00:00<00:02, 209.53it/s]"
     ]
    },
    {
     "name": "stdout",
     "output_type": "stream",
     "text": [
      "Epoch 20 Val loss:0.0786 acc:0.9716\n"
     ]
    },
    {
     "name": "stderr",
     "output_type": "stream",
     "text": [
      "Ep[21] loss:0.052 acc:0.990: 100%|███████████████████████████████████████████████████████████████████████████████████████| 550/550 [00:02<00:00, 200.73it/s]\n",
      "Ep[22] loss:0.017 acc:1.000:   4%|███▎                                                                                    | 21/550 [00:00<00:02, 210.00it/s]"
     ]
    },
    {
     "name": "stdout",
     "output_type": "stream",
     "text": [
      "Epoch 21 Val loss:0.0779 acc:0.9716\n"
     ]
    },
    {
     "name": "stderr",
     "output_type": "stream",
     "text": [
      "Ep[22] loss:0.047 acc:1.000: 100%|███████████████████████████████████████████████████████████████████████████████████████| 550/550 [00:02<00:00, 201.69it/s]\n",
      "Ep[23] loss:0.045 acc:0.980:   4%|███▎                                                                                    | 21/550 [00:00<00:02, 201.92it/s]"
     ]
    },
    {
     "name": "stdout",
     "output_type": "stream",
     "text": [
      "Epoch 22 Val loss:0.0770 acc:0.9726\n"
     ]
    },
    {
     "name": "stderr",
     "output_type": "stream",
     "text": [
      "Ep[23] loss:0.044 acc:1.000: 100%|███████████████████████████████████████████████████████████████████████████████████████| 550/550 [00:02<00:00, 200.22it/s]\n",
      "Ep[24] loss:0.041 acc:0.980:   4%|███▌                                                                                    | 22/550 [00:00<00:02, 215.68it/s]"
     ]
    },
    {
     "name": "stdout",
     "output_type": "stream",
     "text": [
      "Epoch 23 Val loss:0.0750 acc:0.9730\n"
     ]
    },
    {
     "name": "stderr",
     "output_type": "stream",
     "text": [
      "Ep[24] loss:0.042 acc:1.000: 100%|███████████████████████████████████████████████████████████████████████████████████████| 550/550 [00:02<00:00, 208.73it/s]\n",
      "Ep[25] loss:0.033 acc:0.980:   4%|███▌                                                                                    | 22/550 [00:00<00:02, 211.53it/s]"
     ]
    },
    {
     "name": "stdout",
     "output_type": "stream",
     "text": [
      "Epoch 24 Val loss:0.0743 acc:0.9736\n"
     ]
    },
    {
     "name": "stderr",
     "output_type": "stream",
     "text": [
      "Ep[25] loss:0.039 acc:1.000: 100%|███████████████████████████████████████████████████████████████████████████████████████| 550/550 [00:02<00:00, 202.50it/s]\n",
      "Ep[26] loss:0.026 acc:1.000:   3%|██▉                                                                                     | 18/550 [00:00<00:03, 173.07it/s]"
     ]
    },
    {
     "name": "stdout",
     "output_type": "stream",
     "text": [
      "Epoch 25 Val loss:0.0731 acc:0.9740\n"
     ]
    },
    {
     "name": "stderr",
     "output_type": "stream",
     "text": [
      "Ep[26] loss:0.037 acc:1.000: 100%|███████████████████████████████████████████████████████████████████████████████████████| 550/550 [00:02<00:00, 199.13it/s]\n",
      "Ep[27] loss:0.016 acc:1.000:   4%|███▏                                                                                    | 20/550 [00:00<00:02, 198.01it/s]"
     ]
    },
    {
     "name": "stdout",
     "output_type": "stream",
     "text": [
      "Epoch 26 Val loss:0.0710 acc:0.9742\n"
     ]
    },
    {
     "name": "stderr",
     "output_type": "stream",
     "text": [
      "Ep[27] loss:0.035 acc:1.000: 100%|███████████████████████████████████████████████████████████████████████████████████████| 550/550 [00:02<00:00, 192.78it/s]\n",
      "Ep[28] loss:0.025 acc:0.980:   4%|███▎                                                                                    | 21/550 [00:00<00:02, 205.88it/s]"
     ]
    },
    {
     "name": "stdout",
     "output_type": "stream",
     "text": [
      "Epoch 27 Val loss:0.0703 acc:0.9738\n"
     ]
    },
    {
     "name": "stderr",
     "output_type": "stream",
     "text": [
      "Ep[28] loss:0.032 acc:1.000: 100%|███████████████████████████████████████████████████████████████████████████████████████| 550/550 [00:02<00:00, 202.13it/s]\n",
      "Ep[29] loss:0.010 acc:1.000:   4%|███▎                                                                                    | 21/550 [00:00<00:02, 205.88it/s]"
     ]
    },
    {
     "name": "stdout",
     "output_type": "stream",
     "text": [
      "Epoch 28 Val loss:0.0694 acc:0.9734\n"
     ]
    },
    {
     "name": "stderr",
     "output_type": "stream",
     "text": [
      "Ep[29] loss:0.031 acc:1.000: 100%|███████████████████████████████████████████████████████████████████████████████████████| 550/550 [00:02<00:00, 207.78it/s]\n",
      "Ep[30] loss:0.015 acc:1.000:   4%|███▌                                                                                    | 22/550 [00:00<00:02, 213.59it/s]"
     ]
    },
    {
     "name": "stdout",
     "output_type": "stream",
     "text": [
      "Epoch 29 Val loss:0.0689 acc:0.9732\n"
     ]
    },
    {
     "name": "stderr",
     "output_type": "stream",
     "text": [
      "Ep[30] loss:0.029 acc:1.000: 100%|███████████████████████████████████████████████████████████████████████████████████████| 550/550 [00:02<00:00, 204.08it/s]\n",
      "Ep[31] loss:0.014 acc:1.000:   4%|███▏                                                                                    | 20/550 [00:00<00:02, 192.31it/s]"
     ]
    },
    {
     "name": "stdout",
     "output_type": "stream",
     "text": [
      "Epoch 30 Val loss:0.0716 acc:0.9738\n"
     ]
    },
    {
     "name": "stderr",
     "output_type": "stream",
     "text": [
      "Ep[31] loss:0.027 acc:1.000: 100%|███████████████████████████████████████████████████████████████████████████████████████| 550/550 [00:02<00:00, 194.76it/s]\n",
      "Ep[32] loss:0.027 acc:0.990:   4%|███▌                                                                                    | 22/550 [00:00<00:02, 213.59it/s]"
     ]
    },
    {
     "name": "stdout",
     "output_type": "stream",
     "text": [
      "Epoch 31 Val loss:0.0691 acc:0.9740\n"
     ]
    },
    {
     "name": "stderr",
     "output_type": "stream",
     "text": [
      "Ep[32] loss:0.026 acc:1.000: 100%|███████████████████████████████████████████████████████████████████████████████████████| 550/550 [00:02<00:00, 201.83it/s]\n",
      "Ep[33] loss:0.013 acc:1.000:   4%|███▎                                                                                    | 21/550 [00:00<00:02, 203.89it/s]"
     ]
    },
    {
     "name": "stdout",
     "output_type": "stream",
     "text": [
      "Epoch 32 Val loss:0.0677 acc:0.9734\n"
     ]
    },
    {
     "name": "stderr",
     "output_type": "stream",
     "text": [
      "Ep[33] loss:0.024 acc:1.000: 100%|███████████████████████████████████████████████████████████████████████████████████████| 550/550 [00:02<00:00, 200.36it/s]\n",
      "Ep[34] loss:0.024 acc:0.990:   4%|███▎                                                                                    | 21/550 [00:00<00:02, 205.88it/s]"
     ]
    },
    {
     "name": "stdout",
     "output_type": "stream",
     "text": [
      "Epoch 33 Val loss:0.0682 acc:0.9736\n"
     ]
    },
    {
     "name": "stderr",
     "output_type": "stream",
     "text": [
      "Ep[34] loss:0.023 acc:1.000: 100%|███████████████████████████████████████████████████████████████████████████████████████| 550/550 [00:02<00:00, 200.95it/s]\n",
      "Ep[35] loss:0.022 acc:1.000:   4%|███▏                                                                                    | 20/550 [00:00<00:02, 196.08it/s]"
     ]
    },
    {
     "name": "stdout",
     "output_type": "stream",
     "text": [
      "Epoch 34 Val loss:0.0655 acc:0.9736\n"
     ]
    },
    {
     "name": "stderr",
     "output_type": "stream",
     "text": [
      "Ep[35] loss:0.022 acc:1.000: 100%|███████████████████████████████████████████████████████████████████████████████████████| 550/550 [00:02<00:00, 197.98it/s]\n",
      "Ep[36] loss:0.011 acc:1.000:   4%|███▎                                                                                    | 21/550 [00:00<00:02, 200.00it/s]"
     ]
    },
    {
     "name": "stdout",
     "output_type": "stream",
     "text": [
      "Epoch 35 Val loss:0.0648 acc:0.9732\n"
     ]
    },
    {
     "name": "stderr",
     "output_type": "stream",
     "text": [
      "Ep[36] loss:0.021 acc:1.000: 100%|███████████████████████████████████████████████████████████████████████████████████████| 550/550 [00:02<00:00, 197.80it/s]\n",
      "Ep[37] loss:0.020 acc:1.000:   4%|███▌                                                                                    | 22/550 [00:00<00:02, 211.55it/s]"
     ]
    },
    {
     "name": "stdout",
     "output_type": "stream",
     "text": [
      "Epoch 36 Val loss:0.0650 acc:0.9732\n"
     ]
    },
    {
     "name": "stderr",
     "output_type": "stream",
     "text": [
      "Ep[37] loss:0.020 acc:1.000: 100%|███████████████████████████████████████████████████████████████████████████████████████| 550/550 [00:02<00:00, 203.10it/s]\n",
      "Ep[38] loss:0.007 acc:1.000:   4%|███▏                                                                                    | 20/550 [00:00<00:02, 198.02it/s]"
     ]
    },
    {
     "name": "stdout",
     "output_type": "stream",
     "text": [
      "Epoch 37 Val loss:0.0628 acc:0.9734\n"
     ]
    },
    {
     "name": "stderr",
     "output_type": "stream",
     "text": [
      "Ep[38] loss:0.020 acc:1.000: 100%|███████████████████████████████████████████████████████████████████████████████████████| 550/550 [00:02<00:00, 196.50it/s]\n",
      "Ep[39] loss:0.011 acc:1.000:   3%|██▉                                                                                     | 18/550 [00:00<00:03, 173.08it/s]"
     ]
    },
    {
     "name": "stdout",
     "output_type": "stream",
     "text": [
      "Epoch 38 Val loss:0.0652 acc:0.9730\n"
     ]
    },
    {
     "name": "stderr",
     "output_type": "stream",
     "text": [
      "Ep[39] loss:0.019 acc:1.000: 100%|███████████████████████████████████████████████████████████████████████████████████████| 550/550 [00:02<00:00, 192.71it/s]\n",
      "Ep[40] loss:0.007 acc:1.000:   3%|███                                                                                     | 19/550 [00:00<00:02, 190.00it/s]"
     ]
    },
    {
     "name": "stdout",
     "output_type": "stream",
     "text": [
      "Epoch 39 Val loss:0.0617 acc:0.9732\n"
     ]
    },
    {
     "name": "stderr",
     "output_type": "stream",
     "text": [
      "Ep[40] loss:0.018 acc:1.000: 100%|███████████████████████████████████████████████████████████████████████████████████████| 550/550 [00:02<00:00, 199.49it/s]\n",
      "Ep[41] loss:0.009 acc:1.000:   4%|███▏                                                                                    | 20/550 [00:00<00:02, 198.03it/s]"
     ]
    },
    {
     "name": "stdout",
     "output_type": "stream",
     "text": [
      "Epoch 40 Val loss:0.0629 acc:0.9730\n"
     ]
    },
    {
     "name": "stderr",
     "output_type": "stream",
     "text": [
      "Ep[41] loss:0.018 acc:1.000: 100%|███████████████████████████████████████████████████████████████████████████████████████| 550/550 [00:02<00:00, 188.36it/s]\n",
      "Ep[42] loss:0.013 acc:1.000:   4%|███▏                                                                                    | 20/550 [00:00<00:02, 196.07it/s]"
     ]
    },
    {
     "name": "stdout",
     "output_type": "stream",
     "text": [
      "Epoch 41 Val loss:0.0624 acc:0.9728\n"
     ]
    },
    {
     "name": "stderr",
     "output_type": "stream",
     "text": [
      "Ep[42] loss:0.016 acc:1.000: 100%|███████████████████████████████████████████████████████████████████████████████████████| 550/550 [00:02<00:00, 206.22it/s]\n",
      "Ep[43] loss:0.008 acc:1.000:   4%|███▊                                                                                    | 24/550 [00:00<00:02, 233.00it/s]"
     ]
    },
    {
     "name": "stdout",
     "output_type": "stream",
     "text": [
      "Epoch 42 Val loss:0.0633 acc:0.9728\n"
     ]
    },
    {
     "name": "stderr",
     "output_type": "stream",
     "text": [
      "Ep[43] loss:0.016 acc:1.000: 100%|███████████████████████████████████████████████████████████████████████████████████████| 550/550 [00:02<00:00, 228.12it/s]\n",
      "Ep[44] loss:0.011 acc:1.000:   4%|███▎                                                                                    | 21/550 [00:00<00:02, 201.92it/s]"
     ]
    },
    {
     "name": "stdout",
     "output_type": "stream",
     "text": [
      "Epoch 43 Val loss:0.0628 acc:0.9730\n"
     ]
    },
    {
     "name": "stderr",
     "output_type": "stream",
     "text": [
      "Ep[44] loss:0.016 acc:1.000: 100%|███████████████████████████████████████████████████████████████████████████████████████| 550/550 [00:02<00:00, 226.62it/s]\n",
      "Ep[45] loss:0.007 acc:1.000:   5%|████▏                                                                                   | 26/550 [00:00<00:02, 250.00it/s]"
     ]
    },
    {
     "name": "stdout",
     "output_type": "stream",
     "text": [
      "Epoch 44 Val loss:0.0609 acc:0.9732\n"
     ]
    },
    {
     "name": "stderr",
     "output_type": "stream",
     "text": [
      "Ep[45] loss:0.015 acc:1.000: 100%|███████████████████████████████████████████████████████████████████████████████████████| 550/550 [00:02<00:00, 228.60it/s]\n",
      "Ep[46] loss:0.007 acc:1.000:   5%|████                                                                                    | 25/550 [00:00<00:02, 245.09it/s]"
     ]
    },
    {
     "name": "stdout",
     "output_type": "stream",
     "text": [
      "Epoch 45 Val loss:0.0614 acc:0.9732\n"
     ]
    },
    {
     "name": "stderr",
     "output_type": "stream",
     "text": [
      "Ep[46] loss:0.014 acc:1.000: 100%|███████████████████████████████████████████████████████████████████████████████████████| 550/550 [00:02<00:00, 232.56it/s]\n",
      "Ep[47] loss:0.006 acc:1.000:   4%|███▋                                                                                    | 23/550 [00:00<00:02, 227.71it/s]"
     ]
    },
    {
     "name": "stdout",
     "output_type": "stream",
     "text": [
      "Epoch 46 Val loss:0.0604 acc:0.9730\n"
     ]
    },
    {
     "name": "stderr",
     "output_type": "stream",
     "text": [
      "Ep[47] loss:0.014 acc:1.000: 100%|███████████████████████████████████████████████████████████████████████████████████████| 550/550 [00:02<00:00, 231.19it/s]\n",
      "Ep[48] loss:0.006 acc:1.000:   4%|███▋                                                                                    | 23/550 [00:00<00:02, 227.72it/s]"
     ]
    },
    {
     "name": "stdout",
     "output_type": "stream",
     "text": [
      "Epoch 47 Val loss:0.0608 acc:0.9734\n"
     ]
    },
    {
     "name": "stderr",
     "output_type": "stream",
     "text": [
      "Ep[48] loss:0.013 acc:1.000: 100%|███████████████████████████████████████████████████████████████████████████████████████| 550/550 [00:02<00:00, 228.50it/s]\n",
      "Ep[49] loss:0.008 acc:1.000:   4%|███▋                                                                                    | 23/550 [00:00<00:02, 223.30it/s]"
     ]
    },
    {
     "name": "stdout",
     "output_type": "stream",
     "text": [
      "Epoch 48 Val loss:0.0609 acc:0.9730\n"
     ]
    },
    {
     "name": "stderr",
     "output_type": "stream",
     "text": [
      "Ep[49] loss:0.013 acc:1.000: 100%|███████████████████████████████████████████████████████████████████████████████████████| 550/550 [00:02<00:00, 228.12it/s]\n",
      "Ep[50] loss:0.006 acc:1.000:   4%|███▊                                                                                    | 24/550 [00:00<00:02, 235.29it/s]"
     ]
    },
    {
     "name": "stdout",
     "output_type": "stream",
     "text": [
      "Epoch 49 Val loss:0.0627 acc:0.9738\n"
     ]
    },
    {
     "name": "stderr",
     "output_type": "stream",
     "text": [
      "Ep[50] loss:0.012 acc:1.000: 100%|███████████████████████████████████████████████████████████████████████████████████████| 550/550 [00:02<00:00, 230.80it/s]\n",
      "Ep[51] loss:0.018 acc:0.990:   5%|████                                                                                    | 25/550 [00:00<00:02, 242.72it/s]"
     ]
    },
    {
     "name": "stdout",
     "output_type": "stream",
     "text": [
      "Epoch 50 Val loss:0.0632 acc:0.9738\n"
     ]
    },
    {
     "name": "stderr",
     "output_type": "stream",
     "text": [
      "Ep[51] loss:0.012 acc:1.000: 100%|███████████████████████████████████████████████████████████████████████████████████████| 550/550 [00:02<00:00, 230.13it/s]\n",
      "Ep[52] loss:0.004 acc:1.000:   4%|███▌                                                                                    | 22/550 [00:00<00:02, 217.82it/s]"
     ]
    },
    {
     "name": "stdout",
     "output_type": "stream",
     "text": [
      "Epoch 51 Val loss:0.0642 acc:0.9738\n"
     ]
    },
    {
     "name": "stderr",
     "output_type": "stream",
     "text": [
      "Ep[52] loss:0.011 acc:1.000: 100%|███████████████████████████████████████████████████████████████████████████████████████| 550/550 [00:02<00:00, 224.95it/s]\n",
      "Ep[53] loss:0.006 acc:1.000:   4%|███▋                                                                                    | 23/550 [00:00<00:02, 223.29it/s]"
     ]
    },
    {
     "name": "stdout",
     "output_type": "stream",
     "text": [
      "Epoch 52 Val loss:0.0634 acc:0.9736\n"
     ]
    },
    {
     "name": "stderr",
     "output_type": "stream",
     "text": [
      "Ep[53] loss:0.011 acc:1.000: 100%|███████████████████████████████████████████████████████████████████████████████████████| 550/550 [00:02<00:00, 229.65it/s]\n",
      "Ep[54] loss:0.003 acc:1.000:   4%|███▊                                                                                    | 24/550 [00:00<00:02, 235.29it/s]"
     ]
    },
    {
     "name": "stdout",
     "output_type": "stream",
     "text": [
      "Epoch 53 Val loss:0.0641 acc:0.9740\n"
     ]
    },
    {
     "name": "stderr",
     "output_type": "stream",
     "text": [
      "Ep[54] loss:0.011 acc:1.000: 100%|███████████████████████████████████████████████████████████████████████████████████████| 550/550 [00:02<00:00, 223.94it/s]\n",
      "Ep[55] loss:0.005 acc:1.000:   4%|███▋                                                                                    | 23/550 [00:00<00:02, 227.73it/s]"
     ]
    },
    {
     "name": "stdout",
     "output_type": "stream",
     "text": [
      "Epoch 54 Val loss:0.0644 acc:0.9738\n"
     ]
    },
    {
     "name": "stderr",
     "output_type": "stream",
     "text": [
      "Ep[55] loss:0.010 acc:1.000: 100%|███████████████████████████████████████████████████████████████████████████████████████| 550/550 [00:02<00:00, 229.93it/s]\n",
      "Ep[56] loss:0.005 acc:1.000:   4%|███▊                                                                                    | 24/550 [00:00<00:02, 230.76it/s]"
     ]
    },
    {
     "name": "stdout",
     "output_type": "stream",
     "text": [
      "Epoch 55 Val loss:0.0658 acc:0.9740\n"
     ]
    },
    {
     "name": "stderr",
     "output_type": "stream",
     "text": [
      "Ep[56] loss:0.010 acc:1.000: 100%|███████████████████████████████████████████████████████████████████████████████████████| 550/550 [00:02<00:00, 229.55it/s]\n",
      "Ep[57] loss:0.008 acc:1.000:   4%|███▎                                                                                    | 21/550 [00:00<00:02, 207.92it/s]"
     ]
    },
    {
     "name": "stdout",
     "output_type": "stream",
     "text": [
      "Epoch 56 Val loss:0.0660 acc:0.9736\n"
     ]
    },
    {
     "name": "stderr",
     "output_type": "stream",
     "text": [
      "Ep[57] loss:0.009 acc:1.000: 100%|███████████████████████████████████████████████████████████████████████████████████████| 550/550 [00:02<00:00, 212.52it/s]\n",
      "Ep[58] loss:0.004 acc:1.000:   4%|███▊                                                                                    | 24/550 [00:00<00:02, 235.28it/s]"
     ]
    },
    {
     "name": "stdout",
     "output_type": "stream",
     "text": [
      "Epoch 57 Val loss:0.0658 acc:0.9738\n"
     ]
    },
    {
     "name": "stderr",
     "output_type": "stream",
     "text": [
      "Ep[58] loss:0.009 acc:1.000: 100%|███████████████████████████████████████████████████████████████████████████████████████| 550/550 [00:02<00:00, 228.79it/s]\n",
      "Ep[59] loss:0.004 acc:1.000:   4%|███▊                                                                                    | 24/550 [00:00<00:02, 237.63it/s]"
     ]
    },
    {
     "name": "stdout",
     "output_type": "stream",
     "text": [
      "Epoch 58 Val loss:0.0669 acc:0.9736\n"
     ]
    },
    {
     "name": "stderr",
     "output_type": "stream",
     "text": [
      "Ep[59] loss:0.008 acc:1.000: 100%|███████████████████████████████████████████████████████████████████████████████████████| 550/550 [00:02<00:00, 226.80it/s]\n",
      "Ep[60] loss:0.005 acc:1.000:   4%|███▊                                                                                    | 24/550 [00:00<00:02, 235.29it/s]"
     ]
    },
    {
     "name": "stdout",
     "output_type": "stream",
     "text": [
      "Epoch 59 Val loss:0.0661 acc:0.9738\n"
     ]
    },
    {
     "name": "stderr",
     "output_type": "stream",
     "text": [
      "Ep[60] loss:0.008 acc:1.000: 100%|███████████████████████████████████████████████████████████████████████████████████████| 550/550 [00:02<00:00, 225.32it/s]\n",
      "Ep[61] loss:0.006 acc:1.000:   4%|███▋                                                                                    | 23/550 [00:00<00:02, 223.30it/s]"
     ]
    },
    {
     "name": "stdout",
     "output_type": "stream",
     "text": [
      "Epoch 60 Val loss:0.0674 acc:0.9736\n"
     ]
    },
    {
     "name": "stderr",
     "output_type": "stream",
     "text": [
      "Ep[61] loss:0.008 acc:1.000: 100%|███████████████████████████████████████████████████████████████████████████████████████| 550/550 [00:02<00:00, 223.21it/s]\n",
      "Ep[62] loss:0.007 acc:1.000:   4%|███▎                                                                                    | 21/550 [00:00<00:02, 209.99it/s]"
     ]
    },
    {
     "name": "stdout",
     "output_type": "stream",
     "text": [
      "Epoch 61 Val loss:0.0685 acc:0.9732\n"
     ]
    },
    {
     "name": "stderr",
     "output_type": "stream",
     "text": [
      "Ep[62] loss:0.007 acc:1.000: 100%|███████████████████████████████████████████████████████████████████████████████████████| 550/550 [00:02<00:00, 223.94it/s]\n",
      "Ep[63] loss:0.002 acc:1.000:   4%|███▊                                                                                    | 24/550 [00:00<00:02, 235.30it/s]"
     ]
    },
    {
     "name": "stdout",
     "output_type": "stream",
     "text": [
      "Epoch 62 Val loss:0.0686 acc:0.9736\n"
     ]
    },
    {
     "name": "stderr",
     "output_type": "stream",
     "text": [
      "Ep[63] loss:0.007 acc:1.000: 100%|███████████████████████████████████████████████████████████████████████████████████████| 550/550 [00:02<00:00, 190.97it/s]\n",
      "Ep[64] loss:0.001 acc:1.000:   3%|███                                                                                     | 19/550 [00:00<00:02, 188.12it/s]"
     ]
    },
    {
     "name": "stdout",
     "output_type": "stream",
     "text": [
      "Epoch 63 Val loss:0.0699 acc:0.9732\n"
     ]
    },
    {
     "name": "stderr",
     "output_type": "stream",
     "text": [
      "Ep[64] loss:0.007 acc:1.000: 100%|███████████████████████████████████████████████████████████████████████████████████████| 550/550 [00:02<00:00, 185.28it/s]\n",
      "Ep[65] loss:0.002 acc:1.000:   4%|███▏                                                                                    | 20/550 [00:00<00:02, 194.17it/s]"
     ]
    },
    {
     "name": "stdout",
     "output_type": "stream",
     "text": [
      "Epoch 64 Val loss:0.0709 acc:0.9730\n"
     ]
    },
    {
     "name": "stderr",
     "output_type": "stream",
     "text": [
      "Ep[65] loss:0.007 acc:1.000: 100%|███████████████████████████████████████████████████████████████████████████████████████| 550/550 [00:02<00:00, 190.05it/s]\n",
      "Ep[66] loss:0.001 acc:1.000:   3%|██▉                                                                                     | 18/550 [00:00<00:03, 174.76it/s]"
     ]
    },
    {
     "name": "stdout",
     "output_type": "stream",
     "text": [
      "Epoch 65 Val loss:0.0729 acc:0.9728\n"
     ]
    },
    {
     "name": "stderr",
     "output_type": "stream",
     "text": [
      "Ep[66] loss:0.007 acc:1.000: 100%|███████████████████████████████████████████████████████████████████████████████████████| 550/550 [00:02<00:00, 191.91it/s]\n",
      "Ep[67] loss:0.004 acc:1.000:   4%|███▎                                                                                    | 21/550 [00:00<00:02, 205.88it/s]"
     ]
    },
    {
     "name": "stdout",
     "output_type": "stream",
     "text": [
      "Epoch 66 Val loss:0.0726 acc:0.9730\n"
     ]
    },
    {
     "name": "stderr",
     "output_type": "stream",
     "text": [
      "Ep[67] loss:0.006 acc:1.000: 100%|███████████████████████████████████████████████████████████████████████████████████████| 550/550 [00:02<00:00, 201.24it/s]\n",
      "Ep[68] loss:0.001 acc:1.000:   4%|███▌                                                                                    | 22/550 [00:00<00:02, 213.59it/s]"
     ]
    },
    {
     "name": "stdout",
     "output_type": "stream",
     "text": [
      "Epoch 67 Val loss:0.0751 acc:0.9730\n"
     ]
    },
    {
     "name": "stderr",
     "output_type": "stream",
     "text": [
      "Ep[68] loss:0.006 acc:1.000: 100%|███████████████████████████████████████████████████████████████████████████████████████| 550/550 [00:02<00:00, 203.55it/s]\n",
      "Ep[69] loss:0.003 acc:1.000:   4%|███▏                                                                                    | 20/550 [00:00<00:02, 200.00it/s]"
     ]
    },
    {
     "name": "stdout",
     "output_type": "stream",
     "text": [
      "Epoch 68 Val loss:0.0745 acc:0.9730\n"
     ]
    },
    {
     "name": "stderr",
     "output_type": "stream",
     "text": [
      "Ep[69] loss:0.006 acc:1.000: 100%|███████████████████████████████████████████████████████████████████████████████████████| 550/550 [00:02<00:00, 198.56it/s]\n",
      "Ep[70] loss:0.004 acc:1.000:   4%|███▎                                                                                    | 21/550 [00:00<00:02, 207.92it/s]"
     ]
    },
    {
     "name": "stdout",
     "output_type": "stream",
     "text": [
      "Epoch 69 Val loss:0.0756 acc:0.9728\n"
     ]
    },
    {
     "name": "stderr",
     "output_type": "stream",
     "text": [
      "Ep[70] loss:0.006 acc:1.000: 100%|███████████████████████████████████████████████████████████████████████████████████████| 550/550 [00:02<00:00, 202.50it/s]\n",
      "Ep[71] loss:0.002 acc:1.000:   4%|███▏                                                                                    | 20/550 [00:00<00:02, 198.01it/s]"
     ]
    },
    {
     "name": "stdout",
     "output_type": "stream",
     "text": [
      "Epoch 70 Val loss:0.0759 acc:0.9726\n"
     ]
    },
    {
     "name": "stderr",
     "output_type": "stream",
     "text": [
      "Ep[71] loss:0.006 acc:1.000: 100%|███████████████████████████████████████████████████████████████████████████████████████| 550/550 [00:02<00:00, 187.01it/s]\n",
      "Ep[72] loss:0.005 acc:1.000:   4%|███▎                                                                                    | 21/550 [00:00<00:02, 201.92it/s]"
     ]
    },
    {
     "name": "stdout",
     "output_type": "stream",
     "text": [
      "Epoch 71 Val loss:0.0772 acc:0.9726\n"
     ]
    },
    {
     "name": "stderr",
     "output_type": "stream",
     "text": [
      "Ep[72] loss:0.005 acc:1.000: 100%|███████████████████████████████████████████████████████████████████████████████████████| 550/550 [00:02<00:00, 188.87it/s]\n",
      "Ep[73] loss:0.004 acc:1.000:   3%|██▋                                                                                     | 17/550 [00:00<00:03, 163.45it/s]"
     ]
    },
    {
     "name": "stdout",
     "output_type": "stream",
     "text": [
      "Epoch 72 Val loss:0.0785 acc:0.9726\n"
     ]
    },
    {
     "name": "stderr",
     "output_type": "stream",
     "text": [
      "Ep[73] loss:0.005 acc:1.000: 100%|███████████████████████████████████████████████████████████████████████████████████████| 550/550 [00:03<00:00, 183.15it/s]\n",
      "Ep[74] loss:0.004 acc:1.000:   3%|███                                                                                     | 19/550 [00:00<00:02, 180.95it/s]"
     ]
    },
    {
     "name": "stdout",
     "output_type": "stream",
     "text": [
      "Epoch 73 Val loss:0.0788 acc:0.9724\n"
     ]
    },
    {
     "name": "stderr",
     "output_type": "stream",
     "text": [
      "Ep[74] loss:0.005 acc:1.000: 100%|███████████████████████████████████████████████████████████████████████████████████████| 550/550 [00:02<00:00, 187.97it/s]\n",
      "Ep[75] loss:0.003 acc:1.000:   3%|██▉                                                                                     | 18/550 [00:00<00:02, 178.22it/s]"
     ]
    },
    {
     "name": "stdout",
     "output_type": "stream",
     "text": [
      "Epoch 74 Val loss:0.0789 acc:0.9728\n"
     ]
    },
    {
     "name": "stderr",
     "output_type": "stream",
     "text": [
      "Ep[75] loss:0.005 acc:1.000: 100%|███████████████████████████████████████████████████████████████████████████████████████| 550/550 [00:03<00:00, 180.98it/s]\n",
      "Ep[76] loss:0.002 acc:1.000:   4%|███▏                                                                                    | 20/550 [00:00<00:02, 196.08it/s]"
     ]
    },
    {
     "name": "stdout",
     "output_type": "stream",
     "text": [
      "Epoch 75 Val loss:0.0793 acc:0.9726\n"
     ]
    },
    {
     "name": "stderr",
     "output_type": "stream",
     "text": [
      "Ep[76] loss:0.005 acc:1.000: 100%|███████████████████████████████████████████████████████████████████████████████████████| 550/550 [00:02<00:00, 185.00it/s]\n",
      "Ep[77] loss:0.001 acc:1.000:   3%|███                                                                                     | 19/550 [00:00<00:02, 186.27it/s]"
     ]
    },
    {
     "name": "stdout",
     "output_type": "stream",
     "text": [
      "Epoch 76 Val loss:0.0804 acc:0.9728\n"
     ]
    },
    {
     "name": "stderr",
     "output_type": "stream",
     "text": [
      "Ep[77] loss:0.005 acc:1.000: 100%|███████████████████████████████████████████████████████████████████████████████████████| 550/550 [00:03<00:00, 180.74it/s]\n",
      "Ep[78] loss:0.003 acc:1.000:   4%|███▎                                                                                    | 21/550 [00:00<00:02, 201.91it/s]"
     ]
    },
    {
     "name": "stdout",
     "output_type": "stream",
     "text": [
      "Epoch 77 Val loss:0.0806 acc:0.9724\n"
     ]
    },
    {
     "name": "stderr",
     "output_type": "stream",
     "text": [
      "Ep[78] loss:0.004 acc:1.000: 100%|███████████████████████████████████████████████████████████████████████████████████████| 550/550 [00:02<00:00, 187.07it/s]\n",
      "Ep[79] loss:0.003 acc:1.000:   4%|███▏                                                                                    | 20/550 [00:00<00:02, 190.48it/s]"
     ]
    },
    {
     "name": "stdout",
     "output_type": "stream",
     "text": [
      "Epoch 78 Val loss:0.0815 acc:0.9724\n"
     ]
    },
    {
     "name": "stderr",
     "output_type": "stream",
     "text": [
      "Ep[79] loss:0.004 acc:1.000: 100%|███████████████████████████████████████████████████████████████████████████████████████| 550/550 [00:02<00:00, 185.00it/s]\n",
      "Ep[80] loss:0.001 acc:1.000:   4%|███▏                                                                                    | 20/550 [00:00<00:02, 192.31it/s]"
     ]
    },
    {
     "name": "stdout",
     "output_type": "stream",
     "text": [
      "Epoch 79 Val loss:0.0816 acc:0.9722\n"
     ]
    },
    {
     "name": "stderr",
     "output_type": "stream",
     "text": [
      "Ep[80] loss:0.004 acc:1.000: 100%|███████████████████████████████████████████████████████████████████████████████████████| 550/550 [00:02<00:00, 187.97it/s]\n",
      "Ep[81] loss:0.003 acc:1.000:   3%|███                                                                                     | 19/550 [00:00<00:02, 190.00it/s]"
     ]
    },
    {
     "name": "stdout",
     "output_type": "stream",
     "text": [
      "Epoch 80 Val loss:0.0821 acc:0.9724\n"
     ]
    },
    {
     "name": "stderr",
     "output_type": "stream",
     "text": [
      "Ep[81] loss:0.004 acc:1.000: 100%|███████████████████████████████████████████████████████████████████████████████████████| 550/550 [00:03<00:00, 182.78it/s]\n",
      "Ep[82] loss:0.003 acc:1.000:   3%|███                                                                                     | 19/550 [00:00<00:02, 184.47it/s]"
     ]
    },
    {
     "name": "stdout",
     "output_type": "stream",
     "text": [
      "Epoch 81 Val loss:0.0824 acc:0.9726\n"
     ]
    },
    {
     "name": "stderr",
     "output_type": "stream",
     "text": [
      "Ep[82] loss:0.004 acc:1.000: 100%|███████████████████████████████████████████████████████████████████████████████████████| 550/550 [00:03<00:00, 178.17it/s]\n",
      "Ep[83] loss:0.003 acc:1.000:   3%|███                                                                                     | 19/550 [00:00<00:02, 184.46it/s]"
     ]
    },
    {
     "name": "stdout",
     "output_type": "stream",
     "text": [
      "Epoch 82 Val loss:0.0825 acc:0.9728\n"
     ]
    },
    {
     "name": "stderr",
     "output_type": "stream",
     "text": [
      "Ep[83] loss:0.004 acc:1.000: 100%|███████████████████████████████████████████████████████████████████████████████████████| 550/550 [00:02<00:00, 183.52it/s]\n",
      "Ep[84] loss:0.001 acc:1.000:   3%|███                                                                                     | 19/550 [00:00<00:02, 188.12it/s]"
     ]
    },
    {
     "name": "stdout",
     "output_type": "stream",
     "text": [
      "Epoch 83 Val loss:0.0834 acc:0.9732\n"
     ]
    },
    {
     "name": "stderr",
     "output_type": "stream",
     "text": [
      "Ep[84] loss:0.004 acc:1.000: 100%|███████████████████████████████████████████████████████████████████████████████████████| 550/550 [00:03<00:00, 183.21it/s]\n",
      "Ep[85] loss:0.001 acc:1.000:   3%|███                                                                                     | 19/550 [00:00<00:02, 184.47it/s]"
     ]
    },
    {
     "name": "stdout",
     "output_type": "stream",
     "text": [
      "Epoch 84 Val loss:0.0837 acc:0.9732\n"
     ]
    },
    {
     "name": "stderr",
     "output_type": "stream",
     "text": [
      "Ep[85] loss:0.004 acc:1.000: 100%|███████████████████████████████████████████████████████████████████████████████████████| 550/550 [00:02<00:00, 183.33it/s]\n",
      "Ep[86] loss:0.003 acc:1.000:   4%|███▏                                                                                    | 20/550 [00:00<00:02, 192.31it/s]"
     ]
    },
    {
     "name": "stdout",
     "output_type": "stream",
     "text": [
      "Epoch 85 Val loss:0.0838 acc:0.9734\n"
     ]
    },
    {
     "name": "stderr",
     "output_type": "stream",
     "text": [
      "Ep[86] loss:0.004 acc:1.000: 100%|███████████████████████████████████████████████████████████████████████████████████████| 550/550 [00:03<00:00, 179.04it/s]\n",
      "Ep[87] loss:0.003 acc:1.000:   3%|██▉                                                                                     | 18/550 [00:00<00:03, 174.76it/s]"
     ]
    },
    {
     "name": "stdout",
     "output_type": "stream",
     "text": [
      "Epoch 86 Val loss:0.0845 acc:0.9736\n"
     ]
    },
    {
     "name": "stderr",
     "output_type": "stream",
     "text": [
      "Ep[87] loss:0.004 acc:1.000: 100%|███████████████████████████████████████████████████████████████████████████████████████| 550/550 [00:03<00:00, 182.30it/s]\n",
      "Ep[88] loss:0.002 acc:1.000:   4%|███▏                                                                                    | 20/550 [00:00<00:02, 200.00it/s]"
     ]
    },
    {
     "name": "stdout",
     "output_type": "stream",
     "text": [
      "Epoch 87 Val loss:0.0846 acc:0.9734\n"
     ]
    },
    {
     "name": "stderr",
     "output_type": "stream",
     "text": [
      "Ep[88] loss:0.003 acc:1.000: 100%|███████████████████████████████████████████████████████████████████████████████████████| 550/550 [00:02<00:00, 185.50it/s]\n",
      "Ep[89] loss:0.002 acc:1.000:   3%|██▋                                                                                     | 17/550 [00:00<00:03, 165.05it/s]"
     ]
    },
    {
     "name": "stdout",
     "output_type": "stream",
     "text": [
      "Epoch 88 Val loss:0.0840 acc:0.9734\n"
     ]
    },
    {
     "name": "stderr",
     "output_type": "stream",
     "text": [
      "Ep[89] loss:0.003 acc:1.000: 100%|███████████████████████████████████████████████████████████████████████████████████████| 550/550 [00:03<00:00, 177.02it/s]\n",
      "Ep[90] loss:0.001 acc:1.000:   2%|█▉                                                                                      | 12/550 [00:00<00:04, 119.99it/s]"
     ]
    },
    {
     "name": "stdout",
     "output_type": "stream",
     "text": [
      "Epoch 89 Val loss:0.0855 acc:0.9736\n"
     ]
    },
    {
     "name": "stderr",
     "output_type": "stream",
     "text": [
      "Ep[90] loss:0.003 acc:1.000: 100%|███████████████████████████████████████████████████████████████████████████████████████| 550/550 [00:03<00:00, 177.36it/s]\n",
      "Ep[91] loss:0.003 acc:1.000:   3%|███                                                                                     | 19/550 [00:00<00:02, 186.27it/s]"
     ]
    },
    {
     "name": "stdout",
     "output_type": "stream",
     "text": [
      "Epoch 90 Val loss:0.0851 acc:0.9738\n"
     ]
    },
    {
     "name": "stderr",
     "output_type": "stream",
     "text": [
      "Ep[91] loss:0.003 acc:1.000: 100%|███████████████████████████████████████████████████████████████████████████████████████| 550/550 [00:03<00:00, 178.40it/s]\n",
      "Ep[92] loss:0.002 acc:1.000:   3%|██▉                                                                                     | 18/550 [00:00<00:03, 173.08it/s]"
     ]
    },
    {
     "name": "stdout",
     "output_type": "stream",
     "text": [
      "Epoch 91 Val loss:0.0851 acc:0.9738\n"
     ]
    },
    {
     "name": "stderr",
     "output_type": "stream",
     "text": [
      "Ep[92] loss:0.003 acc:1.000: 100%|███████████████████████████████████████████████████████████████████████████████████████| 550/550 [00:03<00:00, 181.52it/s]\n",
      "Ep[93] loss:0.003 acc:1.000:   4%|███▏                                                                                    | 20/550 [00:00<00:02, 190.47it/s]"
     ]
    },
    {
     "name": "stdout",
     "output_type": "stream",
     "text": [
      "Epoch 92 Val loss:0.0861 acc:0.9738\n"
     ]
    },
    {
     "name": "stderr",
     "output_type": "stream",
     "text": [
      "Ep[93] loss:0.003 acc:1.000: 100%|███████████████████████████████████████████████████████████████████████████████████████| 550/550 [00:03<00:00, 177.94it/s]\n",
      "Ep[94] loss:0.002 acc:1.000:   3%|███                                                                                     | 19/550 [00:00<00:02, 179.25it/s]"
     ]
    },
    {
     "name": "stdout",
     "output_type": "stream",
     "text": [
      "Epoch 93 Val loss:0.0863 acc:0.9738\n"
     ]
    },
    {
     "name": "stderr",
     "output_type": "stream",
     "text": [
      "Ep[94] loss:0.003 acc:1.000: 100%|███████████████████████████████████████████████████████████████████████████████████████| 550/550 [00:03<00:00, 175.55it/s]\n",
      "Ep[95] loss:0.001 acc:1.000:   3%|██▉                                                                                     | 18/550 [00:00<00:02, 178.23it/s]"
     ]
    },
    {
     "name": "stdout",
     "output_type": "stream",
     "text": [
      "Epoch 94 Val loss:0.0864 acc:0.9738\n"
     ]
    },
    {
     "name": "stderr",
     "output_type": "stream",
     "text": [
      "Ep[95] loss:0.003 acc:1.000: 100%|███████████████████████████████████████████████████████████████████████████████████████| 550/550 [00:03<00:00, 178.57it/s]\n",
      "Ep[96] loss:0.002 acc:1.000:   3%|███                                                                                     | 19/550 [00:00<00:02, 180.93it/s]"
     ]
    },
    {
     "name": "stdout",
     "output_type": "stream",
     "text": [
      "Epoch 95 Val loss:0.0866 acc:0.9736\n"
     ]
    },
    {
     "name": "stderr",
     "output_type": "stream",
     "text": [
      "Ep[96] loss:0.003 acc:1.000: 100%|███████████████████████████████████████████████████████████████████████████████████████| 550/550 [00:03<00:00, 178.75it/s]\n",
      "Ep[97] loss:0.001 acc:1.000:   3%|███                                                                                     | 19/550 [00:00<00:02, 188.12it/s]"
     ]
    },
    {
     "name": "stdout",
     "output_type": "stream",
     "text": [
      "Epoch 96 Val loss:0.0869 acc:0.9736\n"
     ]
    },
    {
     "name": "stderr",
     "output_type": "stream",
     "text": [
      "Ep[97] loss:0.003 acc:1.000: 100%|███████████████████████████████████████████████████████████████████████████████████████| 550/550 [00:03<00:00, 176.11it/s]\n",
      "Ep[98] loss:0.002 acc:1.000:   3%|███                                                                                     | 19/550 [00:00<00:02, 179.25it/s]"
     ]
    },
    {
     "name": "stdout",
     "output_type": "stream",
     "text": [
      "Epoch 97 Val loss:0.0869 acc:0.9736\n"
     ]
    },
    {
     "name": "stderr",
     "output_type": "stream",
     "text": [
      "Ep[98] loss:0.003 acc:1.000: 100%|███████████████████████████████████████████████████████████████████████████████████████| 550/550 [00:03<00:00, 173.50it/s]\n",
      "Ep[99] loss:0.002 acc:1.000:   3%|██▉                                                                                     | 18/550 [00:00<00:03, 174.75it/s]"
     ]
    },
    {
     "name": "stdout",
     "output_type": "stream",
     "text": [
      "Epoch 98 Val loss:0.0871 acc:0.9736\n"
     ]
    },
    {
     "name": "stderr",
     "output_type": "stream",
     "text": [
      "Ep[99] loss:0.003 acc:1.000: 100%|███████████████████████████████████████████████████████████████████████████████████████| 550/550 [00:02<00:00, 186.69it/s]\n",
      "Ep[100] loss:0.001 acc:1.000:   4%|███▏                                                                                   | 20/550 [00:00<00:02, 198.02it/s]"
     ]
    },
    {
     "name": "stdout",
     "output_type": "stream",
     "text": [
      "Epoch 99 Val loss:0.0875 acc:0.9736\n"
     ]
    },
    {
     "name": "stderr",
     "output_type": "stream",
     "text": [
      "Ep[100] loss:0.003 acc:1.000: 100%|██████████████████████████████████████████████████████████████████████████████████████| 550/550 [00:03<00:00, 182.72it/s]\n",
      "Ep[101] loss:0.002 acc:1.000:   3%|██▋                                                                                    | 17/550 [00:00<00:03, 161.90it/s]"
     ]
    },
    {
     "name": "stdout",
     "output_type": "stream",
     "text": [
      "Epoch 100 Val loss:0.0880 acc:0.9736\n"
     ]
    },
    {
     "name": "stderr",
     "output_type": "stream",
     "text": [
      "Ep[101] loss:0.003 acc:1.000: 100%|██████████████████████████████████████████████████████████████████████████████████████| 550/550 [00:03<00:00, 179.91it/s]\n",
      "Ep[102] loss:0.001 acc:1.000:   4%|███▏                                                                                   | 20/550 [00:00<00:02, 200.00it/s]"
     ]
    },
    {
     "name": "stdout",
     "output_type": "stream",
     "text": [
      "Epoch 101 Val loss:0.0883 acc:0.9736\n"
     ]
    },
    {
     "name": "stderr",
     "output_type": "stream",
     "text": [
      "Ep[102] loss:0.003 acc:1.000: 100%|██████████████████████████████████████████████████████████████████████████████████████| 550/550 [00:03<00:00, 181.10it/s]\n",
      "Ep[103] loss:0.001 acc:1.000:   3%|███                                                                                    | 19/550 [00:00<00:02, 180.96it/s]"
     ]
    },
    {
     "name": "stdout",
     "output_type": "stream",
     "text": [
      "Epoch 102 Val loss:0.0890 acc:0.9736\n"
     ]
    },
    {
     "name": "stderr",
     "output_type": "stream",
     "text": [
      "Ep[103] loss:0.003 acc:1.000: 100%|██████████████████████████████████████████████████████████████████████████████████████| 550/550 [00:03<00:00, 182.94it/s]\n",
      "Ep[104] loss:0.000 acc:1.000:   3%|██▊                                                                                    | 18/550 [00:00<00:02, 180.00it/s]"
     ]
    },
    {
     "name": "stdout",
     "output_type": "stream",
     "text": [
      "Epoch 103 Val loss:0.0892 acc:0.9736\n"
     ]
    },
    {
     "name": "stderr",
     "output_type": "stream",
     "text": [
      "Ep[104] loss:0.002 acc:1.000: 100%|██████████████████████████████████████████████████████████████████████████████████████| 550/550 [00:02<00:00, 183.76it/s]\n",
      "Ep[105] loss:0.000 acc:1.000:   3%|██▊                                                                                    | 18/550 [00:00<00:03, 176.47it/s]"
     ]
    },
    {
     "name": "stdout",
     "output_type": "stream",
     "text": [
      "Epoch 104 Val loss:0.0892 acc:0.9736\n"
     ]
    },
    {
     "name": "stderr",
     "output_type": "stream",
     "text": [
      "Ep[105] loss:0.002 acc:1.000: 100%|██████████████████████████████████████████████████████████████████████████████████████| 550/550 [00:03<00:00, 181.94it/s]\n",
      "Ep[106] loss:0.002 acc:1.000:   4%|███▏                                                                                   | 20/550 [00:00<00:02, 192.30it/s]"
     ]
    },
    {
     "name": "stdout",
     "output_type": "stream",
     "text": [
      "Epoch 105 Val loss:0.0892 acc:0.9734\n"
     ]
    },
    {
     "name": "stderr",
     "output_type": "stream",
     "text": [
      "Ep[106] loss:0.002 acc:1.000: 100%|██████████████████████████████████████████████████████████████████████████████████████| 550/550 [00:03<00:00, 176.85it/s]\n",
      "Ep[107] loss:0.000 acc:1.000:   3%|██▊                                                                                    | 18/550 [00:00<00:02, 180.00it/s]"
     ]
    },
    {
     "name": "stdout",
     "output_type": "stream",
     "text": [
      "Epoch 106 Val loss:0.0897 acc:0.9734\n"
     ]
    },
    {
     "name": "stderr",
     "output_type": "stream",
     "text": [
      "Ep[107] loss:0.002 acc:1.000: 100%|██████████████████████████████████████████████████████████████████████████████████████| 550/550 [00:02<00:00, 183.58it/s]\n",
      "Ep[108] loss:0.000 acc:1.000:   4%|███▏                                                                                   | 20/550 [00:00<00:02, 190.47it/s]"
     ]
    },
    {
     "name": "stdout",
     "output_type": "stream",
     "text": [
      "Epoch 107 Val loss:0.0904 acc:0.9736\n"
     ]
    },
    {
     "name": "stderr",
     "output_type": "stream",
     "text": [
      "Ep[108] loss:0.002 acc:1.000: 100%|██████████████████████████████████████████████████████████████████████████████████████| 550/550 [00:03<00:00, 178.02it/s]\n",
      "Ep[109] loss:0.001 acc:1.000:   3%|██▊                                                                                    | 18/550 [00:00<00:02, 178.21it/s]"
     ]
    },
    {
     "name": "stdout",
     "output_type": "stream",
     "text": [
      "Epoch 108 Val loss:0.0901 acc:0.9736\n"
     ]
    },
    {
     "name": "stderr",
     "output_type": "stream",
     "text": [
      "Ep[109] loss:0.002 acc:1.000: 100%|██████████████████████████████████████████████████████████████████████████████████████| 550/550 [00:02<00:00, 183.95it/s]\n",
      "Ep[110] loss:0.002 acc:1.000:   3%|██▋                                                                                    | 17/550 [00:00<00:03, 165.05it/s]"
     ]
    },
    {
     "name": "stdout",
     "output_type": "stream",
     "text": [
      "Epoch 109 Val loss:0.0904 acc:0.9736\n"
     ]
    },
    {
     "name": "stderr",
     "output_type": "stream",
     "text": [
      "Ep[110] loss:0.002 acc:1.000: 100%|██████████████████████████████████████████████████████████████████████████████████████| 550/550 [00:03<00:00, 175.44it/s]\n",
      "Ep[111] loss:0.001 acc:1.000:   3%|███                                                                                    | 19/550 [00:00<00:02, 180.95it/s]"
     ]
    },
    {
     "name": "stdout",
     "output_type": "stream",
     "text": [
      "Epoch 110 Val loss:0.0908 acc:0.9738\n"
     ]
    },
    {
     "name": "stderr",
     "output_type": "stream",
     "text": [
      "Ep[111] loss:0.002 acc:1.000: 100%|██████████████████████████████████████████████████████████████████████████████████████| 550/550 [00:03<00:00, 174.99it/s]\n",
      "Ep[112] loss:0.000 acc:1.000:   3%|██▋                                                                                    | 17/550 [00:00<00:03, 168.32it/s]"
     ]
    },
    {
     "name": "stdout",
     "output_type": "stream",
     "text": [
      "Epoch 111 Val loss:0.0914 acc:0.9738\n"
     ]
    },
    {
     "name": "stderr",
     "output_type": "stream",
     "text": [
      "Ep[112] loss:0.002 acc:1.000: 100%|██████████████████████████████████████████████████████████████████████████████████████| 550/550 [00:03<00:00, 173.17it/s]\n",
      "Ep[113] loss:0.000 acc:1.000:   3%|██▊                                                                                    | 18/550 [00:00<00:03, 169.81it/s]"
     ]
    },
    {
     "name": "stdout",
     "output_type": "stream",
     "text": [
      "Epoch 112 Val loss:0.0913 acc:0.9738\n"
     ]
    },
    {
     "name": "stderr",
     "output_type": "stream",
     "text": [
      "Ep[113] loss:0.002 acc:1.000: 100%|██████████████████████████████████████████████████████████████████████████████████████| 550/550 [00:03<00:00, 173.39it/s]\n",
      "Ep[114] loss:0.000 acc:1.000:   3%|███                                                                                    | 19/550 [00:00<00:02, 186.27it/s]"
     ]
    },
    {
     "name": "stdout",
     "output_type": "stream",
     "text": [
      "Epoch 113 Val loss:0.0918 acc:0.9738\n"
     ]
    },
    {
     "name": "stderr",
     "output_type": "stream",
     "text": [
      "Ep[114] loss:0.002 acc:1.000: 100%|██████████████████████████████████████████████████████████████████████████████████████| 550/550 [00:03<00:00, 181.28it/s]\n",
      "Ep[115] loss:0.001 acc:1.000:   3%|██▌                                                                                    | 16/550 [00:00<00:03, 158.41it/s]"
     ]
    },
    {
     "name": "stdout",
     "output_type": "stream",
     "text": [
      "Epoch 114 Val loss:0.0915 acc:0.9738\n"
     ]
    },
    {
     "name": "stderr",
     "output_type": "stream",
     "text": [
      "Ep[115] loss:0.002 acc:1.000: 100%|██████████████████████████████████████████████████████████████████████████████████████| 550/550 [00:03<00:00, 175.89it/s]\n",
      "Ep[116] loss:0.000 acc:1.000:   3%|███                                                                                    | 19/550 [00:00<00:02, 180.95it/s]"
     ]
    },
    {
     "name": "stdout",
     "output_type": "stream",
     "text": [
      "Epoch 115 Val loss:0.0918 acc:0.9738\n"
     ]
    },
    {
     "name": "stderr",
     "output_type": "stream",
     "text": [
      "Ep[116] loss:0.002 acc:1.000: 100%|██████████████████████████████████████████████████████████████████████████████████████| 550/550 [00:03<00:00, 178.92it/s]\n",
      "Ep[117] loss:0.001 acc:1.000:   3%|██▊                                                                                    | 18/550 [00:00<00:03, 171.43it/s]"
     ]
    },
    {
     "name": "stdout",
     "output_type": "stream",
     "text": [
      "Epoch 116 Val loss:0.0922 acc:0.9740\n"
     ]
    },
    {
     "name": "stderr",
     "output_type": "stream",
     "text": [
      "Ep[117] loss:0.002 acc:1.000: 100%|██████████████████████████████████████████████████████████████████████████████████████| 550/550 [00:03<00:00, 172.96it/s]\n",
      "Ep[118] loss:0.002 acc:1.000:   3%|██▊                                                                                    | 18/550 [00:00<00:03, 174.75it/s]"
     ]
    },
    {
     "name": "stdout",
     "output_type": "stream",
     "text": [
      "Epoch 117 Val loss:0.0922 acc:0.9738\n"
     ]
    },
    {
     "name": "stderr",
     "output_type": "stream",
     "text": [
      "Ep[118] loss:0.002 acc:1.000: 100%|██████████████████████████████████████████████████████████████████████████████████████| 550/550 [00:03<00:00, 182.06it/s]\n",
      "Ep[119] loss:0.001 acc:1.000:   3%|██▊                                                                                    | 18/550 [00:00<00:02, 180.00it/s]"
     ]
    },
    {
     "name": "stdout",
     "output_type": "stream",
     "text": [
      "Epoch 118 Val loss:0.0925 acc:0.9738\n"
     ]
    },
    {
     "name": "stderr",
     "output_type": "stream",
     "text": [
      "Ep[119] loss:0.002 acc:1.000: 100%|██████████████████████████████████████████████████████████████████████████████████████| 550/550 [00:03<00:00, 179.39it/s]\n",
      "Ep[120] loss:0.002 acc:1.000:   3%|███                                                                                    | 19/550 [00:00<00:02, 179.24it/s]"
     ]
    },
    {
     "name": "stdout",
     "output_type": "stream",
     "text": [
      "Epoch 119 Val loss:0.0928 acc:0.9742\n"
     ]
    },
    {
     "name": "stderr",
     "output_type": "stream",
     "text": [
      "Ep[120] loss:0.002 acc:1.000: 100%|██████████████████████████████████████████████████████████████████████████████████████| 550/550 [00:03<00:00, 169.60it/s]\n",
      "Ep[121] loss:0.001 acc:1.000:   3%|██▌                                                                                    | 16/550 [00:00<00:03, 156.86it/s]"
     ]
    },
    {
     "name": "stdout",
     "output_type": "stream",
     "text": [
      "Epoch 120 Val loss:0.0926 acc:0.9742\n"
     ]
    },
    {
     "name": "stderr",
     "output_type": "stream",
     "text": [
      "Ep[121] loss:0.002 acc:1.000: 100%|██████████████████████████████████████████████████████████████████████████████████████| 550/550 [00:03<00:00, 172.90it/s]\n",
      "Ep[122] loss:0.001 acc:1.000:   3%|██▊                                                                                    | 18/550 [00:00<00:03, 171.43it/s]"
     ]
    },
    {
     "name": "stdout",
     "output_type": "stream",
     "text": [
      "Epoch 121 Val loss:0.0926 acc:0.9742\n"
     ]
    },
    {
     "name": "stderr",
     "output_type": "stream",
     "text": [
      "Ep[122] loss:0.002 acc:1.000: 100%|██████████████████████████████████████████████████████████████████████████████████████| 550/550 [00:03<00:00, 173.83it/s]\n",
      "Ep[123] loss:0.000 acc:1.000:   3%|███                                                                                    | 19/550 [00:00<00:02, 184.46it/s]"
     ]
    },
    {
     "name": "stdout",
     "output_type": "stream",
     "text": [
      "Epoch 122 Val loss:0.0932 acc:0.9744\n"
     ]
    },
    {
     "name": "stderr",
     "output_type": "stream",
     "text": [
      "Ep[123] loss:0.002 acc:1.000: 100%|██████████████████████████████████████████████████████████████████████████████████████| 550/550 [00:03<00:00, 180.09it/s]\n",
      "Ep[124] loss:0.001 acc:1.000:   3%|███                                                                                    | 19/550 [00:00<00:02, 180.95it/s]"
     ]
    },
    {
     "name": "stdout",
     "output_type": "stream",
     "text": [
      "Epoch 123 Val loss:0.0929 acc:0.9744\n"
     ]
    },
    {
     "name": "stderr",
     "output_type": "stream",
     "text": [
      "Ep[124] loss:0.002 acc:1.000: 100%|██████████████████████████████████████████████████████████████████████████████████████| 550/550 [00:03<00:00, 173.89it/s]\n",
      "Ep[125] loss:0.001 acc:1.000:   3%|██▊                                                                                    | 18/550 [00:00<00:03, 176.47it/s]"
     ]
    },
    {
     "name": "stdout",
     "output_type": "stream",
     "text": [
      "Epoch 124 Val loss:0.0933 acc:0.9742\n"
     ]
    },
    {
     "name": "stderr",
     "output_type": "stream",
     "text": [
      "Ep[125] loss:0.002 acc:1.000: 100%|██████████████████████████████████████████████████████████████████████████████████████| 550/550 [00:03<00:00, 174.88it/s]\n",
      "Ep[126] loss:0.001 acc:1.000:   3%|██▋                                                                                    | 17/550 [00:00<00:03, 163.46it/s]"
     ]
    },
    {
     "name": "stdout",
     "output_type": "stream",
     "text": [
      "Epoch 125 Val loss:0.0935 acc:0.9744\n"
     ]
    },
    {
     "name": "stderr",
     "output_type": "stream",
     "text": [
      "Ep[126] loss:0.002 acc:1.000: 100%|██████████████████████████████████████████████████████████████████████████████████████| 550/550 [00:03<00:00, 175.78it/s]\n",
      "Ep[127] loss:0.000 acc:1.000:   3%|██▋                                                                                    | 17/550 [00:00<00:03, 166.66it/s]"
     ]
    },
    {
     "name": "stdout",
     "output_type": "stream",
     "text": [
      "Epoch 126 Val loss:0.0935 acc:0.9744\n"
     ]
    },
    {
     "name": "stderr",
     "output_type": "stream",
     "text": [
      "Ep[127] loss:0.002 acc:1.000: 100%|██████████████████████████████████████████████████████████████████████████████████████| 550/550 [00:03<00:00, 171.82it/s]\n"
     ]
    },
    {
     "name": "stdout",
     "output_type": "stream",
     "text": [
      "Epoch 127 Val loss:0.0931 acc:0.9744\n",
      "\n",
      "Test acc is 0.9726\n",
      "\n",
      "[0.23210809588458556, 0.15377658833417282, 0.11320417657917689, 0.09496242865608451, 0.0850496347958595, 0.08019156397809785, 0.07664101756376147, 0.07508021742739912, 0.07496063083928356, 0.07557820345967987, 0.07442460929706049, 0.0744054555009611, 0.07461090499852045, 0.07678268357871558, 0.07665045952453395, 0.07784173799833032, 0.0774844252373114, 0.07845138458487329, 0.07798698973200077, 0.07813371347191553, 0.07862589755242226, 0.07785102014870568, 0.07702146272676212, 0.0750008515028153, 0.07433518586966917, 0.0730927731799301, 0.0710454271169964, 0.07034964774514983, 0.069396549450796, 0.06888657576719233, 0.07157164986768792, 0.06905564576951188, 0.06765707517703326, 0.0681518535444639, 0.0654776365906735, 0.06482671665040747, 0.06503906073272496, 0.06283580892541779, 0.06516495210903607, 0.061714925563905176, 0.06285455078977727, 0.0623984480900579, 0.06328643269445143, 0.06276815962403334, 0.060850078877994124, 0.061413847522926515, 0.06040391617955346, 0.060839137245695084, 0.06085217649852271, 0.06267139546205662, 0.06316000563878671, 0.06422826189046257, 0.0634415968795932, 0.06414136664072405, 0.06442522147922601, 0.06576475646001097, 0.06596986696077109, 0.06577582684783043, 0.06690196361458862, 0.06608711090351636, 0.06735334259426289, 0.06851618061647818, 0.06856405098006589, 0.0698549084909493, 0.07094621254917718, 0.07290516200285177, 0.07261555582116092, 0.07511402863855549, 0.07452878383189189, 0.07561182955491921, 0.07594025755893892, 0.07720912500052889, 0.07852656107106164, 0.07880578200614304, 0.07889522484432535, 0.07931054574777746, 0.08039821151594766, 0.08058405021174676, 0.08152327834612537, 0.08163139348875353, 0.08214090213994626, 0.08244762082651641, 0.08253055450241759, 0.08339054843561708, 0.08373036539865832, 0.08379869059457694, 0.08445383532203005, 0.08459957795801971, 0.08400011623353397, 0.08546284068754682, 0.08514913009295144, 0.08508179445276653, 0.08607538208628503, 0.08632009467061043, 0.08639516969377263, 0.08656373307365622, 0.0869085482938517, 0.08693748535828101, 0.08709907807297883, 0.08752342818343717, 0.0879549452785317, 0.08828601589728308, 0.08902417768918118, 0.08915922309709844, 0.08918326702513994, 0.08916704593737484, 0.08969985455527027, 0.09035685918543832, 0.09010489558876217, 0.09043675824007068, 0.09084144976345034, 0.09137903936737171, 0.09125776854999172, 0.09182565190964055, 0.09146227834995219, 0.09175495698706854, 0.0922105946365237, 0.09224968489603899, 0.09246133830525832, 0.09277347036942522, 0.09263288017278723, 0.09261887661385824, 0.09317057198370263, 0.09291142581432674, 0.09326421825697852, 0.09348741585889055, 0.09352644008458495, 0.09308279537250833] [0.937, 0.9504, 0.9554, 0.9614, 0.9636, 0.9636, 0.9644, 0.9654, 0.9666, 0.9676, 0.9686, 0.9682, 0.97, 0.9702, 0.971, 0.9708, 0.9712, 0.9716, 0.9716, 0.9714, 0.9716, 0.9716, 0.9726, 0.973, 0.9736, 0.974, 0.9742, 0.9738, 0.9734, 0.9732, 0.9738, 0.974, 0.9734, 0.9736, 0.9736, 0.9732, 0.9732, 0.9734, 0.973, 0.9732, 0.973, 0.9728, 0.9728, 0.973, 0.9732, 0.9732, 0.973, 0.9734, 0.973, 0.9738, 0.9738, 0.9738, 0.9736, 0.974, 0.9738, 0.974, 0.9736, 0.9738, 0.9736, 0.9738, 0.9736, 0.9732, 0.9736, 0.9732, 0.973, 0.9728, 0.973, 0.973, 0.973, 0.9728, 0.9726, 0.9726, 0.9726, 0.9724, 0.9728, 0.9726, 0.9728, 0.9724, 0.9724, 0.9722, 0.9724, 0.9726, 0.9728, 0.9732, 0.9732, 0.9734, 0.9736, 0.9734, 0.9734, 0.9736, 0.9738, 0.9738, 0.9738, 0.9738, 0.9738, 0.9736, 0.9736, 0.9736, 0.9736, 0.9736, 0.9736, 0.9736, 0.9736, 0.9736, 0.9736, 0.9734, 0.9734, 0.9736, 0.9736, 0.9736, 0.9738, 0.9738, 0.9738, 0.9738, 0.9738, 0.9738, 0.974, 0.9738, 0.9738, 0.9742, 0.9742, 0.9742, 0.9744, 0.9744, 0.9742, 0.9744, 0.9744, 0.9744]\n"
     ]
    },
    {
     "data": {
      "image/png": "[encoded data removed]",
      "text/plain": [
       "<Figure size 864x288 with 2 Axes>"
      ]
     },
     "metadata": {
      "needs_background": "light"
     },
     "output_type": "display_data"
    }
   ],
   "source": [
    "weight_decay = 0.002\n",
    "run_exp()"
   ]
  },
  {
   "cell_type": "code",
   "execution_count": 37,
   "metadata": {},
   "outputs": [
    {
     "name": "stderr",
     "output_type": "stream",
     "text": [
      "Ep[0] loss:0.447 acc:0.820: 100%|████████████████████████████████████████████████████████████████████████████████████████| 550/550 [00:02<00:00, 219.47it/s]\n",
      "C:\\Users\\thisi\\Anaconda3\\lib\\site-packages\\ipykernel_launcher.py:36: RuntimeWarning: invalid value encountered in log\n",
      "Ep[1] loss:0.382 acc:0.880:   4%|███▉                                                                                     | 24/550 [00:00<00:02, 230.76it/s]"
     ]
    },
    {
     "name": "stdout",
     "output_type": "stream",
     "text": [
      "Epoch 0 Val loss:0.1919 acc:0.9308\n"
     ]
    },
    {
     "name": "stderr",
     "output_type": "stream",
     "text": [
      "Ep[1] loss:0.295 acc:0.880: 100%|████████████████████████████████████████████████████████████████████████████████████████| 550/550 [00:02<00:00, 213.76it/s]\n",
      "Ep[2] loss:0.094 acc:0.980:   4%|███▋                                                                                     | 23/550 [00:00<00:02, 225.49it/s]"
     ]
    },
    {
     "name": "stdout",
     "output_type": "stream",
     "text": [
      "Epoch 1 Val loss:0.1512 acc:0.9466\n"
     ]
    },
    {
     "name": "stderr",
     "output_type": "stream",
     "text": [
      "Ep[2] loss:0.231 acc:0.920: 100%|████████████████████████████████████████████████████████████████████████████████████████| 550/550 [00:02<00:00, 215.52it/s]\n",
      "Ep[3] loss:0.157 acc:0.950:   4%|███▋                                                                                     | 23/550 [00:00<00:02, 227.72it/s]"
     ]
    },
    {
     "name": "stdout",
     "output_type": "stream",
     "text": [
      "Epoch 2 Val loss:0.1364 acc:0.9546\n"
     ]
    },
    {
     "name": "stderr",
     "output_type": "stream",
     "text": [
      "Ep[3] loss:0.188 acc:0.950: 100%|████████████████████████████████████████████████████████████████████████████████████████| 550/550 [00:02<00:00, 221.86it/s]\n",
      "Ep[4] loss:0.199 acc:0.930:   4%|███▉                                                                                     | 24/550 [00:00<00:02, 228.57it/s]"
     ]
    },
    {
     "name": "stdout",
     "output_type": "stream",
     "text": [
      "Epoch 3 Val loss:0.1260 acc:0.9568\n"
     ]
    },
    {
     "name": "stderr",
     "output_type": "stream",
     "text": [
      "Ep[4] loss:0.157 acc:0.970: 100%|████████████████████████████████████████████████████████████████████████████████████████| 550/550 [00:02<00:00, 185.00it/s]\n",
      "Ep[5] loss:0.157 acc:0.960:   3%|██▉                                                                                      | 18/550 [00:00<00:03, 171.44it/s]"
     ]
    },
    {
     "name": "stdout",
     "output_type": "stream",
     "text": [
      "Epoch 4 Val loss:0.1224 acc:0.9616\n"
     ]
    },
    {
     "name": "stderr",
     "output_type": "stream",
     "text": [
      "Ep[5] loss:0.130 acc:0.970: 100%|████████████████████████████████████████████████████████████████████████████████████████| 550/550 [00:03<00:00, 180.27it/s]\n",
      "Ep[6] loss:0.139 acc:0.960:   3%|██▊                                                                                      | 17/550 [00:00<00:03, 168.32it/s]"
     ]
    },
    {
     "name": "stdout",
     "output_type": "stream",
     "text": [
      "Epoch 5 Val loss:0.1205 acc:0.9648\n"
     ]
    },
    {
     "name": "stderr",
     "output_type": "stream",
     "text": [
      "Ep[6] loss:0.108 acc:0.980: 100%|████████████████████████████████████████████████████████████████████████████████████████| 550/550 [00:03<00:00, 175.49it/s]\n",
      "Ep[7] loss:0.037 acc:1.000:   4%|███▏                                                                                     | 20/550 [00:00<00:02, 200.00it/s]"
     ]
    },
    {
     "name": "stdout",
     "output_type": "stream",
     "text": [
      "Epoch 6 Val loss:0.1165 acc:0.9664\n"
     ]
    },
    {
     "name": "stderr",
     "output_type": "stream",
     "text": [
      "Ep[7] loss:0.093 acc:0.980: 100%|████████████████████████████████████████████████████████████████████████████████████████| 550/550 [00:03<00:00, 179.27it/s]\n",
      "Ep[8] loss:0.030 acc:1.000:   4%|███▏                                                                                     | 20/550 [00:00<00:02, 194.17it/s]"
     ]
    },
    {
     "name": "stdout",
     "output_type": "stream",
     "text": [
      "Epoch 7 Val loss:0.1117 acc:0.9686\n"
     ]
    },
    {
     "name": "stderr",
     "output_type": "stream",
     "text": [
      "Ep[8] loss:0.083 acc:0.990: 100%|████████████████████████████████████████████████████████████████████████████████████████| 550/550 [00:03<00:00, 182.00it/s]\n",
      "Ep[9] loss:0.026 acc:1.000:   3%|███                                                                                      | 19/550 [00:00<00:02, 188.11it/s]"
     ]
    },
    {
     "name": "stdout",
     "output_type": "stream",
     "text": [
      "Epoch 8 Val loss:0.1090 acc:0.9682\n"
     ]
    },
    {
     "name": "stderr",
     "output_type": "stream",
     "text": [
      "Ep[9] loss:0.074 acc:0.990: 100%|████████████████████████████████████████████████████████████████████████████████████████| 550/550 [00:03<00:00, 179.33it/s]\n",
      "Ep[10] loss:0.019 acc:1.000:   3%|██▉                                                                                     | 18/550 [00:00<00:03, 176.48it/s]"
     ]
    },
    {
     "name": "stdout",
     "output_type": "stream",
     "text": [
      "Epoch 9 Val loss:0.1063 acc:0.9684\n"
     ]
    },
    {
     "name": "stderr",
     "output_type": "stream",
     "text": [
      "Ep[10] loss:0.069 acc:0.990: 100%|███████████████████████████████████████████████████████████████████████████████████████| 550/550 [00:03<00:00, 172.47it/s]\n",
      "Ep[11] loss:0.017 acc:1.000:   3%|██▋                                                                                     | 17/550 [00:00<00:03, 169.99it/s]"
     ]
    },
    {
     "name": "stdout",
     "output_type": "stream",
     "text": [
      "Epoch 10 Val loss:0.1034 acc:0.9686\n"
     ]
    },
    {
     "name": "stderr",
     "output_type": "stream",
     "text": [
      "Ep[11] loss:0.066 acc:0.990: 100%|███████████████████████████████████████████████████████████████████████████████████████| 550/550 [00:03<00:00, 179.39it/s]\n",
      "Ep[12] loss:0.073 acc:0.990:   3%|██▉                                                                                     | 18/550 [00:00<00:03, 176.47it/s]"
     ]
    },
    {
     "name": "stdout",
     "output_type": "stream",
     "text": [
      "Epoch 11 Val loss:0.1018 acc:0.9686\n"
     ]
    },
    {
     "name": "stderr",
     "output_type": "stream",
     "text": [
      "Ep[12] loss:0.061 acc:0.990: 100%|███████████████████████████████████████████████████████████████████████████████████████| 550/550 [00:03<00:00, 172.04it/s]\n",
      "Ep[13] loss:0.056 acc:0.990:   3%|██▌                                                                                     | 16/550 [00:00<00:03, 155.33it/s]"
     ]
    },
    {
     "name": "stdout",
     "output_type": "stream",
     "text": [
      "Epoch 12 Val loss:0.0996 acc:0.9692\n"
     ]
    },
    {
     "name": "stderr",
     "output_type": "stream",
     "text": [
      "Ep[13] loss:0.057 acc:0.990: 100%|███████████████████████████████████████████████████████████████████████████████████████| 550/550 [00:03<00:00, 173.72it/s]\n",
      "Ep[14] loss:0.053 acc:1.000:   3%|██▋                                                                                     | 17/550 [00:00<00:03, 168.31it/s]"
     ]
    },
    {
     "name": "stdout",
     "output_type": "stream",
     "text": [
      "Epoch 13 Val loss:0.0987 acc:0.9694\n"
     ]
    },
    {
     "name": "stderr",
     "output_type": "stream",
     "text": [
      "Ep[14] loss:0.055 acc:0.990: 100%|███████████████████████████████████████████████████████████████████████████████████████| 550/550 [00:03<00:00, 168.97it/s]\n",
      "Ep[15] loss:0.059 acc:0.990:   3%|███                                                                                     | 19/550 [00:00<00:02, 190.00it/s]"
     ]
    },
    {
     "name": "stdout",
     "output_type": "stream",
     "text": [
      "Epoch 14 Val loss:0.0985 acc:0.9704\n"
     ]
    },
    {
     "name": "stderr",
     "output_type": "stream",
     "text": [
      "Ep[15] loss:0.051 acc:0.990: 100%|███████████████████████████████████████████████████████████████████████████████████████| 550/550 [00:03<00:00, 172.20it/s]\n",
      "Ep[16] loss:0.142 acc:0.970:   3%|██▍                                                                                     | 15/550 [00:00<00:03, 150.00it/s]"
     ]
    },
    {
     "name": "stdout",
     "output_type": "stream",
     "text": [
      "Epoch 15 Val loss:0.0967 acc:0.9706\n"
     ]
    },
    {
     "name": "stderr",
     "output_type": "stream",
     "text": [
      "Ep[16] loss:0.048 acc:0.990: 100%|███████████████████████████████████████████████████████████████████████████████████████| 550/550 [00:03<00:00, 165.46it/s]\n",
      "Ep[17] loss:0.052 acc:0.990:   3%|███                                                                                     | 19/550 [00:00<00:02, 182.69it/s]"
     ]
    },
    {
     "name": "stdout",
     "output_type": "stream",
     "text": [
      "Epoch 16 Val loss:0.0964 acc:0.9712\n"
     ]
    },
    {
     "name": "stderr",
     "output_type": "stream",
     "text": [
      "Ep[17] loss:0.045 acc:0.990: 100%|███████████████████████████████████████████████████████████████████████████████████████| 550/550 [00:03<00:00, 166.16it/s]\n",
      "Ep[18] loss:0.049 acc:0.990:   3%|██▉                                                                                     | 18/550 [00:00<00:03, 174.76it/s]"
     ]
    },
    {
     "name": "stdout",
     "output_type": "stream",
     "text": [
      "Epoch 17 Val loss:0.0951 acc:0.9712\n"
     ]
    },
    {
     "name": "stderr",
     "output_type": "stream",
     "text": [
      "Ep[18] loss:0.042 acc:1.000: 100%|███████████████████████████████████████████████████████████████████████████████████████| 550/550 [00:03<00:00, 174.16it/s]\n",
      "Ep[19] loss:0.080 acc:0.970:   3%|██▋                                                                                     | 17/550 [00:00<00:03, 163.46it/s]"
     ]
    },
    {
     "name": "stdout",
     "output_type": "stream",
     "text": [
      "Epoch 18 Val loss:0.0930 acc:0.9718\n"
     ]
    },
    {
     "name": "stderr",
     "output_type": "stream",
     "text": [
      "Ep[19] loss:0.040 acc:1.000: 100%|███████████████████████████████████████████████████████████████████████████████████████| 550/550 [00:03<00:00, 168.45it/s]\n",
      "Ep[20] loss:0.010 acc:1.000:   3%|██▋                                                                                     | 17/550 [00:00<00:03, 168.32it/s]"
     ]
    },
    {
     "name": "stdout",
     "output_type": "stream",
     "text": [
      "Epoch 19 Val loss:0.0933 acc:0.9718\n"
     ]
    },
    {
     "name": "stderr",
     "output_type": "stream",
     "text": [
      "Ep[20] loss:0.038 acc:1.000: 100%|███████████████████████████████████████████████████████████████████████████████████████| 550/550 [00:03<00:00, 166.01it/s]\n",
      "Ep[21] loss:0.021 acc:1.000:   3%|██▉                                                                                     | 18/550 [00:00<00:03, 169.81it/s]"
     ]
    },
    {
     "name": "stdout",
     "output_type": "stream",
     "text": [
      "Epoch 20 Val loss:0.0918 acc:0.9720\n"
     ]
    },
    {
     "name": "stderr",
     "output_type": "stream",
     "text": [
      "Ep[21] loss:0.036 acc:1.000: 100%|███████████████████████████████████████████████████████████████████████████████████████| 550/550 [00:03<00:00, 169.81it/s]\n",
      "Ep[22] loss:0.041 acc:0.990:   3%|██▋                                                                                     | 17/550 [00:00<00:03, 163.46it/s]"
     ]
    },
    {
     "name": "stdout",
     "output_type": "stream",
     "text": [
      "Epoch 21 Val loss:0.0918 acc:0.9716\n"
     ]
    },
    {
     "name": "stderr",
     "output_type": "stream",
     "text": [
      "Ep[22] loss:0.034 acc:1.000: 100%|███████████████████████████████████████████████████████████████████████████████████████| 550/550 [00:03<00:00, 165.51it/s]\n",
      "Ep[23] loss:0.011 acc:1.000:   3%|██▉                                                                                     | 18/550 [00:00<00:02, 178.22it/s]"
     ]
    },
    {
     "name": "stdout",
     "output_type": "stream",
     "text": [
      "Epoch 22 Val loss:0.0919 acc:0.9718\n"
     ]
    },
    {
     "name": "stderr",
     "output_type": "stream",
     "text": [
      "Ep[23] loss:0.033 acc:1.000: 100%|███████████████████████████████████████████████████████████████████████████████████████| 550/550 [00:03<00:00, 170.07it/s]\n",
      "Ep[24] loss:0.038 acc:0.990:   3%|██▋                                                                                     | 17/550 [00:00<00:03, 165.05it/s]"
     ]
    },
    {
     "name": "stdout",
     "output_type": "stream",
     "text": [
      "Epoch 23 Val loss:0.0924 acc:0.9720\n"
     ]
    },
    {
     "name": "stderr",
     "output_type": "stream",
     "text": [
      "Ep[24] loss:0.033 acc:1.000: 100%|███████████████████████████████████████████████████████████████████████████████████████| 550/550 [00:03<00:00, 167.17it/s]\n",
      "Ep[25] loss:0.068 acc:0.990:   3%|██▋                                                                                     | 17/550 [00:00<00:03, 163.46it/s]"
     ]
    },
    {
     "name": "stdout",
     "output_type": "stream",
     "text": [
      "Epoch 24 Val loss:0.0917 acc:0.9726\n"
     ]
    },
    {
     "name": "stderr",
     "output_type": "stream",
     "text": [
      "Ep[25] loss:0.031 acc:1.000: 100%|███████████████████████████████████████████████████████████████████████████████████████| 550/550 [00:03<00:00, 169.75it/s]\n",
      "Ep[26] loss:0.021 acc:1.000:   3%|██▏                                                                                     | 14/550 [00:00<00:04, 130.84it/s]"
     ]
    },
    {
     "name": "stdout",
     "output_type": "stream",
     "text": [
      "Epoch 25 Val loss:0.0932 acc:0.9730\n"
     ]
    },
    {
     "name": "stderr",
     "output_type": "stream",
     "text": [
      "Ep[26] loss:0.029 acc:1.000: 100%|███████████████████████████████████████████████████████████████████████████████████████| 550/550 [00:03<00:00, 164.62it/s]\n",
      "Ep[27] loss:0.014 acc:1.000:   3%|██▋                                                                                     | 17/550 [00:00<00:03, 168.31it/s]"
     ]
    },
    {
     "name": "stdout",
     "output_type": "stream",
     "text": [
      "Epoch 26 Val loss:0.0934 acc:0.9728\n"
     ]
    },
    {
     "name": "stderr",
     "output_type": "stream",
     "text": [
      "Ep[27] loss:0.028 acc:1.000: 100%|███████████████████████████████████████████████████████████████████████████████████████| 550/550 [00:03<00:00, 165.71it/s]\n",
      "Ep[28] loss:0.025 acc:0.990:   3%|██▋                                                                                     | 17/550 [00:00<00:03, 163.46it/s]"
     ]
    },
    {
     "name": "stdout",
     "output_type": "stream",
     "text": [
      "Epoch 27 Val loss:0.0946 acc:0.9728\n"
     ]
    },
    {
     "name": "stderr",
     "output_type": "stream",
     "text": [
      "Ep[28] loss:0.027 acc:1.000: 100%|███████████████████████████████████████████████████████████████████████████████████████| 550/550 [00:03<00:00, 174.99it/s]\n",
      "Ep[29] loss:0.007 acc:1.000:   3%|██▉                                                                                     | 18/550 [00:00<00:02, 179.99it/s]"
     ]
    },
    {
     "name": "stdout",
     "output_type": "stream",
     "text": [
      "Epoch 28 Val loss:0.0950 acc:0.9728\n"
     ]
    },
    {
     "name": "stderr",
     "output_type": "stream",
     "text": [
      "Ep[29] loss:0.026 acc:1.000: 100%|███████████████████████████████████████████████████████████████████████████████████████| 550/550 [00:03<00:00, 171.23it/s]\n",
      "Ep[30] loss:0.012 acc:1.000:   3%|██▋                                                                                     | 17/550 [00:00<00:03, 168.32it/s]"
     ]
    },
    {
     "name": "stdout",
     "output_type": "stream",
     "text": [
      "Epoch 29 Val loss:0.0961 acc:0.9730\n"
     ]
    },
    {
     "name": "stderr",
     "output_type": "stream",
     "text": [
      "Ep[30] loss:0.025 acc:1.000: 100%|███████████████████████████████████████████████████████████████████████████████████████| 550/550 [00:03<00:00, 172.79it/s]\n",
      "Ep[31] loss:0.023 acc:1.000:   3%|██▋                                                                                     | 17/550 [00:00<00:03, 166.67it/s]"
     ]
    },
    {
     "name": "stdout",
     "output_type": "stream",
     "text": [
      "Epoch 30 Val loss:0.0961 acc:0.9730\n"
     ]
    },
    {
     "name": "stderr",
     "output_type": "stream",
     "text": [
      "Ep[31] loss:0.024 acc:1.000: 100%|███████████████████████████████████████████████████████████████████████████████████████| 550/550 [00:03<00:00, 169.07it/s]\n",
      "Ep[32] loss:0.007 acc:1.000:   3%|███                                                                                     | 19/550 [00:00<00:02, 182.69it/s]"
     ]
    },
    {
     "name": "stdout",
     "output_type": "stream",
     "text": [
      "Epoch 31 Val loss:0.0958 acc:0.9736\n"
     ]
    },
    {
     "name": "stderr",
     "output_type": "stream",
     "text": [
      "Ep[32] loss:0.023 acc:1.000: 100%|███████████████████████████████████████████████████████████████████████████████████████| 550/550 [00:03<00:00, 172.85it/s]\n",
      "Ep[33] loss:0.020 acc:1.000:   3%|██▋                                                                                     | 17/550 [00:00<00:03, 168.32it/s]"
     ]
    },
    {
     "name": "stdout",
     "output_type": "stream",
     "text": [
      "Epoch 32 Val loss:0.0976 acc:0.9738\n"
     ]
    },
    {
     "name": "stderr",
     "output_type": "stream",
     "text": [
      "Ep[33] loss:0.022 acc:1.000: 100%|███████████████████████████████████████████████████████████████████████████████████████| 550/550 [00:03<00:00, 174.94it/s]\n",
      "Ep[34] loss:0.007 acc:1.000:   3%|███                                                                                     | 19/550 [00:00<00:02, 184.46it/s]"
     ]
    },
    {
     "name": "stdout",
     "output_type": "stream",
     "text": [
      "Epoch 33 Val loss:0.0967 acc:0.9740\n"
     ]
    },
    {
     "name": "stderr",
     "output_type": "stream",
     "text": [
      "Ep[34] loss:0.021 acc:1.000: 100%|███████████████████████████████████████████████████████████████████████████████████████| 550/550 [00:03<00:00, 164.97it/s]\n",
      "Ep[35] loss:0.018 acc:1.000:   3%|██▋                                                                                     | 17/550 [00:00<00:03, 170.00it/s]"
     ]
    },
    {
     "name": "stdout",
     "output_type": "stream",
     "text": [
      "Epoch 34 Val loss:0.0984 acc:0.9740\n"
     ]
    },
    {
     "name": "stderr",
     "output_type": "stream",
     "text": [
      "Ep[35] loss:0.020 acc:1.000: 100%|███████████████████████████████████████████████████████████████████████████████████████| 550/550 [00:03<00:00, 169.54it/s]\n",
      "Ep[36] loss:0.016 acc:1.000:   3%|██▋                                                                                     | 17/550 [00:00<00:03, 163.46it/s]"
     ]
    },
    {
     "name": "stdout",
     "output_type": "stream",
     "text": [
      "Epoch 35 Val loss:0.0988 acc:0.9734\n"
     ]
    },
    {
     "name": "stderr",
     "output_type": "stream",
     "text": [
      "Ep[36] loss:0.020 acc:1.000: 100%|███████████████████████████████████████████████████████████████████████████████████████| 550/550 [00:03<00:00, 165.51it/s]\n",
      "Ep[37] loss:0.008 acc:1.000:   3%|██▋                                                                                     | 17/550 [00:00<00:03, 163.47it/s]"
     ]
    },
    {
     "name": "stdout",
     "output_type": "stream",
     "text": [
      "Epoch 36 Val loss:0.0984 acc:0.9736\n"
     ]
    },
    {
     "name": "stderr",
     "output_type": "stream",
     "text": [
      "Ep[37] loss:0.020 acc:1.000: 100%|███████████████████████████████████████████████████████████████████████████████████████| 550/550 [00:03<00:00, 168.09it/s]\n",
      "Ep[38] loss:0.026 acc:0.990:   4%|███▎                                                                                    | 21/550 [00:00<00:02, 203.88it/s]"
     ]
    },
    {
     "name": "stdout",
     "output_type": "stream",
     "text": [
      "Epoch 37 Val loss:0.0982 acc:0.9730\n"
     ]
    },
    {
     "name": "stderr",
     "output_type": "stream",
     "text": [
      "Ep[38] loss:0.019 acc:1.000: 100%|███████████████████████████████████████████████████████████████████████████████████████| 550/550 [00:03<00:00, 169.83it/s]\n",
      "Ep[39] loss:0.001 acc:1.000:   2%|█▌                                                                                       | 10/550 [00:00<00:05, 99.01it/s]"
     ]
    },
    {
     "name": "stdout",
     "output_type": "stream",
     "text": [
      "Epoch 38 Val loss:0.0988 acc:0.9736\n"
     ]
    },
    {
     "name": "stderr",
     "output_type": "stream",
     "text": [
      "Ep[39] loss:0.018 acc:1.000: 100%|███████████████████████████████████████████████████████████████████████████████████████| 550/550 [00:03<00:00, 165.71it/s]\n",
      "Ep[40] loss:0.005 acc:1.000:   3%|██▉                                                                                     | 18/550 [00:00<00:03, 173.07it/s]"
     ]
    },
    {
     "name": "stdout",
     "output_type": "stream",
     "text": [
      "Epoch 39 Val loss:0.0995 acc:0.9736\n"
     ]
    },
    {
     "name": "stderr",
     "output_type": "stream",
     "text": [
      "Ep[40] loss:0.018 acc:1.000: 100%|███████████████████████████████████████████████████████████████████████████████████████| 550/550 [00:03<00:00, 174.44it/s]\n",
      "Ep[41] loss:0.039 acc:0.990:   3%|██▋                                                                                     | 17/550 [00:00<00:03, 163.46it/s]"
     ]
    },
    {
     "name": "stdout",
     "output_type": "stream",
     "text": [
      "Epoch 40 Val loss:0.1011 acc:0.9738\n"
     ]
    },
    {
     "name": "stderr",
     "output_type": "stream",
     "text": [
      "Ep[41] loss:0.017 acc:1.000: 100%|███████████████████████████████████████████████████████████████████████████████████████| 550/550 [00:03<00:00, 176.34it/s]\n",
      "Ep[42] loss:0.010 acc:1.000:   3%|██▋                                                                                     | 17/550 [00:00<00:03, 161.90it/s]"
     ]
    },
    {
     "name": "stdout",
     "output_type": "stream",
     "text": [
      "Epoch 41 Val loss:0.1018 acc:0.9738\n"
     ]
    },
    {
     "name": "stderr",
     "output_type": "stream",
     "text": [
      "Ep[42] loss:0.017 acc:1.000: 100%|███████████████████████████████████████████████████████████████████████████████████████| 550/550 [00:03<00:00, 169.86it/s]\n",
      "Ep[43] loss:0.006 acc:1.000:   3%|██▋                                                                                     | 17/550 [00:00<00:03, 166.67it/s]"
     ]
    },
    {
     "name": "stdout",
     "output_type": "stream",
     "text": [
      "Epoch 42 Val loss:0.1035 acc:0.9736\n"
     ]
    },
    {
     "name": "stderr",
     "output_type": "stream",
     "text": [
      "Ep[43] loss:0.016 acc:1.000: 100%|███████████████████████████████████████████████████████████████████████████████████████| 550/550 [00:03<00:00, 169.86it/s]\n",
      "Ep[44] loss:0.009 acc:1.000:   3%|██▋                                                                                     | 17/550 [00:00<00:03, 165.04it/s]"
     ]
    },
    {
     "name": "stdout",
     "output_type": "stream",
     "text": [
      "Epoch 43 Val loss:0.1037 acc:0.9736\n"
     ]
    },
    {
     "name": "stderr",
     "output_type": "stream",
     "text": [
      "Ep[44] loss:0.016 acc:1.000: 100%|███████████████████████████████████████████████████████████████████████████████████████| 550/550 [00:03<00:00, 175.55it/s]\n",
      "Ep[45] loss:0.010 acc:1.000:   3%|██▉                                                                                     | 18/550 [00:00<00:03, 173.07it/s]"
     ]
    },
    {
     "name": "stdout",
     "output_type": "stream",
     "text": [
      "Epoch 44 Val loss:0.1053 acc:0.9740\n"
     ]
    },
    {
     "name": "stderr",
     "output_type": "stream",
     "text": [
      "Ep[45] loss:0.015 acc:1.000: 100%|███████████████████████████████████████████████████████████████████████████████████████| 550/550 [00:03<00:00, 163.59it/s]\n",
      "Ep[46] loss:0.009 acc:1.000:   3%|██▉                                                                                     | 18/550 [00:00<00:02, 180.00it/s]"
     ]
    },
    {
     "name": "stdout",
     "output_type": "stream",
     "text": [
      "Epoch 45 Val loss:0.1041 acc:0.9738\n"
     ]
    },
    {
     "name": "stderr",
     "output_type": "stream",
     "text": [
      "Ep[46] loss:0.015 acc:1.000: 100%|███████████████████████████████████████████████████████████████████████████████████████| 550/550 [00:03<00:00, 176.00it/s]\n",
      "Ep[47] loss:0.004 acc:1.000:   3%|███                                                                                     | 19/550 [00:00<00:02, 179.24it/s]"
     ]
    },
    {
     "name": "stdout",
     "output_type": "stream",
     "text": [
      "Epoch 46 Val loss:0.1056 acc:0.9738\n"
     ]
    },
    {
     "name": "stderr",
     "output_type": "stream",
     "text": [
      "Ep[47] loss:0.014 acc:1.000: 100%|███████████████████████████████████████████████████████████████████████████████████████| 550/550 [00:03<00:00, 179.27it/s]\n",
      "Ep[48] loss:0.003 acc:1.000:   3%|██▉                                                                                     | 18/550 [00:00<00:02, 178.22it/s]"
     ]
    },
    {
     "name": "stdout",
     "output_type": "stream",
     "text": [
      "Epoch 47 Val loss:0.1065 acc:0.9736\n"
     ]
    },
    {
     "name": "stderr",
     "output_type": "stream",
     "text": [
      "Ep[48] loss:0.014 acc:1.000: 100%|███████████████████████████████████████████████████████████████████████████████████████| 550/550 [00:03<00:00, 173.34it/s]\n",
      "Ep[49] loss:0.007 acc:1.000:   3%|██▋                                                                                     | 17/550 [00:00<00:03, 166.66it/s]"
     ]
    },
    {
     "name": "stdout",
     "output_type": "stream",
     "text": [
      "Epoch 48 Val loss:0.1075 acc:0.9732\n"
     ]
    },
    {
     "name": "stderr",
     "output_type": "stream",
     "text": [
      "Ep[49] loss:0.013 acc:1.000: 100%|███████████████████████████████████████████████████████████████████████████████████████| 550/550 [00:03<00:00, 173.45it/s]\n",
      "Ep[50] loss:0.003 acc:1.000:   3%|██▉                                                                                     | 18/550 [00:00<00:02, 178.22it/s]"
     ]
    },
    {
     "name": "stdout",
     "output_type": "stream",
     "text": [
      "Epoch 49 Val loss:0.1083 acc:0.9730\n"
     ]
    },
    {
     "name": "stderr",
     "output_type": "stream",
     "text": [
      "Ep[50] loss:0.013 acc:1.000: 100%|███████████████████████████████████████████████████████████████████████████████████████| 550/550 [00:03<00:00, 170.02it/s]\n",
      "Ep[51] loss:0.007 acc:1.000:   3%|██▋                                                                                     | 17/550 [00:00<00:03, 165.07it/s]"
     ]
    },
    {
     "name": "stdout",
     "output_type": "stream",
     "text": [
      "Epoch 50 Val loss:0.1086 acc:0.9728\n"
     ]
    },
    {
     "name": "stderr",
     "output_type": "stream",
     "text": [
      "Ep[51] loss:0.012 acc:1.000: 100%|███████████████████████████████████████████████████████████████████████████████████████| 550/550 [00:03<00:00, 173.34it/s]\n",
      "Ep[52] loss:0.003 acc:1.000:   3%|██▉                                                                                     | 18/550 [00:00<00:03, 174.76it/s]"
     ]
    },
    {
     "name": "stdout",
     "output_type": "stream",
     "text": [
      "Epoch 51 Val loss:0.1107 acc:0.9732\n"
     ]
    },
    {
     "name": "stderr",
     "output_type": "stream",
     "text": [
      "Ep[52] loss:0.012 acc:1.000: 100%|███████████████████████████████████████████████████████████████████████████████████████| 550/550 [00:03<00:00, 172.04it/s]\n",
      "Ep[53] loss:0.003 acc:1.000:   2%|█▉                                                                                      | 12/550 [00:00<00:04, 113.21it/s]"
     ]
    },
    {
     "name": "stdout",
     "output_type": "stream",
     "text": [
      "Epoch 52 Val loss:0.1115 acc:0.9732\n"
     ]
    },
    {
     "name": "stderr",
     "output_type": "stream",
     "text": [
      "Ep[53] loss:0.011 acc:1.000: 100%|███████████████████████████████████████████████████████████████████████████████████████| 550/550 [00:03<00:00, 171.07it/s]\n",
      "Ep[54] loss:0.005 acc:1.000:   3%|███                                                                                     | 19/550 [00:00<00:02, 188.12it/s]"
     ]
    },
    {
     "name": "stdout",
     "output_type": "stream",
     "text": [
      "Epoch 53 Val loss:0.1119 acc:0.9730\n"
     ]
    },
    {
     "name": "stderr",
     "output_type": "stream",
     "text": [
      "Ep[54] loss:0.011 acc:1.000: 100%|███████████████████████████████████████████████████████████████████████████████████████| 550/550 [00:03<00:00, 179.56it/s]\n",
      "Ep[55] loss:0.003 acc:1.000:   3%|██▉                                                                                     | 18/550 [00:00<00:02, 178.21it/s]"
     ]
    },
    {
     "name": "stdout",
     "output_type": "stream",
     "text": [
      "Epoch 54 Val loss:0.1121 acc:0.9734\n"
     ]
    },
    {
     "name": "stderr",
     "output_type": "stream",
     "text": [
      "Ep[55] loss:0.010 acc:1.000: 100%|███████████████████████████████████████████████████████████████████████████████████████| 550/550 [00:03<00:00, 175.83it/s]\n",
      "Ep[56] loss:0.005 acc:1.000:   3%|██▉                                                                                     | 18/550 [00:00<00:03, 176.47it/s]"
     ]
    },
    {
     "name": "stdout",
     "output_type": "stream",
     "text": [
      "Epoch 55 Val loss:0.1153 acc:0.9742\n"
     ]
    },
    {
     "name": "stderr",
     "output_type": "stream",
     "text": [
      "Ep[56] loss:0.010 acc:1.000: 100%|███████████████████████████████████████████████████████████████████████████████████████| 550/550 [00:03<00:00, 176.56it/s]\n",
      "Ep[57] loss:0.005 acc:1.000:   3%|██▉                                                                                     | 18/550 [00:00<00:03, 176.48it/s]"
     ]
    },
    {
     "name": "stdout",
     "output_type": "stream",
     "text": [
      "Epoch 56 Val loss:0.1143 acc:0.9738\n"
     ]
    },
    {
     "name": "stderr",
     "output_type": "stream",
     "text": [
      "Ep[57] loss:0.009 acc:1.000: 100%|███████████████████████████████████████████████████████████████████████████████████████| 550/550 [00:03<00:00, 173.06it/s]\n",
      "Ep[58] loss:0.003 acc:1.000:   3%|██▉                                                                                     | 18/550 [00:00<00:03, 174.76it/s]"
     ]
    },
    {
     "name": "stdout",
     "output_type": "stream",
     "text": [
      "Epoch 57 Val loss:0.1154 acc:0.9736\n"
     ]
    },
    {
     "name": "stderr",
     "output_type": "stream",
     "text": [
      "Ep[58] loss:0.009 acc:1.000: 100%|███████████████████████████████████████████████████████████████████████████████████████| 550/550 [00:03<00:00, 169.39it/s]\n",
      "Ep[59] loss:0.003 acc:1.000:   3%|██▉                                                                                     | 18/550 [00:00<00:02, 178.22it/s]"
     ]
    },
    {
     "name": "stdout",
     "output_type": "stream",
     "text": [
      "Epoch 58 Val loss:0.1172 acc:0.9736\n"
     ]
    },
    {
     "name": "stderr",
     "output_type": "stream",
     "text": [
      "Ep[59] loss:0.009 acc:1.000: 100%|███████████████████████████████████████████████████████████████████████████████████████| 550/550 [00:03<00:00, 174.66it/s]\n",
      "Ep[60] loss:0.003 acc:1.000:   3%|██▋                                                                                     | 17/550 [00:00<00:03, 170.00it/s]"
     ]
    },
    {
     "name": "stdout",
     "output_type": "stream",
     "text": [
      "Epoch 59 Val loss:0.1158 acc:0.9740\n"
     ]
    },
    {
     "name": "stderr",
     "output_type": "stream",
     "text": [
      "Ep[60] loss:0.008 acc:1.000: 100%|███████████████████████████████████████████████████████████████████████████████████████| 550/550 [00:03<00:00, 173.28it/s]\n",
      "Ep[61] loss:0.003 acc:1.000:   3%|██▉                                                                                     | 18/550 [00:00<00:03, 171.43it/s]"
     ]
    },
    {
     "name": "stdout",
     "output_type": "stream",
     "text": [
      "Epoch 60 Val loss:0.1178 acc:0.9744\n"
     ]
    },
    {
     "name": "stderr",
     "output_type": "stream",
     "text": [
      "Ep[61] loss:0.008 acc:1.000: 100%|███████████████████████████████████████████████████████████████████████████████████████| 550/550 [00:03<00:00, 175.72it/s]\n",
      "Ep[62] loss:0.004 acc:1.000:   3%|██▋                                                                                     | 17/550 [00:00<00:03, 168.31it/s]"
     ]
    },
    {
     "name": "stdout",
     "output_type": "stream",
     "text": [
      "Epoch 61 Val loss:0.1180 acc:0.9744\n"
     ]
    },
    {
     "name": "stderr",
     "output_type": "stream",
     "text": [
      "Ep[62] loss:0.008 acc:1.000: 100%|███████████████████████████████████████████████████████████████████████████████████████| 550/550 [00:03<00:00, 167.99it/s]\n",
      "Ep[63] loss:0.003 acc:1.000:   3%|███                                                                                     | 19/550 [00:00<00:02, 182.69it/s]"
     ]
    },
    {
     "name": "stdout",
     "output_type": "stream",
     "text": [
      "Epoch 62 Val loss:0.1181 acc:0.9742\n"
     ]
    },
    {
     "name": "stderr",
     "output_type": "stream",
     "text": [
      "Ep[63] loss:0.007 acc:1.000: 100%|███████████████████████████████████████████████████████████████████████████████████████| 550/550 [00:03<00:00, 171.98it/s]\n",
      "Ep[64] loss:0.001 acc:1.000:   3%|███                                                                                     | 19/550 [00:00<00:02, 179.25it/s]"
     ]
    },
    {
     "name": "stdout",
     "output_type": "stream",
     "text": [
      "Epoch 63 Val loss:0.1191 acc:0.9744\n"
     ]
    },
    {
     "name": "stderr",
     "output_type": "stream",
     "text": [
      "Ep[64] loss:0.007 acc:1.000: 100%|███████████████████████████████████████████████████████████████████████████████████████| 550/550 [00:03<00:00, 167.33it/s]\n",
      "Ep[65] loss:0.002 acc:1.000:   3%|██▋                                                                                     | 17/550 [00:00<00:03, 168.32it/s]"
     ]
    },
    {
     "name": "stdout",
     "output_type": "stream",
     "text": [
      "Epoch 64 Val loss:0.1188 acc:0.9742\n"
     ]
    },
    {
     "name": "stderr",
     "output_type": "stream",
     "text": [
      "Ep[65] loss:0.007 acc:1.000: 100%|███████████████████████████████████████████████████████████████████████████████████████| 550/550 [00:03<00:00, 171.07it/s]\n",
      "Ep[66] loss:0.002 acc:1.000:   3%|██▉                                                                                     | 18/550 [00:00<00:03, 169.81it/s]"
     ]
    },
    {
     "name": "stdout",
     "output_type": "stream",
     "text": [
      "Epoch 65 Val loss:0.1190 acc:0.9744\n"
     ]
    },
    {
     "name": "stderr",
     "output_type": "stream",
     "text": [
      "Ep[66] loss:0.007 acc:1.000: 100%|███████████████████████████████████████████████████████████████████████████████████████| 550/550 [00:03<00:00, 167.68it/s]\n",
      "Ep[67] loss:0.002 acc:1.000:   3%|██▋                                                                                     | 17/550 [00:00<00:03, 166.68it/s]"
     ]
    },
    {
     "name": "stdout",
     "output_type": "stream",
     "text": [
      "Epoch 66 Val loss:0.1178 acc:0.9742\n"
     ]
    },
    {
     "name": "stderr",
     "output_type": "stream",
     "text": [
      "Ep[67] loss:0.006 acc:1.000: 100%|███████████████████████████████████████████████████████████████████████████████████████| 550/550 [00:03<00:00, 168.35it/s]\n",
      "Ep[68] loss:0.004 acc:1.000:   3%|██▋                                                                                     | 17/550 [00:00<00:03, 163.46it/s]"
     ]
    },
    {
     "name": "stdout",
     "output_type": "stream",
     "text": [
      "Epoch 67 Val loss:0.1175 acc:0.9742\n"
     ]
    },
    {
     "name": "stderr",
     "output_type": "stream",
     "text": [
      "Ep[68] loss:0.006 acc:1.000: 100%|███████████████████████████████████████████████████████████████████████████████████████| 550/550 [00:03<00:00, 161.91it/s]\n",
      "Ep[69] loss:0.001 acc:1.000:   3%|██▍                                                                                     | 15/550 [00:00<00:03, 145.63it/s]"
     ]
    },
    {
     "name": "stdout",
     "output_type": "stream",
     "text": [
      "Epoch 68 Val loss:0.1188 acc:0.9742\n"
     ]
    },
    {
     "name": "stderr",
     "output_type": "stream",
     "text": [
      "Ep[69] loss:0.006 acc:1.000: 100%|███████████████████████████████████████████████████████████████████████████████████████| 550/550 [00:03<00:00, 140.77it/s]\n",
      "Ep[70] loss:0.002 acc:1.000:   3%|██▋                                                                                     | 17/550 [00:00<00:03, 163.46it/s]"
     ]
    },
    {
     "name": "stdout",
     "output_type": "stream",
     "text": [
      "Epoch 69 Val loss:0.1176 acc:0.9742\n"
     ]
    },
    {
     "name": "stderr",
     "output_type": "stream",
     "text": [
      "Ep[70] loss:0.006 acc:1.000: 100%|███████████████████████████████████████████████████████████████████████████████████████| 550/550 [00:03<00:00, 168.35it/s]\n",
      "Ep[71] loss:0.002 acc:1.000:   3%|██▉                                                                                     | 18/550 [00:00<00:02, 180.00it/s]"
     ]
    },
    {
     "name": "stdout",
     "output_type": "stream",
     "text": [
      "Epoch 70 Val loss:0.1173 acc:0.9742\n"
     ]
    },
    {
     "name": "stderr",
     "output_type": "stream",
     "text": [
      "Ep[71] loss:0.006 acc:1.000: 100%|███████████████████████████████████████████████████████████████████████████████████████| 550/550 [00:03<00:00, 168.25it/s]\n",
      "Ep[72] loss:0.007 acc:1.000:   3%|██▌                                                                                     | 16/550 [00:00<00:03, 155.33it/s]"
     ]
    },
    {
     "name": "stdout",
     "output_type": "stream",
     "text": [
      "Epoch 71 Val loss:0.1167 acc:0.9744\n"
     ]
    },
    {
     "name": "stderr",
     "output_type": "stream",
     "text": [
      "Ep[72] loss:0.005 acc:1.000: 100%|███████████████████████████████████████████████████████████████████████████████████████| 550/550 [00:03<00:00, 168.97it/s]\n",
      "Ep[73] loss:0.003 acc:1.000:   3%|███                                                                                     | 19/550 [00:00<00:02, 186.28it/s]"
     ]
    },
    {
     "name": "stdout",
     "output_type": "stream",
     "text": [
      "Epoch 72 Val loss:0.1159 acc:0.9744\n"
     ]
    },
    {
     "name": "stderr",
     "output_type": "stream",
     "text": [
      "Ep[73] loss:0.005 acc:1.000: 100%|███████████████████████████████████████████████████████████████████████████████████████| 550/550 [00:03<00:00, 170.91it/s]\n",
      "Ep[74] loss:0.002 acc:1.000:   3%|██▋                                                                                     | 17/550 [00:00<00:03, 166.66it/s]"
     ]
    },
    {
     "name": "stdout",
     "output_type": "stream",
     "text": [
      "Epoch 73 Val loss:0.1166 acc:0.9744\n"
     ]
    },
    {
     "name": "stderr",
     "output_type": "stream",
     "text": [
      "Ep[74] loss:0.005 acc:1.000: 100%|███████████████████████████████████████████████████████████████████████████████████████| 550/550 [00:03<00:00, 167.48it/s]\n",
      "Ep[75] loss:0.003 acc:1.000:   4%|███▏                                                                                    | 20/550 [00:00<00:02, 192.30it/s]"
     ]
    },
    {
     "name": "stdout",
     "output_type": "stream",
     "text": [
      "Epoch 74 Val loss:0.1155 acc:0.9740\n"
     ]
    },
    {
     "name": "stderr",
     "output_type": "stream",
     "text": [
      "Ep[75] loss:0.005 acc:1.000: 100%|███████████████████████████████████████████████████████████████████████████████████████| 550/550 [00:03<00:00, 166.11it/s]\n",
      "Ep[76] loss:0.002 acc:1.000:   3%|██▉                                                                                     | 18/550 [00:00<00:03, 176.47it/s]"
     ]
    },
    {
     "name": "stdout",
     "output_type": "stream",
     "text": [
      "Epoch 75 Val loss:0.1150 acc:0.9742\n"
     ]
    },
    {
     "name": "stderr",
     "output_type": "stream",
     "text": [
      "Ep[76] loss:0.005 acc:1.000: 100%|███████████████████████████████████████████████████████████████████████████████████████| 550/550 [00:03<00:00, 172.96it/s]\n",
      "Ep[77] loss:0.002 acc:1.000:   3%|██▉                                                                                     | 18/550 [00:00<00:03, 173.07it/s]"
     ]
    },
    {
     "name": "stdout",
     "output_type": "stream",
     "text": [
      "Epoch 76 Val loss:0.1147 acc:0.9742\n"
     ]
    },
    {
     "name": "stderr",
     "output_type": "stream",
     "text": [
      "Ep[77] loss:0.005 acc:1.000: 100%|███████████████████████████████████████████████████████████████████████████████████████| 550/550 [00:03<00:00, 172.25it/s]\n",
      "Ep[78] loss:0.002 acc:1.000:   3%|███                                                                                     | 19/550 [00:00<00:02, 180.95it/s]"
     ]
    },
    {
     "name": "stdout",
     "output_type": "stream",
     "text": [
      "Epoch 77 Val loss:0.1132 acc:0.9740\n"
     ]
    },
    {
     "name": "stderr",
     "output_type": "stream",
     "text": [
      "Ep[78] loss:0.004 acc:1.000: 100%|███████████████████████████████████████████████████████████████████████████████████████| 550/550 [00:03<00:00, 168.04it/s]\n",
      "Ep[79] loss:0.002 acc:1.000:   3%|███                                                                                     | 19/550 [00:00<00:02, 182.69it/s]"
     ]
    },
    {
     "name": "stdout",
     "output_type": "stream",
     "text": [
      "Epoch 78 Val loss:0.1143 acc:0.9744\n"
     ]
    },
    {
     "name": "stderr",
     "output_type": "stream",
     "text": [
      "Ep[79] loss:0.004 acc:1.000: 100%|███████████████████████████████████████████████████████████████████████████████████████| 550/550 [00:03<00:00, 176.06it/s]\n",
      "Ep[80] loss:0.002 acc:1.000:   3%|██▋                                                                                     | 17/550 [00:00<00:03, 165.05it/s]"
     ]
    },
    {
     "name": "stdout",
     "output_type": "stream",
     "text": [
      "Epoch 79 Val loss:0.1138 acc:0.9742\n"
     ]
    },
    {
     "name": "stderr",
     "output_type": "stream",
     "text": [
      "Ep[80] loss:0.004 acc:1.000: 100%|███████████████████████████████████████████████████████████████████████████████████████| 550/550 [00:03<00:00, 168.97it/s]\n",
      "Ep[81] loss:0.007 acc:1.000:   3%|██▌                                                                                     | 16/550 [00:00<00:03, 155.33it/s]"
     ]
    },
    {
     "name": "stdout",
     "output_type": "stream",
     "text": [
      "Epoch 80 Val loss:0.1132 acc:0.9742\n"
     ]
    },
    {
     "name": "stderr",
     "output_type": "stream",
     "text": [
      "Ep[81] loss:0.004 acc:1.000: 100%|███████████████████████████████████████████████████████████████████████████████████████| 550/550 [00:03<00:00, 162.43it/s]\n",
      "Ep[82] loss:0.002 acc:1.000:   3%|██▉                                                                                     | 18/550 [00:00<00:03, 176.48it/s]"
     ]
    },
    {
     "name": "stdout",
     "output_type": "stream",
     "text": [
      "Epoch 81 Val loss:0.1124 acc:0.9742\n"
     ]
    },
    {
     "name": "stderr",
     "output_type": "stream",
     "text": [
      "Ep[82] loss:0.004 acc:1.000: 100%|███████████████████████████████████████████████████████████████████████████████████████| 550/550 [00:03<00:00, 156.12it/s]\n",
      "Ep[83] loss:0.005 acc:1.000:   3%|██▋                                                                                     | 17/550 [00:00<00:03, 161.90it/s]"
     ]
    },
    {
     "name": "stdout",
     "output_type": "stream",
     "text": [
      "Epoch 82 Val loss:0.1129 acc:0.9742\n"
     ]
    },
    {
     "name": "stderr",
     "output_type": "stream",
     "text": [
      "Ep[83] loss:0.004 acc:1.000: 100%|███████████████████████████████████████████████████████████████████████████████████████| 550/550 [00:03<00:00, 159.10it/s]\n",
      "Ep[84] loss:0.005 acc:1.000:   3%|██▌                                                                                     | 16/550 [00:00<00:03, 153.24it/s]"
     ]
    },
    {
     "name": "stdout",
     "output_type": "stream",
     "text": [
      "Epoch 83 Val loss:0.1118 acc:0.9742\n"
     ]
    },
    {
     "name": "stderr",
     "output_type": "stream",
     "text": [
      "Ep[84] loss:0.004 acc:1.000: 100%|███████████████████████████████████████████████████████████████████████████████████████| 550/550 [00:03<00:00, 160.47it/s]\n",
      "Ep[85] loss:0.001 acc:1.000:   3%|██▌                                                                                     | 16/550 [00:00<00:03, 160.00it/s]"
     ]
    },
    {
     "name": "stdout",
     "output_type": "stream",
     "text": [
      "Epoch 84 Val loss:0.1108 acc:0.9738\n"
     ]
    },
    {
     "name": "stderr",
     "output_type": "stream",
     "text": [
      "Ep[85] loss:0.004 acc:1.000: 100%|███████████████████████████████████████████████████████████████████████████████████████| 550/550 [00:03<00:00, 145.54it/s]\n",
      "Ep[86] loss:0.002 acc:1.000:   4%|███▏                                                                                    | 20/550 [00:00<00:02, 194.17it/s]"
     ]
    },
    {
     "name": "stdout",
     "output_type": "stream",
     "text": [
      "Epoch 85 Val loss:0.1117 acc:0.9742\n"
     ]
    },
    {
     "name": "stderr",
     "output_type": "stream",
     "text": [
      "Ep[86] loss:0.004 acc:1.000: 100%|███████████████████████████████████████████████████████████████████████████████████████| 550/550 [00:03<00:00, 164.67it/s]\n",
      "Ep[87] loss:0.001 acc:1.000:   3%|███                                                                                     | 19/550 [00:00<00:02, 186.26it/s]"
     ]
    },
    {
     "name": "stdout",
     "output_type": "stream",
     "text": [
      "Epoch 86 Val loss:0.1109 acc:0.9740\n"
     ]
    },
    {
     "name": "stderr",
     "output_type": "stream",
     "text": [
      "Ep[87] loss:0.004 acc:1.000: 100%|███████████████████████████████████████████████████████████████████████████████████████| 550/550 [00:03<00:00, 172.14it/s]\n",
      "Ep[88] loss:0.002 acc:1.000:   3%|██▋                                                                                     | 17/550 [00:00<00:03, 163.46it/s]"
     ]
    },
    {
     "name": "stdout",
     "output_type": "stream",
     "text": [
      "Epoch 87 Val loss:0.1107 acc:0.9740\n"
     ]
    },
    {
     "name": "stderr",
     "output_type": "stream",
     "text": [
      "Ep[88] loss:0.003 acc:1.000: 100%|███████████████████████████████████████████████████████████████████████████████████████| 550/550 [00:03<00:00, 161.86it/s]\n",
      "Ep[89] loss:0.001 acc:1.000:   3%|███                                                                                     | 19/550 [00:00<00:02, 184.47it/s]"
     ]
    },
    {
     "name": "stdout",
     "output_type": "stream",
     "text": [
      "Epoch 88 Val loss:0.1101 acc:0.9736\n"
     ]
    },
    {
     "name": "stderr",
     "output_type": "stream",
     "text": [
      "Ep[89] loss:0.003 acc:1.000: 100%|███████████████████████████████████████████████████████████████████████████████████████| 550/550 [00:03<00:00, 166.11it/s]\n",
      "Ep[90] loss:0.004 acc:1.000:   3%|██▉                                                                                     | 18/550 [00:00<00:03, 173.07it/s]"
     ]
    },
    {
     "name": "stdout",
     "output_type": "stream",
     "text": [
      "Epoch 89 Val loss:0.1094 acc:0.9736\n"
     ]
    },
    {
     "name": "stderr",
     "output_type": "stream",
     "text": [
      "Ep[90] loss:0.003 acc:1.000: 100%|███████████████████████████████████████████████████████████████████████████████████████| 550/550 [00:03<00:00, 154.32it/s]\n",
      "Ep[91] loss:0.002 acc:1.000:   3%|██▋                                                                                     | 17/550 [00:00<00:03, 163.47it/s]"
     ]
    },
    {
     "name": "stdout",
     "output_type": "stream",
     "text": [
      "Epoch 90 Val loss:0.1096 acc:0.9736\n"
     ]
    },
    {
     "name": "stderr",
     "output_type": "stream",
     "text": [
      "Ep[91] loss:0.003 acc:1.000: 100%|███████████████████████████████████████████████████████████████████████████████████████| 550/550 [00:03<00:00, 161.05it/s]\n",
      "Ep[92] loss:0.004 acc:1.000:   3%|██▌                                                                                     | 16/550 [00:00<00:03, 155.34it/s]"
     ]
    },
    {
     "name": "stdout",
     "output_type": "stream",
     "text": [
      "Epoch 91 Val loss:0.1090 acc:0.9738\n"
     ]
    },
    {
     "name": "stderr",
     "output_type": "stream",
     "text": [
      "Ep[92] loss:0.003 acc:1.000: 100%|███████████████████████████████████████████████████████████████████████████████████████| 550/550 [00:03<00:00, 171.39it/s]\n",
      "Ep[93] loss:0.002 acc:1.000:   3%|██▉                                                                                     | 18/550 [00:00<00:02, 180.00it/s]"
     ]
    },
    {
     "name": "stdout",
     "output_type": "stream",
     "text": [
      "Epoch 92 Val loss:0.1082 acc:0.9736\n"
     ]
    },
    {
     "name": "stderr",
     "output_type": "stream",
     "text": [
      "Ep[93] loss:0.003 acc:1.000: 100%|███████████████████████████████████████████████████████████████████████████████████████| 550/550 [00:03<00:00, 176.06it/s]\n",
      "Ep[94] loss:0.001 acc:1.000:   3%|██▉                                                                                     | 18/550 [00:00<00:03, 176.47it/s]"
     ]
    },
    {
     "name": "stdout",
     "output_type": "stream",
     "text": [
      "Epoch 93 Val loss:0.1083 acc:0.9738\n"
     ]
    },
    {
     "name": "stderr",
     "output_type": "stream",
     "text": [
      "Ep[94] loss:0.003 acc:1.000: 100%|███████████████████████████████████████████████████████████████████████████████████████| 550/550 [00:03<00:00, 174.83it/s]\n",
      "Ep[95] loss:0.001 acc:1.000:   3%|██▉                                                                                     | 18/550 [00:00<00:03, 173.07it/s]"
     ]
    },
    {
     "name": "stdout",
     "output_type": "stream",
     "text": [
      "Epoch 94 Val loss:0.1074 acc:0.9736\n"
     ]
    },
    {
     "name": "stderr",
     "output_type": "stream",
     "text": [
      "Ep[95] loss:0.003 acc:1.000: 100%|███████████████████████████████████████████████████████████████████████████████████████| 550/550 [00:03<00:00, 174.33it/s]\n",
      "Ep[96] loss:0.001 acc:1.000:   3%|██▉                                                                                     | 18/550 [00:00<00:02, 178.21it/s]"
     ]
    },
    {
     "name": "stdout",
     "output_type": "stream",
     "text": [
      "Epoch 95 Val loss:0.1073 acc:0.9738\n"
     ]
    },
    {
     "name": "stderr",
     "output_type": "stream",
     "text": [
      "Ep[96] loss:0.003 acc:1.000: 100%|███████████████████████████████████████████████████████████████████████████████████████| 550/550 [00:03<00:00, 172.36it/s]\n",
      "Ep[97] loss:0.000 acc:1.000:   3%|███                                                                                     | 19/550 [00:00<00:02, 179.24it/s]"
     ]
    },
    {
     "name": "stdout",
     "output_type": "stream",
     "text": [
      "Epoch 96 Val loss:0.1063 acc:0.9736\n"
     ]
    },
    {
     "name": "stderr",
     "output_type": "stream",
     "text": [
      "Ep[97] loss:0.003 acc:1.000: 100%|███████████████████████████████████████████████████████████████████████████████████████| 550/550 [00:03<00:00, 175.38it/s]\n",
      "Ep[98] loss:0.000 acc:1.000:   4%|███▏                                                                                    | 20/550 [00:00<00:02, 192.30it/s]"
     ]
    },
    {
     "name": "stdout",
     "output_type": "stream",
     "text": [
      "Epoch 97 Val loss:0.1059 acc:0.9738\n"
     ]
    },
    {
     "name": "stderr",
     "output_type": "stream",
     "text": [
      "Ep[98] loss:0.003 acc:1.000: 100%|███████████████████████████████████████████████████████████████████████████████████████| 550/550 [00:03<00:00, 164.82it/s]\n",
      "Ep[99] loss:0.004 acc:1.000:   3%|██▌                                                                                     | 16/550 [00:00<00:03, 149.53it/s]"
     ]
    },
    {
     "name": "stdout",
     "output_type": "stream",
     "text": [
      "Epoch 98 Val loss:0.1061 acc:0.9738\n"
     ]
    },
    {
     "name": "stderr",
     "output_type": "stream",
     "text": [
      "Ep[99] loss:0.003 acc:1.000: 100%|███████████████████████████████████████████████████████████████████████████████████████| 550/550 [00:03<00:00, 168.50it/s]\n",
      "Ep[100] loss:0.003 acc:1.000:   3%|██▋                                                                                    | 17/550 [00:00<00:03, 161.90it/s]"
     ]
    },
    {
     "name": "stdout",
     "output_type": "stream",
     "text": [
      "Epoch 99 Val loss:0.1061 acc:0.9738\n"
     ]
    },
    {
     "name": "stderr",
     "output_type": "stream",
     "text": [
      "Ep[100] loss:0.003 acc:1.000: 100%|██████████████████████████████████████████████████████████████████████████████████████| 550/550 [00:03<00:00, 167.07it/s]\n",
      "Ep[101] loss:0.001 acc:1.000:   3%|██▎                                                                                    | 15/550 [00:00<00:03, 147.06it/s]"
     ]
    },
    {
     "name": "stdout",
     "output_type": "stream",
     "text": [
      "Epoch 100 Val loss:0.1051 acc:0.9738\n"
     ]
    },
    {
     "name": "stderr",
     "output_type": "stream",
     "text": [
      "Ep[101] loss:0.003 acc:1.000: 100%|██████████████████████████████████████████████████████████████████████████████████████| 550/550 [00:03<00:00, 169.07it/s]\n",
      "Ep[102] loss:0.001 acc:1.000:   3%|██▋                                                                                    | 17/550 [00:00<00:03, 168.31it/s]"
     ]
    },
    {
     "name": "stdout",
     "output_type": "stream",
     "text": [
      "Epoch 101 Val loss:0.1056 acc:0.9740\n"
     ]
    },
    {
     "name": "stderr",
     "output_type": "stream",
     "text": [
      "Ep[102] loss:0.003 acc:1.000: 100%|██████████████████████████████████████████████████████████████████████████████████████| 550/550 [00:03<00:00, 175.55it/s]\n",
      "Ep[103] loss:0.001 acc:1.000:   3%|██▊                                                                                    | 18/550 [00:00<00:03, 174.76it/s]"
     ]
    },
    {
     "name": "stdout",
     "output_type": "stream",
     "text": [
      "Epoch 102 Val loss:0.1046 acc:0.9740\n"
     ]
    },
    {
     "name": "stderr",
     "output_type": "stream",
     "text": [
      "Ep[103] loss:0.002 acc:1.000: 100%|██████████████████████████████████████████████████████████████████████████████████████| 550/550 [00:03<00:00, 170.91it/s]\n",
      "Ep[104] loss:0.000 acc:1.000:   3%|███                                                                                    | 19/550 [00:00<00:02, 177.57it/s]"
     ]
    },
    {
     "name": "stdout",
     "output_type": "stream",
     "text": [
      "Epoch 103 Val loss:0.1046 acc:0.9740\n"
     ]
    },
    {
     "name": "stderr",
     "output_type": "stream",
     "text": [
      "Ep[104] loss:0.002 acc:1.000: 100%|██████████████████████████████████████████████████████████████████████████████████████| 550/550 [00:03<00:00, 167.43it/s]\n",
      "Ep[105] loss:0.001 acc:1.000:   3%|██▋                                                                                    | 17/550 [00:00<00:03, 163.46it/s]"
     ]
    },
    {
     "name": "stdout",
     "output_type": "stream",
     "text": [
      "Epoch 104 Val loss:0.1040 acc:0.9740\n"
     ]
    },
    {
     "name": "stderr",
     "output_type": "stream",
     "text": [
      "Ep[105] loss:0.002 acc:1.000: 100%|██████████████████████████████████████████████████████████████████████████████████████| 550/550 [00:03<00:00, 171.77it/s]\n",
      "Ep[106] loss:0.001 acc:1.000:   3%|███                                                                                    | 19/550 [00:00<00:02, 186.27it/s]"
     ]
    },
    {
     "name": "stdout",
     "output_type": "stream",
     "text": [
      "Epoch 105 Val loss:0.1037 acc:0.9738\n"
     ]
    },
    {
     "name": "stderr",
     "output_type": "stream",
     "text": [
      "Ep[106] loss:0.002 acc:1.000: 100%|██████████████████████████████████████████████████████████████████████████████████████| 550/550 [00:03<00:00, 175.05it/s]\n",
      "Ep[107] loss:0.001 acc:1.000:   3%|██▋                                                                                    | 17/550 [00:00<00:03, 161.90it/s]"
     ]
    },
    {
     "name": "stdout",
     "output_type": "stream",
     "text": [
      "Epoch 106 Val loss:0.1033 acc:0.9740\n"
     ]
    },
    {
     "name": "stderr",
     "output_type": "stream",
     "text": [
      "Ep[107] loss:0.002 acc:1.000: 100%|██████████████████████████████████████████████████████████████████████████████████████| 550/550 [00:03<00:00, 167.84it/s]\n",
      "Ep[108] loss:0.001 acc:1.000:   3%|██▊                                                                                    | 18/550 [00:00<00:02, 178.21it/s]"
     ]
    },
    {
     "name": "stdout",
     "output_type": "stream",
     "text": [
      "Epoch 107 Val loss:0.1030 acc:0.9738\n"
     ]
    },
    {
     "name": "stderr",
     "output_type": "stream",
     "text": [
      "Ep[108] loss:0.002 acc:1.000: 100%|██████████████████████████████████████████████████████████████████████████████████████| 550/550 [00:03<00:00, 171.77it/s]\n",
      "Ep[109] loss:0.001 acc:1.000:   3%|███                                                                                    | 19/550 [00:00<00:02, 182.69it/s]"
     ]
    },
    {
     "name": "stdout",
     "output_type": "stream",
     "text": [
      "Epoch 108 Val loss:0.1023 acc:0.9740\n"
     ]
    },
    {
     "name": "stderr",
     "output_type": "stream",
     "text": [
      "Ep[109] loss:0.002 acc:1.000: 100%|██████████████████████████████████████████████████████████████████████████████████████| 550/550 [00:03<00:00, 169.13it/s]\n",
      "Ep[110] loss:0.001 acc:1.000:   3%|██▊                                                                                    | 18/550 [00:00<00:03, 174.76it/s]"
     ]
    },
    {
     "name": "stdout",
     "output_type": "stream",
     "text": [
      "Epoch 109 Val loss:0.1023 acc:0.9740\n"
     ]
    },
    {
     "name": "stderr",
     "output_type": "stream",
     "text": [
      "Ep[110] loss:0.002 acc:1.000: 100%|██████████████████████████████████████████████████████████████████████████████████████| 550/550 [00:03<00:00, 177.25it/s]\n",
      "Ep[111] loss:0.001 acc:1.000:   3%|███                                                                                    | 19/550 [00:00<00:02, 180.95it/s]"
     ]
    },
    {
     "name": "stdout",
     "output_type": "stream",
     "text": [
      "Epoch 110 Val loss:0.1015 acc:0.9740\n"
     ]
    },
    {
     "name": "stderr",
     "output_type": "stream",
     "text": [
      "Ep[111] loss:0.002 acc:1.000: 100%|██████████████████████████████████████████████████████████████████████████████████████| 550/550 [00:03<00:00, 168.40it/s]\n",
      "Ep[112] loss:0.001 acc:1.000:   3%|███                                                                                    | 19/550 [00:00<00:02, 182.69it/s]"
     ]
    },
    {
     "name": "stdout",
     "output_type": "stream",
     "text": [
      "Epoch 111 Val loss:0.1018 acc:0.9740\n"
     ]
    },
    {
     "name": "stderr",
     "output_type": "stream",
     "text": [
      "Ep[112] loss:0.002 acc:1.000: 100%|██████████████████████████████████████████████████████████████████████████████████████| 550/550 [00:03<00:00, 175.10it/s]\n",
      "Ep[113] loss:0.001 acc:1.000:   3%|███                                                                                    | 19/550 [00:00<00:02, 182.69it/s]"
     ]
    },
    {
     "name": "stdout",
     "output_type": "stream",
     "text": [
      "Epoch 112 Val loss:0.1010 acc:0.9740\n"
     ]
    },
    {
     "name": "stderr",
     "output_type": "stream",
     "text": [
      "Ep[113] loss:0.002 acc:1.000: 100%|██████████████████████████████████████████████████████████████████████████████████████| 550/550 [00:03<00:00, 169.02it/s]\n",
      "Ep[114] loss:0.001 acc:1.000:   3%|██▊                                                                                    | 18/550 [00:00<00:03, 173.07it/s]"
     ]
    },
    {
     "name": "stdout",
     "output_type": "stream",
     "text": [
      "Epoch 113 Val loss:0.1007 acc:0.9740\n"
     ]
    },
    {
     "name": "stderr",
     "output_type": "stream",
     "text": [
      "Ep[114] loss:0.002 acc:1.000: 100%|██████████████████████████████████████████████████████████████████████████████████████| 550/550 [00:03<00:00, 172.68it/s]\n",
      "Ep[115] loss:0.001 acc:1.000:   3%|███                                                                                    | 19/550 [00:00<00:02, 190.00it/s]"
     ]
    },
    {
     "name": "stdout",
     "output_type": "stream",
     "text": [
      "Epoch 114 Val loss:0.1001 acc:0.9742\n"
     ]
    },
    {
     "name": "stderr",
     "output_type": "stream",
     "text": [
      "Ep[115] loss:0.002 acc:1.000: 100%|██████████████████████████████████████████████████████████████████████████████████████| 550/550 [00:03<00:00, 167.38it/s]\n",
      "Ep[116] loss:0.002 acc:1.000:   3%|██▎                                                                                    | 15/550 [00:00<00:03, 145.63it/s]"
     ]
    },
    {
     "name": "stdout",
     "output_type": "stream",
     "text": [
      "Epoch 115 Val loss:0.1002 acc:0.9742\n"
     ]
    },
    {
     "name": "stderr",
     "output_type": "stream",
     "text": [
      "Ep[116] loss:0.002 acc:1.000: 100%|██████████████████████████████████████████████████████████████████████████████████████| 550/550 [00:03<00:00, 163.45it/s]\n",
      "Ep[117] loss:0.001 acc:1.000:   3%|██▋                                                                                    | 17/550 [00:00<00:03, 168.32it/s]"
     ]
    },
    {
     "name": "stdout",
     "output_type": "stream",
     "text": [
      "Epoch 116 Val loss:0.0998 acc:0.9740\n"
     ]
    },
    {
     "name": "stderr",
     "output_type": "stream",
     "text": [
      "Ep[117] loss:0.002 acc:1.000: 100%|██████████████████████████████████████████████████████████████████████████████████████| 550/550 [00:03<00:00, 170.81it/s]\n",
      "Ep[118] loss:0.001 acc:1.000:   2%|█▉                                                                                     | 12/550 [00:00<00:04, 120.00it/s]"
     ]
    },
    {
     "name": "stdout",
     "output_type": "stream",
     "text": [
      "Epoch 117 Val loss:0.0996 acc:0.9740\n"
     ]
    },
    {
     "name": "stderr",
     "output_type": "stream",
     "text": [
      "Ep[118] loss:0.002 acc:1.000: 100%|██████████████████████████████████████████████████████████████████████████████████████| 550/550 [00:03<00:00, 165.46it/s]\n",
      "Ep[119] loss:0.001 acc:1.000:   3%|██▋                                                                                    | 17/550 [00:00<00:03, 161.90it/s]"
     ]
    },
    {
     "name": "stdout",
     "output_type": "stream",
     "text": [
      "Epoch 118 Val loss:0.0991 acc:0.9742\n"
     ]
    },
    {
     "name": "stderr",
     "output_type": "stream",
     "text": [
      "Ep[119] loss:0.002 acc:1.000: 100%|██████████████████████████████████████████████████████████████████████████████████████| 550/550 [00:03<00:00, 174.94it/s]\n",
      "Ep[120] loss:0.000 acc:1.000:   3%|██▊                                                                                    | 18/550 [00:00<00:02, 178.22it/s]"
     ]
    },
    {
     "name": "stdout",
     "output_type": "stream",
     "text": [
      "Epoch 119 Val loss:0.0990 acc:0.9744\n"
     ]
    },
    {
     "name": "stderr",
     "output_type": "stream",
     "text": [
      "Ep[120] loss:0.002 acc:1.000: 100%|██████████████████████████████████████████████████████████████████████████████████████| 550/550 [00:03<00:00, 169.86it/s]\n",
      "Ep[121] loss:0.001 acc:1.000:   3%|██▋                                                                                    | 17/550 [00:00<00:03, 170.00it/s]"
     ]
    },
    {
     "name": "stdout",
     "output_type": "stream",
     "text": [
      "Epoch 120 Val loss:0.0988 acc:0.9742\n"
     ]
    },
    {
     "name": "stderr",
     "output_type": "stream",
     "text": [
      "Ep[121] loss:0.002 acc:1.000: 100%|██████████████████████████████████████████████████████████████████████████████████████| 550/550 [00:03<00:00, 177.25it/s]\n",
      "Ep[122] loss:0.001 acc:1.000:   3%|██▊                                                                                    | 18/550 [00:00<00:03, 176.47it/s]"
     ]
    },
    {
     "name": "stdout",
     "output_type": "stream",
     "text": [
      "Epoch 121 Val loss:0.0982 acc:0.9742\n"
     ]
    },
    {
     "name": "stderr",
     "output_type": "stream",
     "text": [
      "Ep[122] loss:0.002 acc:1.000: 100%|██████████████████████████████████████████████████████████████████████████████████████| 550/550 [00:03<00:00, 172.31it/s]\n",
      "Ep[123] loss:0.000 acc:1.000:   3%|██▊                                                                                    | 18/550 [00:00<00:02, 178.22it/s]"
     ]
    },
    {
     "name": "stdout",
     "output_type": "stream",
     "text": [
      "Epoch 122 Val loss:0.0982 acc:0.9742\n"
     ]
    },
    {
     "name": "stderr",
     "output_type": "stream",
     "text": [
      "Ep[123] loss:0.002 acc:1.000: 100%|██████████████████████████████████████████████████████████████████████████████████████| 550/550 [00:03<00:00, 177.82it/s]\n",
      "Ep[124] loss:0.001 acc:1.000:   3%|██▊                                                                                    | 18/550 [00:00<00:02, 178.21it/s]"
     ]
    },
    {
     "name": "stdout",
     "output_type": "stream",
     "text": [
      "Epoch 123 Val loss:0.0976 acc:0.9744\n"
     ]
    },
    {
     "name": "stderr",
     "output_type": "stream",
     "text": [
      "Ep[124] loss:0.002 acc:1.000: 100%|██████████████████████████████████████████████████████████████████████████████████████| 550/550 [00:03<00:00, 173.39it/s]\n",
      "Ep[125] loss:0.000 acc:1.000:   3%|███                                                                                    | 19/550 [00:00<00:02, 184.46it/s]"
     ]
    },
    {
     "name": "stdout",
     "output_type": "stream",
     "text": [
      "Epoch 124 Val loss:0.0975 acc:0.9742\n"
     ]
    },
    {
     "name": "stderr",
     "output_type": "stream",
     "text": [
      "Ep[125] loss:0.002 acc:1.000: 100%|██████████████████████████████████████████████████████████████████████████████████████| 550/550 [00:03<00:00, 173.12it/s]\n",
      "Ep[126] loss:0.001 acc:1.000:   3%|██▊                                                                                    | 18/550 [00:00<00:03, 171.43it/s]"
     ]
    },
    {
     "name": "stdout",
     "output_type": "stream",
     "text": [
      "Epoch 125 Val loss:0.0970 acc:0.9742\n"
     ]
    },
    {
     "name": "stderr",
     "output_type": "stream",
     "text": [
      "Ep[126] loss:0.002 acc:1.000: 100%|██████████████████████████████████████████████████████████████████████████████████████| 550/550 [00:03<00:00, 173.72it/s]\n",
      "Ep[127] loss:0.001 acc:1.000:   3%|██▊                                                                                    | 18/550 [00:00<00:02, 178.22it/s]"
     ]
    },
    {
     "name": "stdout",
     "output_type": "stream",
     "text": [
      "Epoch 126 Val loss:0.0972 acc:0.9742\n"
     ]
    },
    {
     "name": "stderr",
     "output_type": "stream",
     "text": [
      "Ep[127] loss:0.002 acc:1.000: 100%|██████████████████████████████████████████████████████████████████████████████████████| 550/550 [00:03<00:00, 172.36it/s]\n"
     ]
    },
    {
     "name": "stdout",
     "output_type": "stream",
     "text": [
      "Epoch 127 Val loss:0.0967 acc:0.9742\n",
      "\n",
      "Test acc is 0.9742\n",
      "\n",
      "[0.19192551799783533, 0.15124589255563636, 0.13638808677952943, 0.12599578535454511, 0.12243259564617548, 0.12049326885894765, 0.11653865478605331, 0.11171279239761152, 0.1090021352283548, 0.10632796744812997, 0.10335937872444419, 0.10182718978847033, 0.09957191796941778, 0.09868218364901425, 0.0985260497716466, 0.0966746455908242, 0.096431840045353, 0.09513392638591531, 0.09304251399751882, 0.09330453612851222, 0.09175629852554597, 0.09178234199519396, 0.09194278364271727, 0.09235576847388025, 0.09168539106448666, 0.09315696423195, 0.09344359436076222, 0.09463645927438372, 0.09503293778951066, 0.09610625783673622, 0.09611169079881109, 0.09576458243990928, 0.09756096805344772, 0.09667467219850433, 0.09842733281063382, 0.09877902926947206, 0.09840800406065002, 0.09821084921075066, 0.09883632626127885, 0.09950018301344123, 0.10113709211772864, 0.1017619743395374, 0.1034523280766197, 0.10367034003131045, 0.10527776228769364, 0.10414623198182729, 0.10557994622156858, 0.10652651016236828, 0.10751836232943413, 0.10831824028906242, 0.10856089672565536, 0.11072808852527986, 0.11147535812662196, 0.1118508866476659, 0.11212662028431838, 0.11528344558933076, 0.11425165417420036, 0.11541420426791982, 0.11719790103411055, 0.11575489760676014, 0.11778095397009922, 0.11796381208201465, 0.11811556816889493, 0.11908149881246721, 0.11877059397404842, 0.11904650183676158, 0.11782982547026126, 0.11751380155977222, 0.11875677024890229, 0.11764071535406398, 0.11725112519423415, 0.11668732071129462, 0.11588207040609447, 0.11657810016592828, 0.11554194098796428, 0.1149679838955175, 0.11471172624921502, 0.11322449586488824, 0.11432623014724994, 0.11384481465314737, 0.11317336224046479, 0.112429036151938, 0.11294261111189562, 0.1118011381317883, 0.11081109342251214, 0.11171594497331001, 0.11086129791127997, 0.11068046332923247, 0.1100608674049957, 0.10939143217054205, 0.1096491507922319, 0.10901528129037068, 0.10823827631337174, 0.10828817364861018, 0.10744754283384568, 0.10733300776089719, 0.10629805399410719, 0.10594735644008522, 0.10605537090014826, 0.10609357602681016, 0.10514404785429596, 0.10555925924165858, 0.10456144925563324, 0.10460750204940847, 0.10396766376049532, 0.10371348533690186, 0.10328996453947738, 0.10297907491674271, 0.10233149555856617, 0.1022572545602529, 0.10151839469401878, 0.10182005955267805, 0.10098859760834956, 0.10069592578571862, 0.1000676748537692, 0.10024041970180737, 0.09975561026203505, 0.09960291192324329, 0.09912314073148597, 0.09902506269570242, 0.09884559443362445, 0.0981952055319676, 0.09824260412437268, 0.09759020846903985, 0.09753595834328287, 0.09697980432986279, 0.09722980296898293, 0.09667665636264192] [0.9308, 0.9466, 0.9546, 0.9568, 0.9616, 0.9648, 0.9664, 0.9686, 0.9682, 0.9684, 0.9686, 0.9686, 0.9692, 0.9694, 0.9704, 0.9706, 0.9712, 0.9712, 0.9718, 0.9718, 0.972, 0.9716, 0.9718, 0.972, 0.9726, 0.973, 0.9728, 0.9728, 0.9728, 0.973, 0.973, 0.9736, 0.9738, 0.974, 0.974, 0.9734, 0.9736, 0.973, 0.9736, 0.9736, 0.9738, 0.9738, 0.9736, 0.9736, 0.974, 0.9738, 0.9738, 0.9736, 0.9732, 0.973, 0.9728, 0.9732, 0.9732, 0.973, 0.9734, 0.9742, 0.9738, 0.9736, 0.9736, 0.974, 0.9744, 0.9744, 0.9742, 0.9744, 0.9742, 0.9744, 0.9742, 0.9742, 0.9742, 0.9742, 0.9742, 0.9744, 0.9744, 0.9744, 0.974, 0.9742, 0.9742, 0.974, 0.9744, 0.9742, 0.9742, 0.9742, 0.9742, 0.9742, 0.9738, 0.9742, 0.974, 0.974, 0.9736, 0.9736, 0.9736, 0.9738, 0.9736, 0.9738, 0.9736, 0.9738, 0.9736, 0.9738, 0.9738, 0.9738, 0.9738, 0.974, 0.974, 0.974, 0.974, 0.9738, 0.974, 0.9738, 0.974, 0.974, 0.974, 0.974, 0.974, 0.974, 0.9742, 0.9742, 0.974, 0.974, 0.9742, 0.9744, 0.9742, 0.9742, 0.9742, 0.9744, 0.9742, 0.9742, 0.9742, 0.9742]\n"
     ]
    },
    {
     "data": {
      "image/png": "[encoded data removed]",
      "text/plain": [
       "<Figure size 864x288 with 2 Axes>"
      ]
     },
     "metadata": {
      "needs_background": "light"
     },
     "output_type": "display_data"
    }
   ],
   "source": [
    "learning_rate_SGD = 0.0002\n",
    "run_exp()"
   ]
  },
  {
   "cell_type": "markdown",
   "metadata": {},
   "source": [
    "## 4. Report"
   ]
  },
  {
   "cell_type": "markdown",
   "metadata": {},
   "source": [
    "First of all, the model's improvement in performance is proof that our implementation of the model, especially the forward and backward functions, is correct. This improvement in performance is observed across different models with different architectures.\n",
    "\n",
    "The starting learning rate of 0.1 was noticed to be far too high, so much so that the model was entirely unable to learn. We suspect that this is because the high learning rate caused the weights to take on extreme values. With such extreme values all future gradients will be 0 (due to the nature of the sigmoid activation function), hence further learning was impossible. To resolve the issue we reduced the learning rate to give us the following set of hyperparameters:\n",
    "\n",
    "* batch_size = 100\n",
    "* max_epoch = 8\n",
    "* init_std = 0.01\n",
    "* learning_rate_SGD = 0.0005#0.1\n",
    "* weight_decay = 0.001\n",
    "\n",
    "With these hyperparameters we ran the five initial experiments provided in the template. Through these we discovered the following trends:\n",
    "\n",
    "* Softmax loss performs better than Euclidean loss\n",
    "* ReLU activation performs better than Sigmoid activation\n",
    "* Model with an extra hidden layer performed better than without the extra hidden layer\n",
    "\n",
    "The optimal architecture was hence determined to be as such:\n",
    "* Fully connected layer 784 -> 64\n",
    "* ReLU activation\n",
    "* Fully connected layer 64 -> 32\n",
    "* ReLU activation\n",
    "* Fully connected layer 32 -> 10\n",
    "* Softmax Cross Entropy Loss \n",
    "\n",
    "This gave test accuracy of 0.9623 which is already very good.\n",
    "\n",
    "The first observation was that the model had not fully converged with 8 epochs. The validation accuracy was noticed to still be increasing. Hence to ensure convergence we tried 32 epochs instead, giving a slight improvement of test accuracy to 0.9731.\n",
    "\n",
    "We then tried to increase the epochs to 128, giving us 0.9746 test accuracy and 1.0 training accuracy. This might suggest some overfitting, however the fact that the test accuracy increased slightly between 32 and 128 epochs shows that this is likely to not be the case. The lack of overfitting shows that our choice of weight decay hyperparameter is suitable. Just to be sure, we tried increasing weight decay to 0.002 - no significant difference was observed.\n",
    "\n",
    "We also tried to reduce the learning rate to 0.0002, in the hopes that this would allow the model to converge to a lower local minimum. This did not have a significant difference either. The test accuracy was 0.9742. This is also the highest test accuracy we have observed thus far.\n",
    "\n",
    "\n"
   ]
  }
 ],
 "metadata": {
  "kernelspec": {
   "display_name": "Python 3",
   "language": "python",
   "name": "python3"
  },
  "language_info": {
   "codemirror_mode": {
    "name": "ipython",
    "version": 3
   },
   "file_extension": ".py",
   "mimetype": "text/x-python",
   "name": "python",
   "nbconvert_exporter": "python",
   "pygments_lexer": "ipython3",
   "version": "3.6.9"
  }
 },
 "nbformat": 4,
 "nbformat_minor": 4
}
