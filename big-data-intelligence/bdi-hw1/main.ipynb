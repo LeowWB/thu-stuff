{
 "cells": [
  {
   "cell_type": "markdown",
   "id": "5705594a-7959-475d-aea7-54f00c61831b",
   "metadata": {},
   "source": [
    "## Setup and read data"
   ]
  },
  {
   "cell_type": "code",
   "execution_count": 1,
   "id": "b64fba86-5d36-4317-8b48-9e24978c6d2a",
   "metadata": {},
   "outputs": [],
   "source": [
    "import numpy as np\n",
    "from matplotlib import pyplot as plt\n",
    "import scipy\n",
    "import pandas\n",
    "import sklearn.linear_model\n",
    "import sklearn.model_selection\n",
    "import sklearn.metrics"
   ]
  },
  {
   "cell_type": "code",
   "execution_count": 2,
   "id": "bdc274cd-5b90-406d-992e-e8638c82e7cc",
   "metadata": {},
   "outputs": [],
   "source": [
    "df = pandas.read_excel('data.xlsx')"
   ]
  },
  {
   "cell_type": "code",
   "execution_count": 3,
   "id": "de160434-b0d6-4472-95b1-d1797fa12d5f",
   "metadata": {},
   "outputs": [
    {
     "data": {
      "text/html": [
       "<div>\n",
       "<style scoped>\n",
       "    .dataframe tbody tr th:only-of-type {\n",
       "        vertical-align: middle;\n",
       "    }\n",
       "\n",
       "    .dataframe tbody tr th {\n",
       "        vertical-align: top;\n",
       "    }\n",
       "\n",
       "    .dataframe thead th {\n",
       "        text-align: right;\n",
       "    }\n",
       "</style>\n",
       "<table border=\"1\" class=\"dataframe\">\n",
       "  <thead>\n",
       "    <tr style=\"text-align: right;\">\n",
       "      <th></th>\n",
       "      <th>Group nmae</th>\n",
       "      <th>Group category</th>\n",
       "      <th>Group size</th>\n",
       "      <th>Message number</th>\n",
       "      <th>density</th>\n",
       "      <th>Sex ratio</th>\n",
       "      <th>Average year</th>\n",
       "      <th>Age gap</th>\n",
       "      <th>Regional concentration</th>\n",
       "      <th>Mobile ratio</th>\n",
       "      <th>Session number</th>\n",
       "      <th>No-response ratio</th>\n",
       "      <th>Night-chat ratio</th>\n",
       "      <th>Picture ratio</th>\n",
       "    </tr>\n",
       "  </thead>\n",
       "  <tbody>\n",
       "    <tr>\n",
       "      <th>0</th>\n",
       "      <td>**手酒吧</td>\n",
       "      <td>1</td>\n",
       "      <td>63</td>\n",
       "      <td>315</td>\n",
       "      <td>0.051715</td>\n",
       "      <td>0.882353</td>\n",
       "      <td>26.681818</td>\n",
       "      <td>6.409413</td>\n",
       "      <td>0.222222</td>\n",
       "      <td>0.088889</td>\n",
       "      <td>23</td>\n",
       "      <td>0.434783</td>\n",
       "      <td>0.085714</td>\n",
       "      <td>0.069841</td>\n",
       "    </tr>\n",
       "    <tr>\n",
       "      <th>1</th>\n",
       "      <td>**秀嘉园</td>\n",
       "      <td>1</td>\n",
       "      <td>73</td>\n",
       "      <td>2</td>\n",
       "      <td>0.010274</td>\n",
       "      <td>0.579710</td>\n",
       "      <td>27.500000</td>\n",
       "      <td>9.042524</td>\n",
       "      <td>0.406780</td>\n",
       "      <td>0.000000</td>\n",
       "      <td>2</td>\n",
       "      <td>1.000000</td>\n",
       "      <td>1.000000</td>\n",
       "      <td>0.000000</td>\n",
       "    </tr>\n",
       "    <tr>\n",
       "      <th>2</th>\n",
       "      <td>**ˇ⒊無黒\\噵丶⒈群</td>\n",
       "      <td>1</td>\n",
       "      <td>73</td>\n",
       "      <td>4</td>\n",
       "      <td>0.024163</td>\n",
       "      <td>0.750000</td>\n",
       "      <td>23.415385</td>\n",
       "      <td>4.699893</td>\n",
       "      <td>0.287879</td>\n",
       "      <td>0.500000</td>\n",
       "      <td>4</td>\n",
       "      <td>1.000000</td>\n",
       "      <td>0.000000</td>\n",
       "      <td>0.250000</td>\n",
       "    </tr>\n",
       "    <tr>\n",
       "      <th>3</th>\n",
       "      <td>**海网管工作联系基地</td>\n",
       "      <td>1</td>\n",
       "      <td>91</td>\n",
       "      <td>14</td>\n",
       "      <td>0.006105</td>\n",
       "      <td>0.901639</td>\n",
       "      <td>29.409091</td>\n",
       "      <td>2.854965</td>\n",
       "      <td>0.340426</td>\n",
       "      <td>0.142857</td>\n",
       "      <td>7</td>\n",
       "      <td>1.000000</td>\n",
       "      <td>0.250000</td>\n",
       "      <td>0.000000</td>\n",
       "    </tr>\n",
       "    <tr>\n",
       "      <th>4</th>\n",
       "      <td>tbsgame.net/bbs</td>\n",
       "      <td>1</td>\n",
       "      <td>133</td>\n",
       "      <td>2112</td>\n",
       "      <td>0.011107</td>\n",
       "      <td>0.961832</td>\n",
       "      <td>30.319672</td>\n",
       "      <td>4.669866</td>\n",
       "      <td>0.110236</td>\n",
       "      <td>0.167140</td>\n",
       "      <td>327</td>\n",
       "      <td>0.532110</td>\n",
       "      <td>0.104640</td>\n",
       "      <td>0.037879</td>\n",
       "    </tr>\n",
       "    <tr>\n",
       "      <th>...</th>\n",
       "      <td>...</td>\n",
       "      <td>...</td>\n",
       "      <td>...</td>\n",
       "      <td>...</td>\n",
       "      <td>...</td>\n",
       "      <td>...</td>\n",
       "      <td>...</td>\n",
       "      <td>...</td>\n",
       "      <td>...</td>\n",
       "      <td>...</td>\n",
       "      <td>...</td>\n",
       "      <td>...</td>\n",
       "      <td>...</td>\n",
       "      <td>...</td>\n",
       "    </tr>\n",
       "    <tr>\n",
       "      <th>2035</th>\n",
       "      <td>**装营销与交流</td>\n",
       "      <td>5</td>\n",
       "      <td>211</td>\n",
       "      <td>181</td>\n",
       "      <td>0.012255</td>\n",
       "      <td>0.584541</td>\n",
       "      <td>28.330000</td>\n",
       "      <td>6.844056</td>\n",
       "      <td>0.345972</td>\n",
       "      <td>0.044199</td>\n",
       "      <td>127</td>\n",
       "      <td>0.881890</td>\n",
       "      <td>0.165746</td>\n",
       "      <td>0.000000</td>\n",
       "    </tr>\n",
       "    <tr>\n",
       "      <th>2036</th>\n",
       "      <td>**州马自达汽车配件</td>\n",
       "      <td>5</td>\n",
       "      <td>154</td>\n",
       "      <td>72</td>\n",
       "      <td>0.024191</td>\n",
       "      <td>0.888889</td>\n",
       "      <td>27.928571</td>\n",
       "      <td>6.306055</td>\n",
       "      <td>0.572368</td>\n",
       "      <td>0.305556</td>\n",
       "      <td>46</td>\n",
       "      <td>0.826087</td>\n",
       "      <td>0.138889</td>\n",
       "      <td>0.083333</td>\n",
       "    </tr>\n",
       "    <tr>\n",
       "      <th>2037</th>\n",
       "      <td>**售交流心得</td>\n",
       "      <td>5</td>\n",
       "      <td>120</td>\n",
       "      <td>445</td>\n",
       "      <td>0.002171</td>\n",
       "      <td>0.562500</td>\n",
       "      <td>25.723810</td>\n",
       "      <td>7.243382</td>\n",
       "      <td>0.264957</td>\n",
       "      <td>0.042697</td>\n",
       "      <td>71</td>\n",
       "      <td>0.774648</td>\n",
       "      <td>0.016949</td>\n",
       "      <td>0.004494</td>\n",
       "    </tr>\n",
       "    <tr>\n",
       "      <th>2038</th>\n",
       "      <td>PCB行业交流群</td>\n",
       "      <td>5</td>\n",
       "      <td>72</td>\n",
       "      <td>55</td>\n",
       "      <td>0.066315</td>\n",
       "      <td>0.549296</td>\n",
       "      <td>27.085714</td>\n",
       "      <td>4.142956</td>\n",
       "      <td>0.704225</td>\n",
       "      <td>0.272727</td>\n",
       "      <td>21</td>\n",
       "      <td>0.619048</td>\n",
       "      <td>0.000000</td>\n",
       "      <td>0.000000</td>\n",
       "    </tr>\n",
       "    <tr>\n",
       "      <th>2039</th>\n",
       "      <td>**星渠道room</td>\n",
       "      <td>5</td>\n",
       "      <td>112</td>\n",
       "      <td>1577</td>\n",
       "      <td>0.089929</td>\n",
       "      <td>0.805556</td>\n",
       "      <td>27.223301</td>\n",
       "      <td>6.041816</td>\n",
       "      <td>0.392523</td>\n",
       "      <td>0.002536</td>\n",
       "      <td>373</td>\n",
       "      <td>0.552279</td>\n",
       "      <td>0.033608</td>\n",
       "      <td>0.000000</td>\n",
       "    </tr>\n",
       "  </tbody>\n",
       "</table>\n",
       "<p>2040 rows × 14 columns</p>\n",
       "</div>"
      ],
      "text/plain": [
       "           Group nmae  Group category  Group size  Message number   density  \\\n",
       "0               **手酒吧               1          63             315  0.051715   \n",
       "1               **秀嘉园               1          73               2  0.010274   \n",
       "2         **ˇ⒊無黒\\噵丶⒈群               1          73               4  0.024163   \n",
       "3         **海网管工作联系基地               1          91              14  0.006105   \n",
       "4     tbsgame.net/bbs               1         133            2112  0.011107   \n",
       "...               ...             ...         ...             ...       ...   \n",
       "2035         **装营销与交流               5         211             181  0.012255   \n",
       "2036       **州马自达汽车配件               5         154              72  0.024191   \n",
       "2037          **售交流心得               5         120             445  0.002171   \n",
       "2038         PCB行业交流群               5          72              55  0.066315   \n",
       "2039        **星渠道room               5         112            1577  0.089929   \n",
       "\n",
       "      Sex ratio  Average year   Age gap  Regional concentration  Mobile ratio  \\\n",
       "0      0.882353     26.681818  6.409413                0.222222      0.088889   \n",
       "1      0.579710     27.500000  9.042524                0.406780      0.000000   \n",
       "2      0.750000     23.415385  4.699893                0.287879      0.500000   \n",
       "3      0.901639     29.409091  2.854965                0.340426      0.142857   \n",
       "4      0.961832     30.319672  4.669866                0.110236      0.167140   \n",
       "...         ...           ...       ...                     ...           ...   \n",
       "2035   0.584541     28.330000  6.844056                0.345972      0.044199   \n",
       "2036   0.888889     27.928571  6.306055                0.572368      0.305556   \n",
       "2037   0.562500     25.723810  7.243382                0.264957      0.042697   \n",
       "2038   0.549296     27.085714  4.142956                0.704225      0.272727   \n",
       "2039   0.805556     27.223301  6.041816                0.392523      0.002536   \n",
       "\n",
       "      Session number  No-response ratio  Night-chat ratio  Picture ratio  \n",
       "0                 23           0.434783          0.085714       0.069841  \n",
       "1                  2           1.000000          1.000000       0.000000  \n",
       "2                  4           1.000000          0.000000       0.250000  \n",
       "3                  7           1.000000          0.250000       0.000000  \n",
       "4                327           0.532110          0.104640       0.037879  \n",
       "...              ...                ...               ...            ...  \n",
       "2035             127           0.881890          0.165746       0.000000  \n",
       "2036              46           0.826087          0.138889       0.083333  \n",
       "2037              71           0.774648          0.016949       0.004494  \n",
       "2038              21           0.619048          0.000000       0.000000  \n",
       "2039             373           0.552279          0.033608       0.000000  \n",
       "\n",
       "[2040 rows x 14 columns]"
      ]
     },
     "execution_count": 3,
     "metadata": {},
     "output_type": "execute_result"
    }
   ],
   "source": [
    "df"
   ]
  },
  {
   "cell_type": "markdown",
   "id": "90fcbf2c-f44c-4cbc-9dd2-9a52a7d6176c",
   "metadata": {},
   "source": [
    "## 1. Anova"
   ]
  },
  {
   "cell_type": "code",
   "execution_count": 4,
   "id": "a1f33faf-cd8c-4500-a4f6-1322fb1b4920",
   "metadata": {},
   "outputs": [
    {
     "data": {
      "text/plain": [
       "44.243902439"
      ]
     },
     "execution_count": 4,
     "metadata": {},
     "output_type": "execute_result"
    }
   ],
   "source": [
    "max(df['Average year'])"
   ]
  },
  {
   "cell_type": "code",
   "execution_count": 5,
   "id": "91ef9686-9b1e-42f6-97f0-babc2b00c495",
   "metadata": {},
   "outputs": [
    {
     "data": {
      "text/plain": [
       "5"
      ]
     },
     "execution_count": 5,
     "metadata": {},
     "output_type": "execute_result"
    }
   ],
   "source": [
    "average_years_by_category = []\n",
    "for category in set(df['Group category']):\n",
    "    average_years_by_category.append(list(df[df['Group category'] == category]['Average year']))\n",
    "len(average_years_by_category)"
   ]
  },
  {
   "cell_type": "code",
   "execution_count": 6,
   "id": "a9bb0259-36fc-405d-8025-dbc2bb3e66f3",
   "metadata": {},
   "outputs": [
    {
     "data": {
      "image/png": "[encoded data removed]",
      "text/plain": [
       "<Figure size 640x480 with 5 Axes>"
      ]
     },
     "metadata": {},
     "output_type": "display_data"
    }
   ],
   "source": [
    "for i in range(5):\n",
    "    plt.subplot(2,3,i+1)\n",
    "    plt.hist(average_years_by_category[i],bins=45,range=(1,45))\n",
    "    plt.title(f'Category {i+1}')\n",
    "    plt.xlabel('Average year')\n",
    "    plt.ylabel('Count')\n",
    "plt.subplots_adjust(hspace=0.5)"
   ]
  },
  {
   "cell_type": "code",
   "execution_count": 7,
   "id": "4ad35daa-e739-41c5-8e4f-d33145421264",
   "metadata": {},
   "outputs": [
    {
     "name": "stdout",
     "output_type": "stream",
     "text": [
      "Category 1 mean=23.404277959311987 variance=24.1932947105518\n",
      "Category 2 mean=29.618193496517332 variance=27.13022236262036\n",
      "Category 3 mean=30.79153401603112 variance=6.484053424060877\n",
      "Category 4 mean=26.255317864947997 variance=25.931054766734427\n",
      "Category 5 mean=28.545080703967084 variance=9.099879902623535\n"
     ]
    }
   ],
   "source": [
    "for i in range(5):\n",
    "    print(f'Category {i+1} mean={np.mean(average_years_by_category[i])} variance={np.var(average_years_by_category[i])}')"
   ]
  },
  {
   "cell_type": "code",
   "execution_count": 8,
   "id": "66361b55-1e0a-42d0-94dc-44b31374f384",
   "metadata": {},
   "outputs": [
    {
     "data": {
      "text/plain": [
       "F_onewayResult(statistic=171.50703270711966, pvalue=1.0820916064752822e-126)"
      ]
     },
     "execution_count": 8,
     "metadata": {},
     "output_type": "execute_result"
    }
   ],
   "source": [
    "scipy.stats.f_oneway(*average_years_by_category)"
   ]
  },
  {
   "cell_type": "markdown",
   "id": "4b378c5e-675c-4c8f-90b2-47de56f8702e",
   "metadata": {},
   "source": [
    "P-Value is very small. So we reject the null hypothesis that the distributions are the same. So we conclude the distributions are not the same."
   ]
  },
  {
   "cell_type": "markdown",
   "id": "4b2b9eaf-7f30-4b2d-a914-4c0147dfdf3a",
   "metadata": {},
   "source": [
    "## 2. Regression Problems\n",
    "### 2a"
   ]
  },
  {
   "cell_type": "code",
   "execution_count": 9,
   "id": "a948502c-231c-47a1-b313-d5f53a7dca94",
   "metadata": {},
   "outputs": [
    {
     "data": {
      "text/html": [
       "<div>\n",
       "<style scoped>\n",
       "    .dataframe tbody tr th:only-of-type {\n",
       "        vertical-align: middle;\n",
       "    }\n",
       "\n",
       "    .dataframe tbody tr th {\n",
       "        vertical-align: top;\n",
       "    }\n",
       "\n",
       "    .dataframe thead th {\n",
       "        text-align: right;\n",
       "    }\n",
       "</style>\n",
       "<table border=\"1\" class=\"dataframe\">\n",
       "  <thead>\n",
       "    <tr style=\"text-align: right;\">\n",
       "      <th></th>\n",
       "      <th>Average year</th>\n",
       "      <th>No-response ratio</th>\n",
       "      <th>Night-chat ratio</th>\n",
       "      <th>Picture ratio</th>\n",
       "    </tr>\n",
       "  </thead>\n",
       "  <tbody>\n",
       "    <tr>\n",
       "      <th>0</th>\n",
       "      <td>26.681818</td>\n",
       "      <td>0.434783</td>\n",
       "      <td>0.085714</td>\n",
       "      <td>0.069841</td>\n",
       "    </tr>\n",
       "    <tr>\n",
       "      <th>4</th>\n",
       "      <td>30.319672</td>\n",
       "      <td>0.532110</td>\n",
       "      <td>0.104640</td>\n",
       "      <td>0.037879</td>\n",
       "    </tr>\n",
       "    <tr>\n",
       "      <th>5</th>\n",
       "      <td>26.112500</td>\n",
       "      <td>0.700000</td>\n",
       "      <td>0.142857</td>\n",
       "      <td>0.065934</td>\n",
       "    </tr>\n",
       "    <tr>\n",
       "      <th>7</th>\n",
       "      <td>26.313433</td>\n",
       "      <td>0.550000</td>\n",
       "      <td>0.034783</td>\n",
       "      <td>0.026087</td>\n",
       "    </tr>\n",
       "    <tr>\n",
       "      <th>8</th>\n",
       "      <td>24.415094</td>\n",
       "      <td>0.414508</td>\n",
       "      <td>0.238783</td>\n",
       "      <td>0.017526</td>\n",
       "    </tr>\n",
       "    <tr>\n",
       "      <th>...</th>\n",
       "      <td>...</td>\n",
       "      <td>...</td>\n",
       "      <td>...</td>\n",
       "      <td>...</td>\n",
       "    </tr>\n",
       "    <tr>\n",
       "      <th>2035</th>\n",
       "      <td>28.330000</td>\n",
       "      <td>0.881890</td>\n",
       "      <td>0.165746</td>\n",
       "      <td>0.000000</td>\n",
       "    </tr>\n",
       "    <tr>\n",
       "      <th>2036</th>\n",
       "      <td>27.928571</td>\n",
       "      <td>0.826087</td>\n",
       "      <td>0.138889</td>\n",
       "      <td>0.083333</td>\n",
       "    </tr>\n",
       "    <tr>\n",
       "      <th>2037</th>\n",
       "      <td>25.723810</td>\n",
       "      <td>0.774648</td>\n",
       "      <td>0.016949</td>\n",
       "      <td>0.004494</td>\n",
       "    </tr>\n",
       "    <tr>\n",
       "      <th>2038</th>\n",
       "      <td>27.085714</td>\n",
       "      <td>0.619048</td>\n",
       "      <td>0.000000</td>\n",
       "      <td>0.000000</td>\n",
       "    </tr>\n",
       "    <tr>\n",
       "      <th>2039</th>\n",
       "      <td>27.223301</td>\n",
       "      <td>0.552279</td>\n",
       "      <td>0.033608</td>\n",
       "      <td>0.000000</td>\n",
       "    </tr>\n",
       "  </tbody>\n",
       "</table>\n",
       "<p>1247 rows × 4 columns</p>\n",
       "</div>"
      ],
      "text/plain": [
       "      Average year  No-response ratio  Night-chat ratio  Picture ratio\n",
       "0        26.681818           0.434783          0.085714       0.069841\n",
       "4        30.319672           0.532110          0.104640       0.037879\n",
       "5        26.112500           0.700000          0.142857       0.065934\n",
       "7        26.313433           0.550000          0.034783       0.026087\n",
       "8        24.415094           0.414508          0.238783       0.017526\n",
       "...            ...                ...               ...            ...\n",
       "2035     28.330000           0.881890          0.165746       0.000000\n",
       "2036     27.928571           0.826087          0.138889       0.083333\n",
       "2037     25.723810           0.774648          0.016949       0.004494\n",
       "2038     27.085714           0.619048          0.000000       0.000000\n",
       "2039     27.223301           0.552279          0.033608       0.000000\n",
       "\n",
       "[1247 rows x 4 columns]"
      ]
     },
     "execution_count": 9,
     "metadata": {},
     "output_type": "execute_result"
    }
   ],
   "source": [
    "data = df[df['Session number'] >= 20][['Average year', 'No-response ratio', 'Night-chat ratio', 'Picture ratio']]\n",
    "data"
   ]
  },
  {
   "cell_type": "code",
   "execution_count": 10,
   "id": "f3185b0d-4529-4c3f-b9b1-548c4c2e4e52",
   "metadata": {
    "tags": []
   },
   "outputs": [
    {
     "name": "stdout",
     "output_type": "stream",
     "text": [
      "No-response ratio\n",
      "y=0.012874966195763943x+0.28629323418847064\n",
      "rmse=0.1996806059731858\n",
      "\n",
      "Night-chat ratio\n",
      "y=-0.00907208149528136x+0.3899288621426378\n",
      "rmse=0.11806135693554401\n",
      "\n",
      "Picture ratio\n",
      "y=-0.0006500642284511982x+0.04738408786102774\n",
      "rmse=0.04604459761098701\n",
      "\n"
     ]
    },
    {
     "data": {
      "image/png": "[encoded data removed]",
      "text/plain": [
       "<Figure size 640x480 with 3 Axes>"
      ]
     },
     "metadata": {},
     "output_type": "display_data"
    }
   ],
   "source": [
    "rmse_values = []\n",
    "\n",
    "for i in range(len(data.columns)-1):\n",
    "    x = data['Average year']\n",
    "    y = data[data.columns[i+1]]\n",
    "    result = scipy.stats.linregress(x,y)\n",
    "    predicted = result.slope*x+result.intercept\n",
    "    rmse = np.sqrt(np.square(predicted - y).mean())\n",
    "    rmse_values.append(rmse)\n",
    "\n",
    "    print(f'{data.columns[i+1]}\\ny={result.slope}x+{result.intercept}\\nrmse={rmse}\\n')\n",
    "    \n",
    "    plt.subplot(3,1,i+1)\n",
    "    plt.scatter(x,y,s=0.3)\n",
    "    plt.plot(range(0,46),result.slope*range(0,46)+result.intercept,color='red')\n",
    "    plt.xlabel('Average year')\n",
    "    plt.ylabel(data.columns[i+1])"
   ]
  },
  {
   "cell_type": "code",
   "execution_count": 11,
   "id": "7d0eb790-8a76-44a7-8918-e7b4bf2a64f7",
   "metadata": {},
   "outputs": [
    {
     "data": {
      "text/plain": [
       "0.003939126500283263"
      ]
     },
     "execution_count": 11,
     "metadata": {},
     "output_type": "execute_result"
    }
   ],
   "source": [
    "np.var(rmse_values)"
   ]
  },
  {
   "cell_type": "markdown",
   "id": "695d1392-ef79-44ad-a92a-32638446525e",
   "metadata": {},
   "source": [
    "### 2b"
   ]
  },
  {
   "cell_type": "code",
   "execution_count": 12,
   "id": "8c1c535f-f2ab-4a15-9b64-603ce7c03147",
   "metadata": {},
   "outputs": [
    {
     "name": "stdout",
     "output_type": "stream",
     "text": [
      "No-response ratio\n",
      "slopes: [-5.38390841e-05 -4.68122627e-06 -4.12202947e-02 -2.13593440e-02\n",
      "  7.94852627e-03 -2.49244576e-03 -4.24498335e-02 -1.85867365e-01]\n",
      "intercept: 0.4799790129342703\n",
      "rmse: 0.25580269286283785\n",
      "formula:\n",
      "y=(-0.00*group_size) +\n",
      "(-0.00*message_number) +\n",
      "(-0.04*density) +\n",
      "(-0.02*sex_ratio) +\n",
      "(0.01*average_year) +\n",
      "(-0.00*age_gap) +\n",
      "(-0.04*regional_concentration) +\n",
      "(-0.19*mobile_ratio)\n",
      "\n",
      "Night-chat ratio\n",
      "slopes: [-4.68507762e-05  3.54148670e-07  4.53317569e-02  3.92147641e-02\n",
      " -8.38068734e-03  1.05094105e-02 -4.25586808e-02  1.30062681e-01]\n",
      "intercept: 0.28046309561669946\n",
      "rmse: 0.18119218694541428\n",
      "formula:\n",
      "y=(-0.00*group_size) +\n",
      "(0.00*message_number) +\n",
      "(0.05*density) +\n",
      "(0.04*sex_ratio) +\n",
      "(-0.01*average_year) +\n",
      "(0.01*age_gap) +\n",
      "(-0.04*regional_concentration) +\n",
      "(0.13*mobile_ratio)\n",
      "\n",
      "Picture ratio\n",
      "slopes: [-2.70603813e-05  6.03498547e-07  2.52727446e-04  2.36349628e-02\n",
      " -7.81753362e-04  4.88163181e-04 -1.17837768e-02 -8.52112529e-03]\n",
      "intercept: 0.043845483651511724\n",
      "rmse: 0.08109308860200887\n",
      "formula:\n",
      "y=(-0.00*group_size) +\n",
      "(0.00*message_number) +\n",
      "(0.00*density) +\n",
      "(0.02*sex_ratio) +\n",
      "(-0.00*average_year) +\n",
      "(0.00*age_gap) +\n",
      "(-0.01*regional_concentration) +\n",
      "(-0.01*mobile_ratio)\n",
      "\n"
     ]
    }
   ],
   "source": [
    "rmse_values = []\n",
    "x = df[df.columns[2:10]]\n",
    "for col_name in df.columns[11:14]:\n",
    "    print(col_name)\n",
    "    y = df[col_name]\n",
    "    reg = sklearn.linear_model.LinearRegression().fit(\n",
    "        x, y, sample_weight=df['Session number']\n",
    "    )\n",
    "    slope = reg.coef_\n",
    "    intercept = reg.intercept_\n",
    "    \n",
    "    predicted = reg.predict(x)\n",
    "    rmse = np.sqrt(np.square(predicted - y).mean())\n",
    "    rmse_values.append(rmse)\n",
    "    \n",
    "    print(f'slopes: {slope}\\nintercept: {intercept}\\nrmse: {rmse}\\nformula:')\n",
    "    formula_string = 'y='\n",
    "    for s, c in zip(slope, df.columns[2:10]):\n",
    "        formula_string += f'({s:.2f}*{c.lower().replace(\" \", \"_\")}) +\\n'\n",
    "    formula_string = formula_string[:-3]\n",
    "    print(formula_string)\n",
    "    print()"
   ]
  },
  {
   "cell_type": "code",
   "execution_count": 13,
   "id": "a9b78bc6-250e-4420-92cd-2e9a3f60cd34",
   "metadata": {},
   "outputs": [
    {
     "data": {
      "text/plain": [
       "0.0051233336559324575"
      ]
     },
     "execution_count": 13,
     "metadata": {},
     "output_type": "execute_result"
    }
   ],
   "source": [
    "np.var(rmse_values)"
   ]
  },
  {
   "cell_type": "markdown",
   "id": "a498e48c-f6bf-4bf5-9765-e32dc16bc91c",
   "metadata": {},
   "source": [
    "### 2c"
   ]
  },
  {
   "cell_type": "code",
   "execution_count": 14,
   "id": "f3a98f99-905a-4754-aa83-6c51f2ca2847",
   "metadata": {},
   "outputs": [
    {
     "data": {
      "text/html": [
       "<div>\n",
       "<style scoped>\n",
       "    .dataframe tbody tr th:only-of-type {\n",
       "        vertical-align: middle;\n",
       "    }\n",
       "\n",
       "    .dataframe tbody tr th {\n",
       "        vertical-align: top;\n",
       "    }\n",
       "\n",
       "    .dataframe thead th {\n",
       "        text-align: right;\n",
       "    }\n",
       "</style>\n",
       "<table border=\"1\" class=\"dataframe\">\n",
       "  <thead>\n",
       "    <tr style=\"text-align: right;\">\n",
       "      <th></th>\n",
       "      <th>Group nmae</th>\n",
       "      <th>Group category</th>\n",
       "      <th>Group size</th>\n",
       "      <th>Message number</th>\n",
       "      <th>density</th>\n",
       "      <th>Sex ratio</th>\n",
       "      <th>Average year</th>\n",
       "      <th>Age gap</th>\n",
       "      <th>Regional concentration</th>\n",
       "      <th>Mobile ratio</th>\n",
       "      <th>Session number</th>\n",
       "      <th>No-response ratio</th>\n",
       "      <th>Night-chat ratio</th>\n",
       "      <th>Picture ratio</th>\n",
       "    </tr>\n",
       "  </thead>\n",
       "  <tbody>\n",
       "    <tr>\n",
       "      <th>0</th>\n",
       "      <td>**手酒吧</td>\n",
       "      <td>1</td>\n",
       "      <td>63</td>\n",
       "      <td>315</td>\n",
       "      <td>0.051715</td>\n",
       "      <td>0.882353</td>\n",
       "      <td>26.681818</td>\n",
       "      <td>6.409413</td>\n",
       "      <td>0.222222</td>\n",
       "      <td>0.088889</td>\n",
       "      <td>23</td>\n",
       "      <td>0.434783</td>\n",
       "      <td>0.085714</td>\n",
       "      <td>0.069841</td>\n",
       "    </tr>\n",
       "    <tr>\n",
       "      <th>1</th>\n",
       "      <td>**秀嘉园</td>\n",
       "      <td>1</td>\n",
       "      <td>73</td>\n",
       "      <td>2</td>\n",
       "      <td>0.010274</td>\n",
       "      <td>0.579710</td>\n",
       "      <td>27.500000</td>\n",
       "      <td>9.042524</td>\n",
       "      <td>0.406780</td>\n",
       "      <td>0.000000</td>\n",
       "      <td>2</td>\n",
       "      <td>1.000000</td>\n",
       "      <td>1.000000</td>\n",
       "      <td>0.000000</td>\n",
       "    </tr>\n",
       "    <tr>\n",
       "      <th>2</th>\n",
       "      <td>**ˇ⒊無黒\\噵丶⒈群</td>\n",
       "      <td>1</td>\n",
       "      <td>73</td>\n",
       "      <td>4</td>\n",
       "      <td>0.024163</td>\n",
       "      <td>0.750000</td>\n",
       "      <td>23.415385</td>\n",
       "      <td>4.699893</td>\n",
       "      <td>0.287879</td>\n",
       "      <td>0.500000</td>\n",
       "      <td>4</td>\n",
       "      <td>1.000000</td>\n",
       "      <td>0.000000</td>\n",
       "      <td>0.250000</td>\n",
       "    </tr>\n",
       "    <tr>\n",
       "      <th>3</th>\n",
       "      <td>**海网管工作联系基地</td>\n",
       "      <td>1</td>\n",
       "      <td>91</td>\n",
       "      <td>14</td>\n",
       "      <td>0.006105</td>\n",
       "      <td>0.901639</td>\n",
       "      <td>29.409091</td>\n",
       "      <td>2.854965</td>\n",
       "      <td>0.340426</td>\n",
       "      <td>0.142857</td>\n",
       "      <td>7</td>\n",
       "      <td>1.000000</td>\n",
       "      <td>0.250000</td>\n",
       "      <td>0.000000</td>\n",
       "    </tr>\n",
       "    <tr>\n",
       "      <th>4</th>\n",
       "      <td>tbsgame.net/bbs</td>\n",
       "      <td>1</td>\n",
       "      <td>133</td>\n",
       "      <td>2112</td>\n",
       "      <td>0.011107</td>\n",
       "      <td>0.961832</td>\n",
       "      <td>30.319672</td>\n",
       "      <td>4.669866</td>\n",
       "      <td>0.110236</td>\n",
       "      <td>0.167140</td>\n",
       "      <td>327</td>\n",
       "      <td>0.532110</td>\n",
       "      <td>0.104640</td>\n",
       "      <td>0.037879</td>\n",
       "    </tr>\n",
       "    <tr>\n",
       "      <th>...</th>\n",
       "      <td>...</td>\n",
       "      <td>...</td>\n",
       "      <td>...</td>\n",
       "      <td>...</td>\n",
       "      <td>...</td>\n",
       "      <td>...</td>\n",
       "      <td>...</td>\n",
       "      <td>...</td>\n",
       "      <td>...</td>\n",
       "      <td>...</td>\n",
       "      <td>...</td>\n",
       "      <td>...</td>\n",
       "      <td>...</td>\n",
       "      <td>...</td>\n",
       "    </tr>\n",
       "    <tr>\n",
       "      <th>1400</th>\n",
       "      <td>**验中学首届高中班</td>\n",
       "      <td>4</td>\n",
       "      <td>52</td>\n",
       "      <td>7</td>\n",
       "      <td>0.053922</td>\n",
       "      <td>0.634615</td>\n",
       "      <td>36.568182</td>\n",
       "      <td>8.296762</td>\n",
       "      <td>0.893617</td>\n",
       "      <td>0.571429</td>\n",
       "      <td>7</td>\n",
       "      <td>1.000000</td>\n",
       "      <td>0.285714</td>\n",
       "      <td>0.285714</td>\n",
       "    </tr>\n",
       "    <tr>\n",
       "      <th>1401</th>\n",
       "      <td>**龙中学01届初三四班</td>\n",
       "      <td>4</td>\n",
       "      <td>68</td>\n",
       "      <td>95</td>\n",
       "      <td>0.285119</td>\n",
       "      <td>0.597015</td>\n",
       "      <td>27.180328</td>\n",
       "      <td>2.243447</td>\n",
       "      <td>0.639344</td>\n",
       "      <td>0.621053</td>\n",
       "      <td>13</td>\n",
       "      <td>0.384615</td>\n",
       "      <td>0.021053</td>\n",
       "      <td>0.021053</td>\n",
       "    </tr>\n",
       "    <tr>\n",
       "      <th>1402</th>\n",
       "      <td>**年级师生群</td>\n",
       "      <td>4</td>\n",
       "      <td>64</td>\n",
       "      <td>46</td>\n",
       "      <td>0.262153</td>\n",
       "      <td>0.562500</td>\n",
       "      <td>16.101695</td>\n",
       "      <td>6.374459</td>\n",
       "      <td>0.868852</td>\n",
       "      <td>0.565217</td>\n",
       "      <td>11</td>\n",
       "      <td>0.454545</td>\n",
       "      <td>0.304348</td>\n",
       "      <td>0.021739</td>\n",
       "    </tr>\n",
       "    <tr>\n",
       "      <th>1403</th>\n",
       "      <td>**坪中学2010届</td>\n",
       "      <td>4</td>\n",
       "      <td>59</td>\n",
       "      <td>145</td>\n",
       "      <td>0.298364</td>\n",
       "      <td>0.576271</td>\n",
       "      <td>21.915254</td>\n",
       "      <td>1.720151</td>\n",
       "      <td>0.542373</td>\n",
       "      <td>0.613793</td>\n",
       "      <td>32</td>\n",
       "      <td>0.593750</td>\n",
       "      <td>0.262069</td>\n",
       "      <td>0.055172</td>\n",
       "    </tr>\n",
       "    <tr>\n",
       "      <th>1404</th>\n",
       "      <td>**１中学９１届同学会</td>\n",
       "      <td>4</td>\n",
       "      <td>60</td>\n",
       "      <td>137</td>\n",
       "      <td>0.169774</td>\n",
       "      <td>0.550000</td>\n",
       "      <td>37.127273</td>\n",
       "      <td>2.904883</td>\n",
       "      <td>0.892857</td>\n",
       "      <td>0.102190</td>\n",
       "      <td>31</td>\n",
       "      <td>0.806452</td>\n",
       "      <td>0.072993</td>\n",
       "      <td>0.124088</td>\n",
       "    </tr>\n",
       "  </tbody>\n",
       "</table>\n",
       "<p>909 rows × 14 columns</p>\n",
       "</div>"
      ],
      "text/plain": [
       "           Group nmae  Group category  Group size  Message number   density  \\\n",
       "0               **手酒吧               1          63             315  0.051715   \n",
       "1               **秀嘉园               1          73               2  0.010274   \n",
       "2         **ˇ⒊無黒\\噵丶⒈群               1          73               4  0.024163   \n",
       "3         **海网管工作联系基地               1          91              14  0.006105   \n",
       "4     tbsgame.net/bbs               1         133            2112  0.011107   \n",
       "...               ...             ...         ...             ...       ...   \n",
       "1400       **验中学首届高中班               4          52               7  0.053922   \n",
       "1401     **龙中学01届初三四班               4          68              95  0.285119   \n",
       "1402          **年级师生群               4          64              46  0.262153   \n",
       "1403       **坪中学2010届               4          59             145  0.298364   \n",
       "1404      **１中学９１届同学会               4          60             137  0.169774   \n",
       "\n",
       "      Sex ratio  Average year   Age gap  Regional concentration  Mobile ratio  \\\n",
       "0      0.882353     26.681818  6.409413                0.222222      0.088889   \n",
       "1      0.579710     27.500000  9.042524                0.406780      0.000000   \n",
       "2      0.750000     23.415385  4.699893                0.287879      0.500000   \n",
       "3      0.901639     29.409091  2.854965                0.340426      0.142857   \n",
       "4      0.961832     30.319672  4.669866                0.110236      0.167140   \n",
       "...         ...           ...       ...                     ...           ...   \n",
       "1400   0.634615     36.568182  8.296762                0.893617      0.571429   \n",
       "1401   0.597015     27.180328  2.243447                0.639344      0.621053   \n",
       "1402   0.562500     16.101695  6.374459                0.868852      0.565217   \n",
       "1403   0.576271     21.915254  1.720151                0.542373      0.613793   \n",
       "1404   0.550000     37.127273  2.904883                0.892857      0.102190   \n",
       "\n",
       "      Session number  No-response ratio  Night-chat ratio  Picture ratio  \n",
       "0                 23           0.434783          0.085714       0.069841  \n",
       "1                  2           1.000000          1.000000       0.000000  \n",
       "2                  4           1.000000          0.000000       0.250000  \n",
       "3                  7           1.000000          0.250000       0.000000  \n",
       "4                327           0.532110          0.104640       0.037879  \n",
       "...              ...                ...               ...            ...  \n",
       "1400               7           1.000000          0.285714       0.285714  \n",
       "1401              13           0.384615          0.021053       0.021053  \n",
       "1402              11           0.454545          0.304348       0.021739  \n",
       "1403              32           0.593750          0.262069       0.055172  \n",
       "1404              31           0.806452          0.072993       0.124088  \n",
       "\n",
       "[909 rows x 14 columns]"
      ]
     },
     "execution_count": 14,
     "metadata": {},
     "output_type": "execute_result"
    }
   ],
   "source": [
    "data = pandas.concat([df[df['Group category'] == 1], df[df['Group category'] == 4]])\n",
    "data"
   ]
  },
  {
   "cell_type": "code",
   "execution_count": 15,
   "id": "e98ed495-e3ed-42d9-828d-f013fd06730b",
   "metadata": {},
   "outputs": [],
   "source": [
    "np.random.seed(1)\n",
    "train, test = sklearn.model_selection.train_test_split(data, test_size=0.1)"
   ]
  },
  {
   "cell_type": "code",
   "execution_count": 16,
   "id": "a0dd3195-c9bb-4427-95ce-51c2ea776f11",
   "metadata": {},
   "outputs": [],
   "source": [
    "y_train = train['Group category']\n",
    "x_train = train.drop(['Group category', 'Group nmae'], axis=1)\n",
    "y_test = test['Group category']\n",
    "x_test = test.drop(['Group category', 'Group nmae'], axis=1)"
   ]
  },
  {
   "cell_type": "code",
   "execution_count": 17,
   "id": "367e3fe0-a29d-4557-abb9-064303fde16f",
   "metadata": {},
   "outputs": [
    {
     "data": {
      "text/plain": [
       "0.8571428571428571"
      ]
     },
     "execution_count": 17,
     "metadata": {},
     "output_type": "execute_result"
    }
   ],
   "source": [
    "reg = sklearn.linear_model.LogisticRegression(max_iter=500).fit(x_train, y_train)\n",
    "y_pred = reg.predict(x_test)\n",
    "sklearn.metrics.accuracy_score(y_test, y_pred)"
   ]
  },
  {
   "cell_type": "code",
   "execution_count": 18,
   "id": "a9f595b9-8b9d-4407-82d6-bc6cffa052bf",
   "metadata": {},
   "outputs": [
    {
     "data": {
      "text/plain": [
       "array([[45,  5],\n",
       "       [ 8, 33]], dtype=int64)"
      ]
     },
     "execution_count": 18,
     "metadata": {},
     "output_type": "execute_result"
    }
   ],
   "source": [
    "sklearn.metrics.confusion_matrix(y_test, y_pred, labels=[1,4])"
   ]
  },
  {
   "cell_type": "markdown",
   "id": "4a7543a7-4222-4f0e-9b04-c96fee397afd",
   "metadata": {},
   "source": [
    "**Try dropping some features which seem unhelpful.**"
   ]
  },
  {
   "cell_type": "code",
   "execution_count": 19,
   "id": "ecb21db0-b4df-41af-b0ba-fc56e6dad936",
   "metadata": {},
   "outputs": [
    {
     "name": "stdout",
     "output_type": "stream",
     "text": [
      "0.04429548419438655\n",
      "-0.07564035012168875\n",
      "0.5401223924917716\n",
      "-0.46030234502539036\n",
      "1.2077852853225182\n",
      "-0.948346795893883\n",
      "0.4079953300888948\n",
      "0.2764683010414769\n",
      "-0.5174535139094842\n",
      "-0.2709736638340823\n",
      "0.11223884376455331\n",
      "-0.0006397267361136518\n"
     ]
    }
   ],
   "source": [
    "for i, col in enumerate(x_train.columns):\n",
    "    print(x_train[col].std() * reg.coef_[0][i])"
   ]
  },
  {
   "cell_type": "code",
   "execution_count": 20,
   "id": "b4c16e5e-5f17-4539-80bf-fad07910e544",
   "metadata": {},
   "outputs": [],
   "source": [
    "to_drop = ['Group size', 'Message number']\n",
    "x_train2 = x_train.drop(to_drop, axis=1)\n",
    "x_test2 = x_test.drop(to_drop, axis=1)"
   ]
  },
  {
   "cell_type": "code",
   "execution_count": 21,
   "id": "e77272e6-72f7-48c3-8615-70cb5f7295e5",
   "metadata": {},
   "outputs": [
    {
     "data": {
      "text/plain": [
       "0.8681318681318682"
      ]
     },
     "execution_count": 21,
     "metadata": {},
     "output_type": "execute_result"
    }
   ],
   "source": [
    "reg2 = sklearn.linear_model.LogisticRegression(max_iter=500).fit(x_train2, y_train)\n",
    "y_pred2 = reg2.predict(x_test2)\n",
    "sklearn.metrics.accuracy_score(y_test, y_pred2)"
   ]
  },
  {
   "cell_type": "code",
   "execution_count": 22,
   "id": "9484a686-cc12-4a52-ab18-ed7667fd127a",
   "metadata": {},
   "outputs": [
    {
     "data": {
      "text/plain": [
       "array([[45,  5],\n",
       "       [ 7, 34]], dtype=int64)"
      ]
     },
     "execution_count": 22,
     "metadata": {},
     "output_type": "execute_result"
    }
   ],
   "source": [
    "sklearn.metrics.confusion_matrix(y_test, y_pred2, labels=[1,4])"
   ]
  },
  {
   "cell_type": "markdown",
   "id": "77a1453a-a12f-402a-981f-c9e547be4f60",
   "metadata": {},
   "source": [
    "**Try multi-class classification with all categories**"
   ]
  },
  {
   "cell_type": "code",
   "execution_count": 23,
   "id": "c637d599-43e0-48d9-856f-e3c6446fa527",
   "metadata": {},
   "outputs": [
    {
     "data": {
      "text/plain": [
       "0.5490196078431373"
      ]
     },
     "execution_count": 23,
     "metadata": {},
     "output_type": "execute_result"
    }
   ],
   "source": [
    "np.random.seed(1)\n",
    "train, test = sklearn.model_selection.train_test_split(df, test_size=0.1)\n",
    "\n",
    "y_train = train['Group category']\n",
    "x_train = train.drop(['Group category', 'Group nmae'], axis=1)\n",
    "y_test = test['Group category']\n",
    "x_test = test.drop(['Group category', 'Group nmae'], axis=1)\n",
    "\n",
    "reg = sklearn.linear_model.LogisticRegression(max_iter=15000).fit(x_train, y_train)\n",
    "y_pred = reg.predict(x_test)\n",
    "sklearn.metrics.accuracy_score(y_test, y_pred)"
   ]
  },
  {
   "cell_type": "code",
   "execution_count": 24,
   "id": "288888ed-65bb-4c07-bf86-ec1b23554bde",
   "metadata": {},
   "outputs": [
    {
     "data": {
      "text/plain": [
       "array([[24,  1,  1,  4, 15],\n",
       "       [ 4,  5,  1,  0, 15],\n",
       "       [ 2,  0,  3,  5, 14],\n",
       "       [ 3,  0,  1, 35,  8],\n",
       "       [11,  3,  2,  2, 45]], dtype=int64)"
      ]
     },
     "execution_count": 24,
     "metadata": {},
     "output_type": "execute_result"
    }
   ],
   "source": [
    "sklearn.metrics.confusion_matrix(y_test, y_pred, labels=range(1,6))"
   ]
  },
  {
   "cell_type": "code",
   "execution_count": 25,
   "id": "895474a6-1a9a-45a7-a71c-94d06e2e70f4",
   "metadata": {},
   "outputs": [
    {
     "data": {
      "text/html": [
       "<div>\n",
       "<style scoped>\n",
       "    .dataframe tbody tr th:only-of-type {\n",
       "        vertical-align: middle;\n",
       "    }\n",
       "\n",
       "    .dataframe tbody tr th {\n",
       "        vertical-align: top;\n",
       "    }\n",
       "\n",
       "    .dataframe thead th {\n",
       "        text-align: right;\n",
       "    }\n",
       "</style>\n",
       "<table border=\"1\" class=\"dataframe\">\n",
       "  <thead>\n",
       "    <tr style=\"text-align: right;\">\n",
       "      <th></th>\n",
       "      <th>Group size</th>\n",
       "      <th>Message number</th>\n",
       "      <th>density</th>\n",
       "      <th>Sex ratio</th>\n",
       "      <th>Average year</th>\n",
       "      <th>Age gap</th>\n",
       "      <th>Regional concentration</th>\n",
       "      <th>Mobile ratio</th>\n",
       "      <th>Session number</th>\n",
       "      <th>No-response ratio</th>\n",
       "      <th>Night-chat ratio</th>\n",
       "      <th>Picture ratio</th>\n",
       "    </tr>\n",
       "  </thead>\n",
       "  <tbody>\n",
       "    <tr>\n",
       "      <th>2010</th>\n",
       "      <td>-0.504364</td>\n",
       "      <td>-0.208409</td>\n",
       "      <td>-0.103966</td>\n",
       "      <td>-0.808241</td>\n",
       "      <td>-0.351862</td>\n",
       "      <td>0.288638</td>\n",
       "      <td>1.025185</td>\n",
       "      <td>0.091277</td>\n",
       "      <td>-0.577189</td>\n",
       "      <td>-1.405626</td>\n",
       "      <td>2.263808</td>\n",
       "      <td>0.750450</td>\n",
       "    </tr>\n",
       "    <tr>\n",
       "      <th>1860</th>\n",
       "      <td>10.371294</td>\n",
       "      <td>0.663256</td>\n",
       "      <td>-0.654123</td>\n",
       "      <td>1.160129</td>\n",
       "      <td>-0.499181</td>\n",
       "      <td>0.084546</td>\n",
       "      <td>-1.112620</td>\n",
       "      <td>-0.206657</td>\n",
       "      <td>3.034273</td>\n",
       "      <td>-1.147137</td>\n",
       "      <td>0.421963</td>\n",
       "      <td>-0.110255</td>\n",
       "    </tr>\n",
       "    <tr>\n",
       "      <th>898</th>\n",
       "      <td>-0.556118</td>\n",
       "      <td>-0.188296</td>\n",
       "      <td>-0.487044</td>\n",
       "      <td>0.126746</td>\n",
       "      <td>0.151507</td>\n",
       "      <td>0.106613</td>\n",
       "      <td>1.132480</td>\n",
       "      <td>0.474360</td>\n",
       "      <td>-0.450249</td>\n",
       "      <td>0.068213</td>\n",
       "      <td>2.484948</td>\n",
       "      <td>-0.184288</td>\n",
       "    </tr>\n",
       "    <tr>\n",
       "      <th>1967</th>\n",
       "      <td>-0.341710</td>\n",
       "      <td>-0.214848</td>\n",
       "      <td>-0.454154</td>\n",
       "      <td>0.258924</td>\n",
       "      <td>-0.964770</td>\n",
       "      <td>0.081078</td>\n",
       "      <td>-0.236265</td>\n",
       "      <td>0.848429</td>\n",
       "      <td>-0.501025</td>\n",
       "      <td>1.095689</td>\n",
       "      <td>0.210894</td>\n",
       "      <td>-0.396845</td>\n",
       "    </tr>\n",
       "    <tr>\n",
       "      <th>660</th>\n",
       "      <td>-0.267776</td>\n",
       "      <td>-0.198472</td>\n",
       "      <td>-0.545690</td>\n",
       "      <td>1.447149</td>\n",
       "      <td>-1.649517</td>\n",
       "      <td>-0.292428</td>\n",
       "      <td>-1.252126</td>\n",
       "      <td>-0.463690</td>\n",
       "      <td>-0.310614</td>\n",
       "      <td>-0.509125</td>\n",
       "      <td>0.613695</td>\n",
       "      <td>0.804919</td>\n",
       "    </tr>\n",
       "    <tr>\n",
       "      <th>...</th>\n",
       "      <td>...</td>\n",
       "      <td>...</td>\n",
       "      <td>...</td>\n",
       "      <td>...</td>\n",
       "      <td>...</td>\n",
       "      <td>...</td>\n",
       "      <td>...</td>\n",
       "      <td>...</td>\n",
       "      <td>...</td>\n",
       "      <td>...</td>\n",
       "      <td>...</td>\n",
       "      <td>...</td>\n",
       "    </tr>\n",
       "    <tr>\n",
       "      <th>1791</th>\n",
       "      <td>-0.149482</td>\n",
       "      <td>-0.104429</td>\n",
       "      <td>-0.053687</td>\n",
       "      <td>-0.494945</td>\n",
       "      <td>0.668932</td>\n",
       "      <td>1.251161</td>\n",
       "      <td>1.407456</td>\n",
       "      <td>-0.939358</td>\n",
       "      <td>2.069524</td>\n",
       "      <td>-0.556449</td>\n",
       "      <td>-0.695644</td>\n",
       "      <td>-0.311272</td>\n",
       "    </tr>\n",
       "    <tr>\n",
       "      <th>1096</th>\n",
       "      <td>-0.519151</td>\n",
       "      <td>-0.201016</td>\n",
       "      <td>3.543034</td>\n",
       "      <td>-2.061054</td>\n",
       "      <td>-0.369244</td>\n",
       "      <td>-1.672195</td>\n",
       "      <td>1.193262</td>\n",
       "      <td>-0.641046</td>\n",
       "      <td>-0.488331</td>\n",
       "      <td>-0.733555</td>\n",
       "      <td>-0.681677</td>\n",
       "      <td>-0.193949</td>\n",
       "    </tr>\n",
       "    <tr>\n",
       "      <th>1932</th>\n",
       "      <td>-0.400857</td>\n",
       "      <td>-0.209760</td>\n",
       "      <td>0.019827</td>\n",
       "      <td>-0.479882</td>\n",
       "      <td>0.516308</td>\n",
       "      <td>-0.906728</td>\n",
       "      <td>0.958788</td>\n",
       "      <td>-0.729463</td>\n",
       "      <td>-0.532760</td>\n",
       "      <td>-0.044568</td>\n",
       "      <td>-0.136217</td>\n",
       "      <td>0.144209</td>\n",
       "    </tr>\n",
       "    <tr>\n",
       "      <th>235</th>\n",
       "      <td>-0.097729</td>\n",
       "      <td>0.272537</td>\n",
       "      <td>-0.619957</td>\n",
       "      <td>1.690486</td>\n",
       "      <td>-1.258621</td>\n",
       "      <td>-0.729883</td>\n",
       "      <td>0.275143</td>\n",
       "      <td>-0.618620</td>\n",
       "      <td>1.726784</td>\n",
       "      <td>-0.824645</td>\n",
       "      <td>0.825431</td>\n",
       "      <td>-0.323093</td>\n",
       "    </tr>\n",
       "    <tr>\n",
       "      <th>1061</th>\n",
       "      <td>-0.607872</td>\n",
       "      <td>-0.214609</td>\n",
       "      <td>1.751164</td>\n",
       "      <td>-1.197406</td>\n",
       "      <td>-0.237706</td>\n",
       "      <td>-1.758097</td>\n",
       "      <td>1.327490</td>\n",
       "      <td>1.925748</td>\n",
       "      <td>-0.672395</td>\n",
       "      <td>-2.997372</td>\n",
       "      <td>-0.770934</td>\n",
       "      <td>1.983793</td>\n",
       "    </tr>\n",
       "  </tbody>\n",
       "</table>\n",
       "<p>1836 rows × 12 columns</p>\n",
       "</div>"
      ],
      "text/plain": [
       "      Group size  Message number   density  Sex ratio  Average year   Age gap  \\\n",
       "2010   -0.504364       -0.208409 -0.103966  -0.808241     -0.351862  0.288638   \n",
       "1860   10.371294        0.663256 -0.654123   1.160129     -0.499181  0.084546   \n",
       "898    -0.556118       -0.188296 -0.487044   0.126746      0.151507  0.106613   \n",
       "1967   -0.341710       -0.214848 -0.454154   0.258924     -0.964770  0.081078   \n",
       "660    -0.267776       -0.198472 -0.545690   1.447149     -1.649517 -0.292428   \n",
       "...          ...             ...       ...        ...           ...       ...   \n",
       "1791   -0.149482       -0.104429 -0.053687  -0.494945      0.668932  1.251161   \n",
       "1096   -0.519151       -0.201016  3.543034  -2.061054     -0.369244 -1.672195   \n",
       "1932   -0.400857       -0.209760  0.019827  -0.479882      0.516308 -0.906728   \n",
       "235    -0.097729        0.272537 -0.619957   1.690486     -1.258621 -0.729883   \n",
       "1061   -0.607872       -0.214609  1.751164  -1.197406     -0.237706 -1.758097   \n",
       "\n",
       "      Regional concentration  Mobile ratio  Session number  No-response ratio  \\\n",
       "2010                1.025185      0.091277       -0.577189          -1.405626   \n",
       "1860               -1.112620     -0.206657        3.034273          -1.147137   \n",
       "898                 1.132480      0.474360       -0.450249           0.068213   \n",
       "1967               -0.236265      0.848429       -0.501025           1.095689   \n",
       "660                -1.252126     -0.463690       -0.310614          -0.509125   \n",
       "...                      ...           ...             ...                ...   \n",
       "1791                1.407456     -0.939358        2.069524          -0.556449   \n",
       "1096                1.193262     -0.641046       -0.488331          -0.733555   \n",
       "1932                0.958788     -0.729463       -0.532760          -0.044568   \n",
       "235                 0.275143     -0.618620        1.726784          -0.824645   \n",
       "1061                1.327490      1.925748       -0.672395          -2.997372   \n",
       "\n",
       "      Night-chat ratio  Picture ratio  \n",
       "2010          2.263808       0.750450  \n",
       "1860          0.421963      -0.110255  \n",
       "898           2.484948      -0.184288  \n",
       "1967          0.210894      -0.396845  \n",
       "660           0.613695       0.804919  \n",
       "...                ...            ...  \n",
       "1791         -0.695644      -0.311272  \n",
       "1096         -0.681677      -0.193949  \n",
       "1932         -0.136217       0.144209  \n",
       "235           0.825431      -0.323093  \n",
       "1061         -0.770934       1.983793  \n",
       "\n",
       "[1836 rows x 12 columns]"
      ]
     },
     "execution_count": 25,
     "metadata": {},
     "output_type": "execute_result"
    }
   ],
   "source": [
    "# quite bad accuracy, try to normalize the data\n",
    "\n",
    "for col_name in x_train.columns:\n",
    "    current_col = x_train[col_name]\n",
    "    x_train[col_name] = (current_col - np.mean(current_col)) / current_col.std()\n",
    "    current_col = x_test[col_name]\n",
    "    x_test[col_name] = (current_col - np.mean(current_col)) / current_col.std()\n",
    "x_train"
   ]
  },
  {
   "cell_type": "code",
   "execution_count": 26,
   "id": "4813ae1e-e760-452a-9eee-a04b878918a0",
   "metadata": {},
   "outputs": [
    {
     "data": {
      "text/plain": [
       "0.6225490196078431"
      ]
     },
     "execution_count": 26,
     "metadata": {},
     "output_type": "execute_result"
    }
   ],
   "source": [
    "reg = sklearn.linear_model.LogisticRegression(max_iter=15000).fit(x_train, y_train)\n",
    "y_pred = reg.predict(x_test)\n",
    "sklearn.metrics.accuracy_score(y_test, y_pred)"
   ]
  },
  {
   "cell_type": "code",
   "execution_count": 27,
   "id": "8a218191-a2b9-4fd7-8b98-3e0d7bf1ebe4",
   "metadata": {},
   "outputs": [
    {
     "data": {
      "text/plain": [
       "array([[30,  1,  2,  4,  8],\n",
       "       [ 7,  7,  1,  0, 10],\n",
       "       [ 0,  0, 12,  0, 12],\n",
       "       [ 3,  0,  2, 33,  9],\n",
       "       [ 9,  5,  1,  3, 45]], dtype=int64)"
      ]
     },
     "execution_count": 27,
     "metadata": {},
     "output_type": "execute_result"
    }
   ],
   "source": [
    "sklearn.metrics.confusion_matrix(y_test, y_pred, labels=range(1,6))"
   ]
  },
  {
   "cell_type": "code",
   "execution_count": 28,
   "id": "053b6fb1-6756-4a4f-92f4-1da22fecda09",
   "metadata": {},
   "outputs": [
    {
     "name": "stdout",
     "output_type": "stream",
     "text": [
      "0.30983744242084826\n",
      "0.3318547237669683\n",
      "0.36428616148466464\n",
      "0.20840060561762952\n",
      "1.1744940221714135\n",
      "0.17206700680095344\n",
      "0.609032472538045\n",
      "0.11180958366269053\n",
      "0.03609572302567446\n",
      "0.07733618848862159\n",
      "0.09447310168216164\n",
      "0.12948853084227568\n",
      "[(0.03609572302567446, 8), (0.07733618848862159, 9), (0.09447310168216164, 10), (0.11180958366269053, 7), (0.12948853084227568, 11), (0.17206700680095344, 5), (0.20840060561762952, 3), (0.30983744242084826, 0), (0.3318547237669683, 1), (0.36428616148466464, 2), (0.609032472538045, 6), (1.1744940221714135, 4)]\n"
     ]
    }
   ],
   "source": [
    "coefs = []\n",
    "for i, col in enumerate(x_train.columns):\n",
    "    coef = np.abs(reg.coef_[0][i]) \n",
    "    print(coef)\n",
    "    coefs.append((coef, i))\n",
    "    \n",
    "print(sorted(coefs))"
   ]
  },
  {
   "cell_type": "code",
   "execution_count": 29,
   "id": "d125341a-1b0b-4ce9-b1c1-ff950254aa16",
   "metadata": {},
   "outputs": [],
   "source": [
    "cols_to_drop = [8, 9, 10]\n",
    "to_drop = list(map(lambda x: x_train.columns[x], cols_to_drop))\n",
    "x_train2 = x_train.drop(to_drop, axis=1)\n",
    "x_test2 = x_test.drop(to_drop, axis=1)"
   ]
  },
  {
   "cell_type": "code",
   "execution_count": 44,
   "id": "f6af186f-85c1-40e7-ba92-a35c968e4a05",
   "metadata": {},
   "outputs": [
    {
     "data": {
      "text/plain": [
       "['Session number', 'No-response ratio', 'Night-chat ratio']"
      ]
     },
     "execution_count": 44,
     "metadata": {},
     "output_type": "execute_result"
    }
   ],
   "source": [
    "to_drop"
   ]
  },
  {
   "cell_type": "code",
   "execution_count": 30,
   "id": "9bdb0272-4f12-4430-9777-cdbad256b4f0",
   "metadata": {},
   "outputs": [
    {
     "data": {
      "text/plain": [
       "0.6274509803921569"
      ]
     },
     "execution_count": 30,
     "metadata": {},
     "output_type": "execute_result"
    }
   ],
   "source": [
    "reg2 = sklearn.linear_model.LogisticRegression(max_iter=500).fit(x_train2, y_train)\n",
    "y_pred2 = reg2.predict(x_test2)\n",
    "sklearn.metrics.accuracy_score(y_test, y_pred2)"
   ]
  },
  {
   "cell_type": "code",
   "execution_count": 31,
   "id": "9f314872-c88d-4ad6-9496-1ecb7d442f89",
   "metadata": {},
   "outputs": [
    {
     "data": {
      "text/plain": [
       "array([[29,  2,  1,  3, 10],\n",
       "       [ 6,  7,  1,  0, 11],\n",
       "       [ 1,  0, 15,  1,  7],\n",
       "       [ 3,  0,  2, 33,  9],\n",
       "       [ 9,  5,  2,  3, 44]], dtype=int64)"
      ]
     },
     "execution_count": 31,
     "metadata": {},
     "output_type": "execute_result"
    }
   ],
   "source": [
    "sklearn.metrics.confusion_matrix(y_test, y_pred2, labels=range(1,6))"
   ]
  },
  {
   "cell_type": "code",
   "execution_count": 32,
   "id": "e835e941-b864-440e-8a2d-3e887db33b38",
   "metadata": {},
   "outputs": [
    {
     "data": {
      "text/plain": [
       "0.6372549019607843"
      ]
     },
     "execution_count": 32,
     "metadata": {},
     "output_type": "execute_result"
    }
   ],
   "source": [
    "reg3 = sklearn.linear_model.LogisticRegression(max_iter=500, class_weight='balanced').fit(x_train2, y_train)\n",
    "y_pred3 = reg3.predict(x_test2)\n",
    "sklearn.metrics.accuracy_score(y_test, y_pred3)"
   ]
  },
  {
   "cell_type": "code",
   "execution_count": 33,
   "id": "9a8876bb-2db0-4d35-a26c-b51a6ea27efc",
   "metadata": {},
   "outputs": [
    {
     "data": {
      "text/plain": [
       "array([[29,  6,  4,  3,  3],\n",
       "       [ 5, 15,  4,  0,  1],\n",
       "       [ 0,  3, 20,  1,  0],\n",
       "       [ 3,  2,  2, 33,  7],\n",
       "       [ 9, 12,  6,  3, 33]], dtype=int64)"
      ]
     },
     "execution_count": 33,
     "metadata": {},
     "output_type": "execute_result"
    }
   ],
   "source": [
    "sklearn.metrics.confusion_matrix(y_test, y_pred3, labels=range(1,6))"
   ]
  },
  {
   "cell_type": "markdown",
   "id": "12198925-ca65-4d2f-a11a-f02ac1bc61c3",
   "metadata": {},
   "source": [
    "## 3. Redoing 2a with Sampling\n",
    "Numbers for 10 iterations are all very close. So do 100 iterations instead."
   ]
  },
  {
   "cell_type": "code",
   "execution_count": 34,
   "id": "f5a0a722-e08e-46fb-8f14-e836966eb5a3",
   "metadata": {},
   "outputs": [],
   "source": [
    "data = df[df['Session number'] >= 20][['Average year', 'No-response ratio', 'Night-chat ratio', 'Picture ratio']]"
   ]
  },
  {
   "cell_type": "code",
   "execution_count": 35,
   "id": "4093aa31-a3ab-4f18-81aa-9e64260a6913",
   "metadata": {},
   "outputs": [],
   "source": [
    "def do_2a(data):\n",
    "    slopes = []\n",
    "    intercepts = []\n",
    "    rmses = []\n",
    "    \n",
    "    for i in range(len(data.columns)-1):\n",
    "        x = data['Average year']\n",
    "        y = data[data.columns[i+1]]\n",
    "        result = scipy.stats.linregress(x,y)\n",
    "        slopes.append(result.slope)\n",
    "        intercepts.append(result.intercept)\n",
    "        \n",
    "        predicted = result.slope*x+result.intercept\n",
    "        rmses.append(np.sqrt(np.square(predicted - y).mean()))\n",
    "        \n",
    "    return np.mean([slopes, intercepts, rmses], axis=1)"
   ]
  },
  {
   "cell_type": "markdown",
   "id": "26b13aaa-40c2-49cb-9c56-51d8399a545e",
   "metadata": {},
   "source": [
    "**Without sampling**"
   ]
  },
  {
   "cell_type": "code",
   "execution_count": 36,
   "id": "a9b0696c-05fd-428a-917c-1c01dbf137e1",
   "metadata": {},
   "outputs": [],
   "source": [
    "results = []\n",
    "for i in range(100):\n",
    "    results.append(do_2a(data))"
   ]
  },
  {
   "cell_type": "code",
   "execution_count": 37,
   "id": "b8fc1c6a-8bba-47ec-a002-7d3db4bd3559",
   "metadata": {},
   "outputs": [
    {
     "data": {
      "text/plain": [
       "(array([0.00105094, 0.24120206, 0.12126219]),\n",
       " array([4.23177966e-37, 9.32150093e-32, 4.81482486e-33]))"
      ]
     },
     "execution_count": 37,
     "metadata": {},
     "output_type": "execute_result"
    }
   ],
   "source": [
    "np.mean(results, axis=0), np.var(results, axis=0)"
   ]
  },
  {
   "cell_type": "markdown",
   "id": "3e6ca269-3b81-45de-a6eb-28568fe68f86",
   "metadata": {},
   "source": [
    "**SRS**"
   ]
  },
  {
   "cell_type": "code",
   "execution_count": 38,
   "id": "f0283324-e7f3-4e50-931a-85285d62d6b4",
   "metadata": {},
   "outputs": [
    {
     "data": {
      "text/plain": [
       "(array([0.00106405, 0.2402546 , 0.11952583]),\n",
       " array([1.46958135e-06, 1.19446520e-03, 3.34454919e-05]))"
      ]
     },
     "execution_count": 38,
     "metadata": {},
     "output_type": "execute_result"
    }
   ],
   "source": [
    "results = []\n",
    "for i in range(100):\n",
    "    np.random.seed(i)\n",
    "    sample, _ = sklearn.model_selection.train_test_split(data, test_size=0.9)\n",
    "    results.append(do_2a(sample))\n",
    "\n",
    "np.mean(results, axis=0), np.var(results, axis=0)"
   ]
  },
  {
   "cell_type": "markdown",
   "id": "7327225f-8b21-4fd6-9112-272fb698d17c",
   "metadata": {},
   "source": [
    "**Convenience Sampling**"
   ]
  },
  {
   "cell_type": "code",
   "execution_count": 39,
   "id": "21b6dcfe-3781-42aa-85fe-28a1d966908d",
   "metadata": {},
   "outputs": [
    {
     "data": {
      "text/plain": [
       "(array([0.00267778, 0.19767937, 0.12510733]),\n",
       " array([9.21587571e-36, 2.77333912e-32, 3.77482269e-32]))"
      ]
     },
     "execution_count": 39,
     "metadata": {},
     "output_type": "execute_result"
    }
   ],
   "source": [
    "results = []\n",
    "for i in range(100):\n",
    "    sample = data[:int(len(data)/10)]\n",
    "    results.append(do_2a(sample))\n",
    "\n",
    "np.mean(results, axis=0), np.var(results, axis=0)"
   ]
  },
  {
   "cell_type": "markdown",
   "id": "77ecf521-45b3-4987-b7b6-9da894ea884b",
   "metadata": {},
   "source": [
    "**Stratified Random Sampling**"
   ]
  },
  {
   "cell_type": "code",
   "execution_count": 40,
   "id": "eccb826a-1185-48ab-a514-1f6a2f6793c3",
   "metadata": {},
   "outputs": [],
   "source": [
    "quantile_splits = np.linspace(0.0, 1.0, 11)\n",
    "quantile_values = list(map(lambda q: data['Average year'].quantile(q), quantile_splits))\n",
    "quantile_values[-1] += 1 # to make sure we also sample the last example\n",
    "strata = []\n",
    "\n",
    "# rename for query later\n",
    "data = data.rename(columns={'Average year': 'Average_year'})\n",
    "\n",
    "for i in range(len(quantile_values) - 1):\n",
    "    lower_end = quantile_values[i]\n",
    "    higher_end = quantile_values[i+1]\n",
    "    stratum = data.query(f'{lower_end} <= Average_year < {higher_end}')\n",
    "    strata.append(stratum)"
   ]
  },
  {
   "cell_type": "code",
   "execution_count": 41,
   "id": "6a3a7b26-f5e3-4c91-9528-9fc87b25281e",
   "metadata": {},
   "outputs": [
    {
     "data": {
      "text/plain": [
       "(array([0.00102266, 0.24085804, 0.11945814]),\n",
       " array([1.55760127e-06, 1.18699250e-03, 3.51990586e-05]))"
      ]
     },
     "execution_count": 41,
     "metadata": {},
     "output_type": "execute_result"
    }
   ],
   "source": [
    "results = []\n",
    "for i in range(100):\n",
    "    np.random.seed(i)\n",
    "    stratum_samples = []\n",
    "    for stratum in strata:\n",
    "        stratum_sample, _ = sklearn.model_selection.train_test_split(stratum, test_size=0.9)\n",
    "        stratum_samples.append(stratum_sample)\n",
    "    sample = pandas.concat(stratum_samples)\n",
    "    sample = sample.rename(columns={'Average_year': 'Average year'})\n",
    "    results.append(do_2a(sample))\n",
    "\n",
    "np.mean(results, axis=0), np.var(results, axis=0)"
   ]
  }
 ],
 "metadata": {
  "kernelspec": {
   "display_name": "Python 3 (ipykernel)",
   "language": "python",
   "name": "python3"
  },
  "language_info": {
   "codemirror_mode": {
    "name": "ipython",
    "version": 3
   },
   "file_extension": ".py",
   "mimetype": "text/x-python",
   "name": "python",
   "nbconvert_exporter": "python",
   "pygments_lexer": "ipython3",
   "version": "3.10.4"
  }
 },
 "nbformat": 4,
 "nbformat_minor": 5
}
